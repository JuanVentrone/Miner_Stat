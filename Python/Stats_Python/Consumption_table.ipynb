{
 "cells": [
  {
   "cell_type": "code",
   "execution_count": 4,
   "metadata": {},
   "outputs": [],
   "source": [
    "import pandas as pd\n",
    "import requests\n",
    "from bs4 import BeautifulSoup"
   ]
  },
  {
   "cell_type": "code",
   "execution_count": 2,
   "metadata": {},
   "outputs": [],
   "source": [
    "data_electric=pd.read_csv(\"../blockchain data/costo_electrico.csv\")"
   ]
  },
  {
   "cell_type": "code",
   "execution_count": 3,
   "metadata": {},
   "outputs": [],
   "source": [
    "url_pages=\"https://www.saberespractico.com/geografia/paises/paises-del-mundo\"\n",
    "url_pages=requests.get(url_pages)\n",
    "if url_pages.status_code==200:\n",
    "    sopa=BeautifulSoup(url_pages.text, \"html5lib\")\n",
    "    links=sopa.find(\"ol\")\n",
    "    li=links.find_all(\"li\")\n",
    "    \n"
   ]
  },
  {
   "cell_type": "code",
   "execution_count": 4,
   "metadata": {},
   "outputs": [],
   "source": [
    "paises=[li[i].get_text() for i in range(len(li))]"
   ]
  },
  {
   "cell_type": "code",
   "execution_count": 6,
   "metadata": {},
   "outputs": [
    {
     "output_type": "execute_result",
     "data": {
      "text/plain": "       Unnamed: 0  (Kw/h) USD\n0           Sudán        0.00\n1       Venezuela        0.00\n2            Cuba        0.01\n3           Libia        0.01\n4         Etiopía        0.01\n..            ...         ...\n136       Bahamas        0.31\n137  Islas Caimán        0.33\n138     Dinamarca        0.34\n139      Alemania        0.36\n140      Bermudas        0.39\n\n[141 rows x 2 columns]",
      "text/html": "<div>\n<style scoped>\n    .dataframe tbody tr th:only-of-type {\n        vertical-align: middle;\n    }\n\n    .dataframe tbody tr th {\n        vertical-align: top;\n    }\n\n    .dataframe thead th {\n        text-align: right;\n    }\n</style>\n<table border=\"1\" class=\"dataframe\">\n  <thead>\n    <tr style=\"text-align: right;\">\n      <th></th>\n      <th>Unnamed: 0</th>\n      <th>(Kw/h) USD</th>\n    </tr>\n  </thead>\n  <tbody>\n    <tr>\n      <th>0</th>\n      <td>Sudán</td>\n      <td>0.00</td>\n    </tr>\n    <tr>\n      <th>1</th>\n      <td>Venezuela</td>\n      <td>0.00</td>\n    </tr>\n    <tr>\n      <th>2</th>\n      <td>Cuba</td>\n      <td>0.01</td>\n    </tr>\n    <tr>\n      <th>3</th>\n      <td>Libia</td>\n      <td>0.01</td>\n    </tr>\n    <tr>\n      <th>4</th>\n      <td>Etiopía</td>\n      <td>0.01</td>\n    </tr>\n    <tr>\n      <th>...</th>\n      <td>...</td>\n      <td>...</td>\n    </tr>\n    <tr>\n      <th>136</th>\n      <td>Bahamas</td>\n      <td>0.31</td>\n    </tr>\n    <tr>\n      <th>137</th>\n      <td>Islas Caimán</td>\n      <td>0.33</td>\n    </tr>\n    <tr>\n      <th>138</th>\n      <td>Dinamarca</td>\n      <td>0.34</td>\n    </tr>\n    <tr>\n      <th>139</th>\n      <td>Alemania</td>\n      <td>0.36</td>\n    </tr>\n    <tr>\n      <th>140</th>\n      <td>Bermudas</td>\n      <td>0.39</td>\n    </tr>\n  </tbody>\n</table>\n<p>141 rows × 2 columns</p>\n</div>"
     },
     "metadata": {},
     "execution_count": 6
    }
   ],
   "source": [
    "data_electric"
   ]
  },
  {
   "cell_type": "code",
   "execution_count": 7,
   "metadata": {},
   "outputs": [],
   "source": [
    "data_2=pd.DataFrame(paises)"
   ]
  },
  {
   "cell_type": "code",
   "execution_count": 8,
   "metadata": {},
   "outputs": [
    {
     "output_type": "execute_result",
     "data": {
      "text/plain": "              0\n0    Afganistán\n1       Albania\n2      Alemania\n3       Andorra\n4        Angola\n..          ...\n189     Vietnam\n190       Yemen\n191      Yibuti\n192      Zambia\n193    Zimbabue\n\n[194 rows x 1 columns]",
      "text/html": "<div>\n<style scoped>\n    .dataframe tbody tr th:only-of-type {\n        vertical-align: middle;\n    }\n\n    .dataframe tbody tr th {\n        vertical-align: top;\n    }\n\n    .dataframe thead th {\n        text-align: right;\n    }\n</style>\n<table border=\"1\" class=\"dataframe\">\n  <thead>\n    <tr style=\"text-align: right;\">\n      <th></th>\n      <th>0</th>\n    </tr>\n  </thead>\n  <tbody>\n    <tr>\n      <th>0</th>\n      <td>Afganistán</td>\n    </tr>\n    <tr>\n      <th>1</th>\n      <td>Albania</td>\n    </tr>\n    <tr>\n      <th>2</th>\n      <td>Alemania</td>\n    </tr>\n    <tr>\n      <th>3</th>\n      <td>Andorra</td>\n    </tr>\n    <tr>\n      <th>4</th>\n      <td>Angola</td>\n    </tr>\n    <tr>\n      <th>...</th>\n      <td>...</td>\n    </tr>\n    <tr>\n      <th>189</th>\n      <td>Vietnam</td>\n    </tr>\n    <tr>\n      <th>190</th>\n      <td>Yemen</td>\n    </tr>\n    <tr>\n      <th>191</th>\n      <td>Yibuti</td>\n    </tr>\n    <tr>\n      <th>192</th>\n      <td>Zambia</td>\n    </tr>\n    <tr>\n      <th>193</th>\n      <td>Zimbabue</td>\n    </tr>\n  </tbody>\n</table>\n<p>194 rows × 1 columns</p>\n</div>"
     },
     "metadata": {},
     "execution_count": 8
    }
   ],
   "source": [
    "data_2"
   ]
  },
  {
   "cell_type": "code",
   "execution_count": 11,
   "metadata": {},
   "outputs": [],
   "source": [
    "data=data_2.set_index(0).join(data_electric.set_index(\"Unnamed: 0\"))"
   ]
  },
  {
   "cell_type": "code",
   "execution_count": 12,
   "metadata": {},
   "outputs": [
    {
     "output_type": "execute_result",
     "data": {
      "text/plain": "            (Kw/h) USD\n0                     \nAfganistán        0.05\nAlbania           0.10\nAlemania          0.36\nAndorra            NaN\nAngola            0.02\n...                ...\nVietnam            NaN\nYemen              NaN\nYibuti             NaN\nZambia            0.03\nZimbabue           NaN\n\n[194 rows x 1 columns]",
      "text/html": "<div>\n<style scoped>\n    .dataframe tbody tr th:only-of-type {\n        vertical-align: middle;\n    }\n\n    .dataframe tbody tr th {\n        vertical-align: top;\n    }\n\n    .dataframe thead th {\n        text-align: right;\n    }\n</style>\n<table border=\"1\" class=\"dataframe\">\n  <thead>\n    <tr style=\"text-align: right;\">\n      <th></th>\n      <th>(Kw/h) USD</th>\n    </tr>\n    <tr>\n      <th>0</th>\n      <th></th>\n    </tr>\n  </thead>\n  <tbody>\n    <tr>\n      <th>Afganistán</th>\n      <td>0.05</td>\n    </tr>\n    <tr>\n      <th>Albania</th>\n      <td>0.10</td>\n    </tr>\n    <tr>\n      <th>Alemania</th>\n      <td>0.36</td>\n    </tr>\n    <tr>\n      <th>Andorra</th>\n      <td>NaN</td>\n    </tr>\n    <tr>\n      <th>Angola</th>\n      <td>0.02</td>\n    </tr>\n    <tr>\n      <th>...</th>\n      <td>...</td>\n    </tr>\n    <tr>\n      <th>Vietnam</th>\n      <td>NaN</td>\n    </tr>\n    <tr>\n      <th>Yemen</th>\n      <td>NaN</td>\n    </tr>\n    <tr>\n      <th>Yibuti</th>\n      <td>NaN</td>\n    </tr>\n    <tr>\n      <th>Zambia</th>\n      <td>0.03</td>\n    </tr>\n    <tr>\n      <th>Zimbabue</th>\n      <td>NaN</td>\n    </tr>\n  </tbody>\n</table>\n<p>194 rows × 1 columns</p>\n</div>"
     },
     "metadata": {},
     "execution_count": 12
    }
   ],
   "source": [
    "data"
   ]
  },
  {
   "cell_type": "code",
   "execution_count": 28,
   "metadata": {},
   "outputs": [],
   "source": [
    "data =data.rename_axis(\"Countrys\")"
   ]
  },
  {
   "cell_type": "code",
   "execution_count": 29,
   "metadata": {},
   "outputs": [
    {
     "output_type": "execute_result",
     "data": {
      "text/plain": "            (Kw/h) USD\nCountrys              \nAfganistán        0.05\nAlbania           0.10\nAlemania          0.36\nAndorra            NaN\nAngola            0.02\n...                ...\nVietnam            NaN\nYemen              NaN\nYibuti             NaN\nZambia            0.03\nZimbabue           NaN\n\n[194 rows x 1 columns]",
      "text/html": "<div>\n<style scoped>\n    .dataframe tbody tr th:only-of-type {\n        vertical-align: middle;\n    }\n\n    .dataframe tbody tr th {\n        vertical-align: top;\n    }\n\n    .dataframe thead th {\n        text-align: right;\n    }\n</style>\n<table border=\"1\" class=\"dataframe\">\n  <thead>\n    <tr style=\"text-align: right;\">\n      <th></th>\n      <th>(Kw/h) USD</th>\n    </tr>\n    <tr>\n      <th>Countrys</th>\n      <th></th>\n    </tr>\n  </thead>\n  <tbody>\n    <tr>\n      <th>Afganistán</th>\n      <td>0.05</td>\n    </tr>\n    <tr>\n      <th>Albania</th>\n      <td>0.10</td>\n    </tr>\n    <tr>\n      <th>Alemania</th>\n      <td>0.36</td>\n    </tr>\n    <tr>\n      <th>Andorra</th>\n      <td>NaN</td>\n    </tr>\n    <tr>\n      <th>Angola</th>\n      <td>0.02</td>\n    </tr>\n    <tr>\n      <th>...</th>\n      <td>...</td>\n    </tr>\n    <tr>\n      <th>Vietnam</th>\n      <td>NaN</td>\n    </tr>\n    <tr>\n      <th>Yemen</th>\n      <td>NaN</td>\n    </tr>\n    <tr>\n      <th>Yibuti</th>\n      <td>NaN</td>\n    </tr>\n    <tr>\n      <th>Zambia</th>\n      <td>0.03</td>\n    </tr>\n    <tr>\n      <th>Zimbabue</th>\n      <td>NaN</td>\n    </tr>\n  </tbody>\n</table>\n<p>194 rows × 1 columns</p>\n</div>"
     },
     "metadata": {},
     "execution_count": 29
    }
   ],
   "source": [
    "data"
   ]
  },
  {
   "cell_type": "code",
   "execution_count": 30,
   "metadata": {},
   "outputs": [],
   "source": [
    "data.to_csv(\"../blockchain data/costo_electrico.csv\")"
   ]
  },
  {
   "cell_type": "markdown",
   "metadata": {},
   "source": [
    "# Scrappeando los precios actuales de antminer"
   ]
  },
  {
   "cell_type": "code",
   "execution_count": 1,
   "metadata": {},
   "outputs": [],
   "source": [
    "url_antminer=\"https://shop.bitmain.com\""
   ]
  },
  {
   "cell_type": "code",
   "execution_count": 2,
   "metadata": {},
   "outputs": [],
   "source": [
    "def antminer_scrapper(url_antminer):\n",
    "    data_temp=[]\n",
    "    \n",
    "    url_pages=requests.get(url_antminer)\n",
    "    \n",
    "    if url_pages.status_code==200:\n",
    "        sopa=BeautifulSoup(url_pages.text, \"html5lib\")\n",
    "        divs=sopa.find_all(\"div\",attrs={\"class\":\"component b-nYC1sTcomponent b-nYC1sT\"})\n",
    "        links=[divs.get(\"href\") for link in divs]\n",
    "\n",
    "        for i in range(len(links)):\n",
    "            temp={}\n",
    "            url_page=requests.get(links[i])\n",
    "            if url_page.status_code==200:\n",
    "                s=BeautifulSoup(url_page.text, \"html5lib\")\n",
    "\n",
    "                divs=s.find_all(\"div\",attrs={\"class\":\"summary\"})\n",
    "                temp[\"Models Miners\"]=divs.find(\"h1\").get_text()\n",
    "                temp[\"Models Price\"]=divs.find(\"p\",attrs={\"class\":\"price text-gray\"}).get_text()\n",
    "                temp[\"TH/S\"]             =s.find(\"td\",attrs={\"class\":\"xl73\"}).get_text()\n",
    "                temp[\"Watts Consumption\"]=s.find(\"td\",attrs={\"class\":\"xl72\"}).get_text()\n",
    "\n",
    "                data_temp.append(temp)\n",
    "        return data_temp\n",
    "\n",
    "\n",
    "\n",
    "\n",
    "\n"
   ]
  },
  {
   "cell_type": "code",
   "execution_count": 5,
   "metadata": {},
   "outputs": [],
   "source": [
    "data_antminer=antminer_scrapper(url_antminer)"
   ]
  },
  {
   "cell_type": "code",
   "execution_count": 6,
   "metadata": {},
   "outputs": [
    {
     "output_type": "execute_result",
     "data": {
      "text/plain": "[]"
     },
     "metadata": {},
     "execution_count": 6
    }
   ],
   "source": [
    "data_antminer"
   ]
  },
  {
   "cell_type": "code",
   "execution_count": 7,
   "metadata": {},
   "outputs": [],
   "source": [
    "url_pages=requests.get(url_antminer)"
   ]
  },
  {
   "cell_type": "code",
   "execution_count": 24,
   "metadata": {},
   "outputs": [],
   "source": [
    "import time"
   ]
  },
  {
   "cell_type": "code",
   "execution_count": 53,
   "metadata": {},
   "outputs": [],
   "source": [
    "url_pages = requests.get(url_antminer)\n",
    "sopa=BeautifulSoup(url_pages.text, \"html5lib\")\n",
    "divs=sopa.find_all(\"a\",attrs={\"class\":\"item soldou\"})\n",
    "links=[divs.get(\"href\") for link in divs]"
   ]
  },
  {
   "cell_type": "code",
   "execution_count": 54,
   "metadata": {},
   "outputs": [
    {
     "output_type": "execute_result",
     "data": {
      "text/plain": "[]"
     },
     "metadata": {},
     "execution_count": 54
    }
   ],
   "source": [
    "divs"
   ]
  },
  {
   "cell_type": "code",
   "execution_count": 29,
   "metadata": {},
   "outputs": [],
   "source": [
    "from selenium import webdriver"
   ]
  },
  {
   "cell_type": "code",
   "execution_count": 30,
   "metadata": {},
   "outputs": [],
   "source": [
    "\n"
   ]
  },
  {
   "cell_type": "code",
   "execution_count": 32,
   "metadata": {},
   "outputs": [],
   "source": [
    "options = webdriver.ChromeOptions()\n",
    "options.add_argument('--incognito')\n",
    "driver = webdriver.Chrome(executable_path='chromedriver', options=options)\n",
    "driver.get(url_antminer)\n"
   ]
  },
  {
   "cell_type": "code",
   "execution_count": 37,
   "metadata": {
    "tags": []
   },
   "outputs": [
    {
     "output_type": "stream",
     "name": "stdout",
     "text": "<selenium.webdriver.remote.webelement.WebElement (session=\"c2f958674ef4dcc8f07fd58e526e9bbf\", element=\"8811d877-9df1-4815-a00e-faebe27c5339\")>\n"
    }
   ],
   "source": [
    "driver.find_element_by_xpath('.//body')"
   ]
  },
  {
   "cell_type": "code",
   "execution_count": null,
   "metadata": {},
   "outputs": [],
   "source": [
    "sopa=BeautifulSoup(url_pages.text, \"html5lib\")\n",
    "divs=sopa.find_all(\"a\",attrs={\"class\":\"item soldoutitem soldout\"})\n",
    "links=[divs.get(\"href\") for link in divs]\n"
   ]
  },
  {
   "cell_type": "code",
   "execution_count": 58,
   "metadata": {},
   "outputs": [],
   "source": [
    "driver.find_element_by_xpath('.//div[@class=\"component b-nYC1sT\"]').get_attribute('href')"
   ]
  },
  {
   "cell_type": "code",
   "execution_count": null,
   "metadata": {},
   "outputs": [],
   "source": []
  }
 ],
 "metadata": {
  "language_info": {
   "codemirror_mode": {
    "name": "ipython",
    "version": 3
   },
   "file_extension": ".py",
   "mimetype": "text/x-python",
   "name": "python",
   "nbconvert_exporter": "python",
   "pygments_lexer": "ipython3",
   "version": "3.7.3-final"
  },
  "orig_nbformat": 2,
  "kernelspec": {
   "name": "python37364bitbaseconda0e883509fb914b28935ee363f9f0181b",
   "display_name": "Python 3.7.3 64-bit ('base': conda)"
  }
 },
 "nbformat": 4,
 "nbformat_minor": 2
}