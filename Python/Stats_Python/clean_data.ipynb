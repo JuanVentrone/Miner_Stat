{
 "cells": [
  {
   "cell_type": "code",
   "execution_count": 1,
   "metadata": {},
   "outputs": [],
   "source": [
    "import pandas as pd\n",
    "import numpy as np"
   ]
  },
  {
   "cell_type": "code",
   "execution_count": 2,
   "metadata": {},
   "outputs": [],
   "source": [
    "data=pd.read_csv(\"../../blockchain data/bc data/data_update_2020-07-06.csv\")"
   ]
  },
  {
   "cell_type": "code",
   "execution_count": 3,
   "metadata": {
    "tags": []
   },
   "outputs": [],
   "source": [
    "data.drop(data.columns[data.columns.str.contains('unnamed',case = False)],axis = 1, inplace = True) "
   ]
  },
  {
   "cell_type": "code",
   "execution_count": 8,
   "metadata": {},
   "outputs": [
    {
     "output_type": "execute_result",
     "data": {
      "text/plain": "['Hash',\n 'Confirmations',\n 'Timestamp',\n 'Height',\n 'Number of Transactions',\n 'Difficulty',\n 'Merkle root',\n 'Version',\n 'Bits',\n 'Weight',\n 'Size',\n 'Nonce',\n 'Transaction Volume',\n 'Block Reward',\n 'Fee Reward',\n 'Miner Name',\n 'URL Miner']"
     },
     "metadata": {},
     "execution_count": 8
    }
   ],
   "source": [
    "list(data)"
   ]
  },
  {
   "cell_type": "code",
   "execution_count": 4,
   "metadata": {},
   "outputs": [],
   "source": [
    "datos=data[['Timestamp','Block Reward','Fee Reward']]"
   ]
  },
  {
   "cell_type": "code",
   "execution_count": 5,
   "metadata": {},
   "outputs": [
    {
     "output_type": "execute_result",
     "data": {
      "text/plain": "          Timestamp    Block Reward      Fee Reward\n0  2020-07-06 22:45  6.25000000 BTC  0.21808885 BTC\n1  2020-07-06 22:42  6.25000000 BTC  0.30686360 BTC\n2  2020-07-06 22:27  6.25000000 BTC  0.25770656 BTC\n3  2020-07-06 22:20  6.25000000 BTC  0.28058000 BTC\n4  2020-07-06 22:11  6.25000000 BTC  0.27827185 BTC",
      "text/html": "<div>\n<style scoped>\n    .dataframe tbody tr th:only-of-type {\n        vertical-align: middle;\n    }\n\n    .dataframe tbody tr th {\n        vertical-align: top;\n    }\n\n    .dataframe thead th {\n        text-align: right;\n    }\n</style>\n<table border=\"1\" class=\"dataframe\">\n  <thead>\n    <tr style=\"text-align: right;\">\n      <th></th>\n      <th>Timestamp</th>\n      <th>Block Reward</th>\n      <th>Fee Reward</th>\n    </tr>\n  </thead>\n  <tbody>\n    <tr>\n      <th>0</th>\n      <td>2020-07-06 22:45</td>\n      <td>6.25000000 BTC</td>\n      <td>0.21808885 BTC</td>\n    </tr>\n    <tr>\n      <th>1</th>\n      <td>2020-07-06 22:42</td>\n      <td>6.25000000 BTC</td>\n      <td>0.30686360 BTC</td>\n    </tr>\n    <tr>\n      <th>2</th>\n      <td>2020-07-06 22:27</td>\n      <td>6.25000000 BTC</td>\n      <td>0.25770656 BTC</td>\n    </tr>\n    <tr>\n      <th>3</th>\n      <td>2020-07-06 22:20</td>\n      <td>6.25000000 BTC</td>\n      <td>0.28058000 BTC</td>\n    </tr>\n    <tr>\n      <th>4</th>\n      <td>2020-07-06 22:11</td>\n      <td>6.25000000 BTC</td>\n      <td>0.27827185 BTC</td>\n    </tr>\n  </tbody>\n</table>\n</div>"
     },
     "metadata": {},
     "execution_count": 5
    }
   ],
   "source": [
    "datos.head()"
   ]
  },
  {
   "cell_type": "code",
   "execution_count": 15,
   "metadata": {
    "tags": []
   },
   "outputs": [
    {
     "output_type": "stream",
     "name": "stdout",
     "text": "<class 'pandas.core.frame.DataFrame'>\nRangeIndex: 638045 entries, 0 to 638044\nData columns (total 5 columns):\n #   Column        Non-Null Count   Dtype         \n---  ------        --------------   -----         \n 0   Timestamp     638045 non-null  datetime64[ns]\n 1   Height        638045 non-null  int64         \n 2   Difficulty    638045 non-null  object        \n 3   Block Reward  638045 non-null  object        \n 4   Fee Reward    638045 non-null  object        \ndtypes: datetime64[ns](1), int64(1), object(3)\nmemory usage: 24.3+ MB\n"
    }
   ],
   "source": [
    "datos.info()"
   ]
  },
  {
   "cell_type": "code",
   "execution_count": 6,
   "metadata": {},
   "outputs": [],
   "source": [
    "datos[\"Timestamp\"]=pd.to_datetime(datos[\"Timestamp\"])"
   ]
  },
  {
   "cell_type": "code",
   "execution_count": 7,
   "metadata": {},
   "outputs": [
    {
     "output_type": "execute_result",
     "data": {
      "text/plain": "                                                 Block Reward\nTimestamp                                                    \n2009-01-09  50.00000000 BTC50.00000000 BTC50.00000000 BTC5...\n2009-01-10  50.00000000 BTC50.00000000 BTC50.00000000 BTC5...\n2009-01-11  50.00000000 BTC50.00000000 BTC50.00000000 BTC5...\n2009-01-12  50.00000000 BTC50.00000000 BTC50.00000000 BTC5...\n2009-01-13  50.00000000 BTC50.00000000 BTC50.00000000 BTC5...\n...                                                       ...\n2020-07-02  6.25000000 BTC6.25000000 BTC6.25000000 BTC6.25...\n2020-07-03  6.25000000 BTC6.25000000 BTC6.25000000 BTC6.25...\n2020-07-04  6.25000000 BTC6.25000000 BTC6.25000000 BTC6.25...\n2020-07-05  6.25000000 BTC6.25000000 BTC6.25000000 BTC6.25...\n2020-07-06  6.25000000 BTC6.25000000 BTC6.25000000 BTC6.25...\n\n[4197 rows x 1 columns]",
      "text/html": "<div>\n<style scoped>\n    .dataframe tbody tr th:only-of-type {\n        vertical-align: middle;\n    }\n\n    .dataframe tbody tr th {\n        vertical-align: top;\n    }\n\n    .dataframe thead th {\n        text-align: right;\n    }\n</style>\n<table border=\"1\" class=\"dataframe\">\n  <thead>\n    <tr style=\"text-align: right;\">\n      <th></th>\n      <th>Block Reward</th>\n    </tr>\n    <tr>\n      <th>Timestamp</th>\n      <th></th>\n    </tr>\n  </thead>\n  <tbody>\n    <tr>\n      <th>2009-01-09</th>\n      <td>50.00000000 BTC50.00000000 BTC50.00000000 BTC5...</td>\n    </tr>\n    <tr>\n      <th>2009-01-10</th>\n      <td>50.00000000 BTC50.00000000 BTC50.00000000 BTC5...</td>\n    </tr>\n    <tr>\n      <th>2009-01-11</th>\n      <td>50.00000000 BTC50.00000000 BTC50.00000000 BTC5...</td>\n    </tr>\n    <tr>\n      <th>2009-01-12</th>\n      <td>50.00000000 BTC50.00000000 BTC50.00000000 BTC5...</td>\n    </tr>\n    <tr>\n      <th>2009-01-13</th>\n      <td>50.00000000 BTC50.00000000 BTC50.00000000 BTC5...</td>\n    </tr>\n    <tr>\n      <th>...</th>\n      <td>...</td>\n    </tr>\n    <tr>\n      <th>2020-07-02</th>\n      <td>6.25000000 BTC6.25000000 BTC6.25000000 BTC6.25...</td>\n    </tr>\n    <tr>\n      <th>2020-07-03</th>\n      <td>6.25000000 BTC6.25000000 BTC6.25000000 BTC6.25...</td>\n    </tr>\n    <tr>\n      <th>2020-07-04</th>\n      <td>6.25000000 BTC6.25000000 BTC6.25000000 BTC6.25...</td>\n    </tr>\n    <tr>\n      <th>2020-07-05</th>\n      <td>6.25000000 BTC6.25000000 BTC6.25000000 BTC6.25...</td>\n    </tr>\n    <tr>\n      <th>2020-07-06</th>\n      <td>6.25000000 BTC6.25000000 BTC6.25000000 BTC6.25...</td>\n    </tr>\n  </tbody>\n</table>\n<p>4197 rows × 1 columns</p>\n</div>"
     },
     "metadata": {},
     "execution_count": 7
    }
   ],
   "source": [
    "datos.groupby(pd.Grouper(key=\"Timestamp\", freq = '1D'))[['Block Reward']].sum()"
   ]
  },
  {
   "cell_type": "code",
   "execution_count": 29,
   "metadata": {},
   "outputs": [
    {
     "output_type": "execute_result",
     "data": {
      "text/plain": "Timestamp       datetime64[ns]\nHeight                   Int64\nDifficulty              object\nBlock Reward            string\nFee Reward              string\ndtype: object"
     },
     "metadata": {},
     "execution_count": 29
    }
   ],
   "source": [
    "datos.convert_dtypes().dtypes"
   ]
  },
  {
   "cell_type": "code",
   "execution_count": 8,
   "metadata": {},
   "outputs": [
    {
     "output_type": "execute_result",
     "data": {
      "text/plain": "            Timestamp Block Reward  Fee Reward\n0 2020-07-06 22:45:00   6.25000000  0.21808885\n1 2020-07-06 22:42:00   6.25000000  0.30686360\n2 2020-07-06 22:27:00   6.25000000  0.25770656\n3 2020-07-06 22:20:00   6.25000000  0.28058000\n4 2020-07-06 22:11:00   6.25000000  0.27827185",
      "text/html": "<div>\n<style scoped>\n    .dataframe tbody tr th:only-of-type {\n        vertical-align: middle;\n    }\n\n    .dataframe tbody tr th {\n        vertical-align: top;\n    }\n\n    .dataframe thead th {\n        text-align: right;\n    }\n</style>\n<table border=\"1\" class=\"dataframe\">\n  <thead>\n    <tr style=\"text-align: right;\">\n      <th></th>\n      <th>Timestamp</th>\n      <th>Block Reward</th>\n      <th>Fee Reward</th>\n    </tr>\n  </thead>\n  <tbody>\n    <tr>\n      <th>0</th>\n      <td>2020-07-06 22:45:00</td>\n      <td>6.25000000</td>\n      <td>0.21808885</td>\n    </tr>\n    <tr>\n      <th>1</th>\n      <td>2020-07-06 22:42:00</td>\n      <td>6.25000000</td>\n      <td>0.30686360</td>\n    </tr>\n    <tr>\n      <th>2</th>\n      <td>2020-07-06 22:27:00</td>\n      <td>6.25000000</td>\n      <td>0.25770656</td>\n    </tr>\n    <tr>\n      <th>3</th>\n      <td>2020-07-06 22:20:00</td>\n      <td>6.25000000</td>\n      <td>0.28058000</td>\n    </tr>\n    <tr>\n      <th>4</th>\n      <td>2020-07-06 22:11:00</td>\n      <td>6.25000000</td>\n      <td>0.27827185</td>\n    </tr>\n  </tbody>\n</table>\n</div>"
     },
     "metadata": {},
     "execution_count": 8
    }
   ],
   "source": [
    "datos[\"Block Reward\"]=datos['Block Reward'].map(lambda x: x.rstrip(' BTC'))\n",
    "datos[\"Fee Reward\"]=datos['Fee Reward'].map(lambda x: x.rstrip(' BTC'))\n",
    "datos.head()\n"
   ]
  },
  {
   "cell_type": "code",
   "execution_count": 9,
   "metadata": {},
   "outputs": [],
   "source": [
    "pd.options.display.float_format = '{:,}'.format"
   ]
  },
  {
   "cell_type": "code",
   "execution_count": 10,
   "metadata": {},
   "outputs": [],
   "source": [
    "datos[[\"Block Reward\",'Fee Reward']] = datos[[\"Block Reward\",'Fee Reward']].astype('float')"
   ]
  },
  {
   "cell_type": "code",
   "execution_count": 11,
   "metadata": {},
   "outputs": [
    {
     "output_type": "execute_result",
     "data": {
      "text/plain": "            Timestamp  Block Reward  Fee Reward\n0 2020-07-06 22:45:00          6.25  0.21808885\n1 2020-07-06 22:42:00          6.25   0.3068636\n2 2020-07-06 22:27:00          6.25  0.25770656\n3 2020-07-06 22:20:00          6.25     0.28058\n4 2020-07-06 22:11:00          6.25  0.27827185",
      "text/html": "<div>\n<style scoped>\n    .dataframe tbody tr th:only-of-type {\n        vertical-align: middle;\n    }\n\n    .dataframe tbody tr th {\n        vertical-align: top;\n    }\n\n    .dataframe thead th {\n        text-align: right;\n    }\n</style>\n<table border=\"1\" class=\"dataframe\">\n  <thead>\n    <tr style=\"text-align: right;\">\n      <th></th>\n      <th>Timestamp</th>\n      <th>Block Reward</th>\n      <th>Fee Reward</th>\n    </tr>\n  </thead>\n  <tbody>\n    <tr>\n      <th>0</th>\n      <td>2020-07-06 22:45:00</td>\n      <td>6.25</td>\n      <td>0.21808885</td>\n    </tr>\n    <tr>\n      <th>1</th>\n      <td>2020-07-06 22:42:00</td>\n      <td>6.25</td>\n      <td>0.3068636</td>\n    </tr>\n    <tr>\n      <th>2</th>\n      <td>2020-07-06 22:27:00</td>\n      <td>6.25</td>\n      <td>0.25770656</td>\n    </tr>\n    <tr>\n      <th>3</th>\n      <td>2020-07-06 22:20:00</td>\n      <td>6.25</td>\n      <td>0.28058</td>\n    </tr>\n    <tr>\n      <th>4</th>\n      <td>2020-07-06 22:11:00</td>\n      <td>6.25</td>\n      <td>0.27827185</td>\n    </tr>\n  </tbody>\n</table>\n</div>"
     },
     "metadata": {},
     "execution_count": 11
    }
   ],
   "source": [
    "datos.head()"
   ]
  },
  {
   "cell_type": "code",
   "execution_count": 73,
   "metadata": {
    "tags": []
   },
   "outputs": [],
   "source": [
    "datos=datos.drop([\"Height\"],axis=1)"
   ]
  },
  {
   "cell_type": "code",
   "execution_count": 74,
   "metadata": {},
   "outputs": [
    {
     "output_type": "execute_result",
     "data": {
      "text/plain": "            Timestamp  Block Reward  Fee Reward\n0 2020-07-06 22:45:00          6.25  0.21808885\n1 2020-07-06 22:42:00          6.25   0.3068636\n2 2020-07-06 22:27:00          6.25  0.25770656\n3 2020-07-06 22:20:00          6.25     0.28058\n4 2020-07-06 22:11:00          6.25  0.27827185",
      "text/html": "<div>\n<style scoped>\n    .dataframe tbody tr th:only-of-type {\n        vertical-align: middle;\n    }\n\n    .dataframe tbody tr th {\n        vertical-align: top;\n    }\n\n    .dataframe thead th {\n        text-align: right;\n    }\n</style>\n<table border=\"1\" class=\"dataframe\">\n  <thead>\n    <tr style=\"text-align: right;\">\n      <th></th>\n      <th>Timestamp</th>\n      <th>Block Reward</th>\n      <th>Fee Reward</th>\n    </tr>\n  </thead>\n  <tbody>\n    <tr>\n      <th>0</th>\n      <td>2020-07-06 22:45:00</td>\n      <td>6.25</td>\n      <td>0.21808885</td>\n    </tr>\n    <tr>\n      <th>1</th>\n      <td>2020-07-06 22:42:00</td>\n      <td>6.25</td>\n      <td>0.3068636</td>\n    </tr>\n    <tr>\n      <th>2</th>\n      <td>2020-07-06 22:27:00</td>\n      <td>6.25</td>\n      <td>0.25770656</td>\n    </tr>\n    <tr>\n      <th>3</th>\n      <td>2020-07-06 22:20:00</td>\n      <td>6.25</td>\n      <td>0.28058</td>\n    </tr>\n    <tr>\n      <th>4</th>\n      <td>2020-07-06 22:11:00</td>\n      <td>6.25</td>\n      <td>0.27827185</td>\n    </tr>\n  </tbody>\n</table>\n</div>"
     },
     "metadata": {},
     "execution_count": 74
    }
   ],
   "source": [
    "datos.head()"
   ]
  },
  {
   "cell_type": "code",
   "execution_count": 12,
   "metadata": {},
   "outputs": [],
   "source": [
    "datos=datos.groupby(pd.Grouper(key=\"Timestamp\", freq = '1D'))[['Block Reward',\"Fee Reward\"]].sum()"
   ]
  },
  {
   "cell_type": "code",
   "execution_count": 109,
   "metadata": {},
   "outputs": [],
   "source": [
    "datos_copy=datos.copy(deep=True)"
   ]
  },
  {
   "cell_type": "code",
   "execution_count": 111,
   "metadata": {},
   "outputs": [
    {
     "output_type": "execute_result",
     "data": {
      "text/plain": "            Block Reward         Fee Reward\nTimestamp                                  \n2020-07-06         912.5          35.360644\n2020-07-05      1,018.75 25.109559299999997\n2020-07-04        981.25 31.870481280000003\n2020-07-03      1,018.75  53.78625541000005\n2020-07-02       1,025.0 56.014036659999995\n...                  ...                ...\n2009-01-13       6,150.0                0.0\n2009-01-12       4,700.0                0.0\n2009-01-11       4,650.0                0.0\n2009-01-10       3,050.0                0.0\n2009-01-09         700.0                0.0\n\n[4197 rows x 2 columns]",
      "text/html": "<div>\n<style scoped>\n    .dataframe tbody tr th:only-of-type {\n        vertical-align: middle;\n    }\n\n    .dataframe tbody tr th {\n        vertical-align: top;\n    }\n\n    .dataframe thead th {\n        text-align: right;\n    }\n</style>\n<table border=\"1\" class=\"dataframe\">\n  <thead>\n    <tr style=\"text-align: right;\">\n      <th></th>\n      <th>Block Reward</th>\n      <th>Fee Reward</th>\n    </tr>\n    <tr>\n      <th>Timestamp</th>\n      <th></th>\n      <th></th>\n    </tr>\n  </thead>\n  <tbody>\n    <tr>\n      <th>2020-07-06</th>\n      <td>912.5</td>\n      <td>35.360644</td>\n    </tr>\n    <tr>\n      <th>2020-07-05</th>\n      <td>1,018.75</td>\n      <td>25.109559299999997</td>\n    </tr>\n    <tr>\n      <th>2020-07-04</th>\n      <td>981.25</td>\n      <td>31.870481280000003</td>\n    </tr>\n    <tr>\n      <th>2020-07-03</th>\n      <td>1,018.75</td>\n      <td>53.78625541000005</td>\n    </tr>\n    <tr>\n      <th>2020-07-02</th>\n      <td>1,025.0</td>\n      <td>56.014036659999995</td>\n    </tr>\n    <tr>\n      <th>...</th>\n      <td>...</td>\n      <td>...</td>\n    </tr>\n    <tr>\n      <th>2009-01-13</th>\n      <td>6,150.0</td>\n      <td>0.0</td>\n    </tr>\n    <tr>\n      <th>2009-01-12</th>\n      <td>4,700.0</td>\n      <td>0.0</td>\n    </tr>\n    <tr>\n      <th>2009-01-11</th>\n      <td>4,650.0</td>\n      <td>0.0</td>\n    </tr>\n    <tr>\n      <th>2009-01-10</th>\n      <td>3,050.0</td>\n      <td>0.0</td>\n    </tr>\n    <tr>\n      <th>2009-01-09</th>\n      <td>700.0</td>\n      <td>0.0</td>\n    </tr>\n  </tbody>\n</table>\n<p>4197 rows × 2 columns</p>\n</div>"
     },
     "metadata": {},
     "execution_count": 111
    }
   ],
   "source": [
    "datos_copy"
   ]
  },
  {
   "cell_type": "code",
   "execution_count": 113,
   "metadata": {},
   "outputs": [
    {
     "output_type": "error",
     "ename": "KeyError",
     "evalue": "'The grouper name Timestamp is not found'",
     "traceback": [
      "\u001b[1;31m---------------------------------------------------------------------------\u001b[0m",
      "\u001b[1;31mKeyError\u001b[0m                                  Traceback (most recent call last)",
      "\u001b[1;32m<ipython-input-113-3db2885d2c6d>\u001b[0m in \u001b[0;36m<module>\u001b[1;34m\u001b[0m\n\u001b[1;32m----> 1\u001b[1;33m \u001b[0mdatos_copy\u001b[0m\u001b[1;33m=\u001b[0m\u001b[0mdatos\u001b[0m\u001b[1;33m.\u001b[0m\u001b[0mgroupby\u001b[0m\u001b[1;33m(\u001b[0m\u001b[0mpd\u001b[0m\u001b[1;33m.\u001b[0m\u001b[0mGrouper\u001b[0m\u001b[1;33m(\u001b[0m\u001b[0mkey\u001b[0m\u001b[1;33m=\u001b[0m\u001b[1;34m\"Timestamp\"\u001b[0m\u001b[1;33m,\u001b[0m \u001b[0mfreq\u001b[0m \u001b[1;33m=\u001b[0m \u001b[1;34m'3D'\u001b[0m\u001b[1;33m)\u001b[0m\u001b[1;33m)\u001b[0m\u001b[1;33m[\u001b[0m\u001b[1;33m[\u001b[0m\u001b[1;34m'Block Reward'\u001b[0m\u001b[1;33m,\u001b[0m\u001b[1;34m\"Fee Reward\"\u001b[0m\u001b[1;33m]\u001b[0m\u001b[1;33m]\u001b[0m\u001b[1;33m.\u001b[0m\u001b[0msum\u001b[0m\u001b[1;33m(\u001b[0m\u001b[1;33m)\u001b[0m\u001b[1;33m\u001b[0m\u001b[1;33m\u001b[0m\u001b[0m\n\u001b[0m",
      "\u001b[1;32m~\\Anaconda3\\lib\\site-packages\\pandas\\core\\frame.py\u001b[0m in \u001b[0;36mgroupby\u001b[1;34m(self, by, axis, level, as_index, sort, group_keys, squeeze, observed)\u001b[0m\n\u001b[0;32m   5808\u001b[0m             \u001b[0mgroup_keys\u001b[0m\u001b[1;33m=\u001b[0m\u001b[0mgroup_keys\u001b[0m\u001b[1;33m,\u001b[0m\u001b[1;33m\u001b[0m\u001b[1;33m\u001b[0m\u001b[0m\n\u001b[0;32m   5809\u001b[0m             \u001b[0msqueeze\u001b[0m\u001b[1;33m=\u001b[0m\u001b[0msqueeze\u001b[0m\u001b[1;33m,\u001b[0m\u001b[1;33m\u001b[0m\u001b[1;33m\u001b[0m\u001b[0m\n\u001b[1;32m-> 5810\u001b[1;33m             \u001b[0mobserved\u001b[0m\u001b[1;33m=\u001b[0m\u001b[0mobserved\u001b[0m\u001b[1;33m,\u001b[0m\u001b[1;33m\u001b[0m\u001b[1;33m\u001b[0m\u001b[0m\n\u001b[0m\u001b[0;32m   5811\u001b[0m         )\n\u001b[0;32m   5812\u001b[0m \u001b[1;33m\u001b[0m\u001b[0m\n",
      "\u001b[1;32m~\\Anaconda3\\lib\\site-packages\\pandas\\core\\groupby\\groupby.py\u001b[0m in \u001b[0;36m__init__\u001b[1;34m(self, obj, keys, axis, level, grouper, exclusions, selection, as_index, sort, group_keys, squeeze, observed, mutated)\u001b[0m\n\u001b[0;32m    407\u001b[0m                 \u001b[0msort\u001b[0m\u001b[1;33m=\u001b[0m\u001b[0msort\u001b[0m\u001b[1;33m,\u001b[0m\u001b[1;33m\u001b[0m\u001b[1;33m\u001b[0m\u001b[0m\n\u001b[0;32m    408\u001b[0m                 \u001b[0mobserved\u001b[0m\u001b[1;33m=\u001b[0m\u001b[0mobserved\u001b[0m\u001b[1;33m,\u001b[0m\u001b[1;33m\u001b[0m\u001b[1;33m\u001b[0m\u001b[0m\n\u001b[1;32m--> 409\u001b[1;33m                 \u001b[0mmutated\u001b[0m\u001b[1;33m=\u001b[0m\u001b[0mself\u001b[0m\u001b[1;33m.\u001b[0m\u001b[0mmutated\u001b[0m\u001b[1;33m,\u001b[0m\u001b[1;33m\u001b[0m\u001b[1;33m\u001b[0m\u001b[0m\n\u001b[0m\u001b[0;32m    410\u001b[0m             )\n\u001b[0;32m    411\u001b[0m \u001b[1;33m\u001b[0m\u001b[0m\n",
      "\u001b[1;32m~\\Anaconda3\\lib\\site-packages\\pandas\\core\\groupby\\grouper.py\u001b[0m in \u001b[0;36mget_grouper\u001b[1;34m(obj, key, axis, level, sort, observed, mutated, validate)\u001b[0m\n\u001b[0;32m    507\u001b[0m     \u001b[1;31m# a passed-in Grouper, directly convert\u001b[0m\u001b[1;33m\u001b[0m\u001b[1;33m\u001b[0m\u001b[1;33m\u001b[0m\u001b[0m\n\u001b[0;32m    508\u001b[0m     \u001b[1;32mif\u001b[0m \u001b[0misinstance\u001b[0m\u001b[1;33m(\u001b[0m\u001b[0mkey\u001b[0m\u001b[1;33m,\u001b[0m \u001b[0mGrouper\u001b[0m\u001b[1;33m)\u001b[0m\u001b[1;33m:\u001b[0m\u001b[1;33m\u001b[0m\u001b[1;33m\u001b[0m\u001b[0m\n\u001b[1;32m--> 509\u001b[1;33m         \u001b[0mbinner\u001b[0m\u001b[1;33m,\u001b[0m \u001b[0mgrouper\u001b[0m\u001b[1;33m,\u001b[0m \u001b[0mobj\u001b[0m \u001b[1;33m=\u001b[0m \u001b[0mkey\u001b[0m\u001b[1;33m.\u001b[0m\u001b[0m_get_grouper\u001b[0m\u001b[1;33m(\u001b[0m\u001b[0mobj\u001b[0m\u001b[1;33m,\u001b[0m \u001b[0mvalidate\u001b[0m\u001b[1;33m=\u001b[0m\u001b[1;32mFalse\u001b[0m\u001b[1;33m)\u001b[0m\u001b[1;33m\u001b[0m\u001b[1;33m\u001b[0m\u001b[0m\n\u001b[0m\u001b[0;32m    510\u001b[0m         \u001b[1;32mif\u001b[0m \u001b[0mkey\u001b[0m\u001b[1;33m.\u001b[0m\u001b[0mkey\u001b[0m \u001b[1;32mis\u001b[0m \u001b[1;32mNone\u001b[0m\u001b[1;33m:\u001b[0m\u001b[1;33m\u001b[0m\u001b[1;33m\u001b[0m\u001b[0m\n\u001b[0;32m    511\u001b[0m             \u001b[1;32mreturn\u001b[0m \u001b[0mgrouper\u001b[0m\u001b[1;33m,\u001b[0m \u001b[1;33m[\u001b[0m\u001b[1;33m]\u001b[0m\u001b[1;33m,\u001b[0m \u001b[0mobj\u001b[0m\u001b[1;33m\u001b[0m\u001b[1;33m\u001b[0m\u001b[0m\n",
      "\u001b[1;32m~\\Anaconda3\\lib\\site-packages\\pandas\\core\\resample.py\u001b[0m in \u001b[0;36m_get_grouper\u001b[1;34m(self, obj, validate)\u001b[0m\n\u001b[0;32m   1409\u001b[0m     \u001b[1;32mdef\u001b[0m \u001b[0m_get_grouper\u001b[0m\u001b[1;33m(\u001b[0m\u001b[0mself\u001b[0m\u001b[1;33m,\u001b[0m \u001b[0mobj\u001b[0m\u001b[1;33m,\u001b[0m \u001b[0mvalidate\u001b[0m\u001b[1;33m:\u001b[0m \u001b[0mbool\u001b[0m \u001b[1;33m=\u001b[0m \u001b[1;32mTrue\u001b[0m\u001b[1;33m)\u001b[0m\u001b[1;33m:\u001b[0m\u001b[1;33m\u001b[0m\u001b[1;33m\u001b[0m\u001b[0m\n\u001b[0;32m   1410\u001b[0m         \u001b[1;31m# create the resampler and return our binner\u001b[0m\u001b[1;33m\u001b[0m\u001b[1;33m\u001b[0m\u001b[1;33m\u001b[0m\u001b[0m\n\u001b[1;32m-> 1411\u001b[1;33m         \u001b[0mr\u001b[0m \u001b[1;33m=\u001b[0m \u001b[0mself\u001b[0m\u001b[1;33m.\u001b[0m\u001b[0m_get_resampler\u001b[0m\u001b[1;33m(\u001b[0m\u001b[0mobj\u001b[0m\u001b[1;33m)\u001b[0m\u001b[1;33m\u001b[0m\u001b[1;33m\u001b[0m\u001b[0m\n\u001b[0m\u001b[0;32m   1412\u001b[0m         \u001b[0mr\u001b[0m\u001b[1;33m.\u001b[0m\u001b[0m_set_binner\u001b[0m\u001b[1;33m(\u001b[0m\u001b[1;33m)\u001b[0m\u001b[1;33m\u001b[0m\u001b[1;33m\u001b[0m\u001b[0m\n\u001b[0;32m   1413\u001b[0m         \u001b[1;32mreturn\u001b[0m \u001b[0mr\u001b[0m\u001b[1;33m.\u001b[0m\u001b[0mbinner\u001b[0m\u001b[1;33m,\u001b[0m \u001b[0mr\u001b[0m\u001b[1;33m.\u001b[0m\u001b[0mgrouper\u001b[0m\u001b[1;33m,\u001b[0m \u001b[0mr\u001b[0m\u001b[1;33m.\u001b[0m\u001b[0mobj\u001b[0m\u001b[1;33m\u001b[0m\u001b[1;33m\u001b[0m\u001b[0m\n",
      "\u001b[1;32m~\\Anaconda3\\lib\\site-packages\\pandas\\core\\resample.py\u001b[0m in \u001b[0;36m_get_resampler\u001b[1;34m(self, obj, kind)\u001b[0m\n\u001b[0;32m   1391\u001b[0m \u001b[1;33m\u001b[0m\u001b[0m\n\u001b[0;32m   1392\u001b[0m         \"\"\"\n\u001b[1;32m-> 1393\u001b[1;33m         \u001b[0mself\u001b[0m\u001b[1;33m.\u001b[0m\u001b[0m_set_grouper\u001b[0m\u001b[1;33m(\u001b[0m\u001b[0mobj\u001b[0m\u001b[1;33m)\u001b[0m\u001b[1;33m\u001b[0m\u001b[1;33m\u001b[0m\u001b[0m\n\u001b[0m\u001b[0;32m   1394\u001b[0m \u001b[1;33m\u001b[0m\u001b[0m\n\u001b[0;32m   1395\u001b[0m         \u001b[0max\u001b[0m \u001b[1;33m=\u001b[0m \u001b[0mself\u001b[0m\u001b[1;33m.\u001b[0m\u001b[0max\u001b[0m\u001b[1;33m\u001b[0m\u001b[1;33m\u001b[0m\u001b[0m\n",
      "\u001b[1;32m~\\Anaconda3\\lib\\site-packages\\pandas\\core\\groupby\\grouper.py\u001b[0m in \u001b[0;36m_set_grouper\u001b[1;34m(self, obj, sort)\u001b[0m\n\u001b[0;32m    172\u001b[0m             \u001b[1;32melse\u001b[0m\u001b[1;33m:\u001b[0m\u001b[1;33m\u001b[0m\u001b[1;33m\u001b[0m\u001b[0m\n\u001b[0;32m    173\u001b[0m                 \u001b[1;32mif\u001b[0m \u001b[0mkey\u001b[0m \u001b[1;32mnot\u001b[0m \u001b[1;32min\u001b[0m \u001b[0mobj\u001b[0m\u001b[1;33m.\u001b[0m\u001b[0m_info_axis\u001b[0m\u001b[1;33m:\u001b[0m\u001b[1;33m\u001b[0m\u001b[1;33m\u001b[0m\u001b[0m\n\u001b[1;32m--> 174\u001b[1;33m                     \u001b[1;32mraise\u001b[0m \u001b[0mKeyError\u001b[0m\u001b[1;33m(\u001b[0m\u001b[1;34mf\"The grouper name {key} is not found\"\u001b[0m\u001b[1;33m)\u001b[0m\u001b[1;33m\u001b[0m\u001b[1;33m\u001b[0m\u001b[0m\n\u001b[0m\u001b[0;32m    175\u001b[0m                 \u001b[0max\u001b[0m \u001b[1;33m=\u001b[0m \u001b[0mIndex\u001b[0m\u001b[1;33m(\u001b[0m\u001b[0mobj\u001b[0m\u001b[1;33m[\u001b[0m\u001b[0mkey\u001b[0m\u001b[1;33m]\u001b[0m\u001b[1;33m,\u001b[0m \u001b[0mname\u001b[0m\u001b[1;33m=\u001b[0m\u001b[0mkey\u001b[0m\u001b[1;33m)\u001b[0m\u001b[1;33m\u001b[0m\u001b[1;33m\u001b[0m\u001b[0m\n\u001b[0;32m    176\u001b[0m \u001b[1;33m\u001b[0m\u001b[0m\n",
      "\u001b[1;31mKeyError\u001b[0m: 'The grouper name Timestamp is not found'"
     ]
    }
   ],
   "source": [
    "datos_copy=datos.groupby(pd.Grouper(key=\"Timestamp\", freq = '3D'))[['Block Reward',\"Fee Reward\"]].sum()"
   ]
  },
  {
   "cell_type": "code",
   "execution_count": 13,
   "metadata": {},
   "outputs": [
    {
     "output_type": "execute_result",
     "data": {
      "text/plain": "            Block Reward         Fee Reward\nTimestamp                                  \n2009-01-09         700.0                0.0\n2009-01-10       3,050.0                0.0\n2009-01-11       4,650.0                0.0\n2009-01-12       4,700.0                0.0\n2009-01-13       6,150.0                0.0\n...                  ...                ...\n2020-07-02       1,025.0 56.014036659999995\n2020-07-03      1,018.75  53.78625541000005\n2020-07-04        981.25 31.870481280000003\n2020-07-05      1,018.75 25.109559299999997\n2020-07-06         912.5          35.360644\n\n[4197 rows x 2 columns]",
      "text/html": "<div>\n<style scoped>\n    .dataframe tbody tr th:only-of-type {\n        vertical-align: middle;\n    }\n\n    .dataframe tbody tr th {\n        vertical-align: top;\n    }\n\n    .dataframe thead th {\n        text-align: right;\n    }\n</style>\n<table border=\"1\" class=\"dataframe\">\n  <thead>\n    <tr style=\"text-align: right;\">\n      <th></th>\n      <th>Block Reward</th>\n      <th>Fee Reward</th>\n    </tr>\n    <tr>\n      <th>Timestamp</th>\n      <th></th>\n      <th></th>\n    </tr>\n  </thead>\n  <tbody>\n    <tr>\n      <th>2009-01-09</th>\n      <td>700.0</td>\n      <td>0.0</td>\n    </tr>\n    <tr>\n      <th>2009-01-10</th>\n      <td>3,050.0</td>\n      <td>0.0</td>\n    </tr>\n    <tr>\n      <th>2009-01-11</th>\n      <td>4,650.0</td>\n      <td>0.0</td>\n    </tr>\n    <tr>\n      <th>2009-01-12</th>\n      <td>4,700.0</td>\n      <td>0.0</td>\n    </tr>\n    <tr>\n      <th>2009-01-13</th>\n      <td>6,150.0</td>\n      <td>0.0</td>\n    </tr>\n    <tr>\n      <th>...</th>\n      <td>...</td>\n      <td>...</td>\n    </tr>\n    <tr>\n      <th>2020-07-02</th>\n      <td>1,025.0</td>\n      <td>56.014036659999995</td>\n    </tr>\n    <tr>\n      <th>2020-07-03</th>\n      <td>1,018.75</td>\n      <td>53.78625541000005</td>\n    </tr>\n    <tr>\n      <th>2020-07-04</th>\n      <td>981.25</td>\n      <td>31.870481280000003</td>\n    </tr>\n    <tr>\n      <th>2020-07-05</th>\n      <td>1,018.75</td>\n      <td>25.109559299999997</td>\n    </tr>\n    <tr>\n      <th>2020-07-06</th>\n      <td>912.5</td>\n      <td>35.360644</td>\n    </tr>\n  </tbody>\n</table>\n<p>4197 rows × 2 columns</p>\n</div>"
     },
     "metadata": {},
     "execution_count": 13
    }
   ],
   "source": [
    "datos"
   ]
  },
  {
   "cell_type": "code",
   "execution_count": 14,
   "metadata": {},
   "outputs": [],
   "source": [
    "datos=datos.sort_values(by=[\"Timestamp\"],ascending=False)"
   ]
  },
  {
   "cell_type": "code",
   "execution_count": 15,
   "metadata": {},
   "outputs": [
    {
     "output_type": "execute_result",
     "data": {
      "text/plain": "            Block Reward         Fee Reward\nTimestamp                                  \n2020-07-06         912.5          35.360644\n2020-07-05      1,018.75 25.109559299999997\n2020-07-04        981.25 31.870481280000003\n2020-07-03      1,018.75  53.78625541000005\n2020-07-02       1,025.0 56.014036659999995\n...                  ...                ...\n2009-01-13       6,150.0                0.0\n2009-01-12       4,700.0                0.0\n2009-01-11       4,650.0                0.0\n2009-01-10       3,050.0                0.0\n2009-01-09         700.0                0.0\n\n[4197 rows x 2 columns]",
      "text/html": "<div>\n<style scoped>\n    .dataframe tbody tr th:only-of-type {\n        vertical-align: middle;\n    }\n\n    .dataframe tbody tr th {\n        vertical-align: top;\n    }\n\n    .dataframe thead th {\n        text-align: right;\n    }\n</style>\n<table border=\"1\" class=\"dataframe\">\n  <thead>\n    <tr style=\"text-align: right;\">\n      <th></th>\n      <th>Block Reward</th>\n      <th>Fee Reward</th>\n    </tr>\n    <tr>\n      <th>Timestamp</th>\n      <th></th>\n      <th></th>\n    </tr>\n  </thead>\n  <tbody>\n    <tr>\n      <th>2020-07-06</th>\n      <td>912.5</td>\n      <td>35.360644</td>\n    </tr>\n    <tr>\n      <th>2020-07-05</th>\n      <td>1,018.75</td>\n      <td>25.109559299999997</td>\n    </tr>\n    <tr>\n      <th>2020-07-04</th>\n      <td>981.25</td>\n      <td>31.870481280000003</td>\n    </tr>\n    <tr>\n      <th>2020-07-03</th>\n      <td>1,018.75</td>\n      <td>53.78625541000005</td>\n    </tr>\n    <tr>\n      <th>2020-07-02</th>\n      <td>1,025.0</td>\n      <td>56.014036659999995</td>\n    </tr>\n    <tr>\n      <th>...</th>\n      <td>...</td>\n      <td>...</td>\n    </tr>\n    <tr>\n      <th>2009-01-13</th>\n      <td>6,150.0</td>\n      <td>0.0</td>\n    </tr>\n    <tr>\n      <th>2009-01-12</th>\n      <td>4,700.0</td>\n      <td>0.0</td>\n    </tr>\n    <tr>\n      <th>2009-01-11</th>\n      <td>4,650.0</td>\n      <td>0.0</td>\n    </tr>\n    <tr>\n      <th>2009-01-10</th>\n      <td>3,050.0</td>\n      <td>0.0</td>\n    </tr>\n    <tr>\n      <th>2009-01-09</th>\n      <td>700.0</td>\n      <td>0.0</td>\n    </tr>\n  </tbody>\n</table>\n<p>4197 rows × 2 columns</p>\n</div>"
     },
     "metadata": {},
     "execution_count": 15
    }
   ],
   "source": [
    "datos"
   ]
  },
  {
   "cell_type": "code",
   "execution_count": 16,
   "metadata": {},
   "outputs": [],
   "source": [
    "datos.to_csv(\"Data_day_Rewards_block_reward.csv\")"
   ]
  },
  {
   "cell_type": "code",
   "execution_count": 23,
   "metadata": {},
   "outputs": [],
   "source": [
    "data_price=pd.read_csv(\"../../blockchain data\\external data\\market-price.csv\")"
   ]
  },
  {
   "cell_type": "code",
   "execution_count": 131,
   "metadata": {
    "tags": []
   },
   "outputs": [
    {
     "output_type": "stream",
     "name": "stdout",
     "text": "<class 'pandas.core.frame.DataFrame'>\nRangeIndex: 1402 entries, 0 to 1401\nData columns (total 2 columns):\n #   Column        Non-Null Count  Dtype         \n---  ------        --------------  -----         \n 0   Timestamp     1402 non-null   datetime64[ns]\n 1   market-price  1402 non-null   float64       \ndtypes: datetime64[ns](1), float64(1)\nmemory usage: 22.0 KB\n"
    }
   ],
   "source": [
    "data_price.info()"
   ]
  },
  {
   "cell_type": "code",
   "execution_count": 24,
   "metadata": {},
   "outputs": [],
   "source": [
    "data_price[\"Timestamp\"]=pd.to_datetime(data_price[\"Timestamp\"])"
   ]
  },
  {
   "cell_type": "code",
   "execution_count": 19,
   "metadata": {},
   "outputs": [
    {
     "output_type": "execute_result",
     "data": {
      "text/plain": "               Timestamp  market-price\n0    2009-01-02 23:30:00           0.0\n1    2009-01-05 23:30:00           0.0\n2    2009-01-08 23:30:00           0.0\n3    2009-01-11 23:30:00           0.0\n4    2009-01-14 23:30:00           0.0\n...                  ...           ...\n1397 2020-06-25 00:00:00      9,276.58\n1398 2020-06-28 00:00:00      9,004.23\n1399 2020-07-01 00:00:00      9,133.97\n1400 2020-07-04 00:00:00      9,072.42\n1401 2020-07-07 00:00:00      9,348.91\n\n[1402 rows x 2 columns]",
      "text/html": "<div>\n<style scoped>\n    .dataframe tbody tr th:only-of-type {\n        vertical-align: middle;\n    }\n\n    .dataframe tbody tr th {\n        vertical-align: top;\n    }\n\n    .dataframe thead th {\n        text-align: right;\n    }\n</style>\n<table border=\"1\" class=\"dataframe\">\n  <thead>\n    <tr style=\"text-align: right;\">\n      <th></th>\n      <th>Timestamp</th>\n      <th>market-price</th>\n    </tr>\n  </thead>\n  <tbody>\n    <tr>\n      <th>0</th>\n      <td>2009-01-02 23:30:00</td>\n      <td>0.0</td>\n    </tr>\n    <tr>\n      <th>1</th>\n      <td>2009-01-05 23:30:00</td>\n      <td>0.0</td>\n    </tr>\n    <tr>\n      <th>2</th>\n      <td>2009-01-08 23:30:00</td>\n      <td>0.0</td>\n    </tr>\n    <tr>\n      <th>3</th>\n      <td>2009-01-11 23:30:00</td>\n      <td>0.0</td>\n    </tr>\n    <tr>\n      <th>4</th>\n      <td>2009-01-14 23:30:00</td>\n      <td>0.0</td>\n    </tr>\n    <tr>\n      <th>...</th>\n      <td>...</td>\n      <td>...</td>\n    </tr>\n    <tr>\n      <th>1397</th>\n      <td>2020-06-25 00:00:00</td>\n      <td>9,276.58</td>\n    </tr>\n    <tr>\n      <th>1398</th>\n      <td>2020-06-28 00:00:00</td>\n      <td>9,004.23</td>\n    </tr>\n    <tr>\n      <th>1399</th>\n      <td>2020-07-01 00:00:00</td>\n      <td>9,133.97</td>\n    </tr>\n    <tr>\n      <th>1400</th>\n      <td>2020-07-04 00:00:00</td>\n      <td>9,072.42</td>\n    </tr>\n    <tr>\n      <th>1401</th>\n      <td>2020-07-07 00:00:00</td>\n      <td>9,348.91</td>\n    </tr>\n  </tbody>\n</table>\n<p>1402 rows × 2 columns</p>\n</div>"
     },
     "metadata": {},
     "execution_count": 19
    }
   ],
   "source": [
    "data_price"
   ]
  },
  {
   "cell_type": "code",
   "execution_count": 20,
   "metadata": {},
   "outputs": [],
   "source": [
    "data_price=data_price.groupby(pd.Grouper(key=\"Timestamp\", freq = '1D'))"
   ]
  },
  {
   "cell_type": "code",
   "execution_count": 127,
   "metadata": {},
   "outputs": [],
   "source": [
    "data_price_copy=data_price.copy(deep=True)"
   ]
  },
  {
   "cell_type": "code",
   "execution_count": 125,
   "metadata": {},
   "outputs": [
    {
     "output_type": "execute_result",
     "data": {
      "text/plain": "<pandas.core.groupby.generic.SeriesGroupBy object at 0x000001942813D438>"
     },
     "metadata": {},
     "execution_count": 125
    }
   ],
   "source": [
    "data_price_copy"
   ]
  },
  {
   "cell_type": "code",
   "execution_count": 21,
   "metadata": {},
   "outputs": [
    {
     "output_type": "execute_result",
     "data": {
      "text/plain": "<pandas.core.groupby.generic.DataFrameGroupBy object at 0x000001382137F630>"
     },
     "metadata": {},
     "execution_count": 21
    }
   ],
   "source": [
    "data_price"
   ]
  },
  {
   "cell_type": "code",
   "execution_count": 120,
   "metadata": {},
   "outputs": [
    {
     "output_type": "execute_result",
     "data": {
      "text/plain": "            Block Reward         Fee Reward\nTimestamp                                  \n2020-07-06         912.5          35.360644\n2020-07-05      1,018.75 25.109559299999997\n2020-07-04        981.25 31.870481280000003\n2020-07-03      1,018.75  53.78625541000005\n2020-07-02       1,025.0 56.014036659999995\n...                  ...                ...\n2009-01-13       6,150.0                0.0\n2009-01-12       4,700.0                0.0\n2009-01-11       4,650.0                0.0\n2009-01-10       3,050.0                0.0\n2009-01-09         700.0                0.0\n\n[4197 rows x 2 columns]",
      "text/html": "<div>\n<style scoped>\n    .dataframe tbody tr th:only-of-type {\n        vertical-align: middle;\n    }\n\n    .dataframe tbody tr th {\n        vertical-align: top;\n    }\n\n    .dataframe thead th {\n        text-align: right;\n    }\n</style>\n<table border=\"1\" class=\"dataframe\">\n  <thead>\n    <tr style=\"text-align: right;\">\n      <th></th>\n      <th>Block Reward</th>\n      <th>Fee Reward</th>\n    </tr>\n    <tr>\n      <th>Timestamp</th>\n      <th></th>\n      <th></th>\n    </tr>\n  </thead>\n  <tbody>\n    <tr>\n      <th>2020-07-06</th>\n      <td>912.5</td>\n      <td>35.360644</td>\n    </tr>\n    <tr>\n      <th>2020-07-05</th>\n      <td>1,018.75</td>\n      <td>25.109559299999997</td>\n    </tr>\n    <tr>\n      <th>2020-07-04</th>\n      <td>981.25</td>\n      <td>31.870481280000003</td>\n    </tr>\n    <tr>\n      <th>2020-07-03</th>\n      <td>1,018.75</td>\n      <td>53.78625541000005</td>\n    </tr>\n    <tr>\n      <th>2020-07-02</th>\n      <td>1,025.0</td>\n      <td>56.014036659999995</td>\n    </tr>\n    <tr>\n      <th>...</th>\n      <td>...</td>\n      <td>...</td>\n    </tr>\n    <tr>\n      <th>2009-01-13</th>\n      <td>6,150.0</td>\n      <td>0.0</td>\n    </tr>\n    <tr>\n      <th>2009-01-12</th>\n      <td>4,700.0</td>\n      <td>0.0</td>\n    </tr>\n    <tr>\n      <th>2009-01-11</th>\n      <td>4,650.0</td>\n      <td>0.0</td>\n    </tr>\n    <tr>\n      <th>2009-01-10</th>\n      <td>3,050.0</td>\n      <td>0.0</td>\n    </tr>\n    <tr>\n      <th>2009-01-09</th>\n      <td>700.0</td>\n      <td>0.0</td>\n    </tr>\n  </tbody>\n</table>\n<p>4197 rows × 2 columns</p>\n</div>"
     },
     "metadata": {},
     "execution_count": 120
    }
   ],
   "source": [
    "datos"
   ]
  },
  {
   "cell_type": "code",
   "execution_count": 142,
   "metadata": {},
   "outputs": [],
   "source": [
    "datos_3d=datos.resample('3D').sum()"
   ]
  },
  {
   "cell_type": "code",
   "execution_count": 143,
   "metadata": {},
   "outputs": [
    {
     "output_type": "execute_result",
     "data": {
      "text/plain": "            Block Reward         Fee Reward\nTimestamp                                  \n2009-01-09       8,400.0                0.0\n2009-01-12      17,300.0                0.0\n2009-01-15      17,150.0                0.0\n2009-01-18      16,800.0                0.0\n2009-01-21      13,850.0                0.0\n...                  ...                ...\n2020-06-22       2,750.0 124.32731598999999\n2020-06-25      2,768.75  97.52975195999997\n2020-06-28       2,762.5  96.06624038000002\n2020-07-01      3,056.25 172.62600291000007\n2020-07-04       2,912.5        92.34068458\n\n[1399 rows x 2 columns]",
      "text/html": "<div>\n<style scoped>\n    .dataframe tbody tr th:only-of-type {\n        vertical-align: middle;\n    }\n\n    .dataframe tbody tr th {\n        vertical-align: top;\n    }\n\n    .dataframe thead th {\n        text-align: right;\n    }\n</style>\n<table border=\"1\" class=\"dataframe\">\n  <thead>\n    <tr style=\"text-align: right;\">\n      <th></th>\n      <th>Block Reward</th>\n      <th>Fee Reward</th>\n    </tr>\n    <tr>\n      <th>Timestamp</th>\n      <th></th>\n      <th></th>\n    </tr>\n  </thead>\n  <tbody>\n    <tr>\n      <th>2009-01-09</th>\n      <td>8,400.0</td>\n      <td>0.0</td>\n    </tr>\n    <tr>\n      <th>2009-01-12</th>\n      <td>17,300.0</td>\n      <td>0.0</td>\n    </tr>\n    <tr>\n      <th>2009-01-15</th>\n      <td>17,150.0</td>\n      <td>0.0</td>\n    </tr>\n    <tr>\n      <th>2009-01-18</th>\n      <td>16,800.0</td>\n      <td>0.0</td>\n    </tr>\n    <tr>\n      <th>2009-01-21</th>\n      <td>13,850.0</td>\n      <td>0.0</td>\n    </tr>\n    <tr>\n      <th>...</th>\n      <td>...</td>\n      <td>...</td>\n    </tr>\n    <tr>\n      <th>2020-06-22</th>\n      <td>2,750.0</td>\n      <td>124.32731598999999</td>\n    </tr>\n    <tr>\n      <th>2020-06-25</th>\n      <td>2,768.75</td>\n      <td>97.52975195999997</td>\n    </tr>\n    <tr>\n      <th>2020-06-28</th>\n      <td>2,762.5</td>\n      <td>96.06624038000002</td>\n    </tr>\n    <tr>\n      <th>2020-07-01</th>\n      <td>3,056.25</td>\n      <td>172.62600291000007</td>\n    </tr>\n    <tr>\n      <th>2020-07-04</th>\n      <td>2,912.5</td>\n      <td>92.34068458</td>\n    </tr>\n  </tbody>\n</table>\n<p>1399 rows × 2 columns</p>\n</div>"
     },
     "metadata": {},
     "execution_count": 143
    }
   ],
   "source": [
    "datos_3d"
   ]
  },
  {
   "cell_type": "code",
   "execution_count": 22,
   "metadata": {},
   "outputs": [
    {
     "output_type": "error",
     "ename": "TypeError",
     "evalue": "'Series' objects are mutable, thus they cannot be hashed",
     "traceback": [
      "\u001b[1;31m---------------------------------------------------------------------------\u001b[0m",
      "\u001b[1;31mTypeError\u001b[0m                                 Traceback (most recent call last)",
      "\u001b[1;32m<ipython-input-22-3c9f038fe001>\u001b[0m in \u001b[0;36m<module>\u001b[1;34m\u001b[0m\n\u001b[1;32m----> 1\u001b[1;33m \u001b[0mdata_price\u001b[0m\u001b[1;33m[\u001b[0m\u001b[1;34m\"Timestamp\"\u001b[0m\u001b[1;33m]\u001b[0m\u001b[1;33m=\u001b[0m\u001b[0mpd\u001b[0m\u001b[1;33m.\u001b[0m\u001b[0mto_datetime\u001b[0m\u001b[1;33m(\u001b[0m\u001b[0mdata_price\u001b[0m\u001b[1;33m[\u001b[0m\u001b[1;34m\"Timestamp\"\u001b[0m\u001b[1;33m]\u001b[0m\u001b[1;33m)\u001b[0m\u001b[1;33m\u001b[0m\u001b[1;33m\u001b[0m\u001b[0m\n\u001b[0m",
      "\u001b[1;32m~\\Anaconda3\\lib\\site-packages\\pandas\\core\\tools\\datetimes.py\u001b[0m in \u001b[0;36mto_datetime\u001b[1;34m(arg, errors, dayfirst, yearfirst, utc, format, exact, unit, infer_datetime_format, origin, cache)\u001b[0m\n\u001b[0;32m    739\u001b[0m     \u001b[1;32melif\u001b[0m \u001b[0mis_list_like\u001b[0m\u001b[1;33m(\u001b[0m\u001b[0marg\u001b[0m\u001b[1;33m)\u001b[0m\u001b[1;33m:\u001b[0m\u001b[1;33m\u001b[0m\u001b[1;33m\u001b[0m\u001b[0m\n\u001b[0;32m    740\u001b[0m         \u001b[1;32mtry\u001b[0m\u001b[1;33m:\u001b[0m\u001b[1;33m\u001b[0m\u001b[1;33m\u001b[0m\u001b[0m\n\u001b[1;32m--> 741\u001b[1;33m             \u001b[0mcache_array\u001b[0m \u001b[1;33m=\u001b[0m \u001b[0m_maybe_cache\u001b[0m\u001b[1;33m(\u001b[0m\u001b[0marg\u001b[0m\u001b[1;33m,\u001b[0m \u001b[0mformat\u001b[0m\u001b[1;33m,\u001b[0m \u001b[0mcache\u001b[0m\u001b[1;33m,\u001b[0m \u001b[0mconvert_listlike\u001b[0m\u001b[1;33m)\u001b[0m\u001b[1;33m\u001b[0m\u001b[1;33m\u001b[0m\u001b[0m\n\u001b[0m\u001b[0;32m    742\u001b[0m         \u001b[1;32mexcept\u001b[0m \u001b[0mtslibs\u001b[0m\u001b[1;33m.\u001b[0m\u001b[0mOutOfBoundsDatetime\u001b[0m\u001b[1;33m:\u001b[0m\u001b[1;33m\u001b[0m\u001b[1;33m\u001b[0m\u001b[0m\n\u001b[0;32m    743\u001b[0m             \u001b[1;31m# caching attempts to create a DatetimeIndex, which may raise\u001b[0m\u001b[1;33m\u001b[0m\u001b[1;33m\u001b[0m\u001b[1;33m\u001b[0m\u001b[0m\n",
      "\u001b[1;32m~\\Anaconda3\\lib\\site-packages\\pandas\\core\\tools\\datetimes.py\u001b[0m in \u001b[0;36m_maybe_cache\u001b[1;34m(arg, format, cache, convert_listlike)\u001b[0m\n\u001b[0;32m    145\u001b[0m     \u001b[1;32mif\u001b[0m \u001b[0mcache\u001b[0m\u001b[1;33m:\u001b[0m\u001b[1;33m\u001b[0m\u001b[1;33m\u001b[0m\u001b[0m\n\u001b[0;32m    146\u001b[0m         \u001b[1;31m# Perform a quicker unique check\u001b[0m\u001b[1;33m\u001b[0m\u001b[1;33m\u001b[0m\u001b[1;33m\u001b[0m\u001b[0m\n\u001b[1;32m--> 147\u001b[1;33m         \u001b[1;32mif\u001b[0m \u001b[1;32mnot\u001b[0m \u001b[0mshould_cache\u001b[0m\u001b[1;33m(\u001b[0m\u001b[0marg\u001b[0m\u001b[1;33m)\u001b[0m\u001b[1;33m:\u001b[0m\u001b[1;33m\u001b[0m\u001b[1;33m\u001b[0m\u001b[0m\n\u001b[0m\u001b[0;32m    148\u001b[0m             \u001b[1;32mreturn\u001b[0m \u001b[0mcache_array\u001b[0m\u001b[1;33m\u001b[0m\u001b[1;33m\u001b[0m\u001b[0m\n\u001b[0;32m    149\u001b[0m \u001b[1;33m\u001b[0m\u001b[0m\n",
      "\u001b[1;32m~\\Anaconda3\\lib\\site-packages\\pandas\\core\\tools\\datetimes.py\u001b[0m in \u001b[0;36mshould_cache\u001b[1;34m(arg, unique_share, check_count)\u001b[0m\n\u001b[0;32m    114\u001b[0m     \u001b[1;32massert\u001b[0m \u001b[1;36m0\u001b[0m \u001b[1;33m<\u001b[0m \u001b[0munique_share\u001b[0m \u001b[1;33m<\u001b[0m \u001b[1;36m1\u001b[0m\u001b[1;33m,\u001b[0m \u001b[1;34m\"unique_share must be in next bounds: (0; 1)\"\u001b[0m\u001b[1;33m\u001b[0m\u001b[1;33m\u001b[0m\u001b[0m\n\u001b[0;32m    115\u001b[0m \u001b[1;33m\u001b[0m\u001b[0m\n\u001b[1;32m--> 116\u001b[1;33m     \u001b[0munique_elements\u001b[0m \u001b[1;33m=\u001b[0m \u001b[0mset\u001b[0m\u001b[1;33m(\u001b[0m\u001b[0mislice\u001b[0m\u001b[1;33m(\u001b[0m\u001b[0marg\u001b[0m\u001b[1;33m,\u001b[0m \u001b[0mcheck_count\u001b[0m\u001b[1;33m)\u001b[0m\u001b[1;33m)\u001b[0m\u001b[1;33m\u001b[0m\u001b[1;33m\u001b[0m\u001b[0m\n\u001b[0m\u001b[0;32m    117\u001b[0m     \u001b[1;32mif\u001b[0m \u001b[0mlen\u001b[0m\u001b[1;33m(\u001b[0m\u001b[0munique_elements\u001b[0m\u001b[1;33m)\u001b[0m \u001b[1;33m>\u001b[0m \u001b[0mcheck_count\u001b[0m \u001b[1;33m*\u001b[0m \u001b[0munique_share\u001b[0m\u001b[1;33m:\u001b[0m\u001b[1;33m\u001b[0m\u001b[1;33m\u001b[0m\u001b[0m\n\u001b[0;32m    118\u001b[0m         \u001b[0mdo_caching\u001b[0m \u001b[1;33m=\u001b[0m \u001b[1;32mFalse\u001b[0m\u001b[1;33m\u001b[0m\u001b[1;33m\u001b[0m\u001b[0m\n",
      "\u001b[1;32m~\\Anaconda3\\lib\\site-packages\\pandas\\core\\generic.py\u001b[0m in \u001b[0;36m__hash__\u001b[1;34m(self)\u001b[0m\n\u001b[0;32m   1797\u001b[0m     \u001b[1;32mdef\u001b[0m \u001b[0m__hash__\u001b[0m\u001b[1;33m(\u001b[0m\u001b[0mself\u001b[0m\u001b[1;33m)\u001b[0m\u001b[1;33m:\u001b[0m\u001b[1;33m\u001b[0m\u001b[1;33m\u001b[0m\u001b[0m\n\u001b[0;32m   1798\u001b[0m         raise TypeError(\n\u001b[1;32m-> 1799\u001b[1;33m             \u001b[1;34mf\"{repr(type(self).__name__)} objects are mutable, \"\u001b[0m\u001b[1;33m\u001b[0m\u001b[1;33m\u001b[0m\u001b[0m\n\u001b[0m\u001b[0;32m   1800\u001b[0m             \u001b[1;34mf\"thus they cannot be hashed\"\u001b[0m\u001b[1;33m\u001b[0m\u001b[1;33m\u001b[0m\u001b[0m\n\u001b[0;32m   1801\u001b[0m         )\n",
      "\u001b[1;31mTypeError\u001b[0m: 'Series' objects are mutable, thus they cannot be hashed"
     ]
    }
   ],
   "source": [
    "data_price[\"Timestamp\"]=pd.to_datetime(data_price[\"Timestamp\"])"
   ]
  },
  {
   "cell_type": "code",
   "execution_count": 148,
   "metadata": {
    "tags": []
   },
   "outputs": [
    {
     "output_type": "stream",
     "name": "stdout",
     "text": "<class 'pandas.core.frame.DataFrame'>\nRangeIndex: 1402 entries, 0 to 1401\nData columns (total 2 columns):\n #   Column        Non-Null Count  Dtype         \n---  ------        --------------  -----         \n 0   Timestamp     1402 non-null   datetime64[ns]\n 1   market-price  1402 non-null   float64       \ndtypes: datetime64[ns](1), float64(1)\nmemory usage: 22.0 KB\n"
    }
   ],
   "source": [
    "data_price.info()"
   ]
  },
  {
   "cell_type": "code",
   "execution_count": 150,
   "metadata": {
    "tags": []
   },
   "outputs": [
    {
     "output_type": "stream",
     "name": "stdout",
     "text": "<class 'pandas.core.frame.DataFrame'>\nDatetimeIndex: 4197 entries, 2020-07-06 to 2009-01-09\nFreq: -1D\nData columns (total 2 columns):\n #   Column        Non-Null Count  Dtype  \n---  ------        --------------  -----  \n 0   Block Reward  4197 non-null   float64\n 1   Fee Reward    4197 non-null   float64\ndtypes: float64(2)\nmemory usage: 258.4 KB\n"
    }
   ],
   "source": [
    "datos.info()"
   ]
  },
  {
   "cell_type": "code",
   "execution_count": 25,
   "metadata": {},
   "outputs": [],
   "source": [
    "data_price=data_price.groupby(pd.Grouper(key=\"Timestamp\", freq = '1D'))[[\"market-price\"]].sum()"
   ]
  },
  {
   "cell_type": "code",
   "execution_count": 26,
   "metadata": {},
   "outputs": [],
   "source": [
    "data_price= data_price.replace(0,np.nan)\n"
   ]
  },
  {
   "cell_type": "code",
   "execution_count": 31,
   "metadata": {},
   "outputs": [],
   "source": [
    "data_price=data_price.interpolate(method='polynomial', order=3)"
   ]
  },
  {
   "cell_type": "code",
   "execution_count": 185,
   "metadata": {},
   "outputs": [],
   "source": [
    "data_price=datico"
   ]
  },
  {
   "cell_type": "code",
   "execution_count": 27,
   "metadata": {},
   "outputs": [],
   "source": [
    "data_price=data_price.reset_index()\n",
    "datos=datos.reset_index()"
   ]
  },
  {
   "cell_type": "code",
   "execution_count": 32,
   "metadata": {},
   "outputs": [
    {
     "output_type": "execute_result",
     "data": {
      "text/plain": "      Timestamp       market-price\n0    2009-01-02                nan\n1    2009-01-03                nan\n2    2009-01-04                nan\n3    2009-01-05                nan\n4    2009-01-06                nan\n...         ...                ...\n4200 2020-07-03 9,101.928704620062\n4201 2020-07-04           9,072.42\n4202 2020-07-05 9,080.471295379935\n4203 2020-07-06 9,160.996619224918\n4204 2020-07-07           9,348.91\n\n[4205 rows x 2 columns]",
      "text/html": "<div>\n<style scoped>\n    .dataframe tbody tr th:only-of-type {\n        vertical-align: middle;\n    }\n\n    .dataframe tbody tr th {\n        vertical-align: top;\n    }\n\n    .dataframe thead th {\n        text-align: right;\n    }\n</style>\n<table border=\"1\" class=\"dataframe\">\n  <thead>\n    <tr style=\"text-align: right;\">\n      <th></th>\n      <th>Timestamp</th>\n      <th>market-price</th>\n    </tr>\n  </thead>\n  <tbody>\n    <tr>\n      <th>0</th>\n      <td>2009-01-02</td>\n      <td>nan</td>\n    </tr>\n    <tr>\n      <th>1</th>\n      <td>2009-01-03</td>\n      <td>nan</td>\n    </tr>\n    <tr>\n      <th>2</th>\n      <td>2009-01-04</td>\n      <td>nan</td>\n    </tr>\n    <tr>\n      <th>3</th>\n      <td>2009-01-05</td>\n      <td>nan</td>\n    </tr>\n    <tr>\n      <th>4</th>\n      <td>2009-01-06</td>\n      <td>nan</td>\n    </tr>\n    <tr>\n      <th>...</th>\n      <td>...</td>\n      <td>...</td>\n    </tr>\n    <tr>\n      <th>4200</th>\n      <td>2020-07-03</td>\n      <td>9,101.928704620062</td>\n    </tr>\n    <tr>\n      <th>4201</th>\n      <td>2020-07-04</td>\n      <td>9,072.42</td>\n    </tr>\n    <tr>\n      <th>4202</th>\n      <td>2020-07-05</td>\n      <td>9,080.471295379935</td>\n    </tr>\n    <tr>\n      <th>4203</th>\n      <td>2020-07-06</td>\n      <td>9,160.996619224918</td>\n    </tr>\n    <tr>\n      <th>4204</th>\n      <td>2020-07-07</td>\n      <td>9,348.91</td>\n    </tr>\n  </tbody>\n</table>\n<p>4205 rows × 2 columns</p>\n</div>"
     },
     "metadata": {},
     "execution_count": 32
    }
   ],
   "source": [
    "data_price"
   ]
  },
  {
   "cell_type": "code",
   "execution_count": 33,
   "metadata": {},
   "outputs": [
    {
     "output_type": "execute_result",
     "data": {
      "text/plain": "(4205, 2)"
     },
     "metadata": {},
     "execution_count": 33
    }
   ],
   "source": [
    "data_price.shape"
   ]
  },
  {
   "cell_type": "code",
   "execution_count": 45,
   "metadata": {},
   "outputs": [],
   "source": [
    "datos_hash=pd.read_csv(\"../../blockchain data\\external data\\hash-rate.csv\")"
   ]
  },
  {
   "cell_type": "code",
   "execution_count": 34,
   "metadata": {},
   "outputs": [
    {
     "output_type": "execute_result",
     "data": {
      "text/plain": "(4197, 3)"
     },
     "metadata": {},
     "execution_count": 34
    }
   ],
   "source": [
    "datos.shape"
   ]
  },
  {
   "cell_type": "code",
   "execution_count": 52,
   "metadata": {},
   "outputs": [],
   "source": [
    "datos_hash= datos_hash.replace(0,np.nan)"
   ]
  },
  {
   "cell_type": "code",
   "execution_count": 53,
   "metadata": {
    "tags": []
   },
   "outputs": [
    {
     "output_type": "stream",
     "name": "stdout",
     "text": "<class 'pandas.core.frame.DataFrame'>\nDatetimeIndex: 4205 entries, 2009-01-02 to 2020-07-07\nFreq: D\nData columns (total 1 columns):\n #   Column     Non-Null Count  Dtype  \n---  ------     --------------  -----  \n 0   hash-rate  1401 non-null   float64\ndtypes: float64(1)\nmemory usage: 65.7 KB\n"
    }
   ],
   "source": [
    "datos_hash.info()"
   ]
  },
  {
   "cell_type": "code",
   "execution_count": 47,
   "metadata": {},
   "outputs": [],
   "source": [
    "datos_hash[\"Timestamp\"]=pd.to_datetime(datos_hash[\"Timestamp\"])"
   ]
  },
  {
   "cell_type": "code",
   "execution_count": 54,
   "metadata": {},
   "outputs": [
    {
     "output_type": "execute_result",
     "data": {
      "text/plain": "                      hash-rate\nTimestamp                      \n2009-01-02 4.97102696296296e-08\n2009-01-03                  nan\n2009-01-04                  nan\n2009-01-05                  nan\n2009-01-06                  nan\n...                         ...\n2020-07-03                  nan\n2020-07-04 123,188,120.48863702\n2020-07-05                  nan\n2020-07-06                  nan\n2020-07-07 126,326,671.32911201\n\n[4205 rows x 1 columns]",
      "text/html": "<div>\n<style scoped>\n    .dataframe tbody tr th:only-of-type {\n        vertical-align: middle;\n    }\n\n    .dataframe tbody tr th {\n        vertical-align: top;\n    }\n\n    .dataframe thead th {\n        text-align: right;\n    }\n</style>\n<table border=\"1\" class=\"dataframe\">\n  <thead>\n    <tr style=\"text-align: right;\">\n      <th></th>\n      <th>hash-rate</th>\n    </tr>\n    <tr>\n      <th>Timestamp</th>\n      <th></th>\n    </tr>\n  </thead>\n  <tbody>\n    <tr>\n      <th>2009-01-02</th>\n      <td>4.97102696296296e-08</td>\n    </tr>\n    <tr>\n      <th>2009-01-03</th>\n      <td>nan</td>\n    </tr>\n    <tr>\n      <th>2009-01-04</th>\n      <td>nan</td>\n    </tr>\n    <tr>\n      <th>2009-01-05</th>\n      <td>nan</td>\n    </tr>\n    <tr>\n      <th>2009-01-06</th>\n      <td>nan</td>\n    </tr>\n    <tr>\n      <th>...</th>\n      <td>...</td>\n    </tr>\n    <tr>\n      <th>2020-07-03</th>\n      <td>nan</td>\n    </tr>\n    <tr>\n      <th>2020-07-04</th>\n      <td>123,188,120.48863702</td>\n    </tr>\n    <tr>\n      <th>2020-07-05</th>\n      <td>nan</td>\n    </tr>\n    <tr>\n      <th>2020-07-06</th>\n      <td>nan</td>\n    </tr>\n    <tr>\n      <th>2020-07-07</th>\n      <td>126,326,671.32911201</td>\n    </tr>\n  </tbody>\n</table>\n<p>4205 rows × 1 columns</p>\n</div>"
     },
     "metadata": {},
     "execution_count": 54
    }
   ],
   "source": [
    "datos_hash"
   ]
  },
  {
   "cell_type": "code",
   "execution_count": 50,
   "metadata": {},
   "outputs": [],
   "source": [
    "datos_hash=datos_hash.groupby(pd.Grouper(key=\"Timestamp\", freq = '1D'))[[\"hash-rate\"]].sum()"
   ]
  },
  {
   "cell_type": "code",
   "execution_count": 35,
   "metadata": {},
   "outputs": [],
   "source": [
    "datos_inner=pd.merge(datos, data_price, how = 'inner', on = 'Timestamp')"
   ]
  },
  {
   "cell_type": "code",
   "execution_count": 36,
   "metadata": {},
   "outputs": [
    {
     "output_type": "execute_result",
     "data": {
      "text/plain": "      Timestamp  Block Reward         Fee Reward       market-price\n0    2020-07-06         912.5          35.360644 9,160.996619224918\n1    2020-07-05      1,018.75 25.109559299999997 9,080.471295379935\n2    2020-07-04        981.25 31.870481280000003           9,072.42\n3    2020-07-03      1,018.75  53.78625541000005 9,101.928704620062\n4    2020-07-02       1,025.0 56.014036659999995  9,134.08338077508\n...         ...           ...                ...                ...\n4192 2009-01-13       6,150.0                0.0                nan\n4193 2009-01-12       4,700.0                0.0                nan\n4194 2009-01-11       4,650.0                0.0                nan\n4195 2009-01-10       3,050.0                0.0                nan\n4196 2009-01-09         700.0                0.0                nan\n\n[4197 rows x 4 columns]",
      "text/html": "<div>\n<style scoped>\n    .dataframe tbody tr th:only-of-type {\n        vertical-align: middle;\n    }\n\n    .dataframe tbody tr th {\n        vertical-align: top;\n    }\n\n    .dataframe thead th {\n        text-align: right;\n    }\n</style>\n<table border=\"1\" class=\"dataframe\">\n  <thead>\n    <tr style=\"text-align: right;\">\n      <th></th>\n      <th>Timestamp</th>\n      <th>Block Reward</th>\n      <th>Fee Reward</th>\n      <th>market-price</th>\n    </tr>\n  </thead>\n  <tbody>\n    <tr>\n      <th>0</th>\n      <td>2020-07-06</td>\n      <td>912.5</td>\n      <td>35.360644</td>\n      <td>9,160.996619224918</td>\n    </tr>\n    <tr>\n      <th>1</th>\n      <td>2020-07-05</td>\n      <td>1,018.75</td>\n      <td>25.109559299999997</td>\n      <td>9,080.471295379935</td>\n    </tr>\n    <tr>\n      <th>2</th>\n      <td>2020-07-04</td>\n      <td>981.25</td>\n      <td>31.870481280000003</td>\n      <td>9,072.42</td>\n    </tr>\n    <tr>\n      <th>3</th>\n      <td>2020-07-03</td>\n      <td>1,018.75</td>\n      <td>53.78625541000005</td>\n      <td>9,101.928704620062</td>\n    </tr>\n    <tr>\n      <th>4</th>\n      <td>2020-07-02</td>\n      <td>1,025.0</td>\n      <td>56.014036659999995</td>\n      <td>9,134.08338077508</td>\n    </tr>\n    <tr>\n      <th>...</th>\n      <td>...</td>\n      <td>...</td>\n      <td>...</td>\n      <td>...</td>\n    </tr>\n    <tr>\n      <th>4192</th>\n      <td>2009-01-13</td>\n      <td>6,150.0</td>\n      <td>0.0</td>\n      <td>nan</td>\n    </tr>\n    <tr>\n      <th>4193</th>\n      <td>2009-01-12</td>\n      <td>4,700.0</td>\n      <td>0.0</td>\n      <td>nan</td>\n    </tr>\n    <tr>\n      <th>4194</th>\n      <td>2009-01-11</td>\n      <td>4,650.0</td>\n      <td>0.0</td>\n      <td>nan</td>\n    </tr>\n    <tr>\n      <th>4195</th>\n      <td>2009-01-10</td>\n      <td>3,050.0</td>\n      <td>0.0</td>\n      <td>nan</td>\n    </tr>\n    <tr>\n      <th>4196</th>\n      <td>2009-01-09</td>\n      <td>700.0</td>\n      <td>0.0</td>\n      <td>nan</td>\n    </tr>\n  </tbody>\n</table>\n<p>4197 rows × 4 columns</p>\n</div>"
     },
     "metadata": {},
     "execution_count": 36
    }
   ],
   "source": [
    "datos_inner"
   ]
  },
  {
   "cell_type": "code",
   "execution_count": 41,
   "metadata": {},
   "outputs": [],
   "source": [
    "datos_inner=datos_inner.fillna(0)"
   ]
  },
  {
   "cell_type": "code",
   "execution_count": 42,
   "metadata": {},
   "outputs": [],
   "source": [
    "datos_inner[\"Total Reward USD\"]=(datos_inner[\"Block Reward\"]+datos_inner[\"Fee Reward\"])*datos_inner[\"market-price\"]"
   ]
  },
  {
   "cell_type": "code",
   "execution_count": 43,
   "metadata": {},
   "outputs": [
    {
     "output_type": "execute_result",
     "data": {
      "text/plain": "      Timestamp  Block Reward         Fee Reward       market-price  \\\n0    2020-07-06         912.5          35.360644 9,160.996619224918   \n1    2020-07-05      1,018.75 25.109559299999997 9,080.471295379935   \n2    2020-07-04        981.25 31.870481280000003           9,072.42   \n3    2020-07-03      1,018.75  53.78625541000005 9,101.928704620062   \n4    2020-07-02       1,025.0 56.014036659999995  9,134.08338077508   \n...         ...           ...                ...                ...   \n4192 2009-01-13       6,150.0                0.0                0.0   \n4193 2009-01-12       4,700.0                0.0                0.0   \n4194 2009-01-11       4,650.0                0.0                0.0   \n4195 2009-01-10       3,050.0                0.0                0.0   \n4196 2009-01-09         700.0                0.0                0.0   \n\n        Total Reward USD  \n0    8,683,348.155180354  \n1      9,478,736.7646316  \n2    9,191,454.516774299  \n3    9,762,148.529861994  \n4    9,874,072.346640691  \n...                  ...  \n4192                 0.0  \n4193                 0.0  \n4194                 0.0  \n4195                 0.0  \n4196                 0.0  \n\n[4197 rows x 5 columns]",
      "text/html": "<div>\n<style scoped>\n    .dataframe tbody tr th:only-of-type {\n        vertical-align: middle;\n    }\n\n    .dataframe tbody tr th {\n        vertical-align: top;\n    }\n\n    .dataframe thead th {\n        text-align: right;\n    }\n</style>\n<table border=\"1\" class=\"dataframe\">\n  <thead>\n    <tr style=\"text-align: right;\">\n      <th></th>\n      <th>Timestamp</th>\n      <th>Block Reward</th>\n      <th>Fee Reward</th>\n      <th>market-price</th>\n      <th>Total Reward USD</th>\n    </tr>\n  </thead>\n  <tbody>\n    <tr>\n      <th>0</th>\n      <td>2020-07-06</td>\n      <td>912.5</td>\n      <td>35.360644</td>\n      <td>9,160.996619224918</td>\n      <td>8,683,348.155180354</td>\n    </tr>\n    <tr>\n      <th>1</th>\n      <td>2020-07-05</td>\n      <td>1,018.75</td>\n      <td>25.109559299999997</td>\n      <td>9,080.471295379935</td>\n      <td>9,478,736.7646316</td>\n    </tr>\n    <tr>\n      <th>2</th>\n      <td>2020-07-04</td>\n      <td>981.25</td>\n      <td>31.870481280000003</td>\n      <td>9,072.42</td>\n      <td>9,191,454.516774299</td>\n    </tr>\n    <tr>\n      <th>3</th>\n      <td>2020-07-03</td>\n      <td>1,018.75</td>\n      <td>53.78625541000005</td>\n      <td>9,101.928704620062</td>\n      <td>9,762,148.529861994</td>\n    </tr>\n    <tr>\n      <th>4</th>\n      <td>2020-07-02</td>\n      <td>1,025.0</td>\n      <td>56.014036659999995</td>\n      <td>9,134.08338077508</td>\n      <td>9,874,072.346640691</td>\n    </tr>\n    <tr>\n      <th>...</th>\n      <td>...</td>\n      <td>...</td>\n      <td>...</td>\n      <td>...</td>\n      <td>...</td>\n    </tr>\n    <tr>\n      <th>4192</th>\n      <td>2009-01-13</td>\n      <td>6,150.0</td>\n      <td>0.0</td>\n      <td>0.0</td>\n      <td>0.0</td>\n    </tr>\n    <tr>\n      <th>4193</th>\n      <td>2009-01-12</td>\n      <td>4,700.0</td>\n      <td>0.0</td>\n      <td>0.0</td>\n      <td>0.0</td>\n    </tr>\n    <tr>\n      <th>4194</th>\n      <td>2009-01-11</td>\n      <td>4,650.0</td>\n      <td>0.0</td>\n      <td>0.0</td>\n      <td>0.0</td>\n    </tr>\n    <tr>\n      <th>4195</th>\n      <td>2009-01-10</td>\n      <td>3,050.0</td>\n      <td>0.0</td>\n      <td>0.0</td>\n      <td>0.0</td>\n    </tr>\n    <tr>\n      <th>4196</th>\n      <td>2009-01-09</td>\n      <td>700.0</td>\n      <td>0.0</td>\n      <td>0.0</td>\n      <td>0.0</td>\n    </tr>\n  </tbody>\n</table>\n<p>4197 rows × 5 columns</p>\n</div>"
     },
     "metadata": {},
     "execution_count": 43
    }
   ],
   "source": [
    "datos_inner"
   ]
  },
  {
   "cell_type": "code",
   "execution_count": 56,
   "metadata": {},
   "outputs": [],
   "source": [
    "datos_hash=datos_hash.interpolate()"
   ]
  },
  {
   "cell_type": "code",
   "execution_count": 57,
   "metadata": {},
   "outputs": [],
   "source": [
    "datos_inner.to_csv(\"datos_casi.csv\")"
   ]
  },
  {
   "cell_type": "code",
   "execution_count": 61,
   "metadata": {},
   "outputs": [],
   "source": [
    "datos_hash=datos_hash.reset_index()"
   ]
  },
  {
   "cell_type": "code",
   "execution_count": 62,
   "metadata": {},
   "outputs": [
    {
     "output_type": "execute_result",
     "data": {
      "text/plain": "      Timestamp              hash-rate\n0    2009-01-02   4.97102696296296e-08\n1    2009-01-03 1.5741585382716053e-07\n2    2009-01-04 2.6512143802469144e-07\n3    2009-01-05 3.7282702222222236e-07\n4    2009-01-06  4.805326064197532e-07\n...         ...                    ...\n4200 2020-07-03   124,495,850.00550167\n4201 2020-07-04   123,188,120.48863702\n4202 2020-07-05   124,234,304.10212868\n4203 2020-07-06   125,280,487.71562034\n4204 2020-07-07   126,326,671.32911201\n\n[4205 rows x 2 columns]",
      "text/html": "<div>\n<style scoped>\n    .dataframe tbody tr th:only-of-type {\n        vertical-align: middle;\n    }\n\n    .dataframe tbody tr th {\n        vertical-align: top;\n    }\n\n    .dataframe thead th {\n        text-align: right;\n    }\n</style>\n<table border=\"1\" class=\"dataframe\">\n  <thead>\n    <tr style=\"text-align: right;\">\n      <th></th>\n      <th>Timestamp</th>\n      <th>hash-rate</th>\n    </tr>\n  </thead>\n  <tbody>\n    <tr>\n      <th>0</th>\n      <td>2009-01-02</td>\n      <td>4.97102696296296e-08</td>\n    </tr>\n    <tr>\n      <th>1</th>\n      <td>2009-01-03</td>\n      <td>1.5741585382716053e-07</td>\n    </tr>\n    <tr>\n      <th>2</th>\n      <td>2009-01-04</td>\n      <td>2.6512143802469144e-07</td>\n    </tr>\n    <tr>\n      <th>3</th>\n      <td>2009-01-05</td>\n      <td>3.7282702222222236e-07</td>\n    </tr>\n    <tr>\n      <th>4</th>\n      <td>2009-01-06</td>\n      <td>4.805326064197532e-07</td>\n    </tr>\n    <tr>\n      <th>...</th>\n      <td>...</td>\n      <td>...</td>\n    </tr>\n    <tr>\n      <th>4200</th>\n      <td>2020-07-03</td>\n      <td>124,495,850.00550167</td>\n    </tr>\n    <tr>\n      <th>4201</th>\n      <td>2020-07-04</td>\n      <td>123,188,120.48863702</td>\n    </tr>\n    <tr>\n      <th>4202</th>\n      <td>2020-07-05</td>\n      <td>124,234,304.10212868</td>\n    </tr>\n    <tr>\n      <th>4203</th>\n      <td>2020-07-06</td>\n      <td>125,280,487.71562034</td>\n    </tr>\n    <tr>\n      <th>4204</th>\n      <td>2020-07-07</td>\n      <td>126,326,671.32911201</td>\n    </tr>\n  </tbody>\n</table>\n<p>4205 rows × 2 columns</p>\n</div>"
     },
     "metadata": {},
     "execution_count": 62
    }
   ],
   "source": [
    "datos_hash"
   ]
  },
  {
   "cell_type": "code",
   "execution_count": 63,
   "metadata": {},
   "outputs": [],
   "source": [
    "data=pd.merge(datos_inner, datos_hash, how = 'inner', on = 'Timestamp')"
   ]
  },
  {
   "cell_type": "code",
   "execution_count": 64,
   "metadata": {},
   "outputs": [
    {
     "output_type": "execute_result",
     "data": {
      "text/plain": "      Timestamp  Block Reward         Fee Reward       market-price  \\\n0    2020-07-06         912.5          35.360644 9,160.996619224918   \n1    2020-07-05      1,018.75 25.109559299999997 9,080.471295379935   \n2    2020-07-04        981.25 31.870481280000003           9,072.42   \n3    2020-07-03      1,018.75  53.78625541000005 9,101.928704620062   \n4    2020-07-02       1,025.0 56.014036659999995  9,134.08338077508   \n...         ...           ...                ...                ...   \n4192 2009-01-13       6,150.0                0.0                0.0   \n4193 2009-01-12       4,700.0                0.0                0.0   \n4194 2009-01-11       4,650.0                0.0                0.0   \n4195 2009-01-10       3,050.0                0.0                0.0   \n4196 2009-01-09         700.0                0.0                0.0   \n\n        Total Reward USD              hash-rate  \n0    8,683,348.155180354   125,280,487.71562034  \n1      9,478,736.7646316   124,234,304.10212868  \n2    9,191,454.516774299   123,188,120.48863702  \n3    9,762,148.529861994   124,495,850.00550167  \n4    9,874,072.346640691   125,803,579.52236634  \n...                  ...                    ...  \n4192                 0.0   5.68354082765432e-06  \n4193                 0.0   5.05387741234568e-06  \n4194                 0.0   4.42421399703704e-06  \n4195                 0.0  3.181457256296298e-06  \n4196                 0.0 1.9387005155555567e-06  \n\n[4197 rows x 6 columns]",
      "text/html": "<div>\n<style scoped>\n    .dataframe tbody tr th:only-of-type {\n        vertical-align: middle;\n    }\n\n    .dataframe tbody tr th {\n        vertical-align: top;\n    }\n\n    .dataframe thead th {\n        text-align: right;\n    }\n</style>\n<table border=\"1\" class=\"dataframe\">\n  <thead>\n    <tr style=\"text-align: right;\">\n      <th></th>\n      <th>Timestamp</th>\n      <th>Block Reward</th>\n      <th>Fee Reward</th>\n      <th>market-price</th>\n      <th>Total Reward USD</th>\n      <th>hash-rate</th>\n    </tr>\n  </thead>\n  <tbody>\n    <tr>\n      <th>0</th>\n      <td>2020-07-06</td>\n      <td>912.5</td>\n      <td>35.360644</td>\n      <td>9,160.996619224918</td>\n      <td>8,683,348.155180354</td>\n      <td>125,280,487.71562034</td>\n    </tr>\n    <tr>\n      <th>1</th>\n      <td>2020-07-05</td>\n      <td>1,018.75</td>\n      <td>25.109559299999997</td>\n      <td>9,080.471295379935</td>\n      <td>9,478,736.7646316</td>\n      <td>124,234,304.10212868</td>\n    </tr>\n    <tr>\n      <th>2</th>\n      <td>2020-07-04</td>\n      <td>981.25</td>\n      <td>31.870481280000003</td>\n      <td>9,072.42</td>\n      <td>9,191,454.516774299</td>\n      <td>123,188,120.48863702</td>\n    </tr>\n    <tr>\n      <th>3</th>\n      <td>2020-07-03</td>\n      <td>1,018.75</td>\n      <td>53.78625541000005</td>\n      <td>9,101.928704620062</td>\n      <td>9,762,148.529861994</td>\n      <td>124,495,850.00550167</td>\n    </tr>\n    <tr>\n      <th>4</th>\n      <td>2020-07-02</td>\n      <td>1,025.0</td>\n      <td>56.014036659999995</td>\n      <td>9,134.08338077508</td>\n      <td>9,874,072.346640691</td>\n      <td>125,803,579.52236634</td>\n    </tr>\n    <tr>\n      <th>...</th>\n      <td>...</td>\n      <td>...</td>\n      <td>...</td>\n      <td>...</td>\n      <td>...</td>\n      <td>...</td>\n    </tr>\n    <tr>\n      <th>4192</th>\n      <td>2009-01-13</td>\n      <td>6,150.0</td>\n      <td>0.0</td>\n      <td>0.0</td>\n      <td>0.0</td>\n      <td>5.68354082765432e-06</td>\n    </tr>\n    <tr>\n      <th>4193</th>\n      <td>2009-01-12</td>\n      <td>4,700.0</td>\n      <td>0.0</td>\n      <td>0.0</td>\n      <td>0.0</td>\n      <td>5.05387741234568e-06</td>\n    </tr>\n    <tr>\n      <th>4194</th>\n      <td>2009-01-11</td>\n      <td>4,650.0</td>\n      <td>0.0</td>\n      <td>0.0</td>\n      <td>0.0</td>\n      <td>4.42421399703704e-06</td>\n    </tr>\n    <tr>\n      <th>4195</th>\n      <td>2009-01-10</td>\n      <td>3,050.0</td>\n      <td>0.0</td>\n      <td>0.0</td>\n      <td>0.0</td>\n      <td>3.181457256296298e-06</td>\n    </tr>\n    <tr>\n      <th>4196</th>\n      <td>2009-01-09</td>\n      <td>700.0</td>\n      <td>0.0</td>\n      <td>0.0</td>\n      <td>0.0</td>\n      <td>1.9387005155555567e-06</td>\n    </tr>\n  </tbody>\n</table>\n<p>4197 rows × 6 columns</p>\n</div>"
     },
     "metadata": {},
     "execution_count": 64
    }
   ],
   "source": [
    "data"
   ]
  },
  {
   "cell_type": "code",
   "execution_count": 65,
   "metadata": {},
   "outputs": [],
   "source": [
    "data.to_csv(\"datos_casi.csv\")"
   ]
  },
  {
   "cell_type": "code",
   "execution_count": 66,
   "metadata": {},
   "outputs": [],
   "source": [
    "#Incorporando la cantidad de transacciones\n"
   ]
  },
  {
   "cell_type": "code",
   "execution_count": null,
   "metadata": {},
   "outputs": [],
   "source": []
  }
 ],
 "metadata": {
  "language_info": {
   "codemirror_mode": {
    "name": "ipython",
    "version": 3
   },
   "file_extension": ".py",
   "mimetype": "text/x-python",
   "name": "python",
   "nbconvert_exporter": "python",
   "pygments_lexer": "ipython3",
   "version": "3.6.5-final"
  },
  "orig_nbformat": 2,
  "kernelspec": {
   "name": "python36564bit753ec109e5a9400fa66ff5f7b20aefb6",
   "display_name": "Python 3.6.5 64-bit"
  }
 },
 "nbformat": 4,
 "nbformat_minor": 2
}