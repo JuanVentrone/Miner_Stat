{
 "metadata": {
  "language_info": {
   "codemirror_mode": {
    "name": "ipython",
    "version": 3
   },
   "file_extension": ".py",
   "mimetype": "text/x-python",
   "name": "python",
   "nbconvert_exporter": "python",
   "pygments_lexer": "ipython3",
   "version": "3.7.3-final"
  },
  "orig_nbformat": 2,
  "kernelspec": {
   "name": "python37364bitbaseconda0e883509fb914b28935ee363f9f0181b",
   "display_name": "Python 3.7.3 64-bit ('base': conda)"
  }
 },
 "nbformat": 4,
 "nbformat_minor": 2,
 "cells": [
  {
   "cell_type": "code",
   "execution_count": 13,
   "metadata": {},
   "outputs": [],
   "source": [
    "import urllib, json\n",
    "import requests\n",
    "import pandas as pd\n",
    "import math\n",
    "from bs4 import BeautifulSoup\n",
    "\n",
    "\n",
    "def blockchain_stats():\n",
    "\n",
    "    # Español\n",
    "    # Informacion En estadistica del Blockchain\n",
    "\n",
    "    # English \n",
    "    # Info Blockchain Stats\n",
    "\n",
    "    url_pool = \"https://api.blockchain.info/stats\"\n",
    "    r = requests.get( url_pool )\n",
    "    datos_varios = r.json()\n",
    "    \n",
    "    return datos_varios\n",
    "\n",
    "def country_price(country):\n",
    "    \n",
    "\n",
    "    data = pd.read_csv(\"country_model_dataset.csv\")\n",
    "    data = data[data[\"Country\"] == country ]\n",
    "    data = data[['Country','Model','M.B.C USD','Power Consumtion','TH/s','BTC Profit']]\n",
    "                 \n",
    "    json = blockchain_stats() \n",
    "    market_price=json.get(\"market_price_usd\")\n",
    "\n",
    "    data[\"USD Profit\"] = data[\"BTC Profit\"].apply(lambda x: (x*market_price) )\n",
    "    data[\"Real Profit %\"] = ((data[\"USD Profit\"]-data[\"M.B.C USD\"])/data[\"USD Profit\"])*100\n",
    "\n",
    "    return data"
   ]
  },
  {
   "cell_type": "code",
   "execution_count": 14,
   "metadata": {},
   "outputs": [],
   "source": [
    "data_country=country_price(\"Bolivia\")"
   ]
  },
  {
   "cell_type": "code",
   "execution_count": 15,
   "metadata": {},
   "outputs": [],
   "source": [
    "data_country.to_csv(\"Bolivia_Profit.csv\")"
   ]
  },
  {
   "cell_type": "code",
   "execution_count": null,
   "metadata": {},
   "outputs": [],
   "source": []
  }
 ]
}