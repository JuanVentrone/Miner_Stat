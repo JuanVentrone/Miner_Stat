{
 "cells": [
  {
   "cell_type": "code",
   "execution_count": 1,
   "metadata": {},
   "outputs": [],
   "source": [
    "import pandas as pd\n",
    "import requests\n"
   ]
  },
  {
   "cell_type": "code",
   "execution_count": 2,
   "metadata": {},
   "outputs": [],
   "source": [
    "\n",
    "def blockchain_stats():\n",
    "\n",
    "    # Español\n",
    "    # Informacion En estadistica del Blockchain\n",
    "\n",
    "    # English \n",
    "    # Info Blockchain Stats\n",
    "\n",
    "    url_pool= \"https://api.blockchain.info/stats\"\n",
    "    r = requests.get(url_pool)\n",
    "    datos_varios=r.json()\n",
    "    \n",
    "    return datos_varios"
   ]
  },
  {
   "cell_type": "code",
   "execution_count": 3,
   "metadata": {},
   "outputs": [],
   "source": [
    "stats=blockchain_stats()"
   ]
  },
  {
   "cell_type": "code",
   "execution_count": 12,
   "metadata": {},
   "outputs": [
    {
     "output_type": "execute_result",
     "data": {
      "text/plain": "{'timestamp': 1595028295000.0,\n 'market_price_usd': 9159.94,\n 'hash_rate': 102610343656.71031,\n 'total_fees_btc': 7792628502,\n 'n_btc_mined': 74375000000,\n 'n_tx': 295730,\n 'n_blocks_mined': 119,\n 'minutes_between_blocks': 11.6186,\n 'totalbc': 1843548750000000,\n 'n_blocks_total': 639678,\n 'estimated_transaction_volume_usd': 1107450734.9188468,\n 'blocks_size': 150421264,\n 'miners_revenue_usd': 7526505.470206102,\n 'nextretarget': 641087,\n 'difficulty': 17345948872516,\n 'estimated_btc_sent': 12090152718455,\n 'miners_revenue_btc': 821,\n 'total_btc_sent': 86858736672515,\n 'trade_volume_btc': 5613.51,\n 'trade_volume_usd': 51419414.789400004}"
     },
     "metadata": {},
     "execution_count": 12
    }
   ],
   "source": [
    "stats"
   ]
  },
  {
   "cell_type": "code",
   "execution_count": 4,
   "metadata": {},
   "outputs": [],
   "source": [
    "data_rewards=pd.read_csv(\"history_data_miners_rewards.csv\")"
   ]
  },
  {
   "cell_type": "code",
   "execution_count": 16,
   "metadata": {},
   "outputs": [
    {
     "output_type": "execute_result",
     "data": {
      "text/plain": "      Unnamed: 0   Timestamp  Block Reward  Fee Reward  market-price  \\\n0              0  2020-07-06        912.50   35.360644   9160.996619   \n1              1  2020-07-05       1018.75   25.109559   9080.471295   \n2              2  2020-07-04        981.25   31.870481   9072.420000   \n3              3  2020-07-03       1018.75   53.786255   9101.928705   \n4              4  2020-07-02       1025.00   56.014037   9134.083381   \n...          ...         ...           ...         ...           ...   \n4192        4192  2009-01-13       6150.00    0.000000      0.000000   \n4193        4193  2009-01-12       4700.00    0.000000      0.000000   \n4194        4194  2009-01-11       4650.00    0.000000      0.000000   \n4195        4195  2009-01-10       3050.00    0.000000      0.000000   \n4196        4196  2009-01-09        700.00    0.000000      0.000000   \n\n      Total Reward USD     hash-rate  Number of Transactions  TH/s Rewards USD  \n0         8.683348e+06  1.252805e+08                319444.0          0.069311  \n1         9.478737e+06  1.242343e+08                274104.0          0.076297  \n2         9.191455e+06  1.231881e+08                288647.0          0.074613  \n3         9.762149e+06  1.244959e+08                331009.0          0.078413  \n4         9.874072e+06  1.258036e+08                339469.0          0.078488  \n...                ...           ...                     ...               ...  \n4192      0.000000e+00  5.683541e-06                     0.0          0.000000  \n4193      0.000000e+00  5.053877e-06                     0.0          0.000000  \n4194      0.000000e+00  4.424214e-06                     0.0          0.000000  \n4195      0.000000e+00  3.181457e-06                     0.0          0.000000  \n4196      0.000000e+00  1.938701e-06                     0.0          0.000000  \n\n[4197 rows x 9 columns]",
      "text/html": "<div>\n<style scoped>\n    .dataframe tbody tr th:only-of-type {\n        vertical-align: middle;\n    }\n\n    .dataframe tbody tr th {\n        vertical-align: top;\n    }\n\n    .dataframe thead th {\n        text-align: right;\n    }\n</style>\n<table border=\"1\" class=\"dataframe\">\n  <thead>\n    <tr style=\"text-align: right;\">\n      <th></th>\n      <th>Unnamed: 0</th>\n      <th>Timestamp</th>\n      <th>Block Reward</th>\n      <th>Fee Reward</th>\n      <th>market-price</th>\n      <th>Total Reward USD</th>\n      <th>hash-rate</th>\n      <th>Number of Transactions</th>\n      <th>TH/s Rewards USD</th>\n    </tr>\n  </thead>\n  <tbody>\n    <tr>\n      <th>0</th>\n      <td>0</td>\n      <td>2020-07-06</td>\n      <td>912.50</td>\n      <td>35.360644</td>\n      <td>9160.996619</td>\n      <td>8.683348e+06</td>\n      <td>1.252805e+08</td>\n      <td>319444.0</td>\n      <td>0.069311</td>\n    </tr>\n    <tr>\n      <th>1</th>\n      <td>1</td>\n      <td>2020-07-05</td>\n      <td>1018.75</td>\n      <td>25.109559</td>\n      <td>9080.471295</td>\n      <td>9.478737e+06</td>\n      <td>1.242343e+08</td>\n      <td>274104.0</td>\n      <td>0.076297</td>\n    </tr>\n    <tr>\n      <th>2</th>\n      <td>2</td>\n      <td>2020-07-04</td>\n      <td>981.25</td>\n      <td>31.870481</td>\n      <td>9072.420000</td>\n      <td>9.191455e+06</td>\n      <td>1.231881e+08</td>\n      <td>288647.0</td>\n      <td>0.074613</td>\n    </tr>\n    <tr>\n      <th>3</th>\n      <td>3</td>\n      <td>2020-07-03</td>\n      <td>1018.75</td>\n      <td>53.786255</td>\n      <td>9101.928705</td>\n      <td>9.762149e+06</td>\n      <td>1.244959e+08</td>\n      <td>331009.0</td>\n      <td>0.078413</td>\n    </tr>\n    <tr>\n      <th>4</th>\n      <td>4</td>\n      <td>2020-07-02</td>\n      <td>1025.00</td>\n      <td>56.014037</td>\n      <td>9134.083381</td>\n      <td>9.874072e+06</td>\n      <td>1.258036e+08</td>\n      <td>339469.0</td>\n      <td>0.078488</td>\n    </tr>\n    <tr>\n      <th>...</th>\n      <td>...</td>\n      <td>...</td>\n      <td>...</td>\n      <td>...</td>\n      <td>...</td>\n      <td>...</td>\n      <td>...</td>\n      <td>...</td>\n      <td>...</td>\n    </tr>\n    <tr>\n      <th>4192</th>\n      <td>4192</td>\n      <td>2009-01-13</td>\n      <td>6150.00</td>\n      <td>0.000000</td>\n      <td>0.000000</td>\n      <td>0.000000e+00</td>\n      <td>5.683541e-06</td>\n      <td>0.0</td>\n      <td>0.000000</td>\n    </tr>\n    <tr>\n      <th>4193</th>\n      <td>4193</td>\n      <td>2009-01-12</td>\n      <td>4700.00</td>\n      <td>0.000000</td>\n      <td>0.000000</td>\n      <td>0.000000e+00</td>\n      <td>5.053877e-06</td>\n      <td>0.0</td>\n      <td>0.000000</td>\n    </tr>\n    <tr>\n      <th>4194</th>\n      <td>4194</td>\n      <td>2009-01-11</td>\n      <td>4650.00</td>\n      <td>0.000000</td>\n      <td>0.000000</td>\n      <td>0.000000e+00</td>\n      <td>4.424214e-06</td>\n      <td>0.0</td>\n      <td>0.000000</td>\n    </tr>\n    <tr>\n      <th>4195</th>\n      <td>4195</td>\n      <td>2009-01-10</td>\n      <td>3050.00</td>\n      <td>0.000000</td>\n      <td>0.000000</td>\n      <td>0.000000e+00</td>\n      <td>3.181457e-06</td>\n      <td>0.0</td>\n      <td>0.000000</td>\n    </tr>\n    <tr>\n      <th>4196</th>\n      <td>4196</td>\n      <td>2009-01-09</td>\n      <td>700.00</td>\n      <td>0.000000</td>\n      <td>0.000000</td>\n      <td>0.000000e+00</td>\n      <td>1.938701e-06</td>\n      <td>0.0</td>\n      <td>0.000000</td>\n    </tr>\n  </tbody>\n</table>\n<p>4197 rows × 9 columns</p>\n</div>"
     },
     "metadata": {},
     "execution_count": 16
    }
   ],
   "source": [
    "data_rewards"
   ]
  },
  {
   "cell_type": "code",
   "execution_count": 5,
   "metadata": {},
   "outputs": [],
   "source": [
    "data_elec=pd.read_csv(\"../../blockchain data\\costo_electrico.csv\")"
   ]
  },
  {
   "cell_type": "code",
   "execution_count": 159,
   "metadata": {},
   "outputs": [],
   "source": [
    "data_model=pd.read_csv(\"../../blockchain data/models_prices_th.csv\")"
   ]
  },
  {
   "cell_type": "code",
   "execution_count": 49,
   "metadata": {},
   "outputs": [
    {
     "output_type": "execute_result",
     "data": {
      "text/plain": "   Unnamed: 0 Countrys  (Kw/h) USD\n8           8     Irak        0.02",
      "text/html": "<div>\n<style scoped>\n    .dataframe tbody tr th:only-of-type {\n        vertical-align: middle;\n    }\n\n    .dataframe tbody tr th {\n        vertical-align: top;\n    }\n\n    .dataframe thead th {\n        text-align: right;\n    }\n</style>\n<table border=\"1\" class=\"dataframe\">\n  <thead>\n    <tr style=\"text-align: right;\">\n      <th></th>\n      <th>Unnamed: 0</th>\n      <th>Countrys</th>\n      <th>(Kw/h) USD</th>\n    </tr>\n  </thead>\n  <tbody>\n    <tr>\n      <th>8</th>\n      <td>8</td>\n      <td>Irak</td>\n      <td>0.02</td>\n    </tr>\n  </tbody>\n</table>\n</div>"
     },
     "metadata": {},
     "execution_count": 49
    }
   ],
   "source": [
    "data_elec.loc[data_elec[\"Countrys\"]==\"Irak\"]"
   ]
  },
  {
   "cell_type": "code",
   "execution_count": 20,
   "metadata": {},
   "outputs": [
    {
     "output_type": "execute_result",
     "data": {
      "text/plain": "                    Models    Price  Power Consumtion  TH/s\n0  Antminer S19 Pro 110TH/s  2407.0              3250   110\n1    Antminer S19 - 95TH/s   1785.0              3250    95\n2     Antminer T17+ 58TH/s    817.0              2900    58\n3    Antminer T19 - 84TH/s   1749.0              3150    84\n4     Antminer S17e-60TH/s    799.0              2700    60\n5     Antminer S17+ 70TH/s   1232.0              2800    70\n6    Antminer S9 SE-16TH/s     95.0              1280    16\n7    Antminer S9k-13.5TH/s     63.0              1148    14\n8      INNOSILICON T2T-29T    499.0              2200    29",
      "text/html": "<div>\n<style scoped>\n    .dataframe tbody tr th:only-of-type {\n        vertical-align: middle;\n    }\n\n    .dataframe tbody tr th {\n        vertical-align: top;\n    }\n\n    .dataframe thead th {\n        text-align: right;\n    }\n</style>\n<table border=\"1\" class=\"dataframe\">\n  <thead>\n    <tr style=\"text-align: right;\">\n      <th></th>\n      <th>Models</th>\n      <th>Price</th>\n      <th>Power Consumtion</th>\n      <th>TH/s</th>\n    </tr>\n  </thead>\n  <tbody>\n    <tr>\n      <th>0</th>\n      <td>Antminer S19 Pro 110TH/s</td>\n      <td>2407.0</td>\n      <td>3250</td>\n      <td>110</td>\n    </tr>\n    <tr>\n      <th>1</th>\n      <td>Antminer S19 - 95TH/s</td>\n      <td>1785.0</td>\n      <td>3250</td>\n      <td>95</td>\n    </tr>\n    <tr>\n      <th>2</th>\n      <td>Antminer T17+ 58TH/s</td>\n      <td>817.0</td>\n      <td>2900</td>\n      <td>58</td>\n    </tr>\n    <tr>\n      <th>3</th>\n      <td>Antminer T19 - 84TH/s</td>\n      <td>1749.0</td>\n      <td>3150</td>\n      <td>84</td>\n    </tr>\n    <tr>\n      <th>4</th>\n      <td>Antminer S17e-60TH/s</td>\n      <td>799.0</td>\n      <td>2700</td>\n      <td>60</td>\n    </tr>\n    <tr>\n      <th>5</th>\n      <td>Antminer S17+ 70TH/s</td>\n      <td>1232.0</td>\n      <td>2800</td>\n      <td>70</td>\n    </tr>\n    <tr>\n      <th>6</th>\n      <td>Antminer S9 SE-16TH/s</td>\n      <td>95.0</td>\n      <td>1280</td>\n      <td>16</td>\n    </tr>\n    <tr>\n      <th>7</th>\n      <td>Antminer S9k-13.5TH/s</td>\n      <td>63.0</td>\n      <td>1148</td>\n      <td>14</td>\n    </tr>\n    <tr>\n      <th>8</th>\n      <td>INNOSILICON T2T-29T</td>\n      <td>499.0</td>\n      <td>2200</td>\n      <td>29</td>\n    </tr>\n  </tbody>\n</table>\n</div>"
     },
     "metadata": {},
     "execution_count": 20
    }
   ],
   "source": [
    "data_model"
   ]
  },
  {
   "cell_type": "code",
   "execution_count": 53,
   "metadata": {},
   "outputs": [],
   "source": [
    "def watt(power,cost):\n",
    "    y=(((power/1000)*24*365)/12)*cost\n",
    "    return y"
   ]
  },
  {
   "cell_type": "code",
   "execution_count": 23,
   "metadata": {},
   "outputs": [],
   "source": [
    "paises=list(data_elec[\"Countrys\"])"
   ]
  },
  {
   "cell_type": "code",
   "execution_count": 25,
   "metadata": {},
   "outputs": [],
   "source": [
    "costo_paises=list(data_elec[\"(Kw/h) USD\"])"
   ]
  },
  {
   "cell_type": "code",
   "execution_count": 58,
   "metadata": {},
   "outputs": [],
   "source": [
    "lista_data=[]\n",
    "temp={}\n",
    "for i in range(len(paises)):\n",
    "    temp[\"Monthly Electricity Bill\"]=data_model[\"Power Consumtion\"].apply(watt,cost=costo_paises[i])\n",
    "    lista_data.append(temp)\n",
    "    # for i in range(9):\n",
    "    #     lista_data[\"Country\"]=paises[i]\n"
   ]
  },
  {
   "cell_type": "code",
   "execution_count": 61,
   "metadata": {},
   "outputs": [
    {
     "output_type": "execute_result",
     "data": {
      "text/plain": "True"
     },
     "metadata": {},
     "execution_count": 61
    }
   ],
   "source": [
    "len(costo_paises)==len(paises)"
   ]
  },
  {
   "cell_type": "code",
   "execution_count": 43,
   "metadata": {},
   "outputs": [
    {
     "output_type": "execute_result",
     "data": {
      "text/plain": "                                          0                       1  \\\nModels             Antminer S19 Pro 110TH/s  Antminer S19 - 95TH/s    \nPrice                                  2407                    1785   \nPower Consumtion                       3250                    3250   \nTH/s                                    110                      95   \nVenezuela                            6.1685                  6.1685   \n...                                     ...                     ...   \nAlemania                              854.1                   854.1   \nRumanía                                 949                     949   \nSan Marino                              949                     949   \nMalta                                   949                     949   \nAntigua y Barbuda                    1043.9                  1043.9   \n\n                                       2                       3  \\\nModels             Antminer T17+ 58TH/s   Antminer T19 - 84TH/s    \nPrice                                817                    1749   \nPower Consumtion                    2900                    3150   \nTH/s                                  58                      84   \nVenezuela                         5.5042                  5.9787   \n...                                  ...                     ...   \nAlemania                          762.12                  827.82   \nRumanía                            846.8                   919.8   \nSan Marino                         846.8                   919.8   \nMalta                              846.8                   919.8   \nAntigua y Barbuda                 931.48                 1011.78   \n\n                                       4                      5  \\\nModels             Antminer S17e-60TH/s   Antminer S17+ 70TH/s    \nPrice                                799                   1232   \nPower Consumtion                    2700                   2800   \nTH/s                                  60                     70   \nVenezuela                         5.1246                 5.3144   \n...                                  ...                    ...   \nAlemania                          709.56                 735.84   \nRumanía                            788.4                  817.6   \nSan Marino                         788.4                  817.6   \nMalta                              788.4                  817.6   \nAntigua y Barbuda                 867.24                 899.36   \n\n                                        6                       7  \\\nModels             Antminer S9 SE-16TH/s   Antminer S9k-13.5TH/s    \nPrice                                  95                      63   \nPower Consumtion                     1280                    1148   \nTH/s                                   16                      14   \nVenezuela                         2.42944                  2.1789   \n...                                   ...                     ...   \nAlemania                          336.384                 301.694   \nRumanía                            373.76                 335.216   \nSan Marino                         373.76                 335.216   \nMalta                              373.76                 335.216   \nAntigua y Barbuda                 411.136                 368.738   \n\n                                      8  \nModels             INNOSILICON T2T-29T   \nPrice                               499  \nPower Consumtion                   2200  \nTH/s                                 29  \nVenezuela                        4.1756  \n...                                 ...  \nAlemania                         578.16  \nRumanía                           642.4  \nSan Marino                        642.4  \nMalta                             642.4  \nAntigua y Barbuda                706.64  \n\n[135 rows x 9 columns]",
      "text/html": "<div>\n<style scoped>\n    .dataframe tbody tr th:only-of-type {\n        vertical-align: middle;\n    }\n\n    .dataframe tbody tr th {\n        vertical-align: top;\n    }\n\n    .dataframe thead th {\n        text-align: right;\n    }\n</style>\n<table border=\"1\" class=\"dataframe\">\n  <thead>\n    <tr style=\"text-align: right;\">\n      <th></th>\n      <th>0</th>\n      <th>1</th>\n      <th>2</th>\n      <th>3</th>\n      <th>4</th>\n      <th>5</th>\n      <th>6</th>\n      <th>7</th>\n      <th>8</th>\n    </tr>\n  </thead>\n  <tbody>\n    <tr>\n      <th>Models</th>\n      <td>Antminer S19 Pro 110TH/s</td>\n      <td>Antminer S19 - 95TH/s</td>\n      <td>Antminer T17+ 58TH/s</td>\n      <td>Antminer T19 - 84TH/s</td>\n      <td>Antminer S17e-60TH/s</td>\n      <td>Antminer S17+ 70TH/s</td>\n      <td>Antminer S9 SE-16TH/s</td>\n      <td>Antminer S9k-13.5TH/s</td>\n      <td>INNOSILICON T2T-29T</td>\n    </tr>\n    <tr>\n      <th>Price</th>\n      <td>2407</td>\n      <td>1785</td>\n      <td>817</td>\n      <td>1749</td>\n      <td>799</td>\n      <td>1232</td>\n      <td>95</td>\n      <td>63</td>\n      <td>499</td>\n    </tr>\n    <tr>\n      <th>Power Consumtion</th>\n      <td>3250</td>\n      <td>3250</td>\n      <td>2900</td>\n      <td>3150</td>\n      <td>2700</td>\n      <td>2800</td>\n      <td>1280</td>\n      <td>1148</td>\n      <td>2200</td>\n    </tr>\n    <tr>\n      <th>TH/s</th>\n      <td>110</td>\n      <td>95</td>\n      <td>58</td>\n      <td>84</td>\n      <td>60</td>\n      <td>70</td>\n      <td>16</td>\n      <td>14</td>\n      <td>29</td>\n    </tr>\n    <tr>\n      <th>Venezuela</th>\n      <td>6.1685</td>\n      <td>6.1685</td>\n      <td>5.5042</td>\n      <td>5.9787</td>\n      <td>5.1246</td>\n      <td>5.3144</td>\n      <td>2.42944</td>\n      <td>2.1789</td>\n      <td>4.1756</td>\n    </tr>\n    <tr>\n      <th>...</th>\n      <td>...</td>\n      <td>...</td>\n      <td>...</td>\n      <td>...</td>\n      <td>...</td>\n      <td>...</td>\n      <td>...</td>\n      <td>...</td>\n      <td>...</td>\n    </tr>\n    <tr>\n      <th>Alemania</th>\n      <td>854.1</td>\n      <td>854.1</td>\n      <td>762.12</td>\n      <td>827.82</td>\n      <td>709.56</td>\n      <td>735.84</td>\n      <td>336.384</td>\n      <td>301.694</td>\n      <td>578.16</td>\n    </tr>\n    <tr>\n      <th>Rumanía</th>\n      <td>949</td>\n      <td>949</td>\n      <td>846.8</td>\n      <td>919.8</td>\n      <td>788.4</td>\n      <td>817.6</td>\n      <td>373.76</td>\n      <td>335.216</td>\n      <td>642.4</td>\n    </tr>\n    <tr>\n      <th>San Marino</th>\n      <td>949</td>\n      <td>949</td>\n      <td>846.8</td>\n      <td>919.8</td>\n      <td>788.4</td>\n      <td>817.6</td>\n      <td>373.76</td>\n      <td>335.216</td>\n      <td>642.4</td>\n    </tr>\n    <tr>\n      <th>Malta</th>\n      <td>949</td>\n      <td>949</td>\n      <td>846.8</td>\n      <td>919.8</td>\n      <td>788.4</td>\n      <td>817.6</td>\n      <td>373.76</td>\n      <td>335.216</td>\n      <td>642.4</td>\n    </tr>\n    <tr>\n      <th>Antigua y Barbuda</th>\n      <td>1043.9</td>\n      <td>1043.9</td>\n      <td>931.48</td>\n      <td>1011.78</td>\n      <td>867.24</td>\n      <td>899.36</td>\n      <td>411.136</td>\n      <td>368.738</td>\n      <td>706.64</td>\n    </tr>\n  </tbody>\n</table>\n<p>135 rows × 9 columns</p>\n</div>"
     },
     "metadata": {},
     "execution_count": 43
    }
   ],
   "source": [
    "data_model.T"
   ]
  },
  {
   "cell_type": "code",
   "execution_count": 44,
   "metadata": {},
   "outputs": [
    {
     "output_type": "execute_result",
     "data": {
      "text/plain": "                    Models    Price  Power Consumtion  TH/s  Venezuela  \\\n0  Antminer S19 Pro 110TH/s  2407.0              3250   110   6.168500   \n1    Antminer S19 - 95TH/s   1785.0              3250    95   6.168500   \n2     Antminer T17+ 58TH/s    817.0              2900    58   5.504200   \n3    Antminer T19 - 84TH/s   1749.0              3150    84   5.978700   \n4     Antminer S17e-60TH/s    799.0              2700    60   5.124600   \n5     Antminer S17+ 70TH/s   1232.0              2800    70   5.314400   \n6    Antminer S9 SE-16TH/s     95.0              1280    16   2.429440   \n7    Antminer S9k-13.5TH/s     63.0              1148    14   2.178904   \n8      INNOSILICON T2T-29T    499.0              2200    29   4.175600   \n\n   Arabia Saudita  Bielorrusia    Egipto    Sudán    Libia  ...  Portugal  \\\n0         8.30375    18.742750  21.35250  23.7250  23.7250  ...   711.750   \n1         8.30375    18.742750  21.35250  23.7250  23.7250  ...   711.750   \n2         7.40950    16.724300  19.05300  21.1700  21.1700  ...   635.100   \n3         8.04825    18.166050  20.69550  22.9950  22.9950  ...   689.850   \n4         6.89850    15.570900  17.73900  19.7100  19.7100  ...   591.300   \n5         7.15400    16.147600  18.39600  20.4400  20.4400  ...   613.200   \n6         3.27040     7.381760   8.40960   9.3440   9.3440  ...   280.320   \n7         2.93314     6.620516   7.54236   8.3804   8.3804  ...   251.412   \n8         5.62100    12.687400  14.45400  16.0600  16.0600  ...   481.800   \n\n    Bélgica   Bahamas   Jamaica  Dinamarca  Alemania  Rumanía  San Marino  \\\n0  735.4750  735.4750  782.9250   806.6500  854.1000  949.000     949.000   \n1  735.4750  735.4750  782.9250   806.6500  854.1000  949.000     949.000   \n2  656.2700  656.2700  698.6100   719.7800  762.1200  846.800     846.800   \n3  712.8450  712.8450  758.8350   781.8300  827.8200  919.800     919.800   \n4  611.0100  611.0100  650.4300   670.1400  709.5600  788.400     788.400   \n5  633.6400  633.6400  674.5200   694.9600  735.8400  817.600     817.600   \n6  289.6640  289.6640  308.3520   317.6960  336.3840  373.760     373.760   \n7  259.7924  259.7924  276.5532   284.9336  301.6944  335.216     335.216   \n8  497.8600  497.8600  529.9800   546.0400  578.1600  642.400     642.400   \n\n     Malta  Antigua y Barbuda  \n0  949.000          1043.9000  \n1  949.000          1043.9000  \n2  846.800           931.4800  \n3  919.800          1011.7800  \n4  788.400           867.2400  \n5  817.600           899.3600  \n6  373.760           411.1360  \n7  335.216           368.7376  \n8  642.400           706.6400  \n\n[9 rows x 135 columns]",
      "text/html": "<div>\n<style scoped>\n    .dataframe tbody tr th:only-of-type {\n        vertical-align: middle;\n    }\n\n    .dataframe tbody tr th {\n        vertical-align: top;\n    }\n\n    .dataframe thead th {\n        text-align: right;\n    }\n</style>\n<table border=\"1\" class=\"dataframe\">\n  <thead>\n    <tr style=\"text-align: right;\">\n      <th></th>\n      <th>Models</th>\n      <th>Price</th>\n      <th>Power Consumtion</th>\n      <th>TH/s</th>\n      <th>Venezuela</th>\n      <th>Arabia Saudita</th>\n      <th>Bielorrusia</th>\n      <th>Egipto</th>\n      <th>Sudán</th>\n      <th>Libia</th>\n      <th>...</th>\n      <th>Portugal</th>\n      <th>Bélgica</th>\n      <th>Bahamas</th>\n      <th>Jamaica</th>\n      <th>Dinamarca</th>\n      <th>Alemania</th>\n      <th>Rumanía</th>\n      <th>San Marino</th>\n      <th>Malta</th>\n      <th>Antigua y Barbuda</th>\n    </tr>\n  </thead>\n  <tbody>\n    <tr>\n      <th>0</th>\n      <td>Antminer S19 Pro 110TH/s</td>\n      <td>2407.0</td>\n      <td>3250</td>\n      <td>110</td>\n      <td>6.168500</td>\n      <td>8.30375</td>\n      <td>18.742750</td>\n      <td>21.35250</td>\n      <td>23.7250</td>\n      <td>23.7250</td>\n      <td>...</td>\n      <td>711.750</td>\n      <td>735.4750</td>\n      <td>735.4750</td>\n      <td>782.9250</td>\n      <td>806.6500</td>\n      <td>854.1000</td>\n      <td>949.000</td>\n      <td>949.000</td>\n      <td>949.000</td>\n      <td>1043.9000</td>\n    </tr>\n    <tr>\n      <th>1</th>\n      <td>Antminer S19 - 95TH/s</td>\n      <td>1785.0</td>\n      <td>3250</td>\n      <td>95</td>\n      <td>6.168500</td>\n      <td>8.30375</td>\n      <td>18.742750</td>\n      <td>21.35250</td>\n      <td>23.7250</td>\n      <td>23.7250</td>\n      <td>...</td>\n      <td>711.750</td>\n      <td>735.4750</td>\n      <td>735.4750</td>\n      <td>782.9250</td>\n      <td>806.6500</td>\n      <td>854.1000</td>\n      <td>949.000</td>\n      <td>949.000</td>\n      <td>949.000</td>\n      <td>1043.9000</td>\n    </tr>\n    <tr>\n      <th>2</th>\n      <td>Antminer T17+ 58TH/s</td>\n      <td>817.0</td>\n      <td>2900</td>\n      <td>58</td>\n      <td>5.504200</td>\n      <td>7.40950</td>\n      <td>16.724300</td>\n      <td>19.05300</td>\n      <td>21.1700</td>\n      <td>21.1700</td>\n      <td>...</td>\n      <td>635.100</td>\n      <td>656.2700</td>\n      <td>656.2700</td>\n      <td>698.6100</td>\n      <td>719.7800</td>\n      <td>762.1200</td>\n      <td>846.800</td>\n      <td>846.800</td>\n      <td>846.800</td>\n      <td>931.4800</td>\n    </tr>\n    <tr>\n      <th>3</th>\n      <td>Antminer T19 - 84TH/s</td>\n      <td>1749.0</td>\n      <td>3150</td>\n      <td>84</td>\n      <td>5.978700</td>\n      <td>8.04825</td>\n      <td>18.166050</td>\n      <td>20.69550</td>\n      <td>22.9950</td>\n      <td>22.9950</td>\n      <td>...</td>\n      <td>689.850</td>\n      <td>712.8450</td>\n      <td>712.8450</td>\n      <td>758.8350</td>\n      <td>781.8300</td>\n      <td>827.8200</td>\n      <td>919.800</td>\n      <td>919.800</td>\n      <td>919.800</td>\n      <td>1011.7800</td>\n    </tr>\n    <tr>\n      <th>4</th>\n      <td>Antminer S17e-60TH/s</td>\n      <td>799.0</td>\n      <td>2700</td>\n      <td>60</td>\n      <td>5.124600</td>\n      <td>6.89850</td>\n      <td>15.570900</td>\n      <td>17.73900</td>\n      <td>19.7100</td>\n      <td>19.7100</td>\n      <td>...</td>\n      <td>591.300</td>\n      <td>611.0100</td>\n      <td>611.0100</td>\n      <td>650.4300</td>\n      <td>670.1400</td>\n      <td>709.5600</td>\n      <td>788.400</td>\n      <td>788.400</td>\n      <td>788.400</td>\n      <td>867.2400</td>\n    </tr>\n    <tr>\n      <th>5</th>\n      <td>Antminer S17+ 70TH/s</td>\n      <td>1232.0</td>\n      <td>2800</td>\n      <td>70</td>\n      <td>5.314400</td>\n      <td>7.15400</td>\n      <td>16.147600</td>\n      <td>18.39600</td>\n      <td>20.4400</td>\n      <td>20.4400</td>\n      <td>...</td>\n      <td>613.200</td>\n      <td>633.6400</td>\n      <td>633.6400</td>\n      <td>674.5200</td>\n      <td>694.9600</td>\n      <td>735.8400</td>\n      <td>817.600</td>\n      <td>817.600</td>\n      <td>817.600</td>\n      <td>899.3600</td>\n    </tr>\n    <tr>\n      <th>6</th>\n      <td>Antminer S9 SE-16TH/s</td>\n      <td>95.0</td>\n      <td>1280</td>\n      <td>16</td>\n      <td>2.429440</td>\n      <td>3.27040</td>\n      <td>7.381760</td>\n      <td>8.40960</td>\n      <td>9.3440</td>\n      <td>9.3440</td>\n      <td>...</td>\n      <td>280.320</td>\n      <td>289.6640</td>\n      <td>289.6640</td>\n      <td>308.3520</td>\n      <td>317.6960</td>\n      <td>336.3840</td>\n      <td>373.760</td>\n      <td>373.760</td>\n      <td>373.760</td>\n      <td>411.1360</td>\n    </tr>\n    <tr>\n      <th>7</th>\n      <td>Antminer S9k-13.5TH/s</td>\n      <td>63.0</td>\n      <td>1148</td>\n      <td>14</td>\n      <td>2.178904</td>\n      <td>2.93314</td>\n      <td>6.620516</td>\n      <td>7.54236</td>\n      <td>8.3804</td>\n      <td>8.3804</td>\n      <td>...</td>\n      <td>251.412</td>\n      <td>259.7924</td>\n      <td>259.7924</td>\n      <td>276.5532</td>\n      <td>284.9336</td>\n      <td>301.6944</td>\n      <td>335.216</td>\n      <td>335.216</td>\n      <td>335.216</td>\n      <td>368.7376</td>\n    </tr>\n    <tr>\n      <th>8</th>\n      <td>INNOSILICON T2T-29T</td>\n      <td>499.0</td>\n      <td>2200</td>\n      <td>29</td>\n      <td>4.175600</td>\n      <td>5.62100</td>\n      <td>12.687400</td>\n      <td>14.45400</td>\n      <td>16.0600</td>\n      <td>16.0600</td>\n      <td>...</td>\n      <td>481.800</td>\n      <td>497.8600</td>\n      <td>497.8600</td>\n      <td>529.9800</td>\n      <td>546.0400</td>\n      <td>578.1600</td>\n      <td>642.400</td>\n      <td>642.400</td>\n      <td>642.400</td>\n      <td>706.6400</td>\n    </tr>\n  </tbody>\n</table>\n<p>9 rows × 135 columns</p>\n</div>"
     },
     "metadata": {},
     "execution_count": 44
    }
   ],
   "source": [
    "data_model"
   ]
  },
  {
   "cell_type": "markdown",
   "metadata": {},
   "source": [
    "## buscando el error"
   ]
  },
  {
   "cell_type": "code",
   "execution_count": 51,
   "metadata": {
    "tags": []
   },
   "outputs": [
    {
     "output_type": "stream",
     "name": "stdout",
     "text": "<class 'pandas.core.frame.DataFrame'>\nRangeIndex: 9 entries, 0 to 8\nData columns (total 4 columns):\n #   Column            Non-Null Count  Dtype  \n---  ------            --------------  -----  \n 0   Models            9 non-null      object \n 1   Price             9 non-null      float64\n 2   Power Consumtion  9 non-null      int64  \n 3   TH/s              9 non-null      int64  \ndtypes: float64(1), int64(2), object(1)\nmemory usage: 416.0+ bytes\n"
    }
   ],
   "source": [
    "data_model.info()"
   ]
  },
  {
   "cell_type": "code",
   "execution_count": 52,
   "metadata": {
    "tags": []
   },
   "outputs": [
    {
     "output_type": "stream",
     "name": "stdout",
     "text": "<class 'pandas.core.frame.DataFrame'>\nRangeIndex: 131 entries, 0 to 130\nData columns (total 3 columns):\n #   Column      Non-Null Count  Dtype  \n---  ------      --------------  -----  \n 0   Unnamed: 0  131 non-null    int64  \n 1   Countrys    131 non-null    object \n 2   (Kw/h) USD  131 non-null    float64\ndtypes: float64(1), int64(1), object(1)\nmemory usage: 3.2+ KB\n"
    }
   ],
   "source": [
    "data_elec.info()"
   ]
  },
  {
   "cell_type": "markdown",
   "metadata": {},
   "source": [
    "# COntinue"
   ]
  },
  {
   "cell_type": "code",
   "execution_count": 84,
   "metadata": {},
   "outputs": [],
   "source": [
    "datos=pd.read_csv(\"provicional.csv\")"
   ]
  },
  {
   "cell_type": "code",
   "execution_count": 85,
   "metadata": {},
   "outputs": [
    {
     "output_type": "execute_result",
     "data": {
      "text/plain": "   Unnamed: 0                   Models    Price  Power Consumtion  TH/s  \\\n0           0  Antminer S19 Pro 110TH/s  2407.0              3250   110   \n1           1    Antminer S19 - 95TH/s   1785.0              3250    95   \n2           2     Antminer T17+ 58TH/s    817.0              2900    58   \n3           3    Antminer T19 - 84TH/s   1749.0              3150    84   \n4           4     Antminer S17e-60TH/s    799.0              2700    60   \n5           5     Antminer S17+ 70TH/s   1232.0              2800    70   \n6           6    Antminer S9 SE-16TH/s     95.0              1280    16   \n7           7    Antminer S9k-13.5TH/s     63.0              1148    14   \n8           8      INNOSILICON T2T-29T    499.0              2200    29   \n\n   Venezuela  Arabia Saudita  Bielorrusia    Egipto    Sudán  ...  Portugal  \\\n0   6.168500         8.30375    18.742750  21.35250  23.7250  ...   711.750   \n1   6.168500         8.30375    18.742750  21.35250  23.7250  ...   711.750   \n2   5.504200         7.40950    16.724300  19.05300  21.1700  ...   635.100   \n3   5.978700         8.04825    18.166050  20.69550  22.9950  ...   689.850   \n4   5.124600         6.89850    15.570900  17.73900  19.7100  ...   591.300   \n5   5.314400         7.15400    16.147600  18.39600  20.4400  ...   613.200   \n6   2.429440         3.27040     7.381760   8.40960   9.3440  ...   280.320   \n7   2.178904         2.93314     6.620516   7.54236   8.3804  ...   251.412   \n8   4.175600         5.62100    12.687400  14.45400  16.0600  ...   481.800   \n\n    Bélgica   Bahamas   Jamaica  Dinamarca  Alemania  Rumanía  San Marino  \\\n0  735.4750  735.4750  782.9250   806.6500  854.1000  949.000     949.000   \n1  735.4750  735.4750  782.9250   806.6500  854.1000  949.000     949.000   \n2  656.2700  656.2700  698.6100   719.7800  762.1200  846.800     846.800   \n3  712.8450  712.8450  758.8350   781.8300  827.8200  919.800     919.800   \n4  611.0100  611.0100  650.4300   670.1400  709.5600  788.400     788.400   \n5  633.6400  633.6400  674.5200   694.9600  735.8400  817.600     817.600   \n6  289.6640  289.6640  308.3520   317.6960  336.3840  373.760     373.760   \n7  259.7924  259.7924  276.5532   284.9336  301.6944  335.216     335.216   \n8  497.8600  497.8600  529.9800   546.0400  578.1600  642.400     642.400   \n\n     Malta  Antigua y Barbuda  \n0  949.000          1043.9000  \n1  949.000          1043.9000  \n2  846.800           931.4800  \n3  919.800          1011.7800  \n4  788.400           867.2400  \n5  817.600           899.3600  \n6  373.760           411.1360  \n7  335.216           368.7376  \n8  642.400           706.6400  \n\n[9 rows x 136 columns]",
      "text/html": "<div>\n<style scoped>\n    .dataframe tbody tr th:only-of-type {\n        vertical-align: middle;\n    }\n\n    .dataframe tbody tr th {\n        vertical-align: top;\n    }\n\n    .dataframe thead th {\n        text-align: right;\n    }\n</style>\n<table border=\"1\" class=\"dataframe\">\n  <thead>\n    <tr style=\"text-align: right;\">\n      <th></th>\n      <th>Unnamed: 0</th>\n      <th>Models</th>\n      <th>Price</th>\n      <th>Power Consumtion</th>\n      <th>TH/s</th>\n      <th>Venezuela</th>\n      <th>Arabia Saudita</th>\n      <th>Bielorrusia</th>\n      <th>Egipto</th>\n      <th>Sudán</th>\n      <th>...</th>\n      <th>Portugal</th>\n      <th>Bélgica</th>\n      <th>Bahamas</th>\n      <th>Jamaica</th>\n      <th>Dinamarca</th>\n      <th>Alemania</th>\n      <th>Rumanía</th>\n      <th>San Marino</th>\n      <th>Malta</th>\n      <th>Antigua y Barbuda</th>\n    </tr>\n  </thead>\n  <tbody>\n    <tr>\n      <th>0</th>\n      <td>0</td>\n      <td>Antminer S19 Pro 110TH/s</td>\n      <td>2407.0</td>\n      <td>3250</td>\n      <td>110</td>\n      <td>6.168500</td>\n      <td>8.30375</td>\n      <td>18.742750</td>\n      <td>21.35250</td>\n      <td>23.7250</td>\n      <td>...</td>\n      <td>711.750</td>\n      <td>735.4750</td>\n      <td>735.4750</td>\n      <td>782.9250</td>\n      <td>806.6500</td>\n      <td>854.1000</td>\n      <td>949.000</td>\n      <td>949.000</td>\n      <td>949.000</td>\n      <td>1043.9000</td>\n    </tr>\n    <tr>\n      <th>1</th>\n      <td>1</td>\n      <td>Antminer S19 - 95TH/s</td>\n      <td>1785.0</td>\n      <td>3250</td>\n      <td>95</td>\n      <td>6.168500</td>\n      <td>8.30375</td>\n      <td>18.742750</td>\n      <td>21.35250</td>\n      <td>23.7250</td>\n      <td>...</td>\n      <td>711.750</td>\n      <td>735.4750</td>\n      <td>735.4750</td>\n      <td>782.9250</td>\n      <td>806.6500</td>\n      <td>854.1000</td>\n      <td>949.000</td>\n      <td>949.000</td>\n      <td>949.000</td>\n      <td>1043.9000</td>\n    </tr>\n    <tr>\n      <th>2</th>\n      <td>2</td>\n      <td>Antminer T17+ 58TH/s</td>\n      <td>817.0</td>\n      <td>2900</td>\n      <td>58</td>\n      <td>5.504200</td>\n      <td>7.40950</td>\n      <td>16.724300</td>\n      <td>19.05300</td>\n      <td>21.1700</td>\n      <td>...</td>\n      <td>635.100</td>\n      <td>656.2700</td>\n      <td>656.2700</td>\n      <td>698.6100</td>\n      <td>719.7800</td>\n      <td>762.1200</td>\n      <td>846.800</td>\n      <td>846.800</td>\n      <td>846.800</td>\n      <td>931.4800</td>\n    </tr>\n    <tr>\n      <th>3</th>\n      <td>3</td>\n      <td>Antminer T19 - 84TH/s</td>\n      <td>1749.0</td>\n      <td>3150</td>\n      <td>84</td>\n      <td>5.978700</td>\n      <td>8.04825</td>\n      <td>18.166050</td>\n      <td>20.69550</td>\n      <td>22.9950</td>\n      <td>...</td>\n      <td>689.850</td>\n      <td>712.8450</td>\n      <td>712.8450</td>\n      <td>758.8350</td>\n      <td>781.8300</td>\n      <td>827.8200</td>\n      <td>919.800</td>\n      <td>919.800</td>\n      <td>919.800</td>\n      <td>1011.7800</td>\n    </tr>\n    <tr>\n      <th>4</th>\n      <td>4</td>\n      <td>Antminer S17e-60TH/s</td>\n      <td>799.0</td>\n      <td>2700</td>\n      <td>60</td>\n      <td>5.124600</td>\n      <td>6.89850</td>\n      <td>15.570900</td>\n      <td>17.73900</td>\n      <td>19.7100</td>\n      <td>...</td>\n      <td>591.300</td>\n      <td>611.0100</td>\n      <td>611.0100</td>\n      <td>650.4300</td>\n      <td>670.1400</td>\n      <td>709.5600</td>\n      <td>788.400</td>\n      <td>788.400</td>\n      <td>788.400</td>\n      <td>867.2400</td>\n    </tr>\n    <tr>\n      <th>5</th>\n      <td>5</td>\n      <td>Antminer S17+ 70TH/s</td>\n      <td>1232.0</td>\n      <td>2800</td>\n      <td>70</td>\n      <td>5.314400</td>\n      <td>7.15400</td>\n      <td>16.147600</td>\n      <td>18.39600</td>\n      <td>20.4400</td>\n      <td>...</td>\n      <td>613.200</td>\n      <td>633.6400</td>\n      <td>633.6400</td>\n      <td>674.5200</td>\n      <td>694.9600</td>\n      <td>735.8400</td>\n      <td>817.600</td>\n      <td>817.600</td>\n      <td>817.600</td>\n      <td>899.3600</td>\n    </tr>\n    <tr>\n      <th>6</th>\n      <td>6</td>\n      <td>Antminer S9 SE-16TH/s</td>\n      <td>95.0</td>\n      <td>1280</td>\n      <td>16</td>\n      <td>2.429440</td>\n      <td>3.27040</td>\n      <td>7.381760</td>\n      <td>8.40960</td>\n      <td>9.3440</td>\n      <td>...</td>\n      <td>280.320</td>\n      <td>289.6640</td>\n      <td>289.6640</td>\n      <td>308.3520</td>\n      <td>317.6960</td>\n      <td>336.3840</td>\n      <td>373.760</td>\n      <td>373.760</td>\n      <td>373.760</td>\n      <td>411.1360</td>\n    </tr>\n    <tr>\n      <th>7</th>\n      <td>7</td>\n      <td>Antminer S9k-13.5TH/s</td>\n      <td>63.0</td>\n      <td>1148</td>\n      <td>14</td>\n      <td>2.178904</td>\n      <td>2.93314</td>\n      <td>6.620516</td>\n      <td>7.54236</td>\n      <td>8.3804</td>\n      <td>...</td>\n      <td>251.412</td>\n      <td>259.7924</td>\n      <td>259.7924</td>\n      <td>276.5532</td>\n      <td>284.9336</td>\n      <td>301.6944</td>\n      <td>335.216</td>\n      <td>335.216</td>\n      <td>335.216</td>\n      <td>368.7376</td>\n    </tr>\n    <tr>\n      <th>8</th>\n      <td>8</td>\n      <td>INNOSILICON T2T-29T</td>\n      <td>499.0</td>\n      <td>2200</td>\n      <td>29</td>\n      <td>4.175600</td>\n      <td>5.62100</td>\n      <td>12.687400</td>\n      <td>14.45400</td>\n      <td>16.0600</td>\n      <td>...</td>\n      <td>481.800</td>\n      <td>497.8600</td>\n      <td>497.8600</td>\n      <td>529.9800</td>\n      <td>546.0400</td>\n      <td>578.1600</td>\n      <td>642.400</td>\n      <td>642.400</td>\n      <td>642.400</td>\n      <td>706.6400</td>\n    </tr>\n  </tbody>\n</table>\n<p>9 rows × 136 columns</p>\n</div>"
     },
     "metadata": {},
     "execution_count": 85
    }
   ],
   "source": [
    "datos"
   ]
  },
  {
   "cell_type": "code",
   "execution_count": 86,
   "metadata": {},
   "outputs": [
    {
     "output_type": "execute_result",
     "data": {
      "text/plain": "                         0        1        2        3        4        5  \\\nVenezuela           6.1685   6.1685   5.5042   5.9787   5.1246   5.3144   \nArabia Saudita     8.30375  8.30375   7.4095  8.04825   6.8985    7.154   \nBielorrusia        18.7428  18.7428  16.7243   18.166  15.5709  16.1476   \nEgipto             21.3525  21.3525   19.053  20.6955   17.739   18.396   \nSudán               23.725   23.725    21.17   22.995    19.71    20.44   \n...                    ...      ...      ...      ...      ...      ...   \nAlemania             854.1    854.1   762.12   827.82   709.56   735.84   \nRumanía                949      949    846.8    919.8    788.4    817.6   \nSan Marino             949      949    846.8    919.8    788.4    817.6   \nMalta                  949      949    846.8    919.8    788.4    817.6   \nAntigua y Barbuda   1043.9   1043.9   931.48  1011.78   867.24   899.36   \n\n                         6        7        8  \nVenezuela          2.42944   2.1789   4.1756  \nArabia Saudita      3.2704  2.93314    5.621  \nBielorrusia        7.38176  6.62052  12.6874  \nEgipto              8.4096  7.54236   14.454  \nSudán                9.344   8.3804    16.06  \n...                    ...      ...      ...  \nAlemania           336.384  301.694   578.16  \nRumanía             373.76  335.216    642.4  \nSan Marino          373.76  335.216    642.4  \nMalta               373.76  335.216    642.4  \nAntigua y Barbuda  411.136  368.738   706.64  \n\n[131 rows x 9 columns]",
      "text/html": "<div>\n<style scoped>\n    .dataframe tbody tr th:only-of-type {\n        vertical-align: middle;\n    }\n\n    .dataframe tbody tr th {\n        vertical-align: top;\n    }\n\n    .dataframe thead th {\n        text-align: right;\n    }\n</style>\n<table border=\"1\" class=\"dataframe\">\n  <thead>\n    <tr style=\"text-align: right;\">\n      <th></th>\n      <th>0</th>\n      <th>1</th>\n      <th>2</th>\n      <th>3</th>\n      <th>4</th>\n      <th>5</th>\n      <th>6</th>\n      <th>7</th>\n      <th>8</th>\n    </tr>\n  </thead>\n  <tbody>\n    <tr>\n      <th>Venezuela</th>\n      <td>6.1685</td>\n      <td>6.1685</td>\n      <td>5.5042</td>\n      <td>5.9787</td>\n      <td>5.1246</td>\n      <td>5.3144</td>\n      <td>2.42944</td>\n      <td>2.1789</td>\n      <td>4.1756</td>\n    </tr>\n    <tr>\n      <th>Arabia Saudita</th>\n      <td>8.30375</td>\n      <td>8.30375</td>\n      <td>7.4095</td>\n      <td>8.04825</td>\n      <td>6.8985</td>\n      <td>7.154</td>\n      <td>3.2704</td>\n      <td>2.93314</td>\n      <td>5.621</td>\n    </tr>\n    <tr>\n      <th>Bielorrusia</th>\n      <td>18.7428</td>\n      <td>18.7428</td>\n      <td>16.7243</td>\n      <td>18.166</td>\n      <td>15.5709</td>\n      <td>16.1476</td>\n      <td>7.38176</td>\n      <td>6.62052</td>\n      <td>12.6874</td>\n    </tr>\n    <tr>\n      <th>Egipto</th>\n      <td>21.3525</td>\n      <td>21.3525</td>\n      <td>19.053</td>\n      <td>20.6955</td>\n      <td>17.739</td>\n      <td>18.396</td>\n      <td>8.4096</td>\n      <td>7.54236</td>\n      <td>14.454</td>\n    </tr>\n    <tr>\n      <th>Sudán</th>\n      <td>23.725</td>\n      <td>23.725</td>\n      <td>21.17</td>\n      <td>22.995</td>\n      <td>19.71</td>\n      <td>20.44</td>\n      <td>9.344</td>\n      <td>8.3804</td>\n      <td>16.06</td>\n    </tr>\n    <tr>\n      <th>...</th>\n      <td>...</td>\n      <td>...</td>\n      <td>...</td>\n      <td>...</td>\n      <td>...</td>\n      <td>...</td>\n      <td>...</td>\n      <td>...</td>\n      <td>...</td>\n    </tr>\n    <tr>\n      <th>Alemania</th>\n      <td>854.1</td>\n      <td>854.1</td>\n      <td>762.12</td>\n      <td>827.82</td>\n      <td>709.56</td>\n      <td>735.84</td>\n      <td>336.384</td>\n      <td>301.694</td>\n      <td>578.16</td>\n    </tr>\n    <tr>\n      <th>Rumanía</th>\n      <td>949</td>\n      <td>949</td>\n      <td>846.8</td>\n      <td>919.8</td>\n      <td>788.4</td>\n      <td>817.6</td>\n      <td>373.76</td>\n      <td>335.216</td>\n      <td>642.4</td>\n    </tr>\n    <tr>\n      <th>San Marino</th>\n      <td>949</td>\n      <td>949</td>\n      <td>846.8</td>\n      <td>919.8</td>\n      <td>788.4</td>\n      <td>817.6</td>\n      <td>373.76</td>\n      <td>335.216</td>\n      <td>642.4</td>\n    </tr>\n    <tr>\n      <th>Malta</th>\n      <td>949</td>\n      <td>949</td>\n      <td>846.8</td>\n      <td>919.8</td>\n      <td>788.4</td>\n      <td>817.6</td>\n      <td>373.76</td>\n      <td>335.216</td>\n      <td>642.4</td>\n    </tr>\n    <tr>\n      <th>Antigua y Barbuda</th>\n      <td>1043.9</td>\n      <td>1043.9</td>\n      <td>931.48</td>\n      <td>1011.78</td>\n      <td>867.24</td>\n      <td>899.36</td>\n      <td>411.136</td>\n      <td>368.738</td>\n      <td>706.64</td>\n    </tr>\n  </tbody>\n</table>\n<p>131 rows × 9 columns</p>\n</div>"
     },
     "metadata": {},
     "execution_count": 86
    }
   ],
   "source": [
    "datos.T.iloc[5:]"
   ]
  },
  {
   "cell_type": "code",
   "execution_count": 87,
   "metadata": {},
   "outputs": [],
   "source": [
    "datos_1=datos.T.iloc[5:]\n",
    "datos_1.index.name=\"Country\""
   ]
  },
  {
   "cell_type": "code",
   "execution_count": 88,
   "metadata": {},
   "outputs": [
    {
     "output_type": "execute_result",
     "data": {
      "text/plain": "                         0        1        2        3        4        5  \\\nCountry                                                                   \nVenezuela           6.1685   6.1685   5.5042   5.9787   5.1246   5.3144   \nArabia Saudita     8.30375  8.30375   7.4095  8.04825   6.8985    7.154   \nBielorrusia        18.7428  18.7428  16.7243   18.166  15.5709  16.1476   \nEgipto             21.3525  21.3525   19.053  20.6955   17.739   18.396   \nSudán               23.725   23.725    21.17   22.995    19.71    20.44   \n...                    ...      ...      ...      ...      ...      ...   \nAlemania             854.1    854.1   762.12   827.82   709.56   735.84   \nRumanía                949      949    846.8    919.8    788.4    817.6   \nSan Marino             949      949    846.8    919.8    788.4    817.6   \nMalta                  949      949    846.8    919.8    788.4    817.6   \nAntigua y Barbuda   1043.9   1043.9   931.48  1011.78   867.24   899.36   \n\n                         6        7        8  \nCountry                                       \nVenezuela          2.42944   2.1789   4.1756  \nArabia Saudita      3.2704  2.93314    5.621  \nBielorrusia        7.38176  6.62052  12.6874  \nEgipto              8.4096  7.54236   14.454  \nSudán                9.344   8.3804    16.06  \n...                    ...      ...      ...  \nAlemania           336.384  301.694   578.16  \nRumanía             373.76  335.216    642.4  \nSan Marino          373.76  335.216    642.4  \nMalta               373.76  335.216    642.4  \nAntigua y Barbuda  411.136  368.738   706.64  \n\n[131 rows x 9 columns]",
      "text/html": "<div>\n<style scoped>\n    .dataframe tbody tr th:only-of-type {\n        vertical-align: middle;\n    }\n\n    .dataframe tbody tr th {\n        vertical-align: top;\n    }\n\n    .dataframe thead th {\n        text-align: right;\n    }\n</style>\n<table border=\"1\" class=\"dataframe\">\n  <thead>\n    <tr style=\"text-align: right;\">\n      <th></th>\n      <th>0</th>\n      <th>1</th>\n      <th>2</th>\n      <th>3</th>\n      <th>4</th>\n      <th>5</th>\n      <th>6</th>\n      <th>7</th>\n      <th>8</th>\n    </tr>\n    <tr>\n      <th>Country</th>\n      <th></th>\n      <th></th>\n      <th></th>\n      <th></th>\n      <th></th>\n      <th></th>\n      <th></th>\n      <th></th>\n      <th></th>\n    </tr>\n  </thead>\n  <tbody>\n    <tr>\n      <th>Venezuela</th>\n      <td>6.1685</td>\n      <td>6.1685</td>\n      <td>5.5042</td>\n      <td>5.9787</td>\n      <td>5.1246</td>\n      <td>5.3144</td>\n      <td>2.42944</td>\n      <td>2.1789</td>\n      <td>4.1756</td>\n    </tr>\n    <tr>\n      <th>Arabia Saudita</th>\n      <td>8.30375</td>\n      <td>8.30375</td>\n      <td>7.4095</td>\n      <td>8.04825</td>\n      <td>6.8985</td>\n      <td>7.154</td>\n      <td>3.2704</td>\n      <td>2.93314</td>\n      <td>5.621</td>\n    </tr>\n    <tr>\n      <th>Bielorrusia</th>\n      <td>18.7428</td>\n      <td>18.7428</td>\n      <td>16.7243</td>\n      <td>18.166</td>\n      <td>15.5709</td>\n      <td>16.1476</td>\n      <td>7.38176</td>\n      <td>6.62052</td>\n      <td>12.6874</td>\n    </tr>\n    <tr>\n      <th>Egipto</th>\n      <td>21.3525</td>\n      <td>21.3525</td>\n      <td>19.053</td>\n      <td>20.6955</td>\n      <td>17.739</td>\n      <td>18.396</td>\n      <td>8.4096</td>\n      <td>7.54236</td>\n      <td>14.454</td>\n    </tr>\n    <tr>\n      <th>Sudán</th>\n      <td>23.725</td>\n      <td>23.725</td>\n      <td>21.17</td>\n      <td>22.995</td>\n      <td>19.71</td>\n      <td>20.44</td>\n      <td>9.344</td>\n      <td>8.3804</td>\n      <td>16.06</td>\n    </tr>\n    <tr>\n      <th>...</th>\n      <td>...</td>\n      <td>...</td>\n      <td>...</td>\n      <td>...</td>\n      <td>...</td>\n      <td>...</td>\n      <td>...</td>\n      <td>...</td>\n      <td>...</td>\n    </tr>\n    <tr>\n      <th>Alemania</th>\n      <td>854.1</td>\n      <td>854.1</td>\n      <td>762.12</td>\n      <td>827.82</td>\n      <td>709.56</td>\n      <td>735.84</td>\n      <td>336.384</td>\n      <td>301.694</td>\n      <td>578.16</td>\n    </tr>\n    <tr>\n      <th>Rumanía</th>\n      <td>949</td>\n      <td>949</td>\n      <td>846.8</td>\n      <td>919.8</td>\n      <td>788.4</td>\n      <td>817.6</td>\n      <td>373.76</td>\n      <td>335.216</td>\n      <td>642.4</td>\n    </tr>\n    <tr>\n      <th>San Marino</th>\n      <td>949</td>\n      <td>949</td>\n      <td>846.8</td>\n      <td>919.8</td>\n      <td>788.4</td>\n      <td>817.6</td>\n      <td>373.76</td>\n      <td>335.216</td>\n      <td>642.4</td>\n    </tr>\n    <tr>\n      <th>Malta</th>\n      <td>949</td>\n      <td>949</td>\n      <td>846.8</td>\n      <td>919.8</td>\n      <td>788.4</td>\n      <td>817.6</td>\n      <td>373.76</td>\n      <td>335.216</td>\n      <td>642.4</td>\n    </tr>\n    <tr>\n      <th>Antigua y Barbuda</th>\n      <td>1043.9</td>\n      <td>1043.9</td>\n      <td>931.48</td>\n      <td>1011.78</td>\n      <td>867.24</td>\n      <td>899.36</td>\n      <td>411.136</td>\n      <td>368.738</td>\n      <td>706.64</td>\n    </tr>\n  </tbody>\n</table>\n<p>131 rows × 9 columns</p>\n</div>"
     },
     "metadata": {},
     "execution_count": 88
    }
   ],
   "source": [
    "datos_1"
   ]
  },
  {
   "cell_type": "code",
   "execution_count": 89,
   "metadata": {},
   "outputs": [],
   "source": [
    "datos_1.columns=['Antminer S19 Pro 110TH/s',\n",
    " 'Antminer S19 - 95TH/s ',\n",
    " 'Antminer T17+ 58TH/s ',\n",
    " 'Antminer T19 - 84TH/s ',\n",
    " 'Antminer S17e-60TH/s ',\n",
    " 'Antminer S17+ 70TH/s ',\n",
    " 'Antminer S9 SE-16TH/s ',\n",
    " 'Antminer S9k-13.5TH/s ',\n",
    " 'INNOSILICON T2T-29T ']"
   ]
  },
  {
   "cell_type": "code",
   "execution_count": 90,
   "metadata": {},
   "outputs": [
    {
     "output_type": "execute_result",
     "data": {
      "text/plain": "                  Antminer S19 Pro 110TH/s Antminer S19 - 95TH/s   \\\nCountry                                                             \nVenezuela                           6.1685                 6.1685   \nArabia Saudita                     8.30375                8.30375   \nBielorrusia                        18.7428                18.7428   \nEgipto                             21.3525                21.3525   \nSudán                               23.725                 23.725   \n...                                    ...                    ...   \nAlemania                             854.1                  854.1   \nRumanía                                949                    949   \nSan Marino                             949                    949   \nMalta                                  949                    949   \nAntigua y Barbuda                   1043.9                 1043.9   \n\n                  Antminer T17+ 58TH/s  Antminer T19 - 84TH/s   \\\nCountry                                                          \nVenezuela                        5.5042                 5.9787   \nArabia Saudita                   7.4095                8.04825   \nBielorrusia                     16.7243                 18.166   \nEgipto                           19.053                20.6955   \nSudán                             21.17                 22.995   \n...                                 ...                    ...   \nAlemania                         762.12                 827.82   \nRumanía                           846.8                  919.8   \nSan Marino                        846.8                  919.8   \nMalta                             846.8                  919.8   \nAntigua y Barbuda                931.48                1011.78   \n\n                  Antminer S17e-60TH/s  Antminer S17+ 70TH/s   \\\nCountry                                                         \nVenezuela                        5.1246                5.3144   \nArabia Saudita                   6.8985                 7.154   \nBielorrusia                     15.5709               16.1476   \nEgipto                           17.739                18.396   \nSudán                             19.71                 20.44   \n...                                 ...                   ...   \nAlemania                         709.56                735.84   \nRumanía                           788.4                 817.6   \nSan Marino                        788.4                 817.6   \nMalta                             788.4                 817.6   \nAntigua y Barbuda                867.24                899.36   \n\n                  Antminer S9 SE-16TH/s  Antminer S9k-13.5TH/s   \\\nCountry                                                           \nVenezuela                        2.42944                 2.1789   \nArabia Saudita                    3.2704                2.93314   \nBielorrusia                      7.38176                6.62052   \nEgipto                            8.4096                7.54236   \nSudán                              9.344                 8.3804   \n...                                  ...                    ...   \nAlemania                         336.384                301.694   \nRumanía                           373.76                335.216   \nSan Marino                        373.76                335.216   \nMalta                             373.76                335.216   \nAntigua y Barbuda                411.136                368.738   \n\n                  INNOSILICON T2T-29T   \nCountry                                 \nVenezuela                       4.1756  \nArabia Saudita                   5.621  \nBielorrusia                    12.6874  \nEgipto                          14.454  \nSudán                            16.06  \n...                                ...  \nAlemania                        578.16  \nRumanía                          642.4  \nSan Marino                       642.4  \nMalta                            642.4  \nAntigua y Barbuda               706.64  \n\n[131 rows x 9 columns]",
      "text/html": "<div>\n<style scoped>\n    .dataframe tbody tr th:only-of-type {\n        vertical-align: middle;\n    }\n\n    .dataframe tbody tr th {\n        vertical-align: top;\n    }\n\n    .dataframe thead th {\n        text-align: right;\n    }\n</style>\n<table border=\"1\" class=\"dataframe\">\n  <thead>\n    <tr style=\"text-align: right;\">\n      <th></th>\n      <th>Antminer S19 Pro 110TH/s</th>\n      <th>Antminer S19 - 95TH/s</th>\n      <th>Antminer T17+ 58TH/s</th>\n      <th>Antminer T19 - 84TH/s</th>\n      <th>Antminer S17e-60TH/s</th>\n      <th>Antminer S17+ 70TH/s</th>\n      <th>Antminer S9 SE-16TH/s</th>\n      <th>Antminer S9k-13.5TH/s</th>\n      <th>INNOSILICON T2T-29T</th>\n    </tr>\n    <tr>\n      <th>Country</th>\n      <th></th>\n      <th></th>\n      <th></th>\n      <th></th>\n      <th></th>\n      <th></th>\n      <th></th>\n      <th></th>\n      <th></th>\n    </tr>\n  </thead>\n  <tbody>\n    <tr>\n      <th>Venezuela</th>\n      <td>6.1685</td>\n      <td>6.1685</td>\n      <td>5.5042</td>\n      <td>5.9787</td>\n      <td>5.1246</td>\n      <td>5.3144</td>\n      <td>2.42944</td>\n      <td>2.1789</td>\n      <td>4.1756</td>\n    </tr>\n    <tr>\n      <th>Arabia Saudita</th>\n      <td>8.30375</td>\n      <td>8.30375</td>\n      <td>7.4095</td>\n      <td>8.04825</td>\n      <td>6.8985</td>\n      <td>7.154</td>\n      <td>3.2704</td>\n      <td>2.93314</td>\n      <td>5.621</td>\n    </tr>\n    <tr>\n      <th>Bielorrusia</th>\n      <td>18.7428</td>\n      <td>18.7428</td>\n      <td>16.7243</td>\n      <td>18.166</td>\n      <td>15.5709</td>\n      <td>16.1476</td>\n      <td>7.38176</td>\n      <td>6.62052</td>\n      <td>12.6874</td>\n    </tr>\n    <tr>\n      <th>Egipto</th>\n      <td>21.3525</td>\n      <td>21.3525</td>\n      <td>19.053</td>\n      <td>20.6955</td>\n      <td>17.739</td>\n      <td>18.396</td>\n      <td>8.4096</td>\n      <td>7.54236</td>\n      <td>14.454</td>\n    </tr>\n    <tr>\n      <th>Sudán</th>\n      <td>23.725</td>\n      <td>23.725</td>\n      <td>21.17</td>\n      <td>22.995</td>\n      <td>19.71</td>\n      <td>20.44</td>\n      <td>9.344</td>\n      <td>8.3804</td>\n      <td>16.06</td>\n    </tr>\n    <tr>\n      <th>...</th>\n      <td>...</td>\n      <td>...</td>\n      <td>...</td>\n      <td>...</td>\n      <td>...</td>\n      <td>...</td>\n      <td>...</td>\n      <td>...</td>\n      <td>...</td>\n    </tr>\n    <tr>\n      <th>Alemania</th>\n      <td>854.1</td>\n      <td>854.1</td>\n      <td>762.12</td>\n      <td>827.82</td>\n      <td>709.56</td>\n      <td>735.84</td>\n      <td>336.384</td>\n      <td>301.694</td>\n      <td>578.16</td>\n    </tr>\n    <tr>\n      <th>Rumanía</th>\n      <td>949</td>\n      <td>949</td>\n      <td>846.8</td>\n      <td>919.8</td>\n      <td>788.4</td>\n      <td>817.6</td>\n      <td>373.76</td>\n      <td>335.216</td>\n      <td>642.4</td>\n    </tr>\n    <tr>\n      <th>San Marino</th>\n      <td>949</td>\n      <td>949</td>\n      <td>846.8</td>\n      <td>919.8</td>\n      <td>788.4</td>\n      <td>817.6</td>\n      <td>373.76</td>\n      <td>335.216</td>\n      <td>642.4</td>\n    </tr>\n    <tr>\n      <th>Malta</th>\n      <td>949</td>\n      <td>949</td>\n      <td>846.8</td>\n      <td>919.8</td>\n      <td>788.4</td>\n      <td>817.6</td>\n      <td>373.76</td>\n      <td>335.216</td>\n      <td>642.4</td>\n    </tr>\n    <tr>\n      <th>Antigua y Barbuda</th>\n      <td>1043.9</td>\n      <td>1043.9</td>\n      <td>931.48</td>\n      <td>1011.78</td>\n      <td>867.24</td>\n      <td>899.36</td>\n      <td>411.136</td>\n      <td>368.738</td>\n      <td>706.64</td>\n    </tr>\n  </tbody>\n</table>\n<p>131 rows × 9 columns</p>\n</div>"
     },
     "metadata": {},
     "execution_count": 90
    }
   ],
   "source": [
    "datos_1"
   ]
  },
  {
   "cell_type": "code",
   "execution_count": 28,
   "metadata": {},
   "outputs": [
    {
     "output_type": "execute_result",
     "data": {
      "text/plain": "['Antminer S19 Pro 110TH/s',\n 'Antminer S19 - 95TH/s ',\n 'Antminer T17+ 58TH/s ',\n 'Antminer T19 - 84TH/s ',\n 'Antminer S17e-60TH/s ',\n 'Antminer S17+ 70TH/s ',\n 'Antminer S9 SE-16TH/s ',\n 'Antminer S9k-13.5TH/s ',\n 'INNOSILICON T2T-29T ']"
     },
     "metadata": {},
     "execution_count": 28
    }
   ],
   "source": [
    "list(datos[\"Models \"])"
   ]
  },
  {
   "cell_type": "code",
   "execution_count": 31,
   "metadata": {},
   "outputs": [
    {
     "output_type": "execute_result",
     "data": {
      "text/plain": "Country                  Venezuela Arabia Saudita Bielorrusia   Egipto  \\\nAntminer S19 Pro 110TH/s    6.1685        8.30375     18.7428  21.3525   \nAntminer S19 - 95TH/s       6.1685        8.30375     18.7428  21.3525   \nAntminer T17+ 58TH/s        5.5042         7.4095     16.7243   19.053   \nAntminer T19 - 84TH/s       5.9787        8.04825      18.166  20.6955   \nAntminer S17e-60TH/s        5.1246         6.8985     15.5709   17.739   \nAntminer S17+ 70TH/s        5.3144          7.154     16.1476   18.396   \nAntminer S9 SE-16TH/s      2.42944         3.2704     7.38176   8.4096   \nAntminer S9k-13.5TH/s       2.1789        2.93314     6.62052  7.54236   \nINNOSILICON T2T-29T         4.1756          5.621     12.6874   14.454   \n\nCountry                    Sudán   Libia     Irán   Angola     Irak  Nigeria  \\\nAntminer S19 Pro 110TH/s  23.725  23.725  35.5875    47.45    47.45    47.45   \nAntminer S19 - 95TH/s     23.725  23.725  35.5875    47.45    47.45    47.45   \nAntminer T17+ 58TH/s       21.17   21.17   31.755    42.34    42.34    42.34   \nAntminer T19 - 84TH/s     22.995  22.995  34.4925    45.99    45.99    45.99   \nAntminer S17e-60TH/s       19.71   19.71   29.565    39.42    39.42    39.42   \nAntminer S17+ 70TH/s       20.44   20.44    30.66    40.88    40.88    40.88   \nAntminer S9 SE-16TH/s      9.344   9.344   14.016   18.688   18.688   18.688   \nAntminer S9k-13.5TH/s     8.3804  8.3804  12.5706  16.7608  16.7608  16.7608   \nINNOSILICON T2T-29T        16.06   16.06    24.09    32.12    32.12    32.12   \n\nCountry                   ... Portugal  Bélgica  Bahamas  Jamaica Dinamarca  \\\nAntminer S19 Pro 110TH/s  ...   711.75  735.475  735.475  782.925    806.65   \nAntminer S19 - 95TH/s     ...   711.75  735.475  735.475  782.925    806.65   \nAntminer T17+ 58TH/s      ...    635.1   656.27   656.27   698.61    719.78   \nAntminer T19 - 84TH/s     ...   689.85  712.845  712.845  758.835    781.83   \nAntminer S17e-60TH/s      ...    591.3   611.01   611.01   650.43    670.14   \nAntminer S17+ 70TH/s      ...    613.2   633.64   633.64   674.52    694.96   \nAntminer S9 SE-16TH/s     ...   280.32  289.664  289.664  308.352   317.696   \nAntminer S9k-13.5TH/s     ...  251.412  259.792  259.792  276.553   284.934   \nINNOSILICON T2T-29T       ...    481.8   497.86   497.86   529.98    546.04   \n\nCountry                  Alemania  Rumanía San Marino    Malta  \\\nAntminer S19 Pro 110TH/s    854.1      949        949      949   \nAntminer S19 - 95TH/s       854.1      949        949      949   \nAntminer T17+ 58TH/s       762.12    846.8      846.8    846.8   \nAntminer T19 - 84TH/s      827.82    919.8      919.8    919.8   \nAntminer S17e-60TH/s       709.56    788.4      788.4    788.4   \nAntminer S17+ 70TH/s       735.84    817.6      817.6    817.6   \nAntminer S9 SE-16TH/s     336.384   373.76     373.76   373.76   \nAntminer S9k-13.5TH/s     301.694  335.216    335.216  335.216   \nINNOSILICON T2T-29T        578.16    642.4      642.4    642.4   \n\nCountry                  Antigua y Barbuda  \nAntminer S19 Pro 110TH/s            1043.9  \nAntminer S19 - 95TH/s               1043.9  \nAntminer T17+ 58TH/s                931.48  \nAntminer T19 - 84TH/s              1011.78  \nAntminer S17e-60TH/s                867.24  \nAntminer S17+ 70TH/s                899.36  \nAntminer S9 SE-16TH/s              411.136  \nAntminer S9k-13.5TH/s              368.738  \nINNOSILICON T2T-29T                 706.64  \n\n[9 rows x 131 columns]",
      "text/html": "<div>\n<style scoped>\n    .dataframe tbody tr th:only-of-type {\n        vertical-align: middle;\n    }\n\n    .dataframe tbody tr th {\n        vertical-align: top;\n    }\n\n    .dataframe thead th {\n        text-align: right;\n    }\n</style>\n<table border=\"1\" class=\"dataframe\">\n  <thead>\n    <tr style=\"text-align: right;\">\n      <th>Country</th>\n      <th>Venezuela</th>\n      <th>Arabia Saudita</th>\n      <th>Bielorrusia</th>\n      <th>Egipto</th>\n      <th>Sudán</th>\n      <th>Libia</th>\n      <th>Irán</th>\n      <th>Angola</th>\n      <th>Irak</th>\n      <th>Nigeria</th>\n      <th>...</th>\n      <th>Portugal</th>\n      <th>Bélgica</th>\n      <th>Bahamas</th>\n      <th>Jamaica</th>\n      <th>Dinamarca</th>\n      <th>Alemania</th>\n      <th>Rumanía</th>\n      <th>San Marino</th>\n      <th>Malta</th>\n      <th>Antigua y Barbuda</th>\n    </tr>\n  </thead>\n  <tbody>\n    <tr>\n      <th>Antminer S19 Pro 110TH/s</th>\n      <td>6.1685</td>\n      <td>8.30375</td>\n      <td>18.7428</td>\n      <td>21.3525</td>\n      <td>23.725</td>\n      <td>23.725</td>\n      <td>35.5875</td>\n      <td>47.45</td>\n      <td>47.45</td>\n      <td>47.45</td>\n      <td>...</td>\n      <td>711.75</td>\n      <td>735.475</td>\n      <td>735.475</td>\n      <td>782.925</td>\n      <td>806.65</td>\n      <td>854.1</td>\n      <td>949</td>\n      <td>949</td>\n      <td>949</td>\n      <td>1043.9</td>\n    </tr>\n    <tr>\n      <th>Antminer S19 - 95TH/s</th>\n      <td>6.1685</td>\n      <td>8.30375</td>\n      <td>18.7428</td>\n      <td>21.3525</td>\n      <td>23.725</td>\n      <td>23.725</td>\n      <td>35.5875</td>\n      <td>47.45</td>\n      <td>47.45</td>\n      <td>47.45</td>\n      <td>...</td>\n      <td>711.75</td>\n      <td>735.475</td>\n      <td>735.475</td>\n      <td>782.925</td>\n      <td>806.65</td>\n      <td>854.1</td>\n      <td>949</td>\n      <td>949</td>\n      <td>949</td>\n      <td>1043.9</td>\n    </tr>\n    <tr>\n      <th>Antminer T17+ 58TH/s</th>\n      <td>5.5042</td>\n      <td>7.4095</td>\n      <td>16.7243</td>\n      <td>19.053</td>\n      <td>21.17</td>\n      <td>21.17</td>\n      <td>31.755</td>\n      <td>42.34</td>\n      <td>42.34</td>\n      <td>42.34</td>\n      <td>...</td>\n      <td>635.1</td>\n      <td>656.27</td>\n      <td>656.27</td>\n      <td>698.61</td>\n      <td>719.78</td>\n      <td>762.12</td>\n      <td>846.8</td>\n      <td>846.8</td>\n      <td>846.8</td>\n      <td>931.48</td>\n    </tr>\n    <tr>\n      <th>Antminer T19 - 84TH/s</th>\n      <td>5.9787</td>\n      <td>8.04825</td>\n      <td>18.166</td>\n      <td>20.6955</td>\n      <td>22.995</td>\n      <td>22.995</td>\n      <td>34.4925</td>\n      <td>45.99</td>\n      <td>45.99</td>\n      <td>45.99</td>\n      <td>...</td>\n      <td>689.85</td>\n      <td>712.845</td>\n      <td>712.845</td>\n      <td>758.835</td>\n      <td>781.83</td>\n      <td>827.82</td>\n      <td>919.8</td>\n      <td>919.8</td>\n      <td>919.8</td>\n      <td>1011.78</td>\n    </tr>\n    <tr>\n      <th>Antminer S17e-60TH/s</th>\n      <td>5.1246</td>\n      <td>6.8985</td>\n      <td>15.5709</td>\n      <td>17.739</td>\n      <td>19.71</td>\n      <td>19.71</td>\n      <td>29.565</td>\n      <td>39.42</td>\n      <td>39.42</td>\n      <td>39.42</td>\n      <td>...</td>\n      <td>591.3</td>\n      <td>611.01</td>\n      <td>611.01</td>\n      <td>650.43</td>\n      <td>670.14</td>\n      <td>709.56</td>\n      <td>788.4</td>\n      <td>788.4</td>\n      <td>788.4</td>\n      <td>867.24</td>\n    </tr>\n    <tr>\n      <th>Antminer S17+ 70TH/s</th>\n      <td>5.3144</td>\n      <td>7.154</td>\n      <td>16.1476</td>\n      <td>18.396</td>\n      <td>20.44</td>\n      <td>20.44</td>\n      <td>30.66</td>\n      <td>40.88</td>\n      <td>40.88</td>\n      <td>40.88</td>\n      <td>...</td>\n      <td>613.2</td>\n      <td>633.64</td>\n      <td>633.64</td>\n      <td>674.52</td>\n      <td>694.96</td>\n      <td>735.84</td>\n      <td>817.6</td>\n      <td>817.6</td>\n      <td>817.6</td>\n      <td>899.36</td>\n    </tr>\n    <tr>\n      <th>Antminer S9 SE-16TH/s</th>\n      <td>2.42944</td>\n      <td>3.2704</td>\n      <td>7.38176</td>\n      <td>8.4096</td>\n      <td>9.344</td>\n      <td>9.344</td>\n      <td>14.016</td>\n      <td>18.688</td>\n      <td>18.688</td>\n      <td>18.688</td>\n      <td>...</td>\n      <td>280.32</td>\n      <td>289.664</td>\n      <td>289.664</td>\n      <td>308.352</td>\n      <td>317.696</td>\n      <td>336.384</td>\n      <td>373.76</td>\n      <td>373.76</td>\n      <td>373.76</td>\n      <td>411.136</td>\n    </tr>\n    <tr>\n      <th>Antminer S9k-13.5TH/s</th>\n      <td>2.1789</td>\n      <td>2.93314</td>\n      <td>6.62052</td>\n      <td>7.54236</td>\n      <td>8.3804</td>\n      <td>8.3804</td>\n      <td>12.5706</td>\n      <td>16.7608</td>\n      <td>16.7608</td>\n      <td>16.7608</td>\n      <td>...</td>\n      <td>251.412</td>\n      <td>259.792</td>\n      <td>259.792</td>\n      <td>276.553</td>\n      <td>284.934</td>\n      <td>301.694</td>\n      <td>335.216</td>\n      <td>335.216</td>\n      <td>335.216</td>\n      <td>368.738</td>\n    </tr>\n    <tr>\n      <th>INNOSILICON T2T-29T</th>\n      <td>4.1756</td>\n      <td>5.621</td>\n      <td>12.6874</td>\n      <td>14.454</td>\n      <td>16.06</td>\n      <td>16.06</td>\n      <td>24.09</td>\n      <td>32.12</td>\n      <td>32.12</td>\n      <td>32.12</td>\n      <td>...</td>\n      <td>481.8</td>\n      <td>497.86</td>\n      <td>497.86</td>\n      <td>529.98</td>\n      <td>546.04</td>\n      <td>578.16</td>\n      <td>642.4</td>\n      <td>642.4</td>\n      <td>642.4</td>\n      <td>706.64</td>\n    </tr>\n  </tbody>\n</table>\n<p>9 rows × 131 columns</p>\n</div>"
     },
     "metadata": {},
     "execution_count": 31
    }
   ],
   "source": [
    "datos_1.T"
   ]
  },
  {
   "cell_type": "code",
   "execution_count": 34,
   "metadata": {},
   "outputs": [],
   "source": [
    "datos_1.index.name=\"Country\""
   ]
  },
  {
   "cell_type": "code",
   "execution_count": 72,
   "metadata": {},
   "outputs": [],
   "source": [
    "datos_1.T.index.name=\"Model\""
   ]
  },
  {
   "cell_type": "code",
   "execution_count": 73,
   "metadata": {},
   "outputs": [
    {
     "output_type": "execute_result",
     "data": {
      "text/plain": "Model Antminer S19 Pro 110TH/s Antminer S19 - 95TH/s  Antminer T17+ 58TH/s   \\\n0                       6.1685                 6.1685                5.5042   \n1                      8.30375                8.30375                7.4095   \n2                      18.7428                18.7428               16.7243   \n3                      21.3525                21.3525                19.053   \n4                       23.725                 23.725                 21.17   \n..                         ...                    ...                   ...   \n126                      854.1                  854.1                762.12   \n127                        949                    949                 846.8   \n128                        949                    949                 846.8   \n129                        949                    949                 846.8   \n130                     1043.9                 1043.9                931.48   \n\nModel Antminer T19 - 84TH/s  Antminer S17e-60TH/s  Antminer S17+ 70TH/s   \\\n0                     5.9787                5.1246                5.3144   \n1                    8.04825                6.8985                 7.154   \n2                     18.166               15.5709               16.1476   \n3                    20.6955                17.739                18.396   \n4                     22.995                 19.71                 20.44   \n..                       ...                   ...                   ...   \n126                   827.82                709.56                735.84   \n127                    919.8                 788.4                 817.6   \n128                    919.8                 788.4                 817.6   \n129                    919.8                 788.4                 817.6   \n130                  1011.78                867.24                899.36   \n\nModel Antminer S9 SE-16TH/s  Antminer S9k-13.5TH/s  INNOSILICON T2T-29T   \\\n0                    2.42944                 2.1789               4.1756   \n1                     3.2704                2.93314                5.621   \n2                    7.38176                6.62052              12.6874   \n3                     8.4096                7.54236               14.454   \n4                      9.344                 8.3804                16.06   \n..                       ...                    ...                  ...   \n126                  336.384                301.694               578.16   \n127                   373.76                335.216                642.4   \n128                   373.76                335.216                642.4   \n129                   373.76                335.216                642.4   \n130                  411.136                368.738               706.64   \n\nModel            Country  \n0              Venezuela  \n1         Arabia Saudita  \n2            Bielorrusia  \n3                 Egipto  \n4                  Sudán  \n..                   ...  \n126             Alemania  \n127              Rumanía  \n128           San Marino  \n129                Malta  \n130    Antigua y Barbuda  \n\n[131 rows x 10 columns]",
      "text/html": "<div>\n<style scoped>\n    .dataframe tbody tr th:only-of-type {\n        vertical-align: middle;\n    }\n\n    .dataframe tbody tr th {\n        vertical-align: top;\n    }\n\n    .dataframe thead th {\n        text-align: right;\n    }\n</style>\n<table border=\"1\" class=\"dataframe\">\n  <thead>\n    <tr style=\"text-align: right;\">\n      <th>Model</th>\n      <th>Antminer S19 Pro 110TH/s</th>\n      <th>Antminer S19 - 95TH/s</th>\n      <th>Antminer T17+ 58TH/s</th>\n      <th>Antminer T19 - 84TH/s</th>\n      <th>Antminer S17e-60TH/s</th>\n      <th>Antminer S17+ 70TH/s</th>\n      <th>Antminer S9 SE-16TH/s</th>\n      <th>Antminer S9k-13.5TH/s</th>\n      <th>INNOSILICON T2T-29T</th>\n      <th>Country</th>\n    </tr>\n  </thead>\n  <tbody>\n    <tr>\n      <th>0</th>\n      <td>6.1685</td>\n      <td>6.1685</td>\n      <td>5.5042</td>\n      <td>5.9787</td>\n      <td>5.1246</td>\n      <td>5.3144</td>\n      <td>2.42944</td>\n      <td>2.1789</td>\n      <td>4.1756</td>\n      <td>Venezuela</td>\n    </tr>\n    <tr>\n      <th>1</th>\n      <td>8.30375</td>\n      <td>8.30375</td>\n      <td>7.4095</td>\n      <td>8.04825</td>\n      <td>6.8985</td>\n      <td>7.154</td>\n      <td>3.2704</td>\n      <td>2.93314</td>\n      <td>5.621</td>\n      <td>Arabia Saudita</td>\n    </tr>\n    <tr>\n      <th>2</th>\n      <td>18.7428</td>\n      <td>18.7428</td>\n      <td>16.7243</td>\n      <td>18.166</td>\n      <td>15.5709</td>\n      <td>16.1476</td>\n      <td>7.38176</td>\n      <td>6.62052</td>\n      <td>12.6874</td>\n      <td>Bielorrusia</td>\n    </tr>\n    <tr>\n      <th>3</th>\n      <td>21.3525</td>\n      <td>21.3525</td>\n      <td>19.053</td>\n      <td>20.6955</td>\n      <td>17.739</td>\n      <td>18.396</td>\n      <td>8.4096</td>\n      <td>7.54236</td>\n      <td>14.454</td>\n      <td>Egipto</td>\n    </tr>\n    <tr>\n      <th>4</th>\n      <td>23.725</td>\n      <td>23.725</td>\n      <td>21.17</td>\n      <td>22.995</td>\n      <td>19.71</td>\n      <td>20.44</td>\n      <td>9.344</td>\n      <td>8.3804</td>\n      <td>16.06</td>\n      <td>Sudán</td>\n    </tr>\n    <tr>\n      <th>...</th>\n      <td>...</td>\n      <td>...</td>\n      <td>...</td>\n      <td>...</td>\n      <td>...</td>\n      <td>...</td>\n      <td>...</td>\n      <td>...</td>\n      <td>...</td>\n      <td>...</td>\n    </tr>\n    <tr>\n      <th>126</th>\n      <td>854.1</td>\n      <td>854.1</td>\n      <td>762.12</td>\n      <td>827.82</td>\n      <td>709.56</td>\n      <td>735.84</td>\n      <td>336.384</td>\n      <td>301.694</td>\n      <td>578.16</td>\n      <td>Alemania</td>\n    </tr>\n    <tr>\n      <th>127</th>\n      <td>949</td>\n      <td>949</td>\n      <td>846.8</td>\n      <td>919.8</td>\n      <td>788.4</td>\n      <td>817.6</td>\n      <td>373.76</td>\n      <td>335.216</td>\n      <td>642.4</td>\n      <td>Rumanía</td>\n    </tr>\n    <tr>\n      <th>128</th>\n      <td>949</td>\n      <td>949</td>\n      <td>846.8</td>\n      <td>919.8</td>\n      <td>788.4</td>\n      <td>817.6</td>\n      <td>373.76</td>\n      <td>335.216</td>\n      <td>642.4</td>\n      <td>San Marino</td>\n    </tr>\n    <tr>\n      <th>129</th>\n      <td>949</td>\n      <td>949</td>\n      <td>846.8</td>\n      <td>919.8</td>\n      <td>788.4</td>\n      <td>817.6</td>\n      <td>373.76</td>\n      <td>335.216</td>\n      <td>642.4</td>\n      <td>Malta</td>\n    </tr>\n    <tr>\n      <th>130</th>\n      <td>1043.9</td>\n      <td>1043.9</td>\n      <td>931.48</td>\n      <td>1011.78</td>\n      <td>867.24</td>\n      <td>899.36</td>\n      <td>411.136</td>\n      <td>368.738</td>\n      <td>706.64</td>\n      <td>Antigua y Barbuda</td>\n    </tr>\n  </tbody>\n</table>\n<p>131 rows × 10 columns</p>\n</div>"
     },
     "metadata": {},
     "execution_count": 73
    }
   ],
   "source": [
    "datos_1"
   ]
  },
  {
   "cell_type": "code",
   "execution_count": 43,
   "metadata": {},
   "outputs": [
    {
     "output_type": "execute_result",
     "data": {
      "text/plain": "['Antminer S19 Pro 110TH/s',\n 'Antminer S19 - 95TH/s ',\n 'Antminer T17+ 58TH/s ',\n 'Antminer T19 - 84TH/s ',\n 'Antminer S17e-60TH/s ',\n 'Antminer S17+ 70TH/s ',\n 'Antminer S9 SE-16TH/s ',\n 'Antminer S9k-13.5TH/s ',\n 'INNOSILICON T2T-29T ']"
     },
     "metadata": {},
     "execution_count": 43
    }
   ],
   "source": [
    "list(datos_1)"
   ]
  },
  {
   "cell_type": "code",
   "execution_count": 53,
   "metadata": {
    "tags": []
   },
   "outputs": [
    {
     "output_type": "stream",
     "name": "stdout",
     "text": "<class 'pandas.core.frame.DataFrame'>\nIndex: 131 entries, Venezuela to Antigua y Barbuda\nData columns (total 9 columns):\n #   Column                    Non-Null Count  Dtype \n---  ------                    --------------  ----- \n 0   Antminer S19 Pro 110TH/s  131 non-null    object\n 1   Antminer S19 - 95TH/s     131 non-null    object\n 2   Antminer T17+ 58TH/s      131 non-null    object\n 3   Antminer T19 - 84TH/s     131 non-null    object\n 4   Antminer S17e-60TH/s      131 non-null    object\n 5   Antminer S17+ 70TH/s      131 non-null    object\n 6   Antminer S9 SE-16TH/s     131 non-null    object\n 7   Antminer S9k-13.5TH/s     131 non-null    object\n 8   INNOSILICON T2T-29T       131 non-null    object\ndtypes: object(9)\nmemory usage: 10.2+ KB\n"
    }
   ],
   "source": [
    "datos_1.info()"
   ]
  },
  {
   "cell_type": "code",
   "execution_count": 54,
   "metadata": {},
   "outputs": [
    {
     "output_type": "execute_result",
     "data": {
      "text/plain": "(131, 9)"
     },
     "metadata": {},
     "execution_count": 54
    }
   ],
   "source": [
    "datos_1.shape"
   ]
  },
  {
   "cell_type": "code",
   "execution_count": 57,
   "metadata": {},
   "outputs": [
    {
     "output_type": "execute_result",
     "data": {
      "text/plain": "                  Antminer S19 Pro 110TH/s Antminer S19 - 95TH/s   \\\nCountry                                                             \nVenezuela                           6.1685                 6.1685   \nArabia Saudita                     8.30375                8.30375   \nBielorrusia                        18.7428                18.7428   \nEgipto                             21.3525                21.3525   \nSudán                               23.725                 23.725   \n...                                    ...                    ...   \nAlemania                             854.1                  854.1   \nRumanía                                949                    949   \nSan Marino                             949                    949   \nMalta                                  949                    949   \nAntigua y Barbuda                   1043.9                 1043.9   \n\n                  Antminer T17+ 58TH/s  Antminer T19 - 84TH/s   \\\nCountry                                                          \nVenezuela                        5.5042                 5.9787   \nArabia Saudita                   7.4095                8.04825   \nBielorrusia                     16.7243                 18.166   \nEgipto                           19.053                20.6955   \nSudán                             21.17                 22.995   \n...                                 ...                    ...   \nAlemania                         762.12                 827.82   \nRumanía                           846.8                  919.8   \nSan Marino                        846.8                  919.8   \nMalta                             846.8                  919.8   \nAntigua y Barbuda                931.48                1011.78   \n\n                  Antminer S17e-60TH/s  Antminer S17+ 70TH/s   \\\nCountry                                                         \nVenezuela                        5.1246                5.3144   \nArabia Saudita                   6.8985                 7.154   \nBielorrusia                     15.5709               16.1476   \nEgipto                           17.739                18.396   \nSudán                             19.71                 20.44   \n...                                 ...                   ...   \nAlemania                         709.56                735.84   \nRumanía                           788.4                 817.6   \nSan Marino                        788.4                 817.6   \nMalta                             788.4                 817.6   \nAntigua y Barbuda                867.24                899.36   \n\n                  Antminer S9 SE-16TH/s  Antminer S9k-13.5TH/s   \\\nCountry                                                           \nVenezuela                        2.42944                 2.1789   \nArabia Saudita                    3.2704                2.93314   \nBielorrusia                      7.38176                6.62052   \nEgipto                            8.4096                7.54236   \nSudán                              9.344                 8.3804   \n...                                  ...                    ...   \nAlemania                         336.384                301.694   \nRumanía                           373.76                335.216   \nSan Marino                        373.76                335.216   \nMalta                             373.76                335.216   \nAntigua y Barbuda                411.136                368.738   \n\n                  INNOSILICON T2T-29T             Country  \nCountry                                                    \nVenezuela                       4.1756          Venezuela  \nArabia Saudita                   5.621     Arabia Saudita  \nBielorrusia                    12.6874        Bielorrusia  \nEgipto                          14.454             Egipto  \nSudán                            16.06              Sudán  \n...                                ...                ...  \nAlemania                        578.16           Alemania  \nRumanía                          642.4            Rumanía  \nSan Marino                       642.4         San Marino  \nMalta                            642.4              Malta  \nAntigua y Barbuda               706.64  Antigua y Barbuda  \n\n[131 rows x 10 columns]",
      "text/html": "<div>\n<style scoped>\n    .dataframe tbody tr th:only-of-type {\n        vertical-align: middle;\n    }\n\n    .dataframe tbody tr th {\n        vertical-align: top;\n    }\n\n    .dataframe thead th {\n        text-align: right;\n    }\n</style>\n<table border=\"1\" class=\"dataframe\">\n  <thead>\n    <tr style=\"text-align: right;\">\n      <th></th>\n      <th>Antminer S19 Pro 110TH/s</th>\n      <th>Antminer S19 - 95TH/s</th>\n      <th>Antminer T17+ 58TH/s</th>\n      <th>Antminer T19 - 84TH/s</th>\n      <th>Antminer S17e-60TH/s</th>\n      <th>Antminer S17+ 70TH/s</th>\n      <th>Antminer S9 SE-16TH/s</th>\n      <th>Antminer S9k-13.5TH/s</th>\n      <th>INNOSILICON T2T-29T</th>\n      <th>Country</th>\n    </tr>\n    <tr>\n      <th>Country</th>\n      <th></th>\n      <th></th>\n      <th></th>\n      <th></th>\n      <th></th>\n      <th></th>\n      <th></th>\n      <th></th>\n      <th></th>\n      <th></th>\n    </tr>\n  </thead>\n  <tbody>\n    <tr>\n      <th>Venezuela</th>\n      <td>6.1685</td>\n      <td>6.1685</td>\n      <td>5.5042</td>\n      <td>5.9787</td>\n      <td>5.1246</td>\n      <td>5.3144</td>\n      <td>2.42944</td>\n      <td>2.1789</td>\n      <td>4.1756</td>\n      <td>Venezuela</td>\n    </tr>\n    <tr>\n      <th>Arabia Saudita</th>\n      <td>8.30375</td>\n      <td>8.30375</td>\n      <td>7.4095</td>\n      <td>8.04825</td>\n      <td>6.8985</td>\n      <td>7.154</td>\n      <td>3.2704</td>\n      <td>2.93314</td>\n      <td>5.621</td>\n      <td>Arabia Saudita</td>\n    </tr>\n    <tr>\n      <th>Bielorrusia</th>\n      <td>18.7428</td>\n      <td>18.7428</td>\n      <td>16.7243</td>\n      <td>18.166</td>\n      <td>15.5709</td>\n      <td>16.1476</td>\n      <td>7.38176</td>\n      <td>6.62052</td>\n      <td>12.6874</td>\n      <td>Bielorrusia</td>\n    </tr>\n    <tr>\n      <th>Egipto</th>\n      <td>21.3525</td>\n      <td>21.3525</td>\n      <td>19.053</td>\n      <td>20.6955</td>\n      <td>17.739</td>\n      <td>18.396</td>\n      <td>8.4096</td>\n      <td>7.54236</td>\n      <td>14.454</td>\n      <td>Egipto</td>\n    </tr>\n    <tr>\n      <th>Sudán</th>\n      <td>23.725</td>\n      <td>23.725</td>\n      <td>21.17</td>\n      <td>22.995</td>\n      <td>19.71</td>\n      <td>20.44</td>\n      <td>9.344</td>\n      <td>8.3804</td>\n      <td>16.06</td>\n      <td>Sudán</td>\n    </tr>\n    <tr>\n      <th>...</th>\n      <td>...</td>\n      <td>...</td>\n      <td>...</td>\n      <td>...</td>\n      <td>...</td>\n      <td>...</td>\n      <td>...</td>\n      <td>...</td>\n      <td>...</td>\n      <td>...</td>\n    </tr>\n    <tr>\n      <th>Alemania</th>\n      <td>854.1</td>\n      <td>854.1</td>\n      <td>762.12</td>\n      <td>827.82</td>\n      <td>709.56</td>\n      <td>735.84</td>\n      <td>336.384</td>\n      <td>301.694</td>\n      <td>578.16</td>\n      <td>Alemania</td>\n    </tr>\n    <tr>\n      <th>Rumanía</th>\n      <td>949</td>\n      <td>949</td>\n      <td>846.8</td>\n      <td>919.8</td>\n      <td>788.4</td>\n      <td>817.6</td>\n      <td>373.76</td>\n      <td>335.216</td>\n      <td>642.4</td>\n      <td>Rumanía</td>\n    </tr>\n    <tr>\n      <th>San Marino</th>\n      <td>949</td>\n      <td>949</td>\n      <td>846.8</td>\n      <td>919.8</td>\n      <td>788.4</td>\n      <td>817.6</td>\n      <td>373.76</td>\n      <td>335.216</td>\n      <td>642.4</td>\n      <td>San Marino</td>\n    </tr>\n    <tr>\n      <th>Malta</th>\n      <td>949</td>\n      <td>949</td>\n      <td>846.8</td>\n      <td>919.8</td>\n      <td>788.4</td>\n      <td>817.6</td>\n      <td>373.76</td>\n      <td>335.216</td>\n      <td>642.4</td>\n      <td>Malta</td>\n    </tr>\n    <tr>\n      <th>Antigua y Barbuda</th>\n      <td>1043.9</td>\n      <td>1043.9</td>\n      <td>931.48</td>\n      <td>1011.78</td>\n      <td>867.24</td>\n      <td>899.36</td>\n      <td>411.136</td>\n      <td>368.738</td>\n      <td>706.64</td>\n      <td>Antigua y Barbuda</td>\n    </tr>\n  </tbody>\n</table>\n<p>131 rows × 10 columns</p>\n</div>"
     },
     "metadata": {},
     "execution_count": 57
    }
   ],
   "source": [
    "datos_1"
   ]
  },
  {
   "cell_type": "code",
   "execution_count": 56,
   "metadata": {},
   "outputs": [],
   "source": [
    "datos_1[\"Country\"]=datos_1.index"
   ]
  },
  {
   "cell_type": "code",
   "execution_count": 76,
   "metadata": {
    "tags": []
   },
   "outputs": [],
   "source": [
    "datos_1=datos_1.reset_index(drop=True)"
   ]
  },
  {
   "cell_type": "code",
   "execution_count": 83,
   "metadata": {},
   "outputs": [
    {
     "output_type": "execute_result",
     "data": {
      "text/plain": "Model Antminer S19 Pro 110TH/s Antminer S19 - 95TH/s  Antminer T17+ 58TH/s   \\\n0                       6.1685                 6.1685                5.5042   \n1                      8.30375                8.30375                7.4095   \n2                      18.7428                18.7428               16.7243   \n3                      21.3525                21.3525                19.053   \n4                       23.725                 23.725                 21.17   \n..                         ...                    ...                   ...   \n126                      854.1                  854.1                762.12   \n127                        949                    949                 846.8   \n128                        949                    949                 846.8   \n129                        949                    949                 846.8   \n130                     1043.9                 1043.9                931.48   \n\nModel Antminer T19 - 84TH/s  Antminer S17e-60TH/s  Antminer S17+ 70TH/s   \\\n0                     5.9787                5.1246                5.3144   \n1                    8.04825                6.8985                 7.154   \n2                     18.166               15.5709               16.1476   \n3                    20.6955                17.739                18.396   \n4                     22.995                 19.71                 20.44   \n..                       ...                   ...                   ...   \n126                   827.82                709.56                735.84   \n127                    919.8                 788.4                 817.6   \n128                    919.8                 788.4                 817.6   \n129                    919.8                 788.4                 817.6   \n130                  1011.78                867.24                899.36   \n\nModel Antminer S9 SE-16TH/s  Antminer S9k-13.5TH/s  INNOSILICON T2T-29T   \\\n0                    2.42944                 2.1789               4.1756   \n1                     3.2704                2.93314                5.621   \n2                    7.38176                6.62052              12.6874   \n3                     8.4096                7.54236               14.454   \n4                      9.344                 8.3804                16.06   \n..                       ...                    ...                  ...   \n126                  336.384                301.694               578.16   \n127                   373.76                335.216                642.4   \n128                   373.76                335.216                642.4   \n129                   373.76                335.216                642.4   \n130                  411.136                368.738               706.64   \n\nModel            Country  \n0              Venezuela  \n1         Arabia Saudita  \n2            Bielorrusia  \n3                 Egipto  \n4                  Sudán  \n..                   ...  \n126             Alemania  \n127              Rumanía  \n128           San Marino  \n129                Malta  \n130    Antigua y Barbuda  \n\n[131 rows x 10 columns]",
      "text/html": "<div>\n<style scoped>\n    .dataframe tbody tr th:only-of-type {\n        vertical-align: middle;\n    }\n\n    .dataframe tbody tr th {\n        vertical-align: top;\n    }\n\n    .dataframe thead th {\n        text-align: right;\n    }\n</style>\n<table border=\"1\" class=\"dataframe\">\n  <thead>\n    <tr style=\"text-align: right;\">\n      <th>Model</th>\n      <th>Antminer S19 Pro 110TH/s</th>\n      <th>Antminer S19 - 95TH/s</th>\n      <th>Antminer T17+ 58TH/s</th>\n      <th>Antminer T19 - 84TH/s</th>\n      <th>Antminer S17e-60TH/s</th>\n      <th>Antminer S17+ 70TH/s</th>\n      <th>Antminer S9 SE-16TH/s</th>\n      <th>Antminer S9k-13.5TH/s</th>\n      <th>INNOSILICON T2T-29T</th>\n      <th>Country</th>\n    </tr>\n  </thead>\n  <tbody>\n    <tr>\n      <th>0</th>\n      <td>6.1685</td>\n      <td>6.1685</td>\n      <td>5.5042</td>\n      <td>5.9787</td>\n      <td>5.1246</td>\n      <td>5.3144</td>\n      <td>2.42944</td>\n      <td>2.1789</td>\n      <td>4.1756</td>\n      <td>Venezuela</td>\n    </tr>\n    <tr>\n      <th>1</th>\n      <td>8.30375</td>\n      <td>8.30375</td>\n      <td>7.4095</td>\n      <td>8.04825</td>\n      <td>6.8985</td>\n      <td>7.154</td>\n      <td>3.2704</td>\n      <td>2.93314</td>\n      <td>5.621</td>\n      <td>Arabia Saudita</td>\n    </tr>\n    <tr>\n      <th>2</th>\n      <td>18.7428</td>\n      <td>18.7428</td>\n      <td>16.7243</td>\n      <td>18.166</td>\n      <td>15.5709</td>\n      <td>16.1476</td>\n      <td>7.38176</td>\n      <td>6.62052</td>\n      <td>12.6874</td>\n      <td>Bielorrusia</td>\n    </tr>\n    <tr>\n      <th>3</th>\n      <td>21.3525</td>\n      <td>21.3525</td>\n      <td>19.053</td>\n      <td>20.6955</td>\n      <td>17.739</td>\n      <td>18.396</td>\n      <td>8.4096</td>\n      <td>7.54236</td>\n      <td>14.454</td>\n      <td>Egipto</td>\n    </tr>\n    <tr>\n      <th>4</th>\n      <td>23.725</td>\n      <td>23.725</td>\n      <td>21.17</td>\n      <td>22.995</td>\n      <td>19.71</td>\n      <td>20.44</td>\n      <td>9.344</td>\n      <td>8.3804</td>\n      <td>16.06</td>\n      <td>Sudán</td>\n    </tr>\n    <tr>\n      <th>...</th>\n      <td>...</td>\n      <td>...</td>\n      <td>...</td>\n      <td>...</td>\n      <td>...</td>\n      <td>...</td>\n      <td>...</td>\n      <td>...</td>\n      <td>...</td>\n      <td>...</td>\n    </tr>\n    <tr>\n      <th>126</th>\n      <td>854.1</td>\n      <td>854.1</td>\n      <td>762.12</td>\n      <td>827.82</td>\n      <td>709.56</td>\n      <td>735.84</td>\n      <td>336.384</td>\n      <td>301.694</td>\n      <td>578.16</td>\n      <td>Alemania</td>\n    </tr>\n    <tr>\n      <th>127</th>\n      <td>949</td>\n      <td>949</td>\n      <td>846.8</td>\n      <td>919.8</td>\n      <td>788.4</td>\n      <td>817.6</td>\n      <td>373.76</td>\n      <td>335.216</td>\n      <td>642.4</td>\n      <td>Rumanía</td>\n    </tr>\n    <tr>\n      <th>128</th>\n      <td>949</td>\n      <td>949</td>\n      <td>846.8</td>\n      <td>919.8</td>\n      <td>788.4</td>\n      <td>817.6</td>\n      <td>373.76</td>\n      <td>335.216</td>\n      <td>642.4</td>\n      <td>San Marino</td>\n    </tr>\n    <tr>\n      <th>129</th>\n      <td>949</td>\n      <td>949</td>\n      <td>846.8</td>\n      <td>919.8</td>\n      <td>788.4</td>\n      <td>817.6</td>\n      <td>373.76</td>\n      <td>335.216</td>\n      <td>642.4</td>\n      <td>Malta</td>\n    </tr>\n    <tr>\n      <th>130</th>\n      <td>1043.9</td>\n      <td>1043.9</td>\n      <td>931.48</td>\n      <td>1011.78</td>\n      <td>867.24</td>\n      <td>899.36</td>\n      <td>411.136</td>\n      <td>368.738</td>\n      <td>706.64</td>\n      <td>Antigua y Barbuda</td>\n    </tr>\n  </tbody>\n</table>\n<p>131 rows × 10 columns</p>\n</div>"
     },
     "metadata": {},
     "execution_count": 83
    }
   ],
   "source": [
    "datos_1"
   ]
  },
  {
   "cell_type": "code",
   "execution_count": 62,
   "metadata": {},
   "outputs": [
    {
     "output_type": "execute_result",
     "data": {
      "text/plain": "Country\nVenezuela                    Venezuela\nArabia Saudita          Arabia Saudita\nBielorrusia                Bielorrusia\nEgipto                          Egipto\nSudán                            Sudán\n                           ...        \nAlemania                      Alemania\nRumanía                        Rumanía\nSan Marino                  San Marino\nMalta                            Malta\nAntigua y Barbuda    Antigua y Barbuda\nName: Country, Length: 131, dtype: object"
     },
     "metadata": {},
     "execution_count": 62
    }
   ],
   "source": [
    "datos_1[\"Country\"]"
   ]
  },
  {
   "cell_type": "code",
   "execution_count": 79,
   "metadata": {
    "tags": []
   },
   "outputs": [
    {
     "output_type": "stream",
     "name": "stdout",
     "text": "<class 'pandas.core.frame.DataFrame'>\nIndex: 10 entries, Antminer S19 Pro 110TH/s to Country\nColumns: 131 entries, 0 to 130\ndtypes: object(131)\nmemory usage: 10.6+ KB\n"
    }
   ],
   "source": [
    "datos_1.T.info()"
   ]
  },
  {
   "cell_type": "code",
   "execution_count": 80,
   "metadata": {},
   "outputs": [],
   "source": [
    "datos=datos_1.T"
   ]
  },
  {
   "cell_type": "code",
   "execution_count": 81,
   "metadata": {
    "tags": []
   },
   "outputs": [
    {
     "output_type": "stream",
     "name": "stdout",
     "text": "<class 'pandas.core.frame.DataFrame'>\nIndex: 10 entries, Antminer S19 Pro 110TH/s to Country\nColumns: 131 entries, 0 to 130\ndtypes: object(131)\nmemory usage: 10.6+ KB\n"
    }
   ],
   "source": [
    "datos.info()"
   ]
  },
  {
   "cell_type": "code",
   "execution_count": 82,
   "metadata": {},
   "outputs": [
    {
     "output_type": "execute_result",
     "data": {
      "text/plain": "                                0               1            2        3    \\\nModel                                                                       \nAntminer S19 Pro 110TH/s     6.1685         8.30375      18.7428  21.3525   \nAntminer S19 - 95TH/s        6.1685         8.30375      18.7428  21.3525   \nAntminer T17+ 58TH/s         5.5042          7.4095      16.7243   19.053   \nAntminer T19 - 84TH/s        5.9787         8.04825       18.166  20.6955   \nAntminer S17e-60TH/s         5.1246          6.8985      15.5709   17.739   \nAntminer S17+ 70TH/s         5.3144           7.154      16.1476   18.396   \nAntminer S9 SE-16TH/s       2.42944          3.2704      7.38176   8.4096   \nAntminer S9k-13.5TH/s        2.1789         2.93314      6.62052  7.54236   \nINNOSILICON T2T-29T          4.1756           5.621      12.6874   14.454   \nCountry                   Venezuela  Arabia Saudita  Bielorrusia   Egipto   \n\n                             4       5        6        7        8        9    \\\nModel                                                                          \nAntminer S19 Pro 110TH/s  23.725  23.725  35.5875    47.45    47.45    47.45   \nAntminer S19 - 95TH/s     23.725  23.725  35.5875    47.45    47.45    47.45   \nAntminer T17+ 58TH/s       21.17   21.17   31.755    42.34    42.34    42.34   \nAntminer T19 - 84TH/s     22.995  22.995  34.4925    45.99    45.99    45.99   \nAntminer S17e-60TH/s       19.71   19.71   29.565    39.42    39.42    39.42   \nAntminer S17+ 70TH/s       20.44   20.44    30.66    40.88    40.88    40.88   \nAntminer S9 SE-16TH/s      9.344   9.344   14.016   18.688   18.688   18.688   \nAntminer S9k-13.5TH/s     8.3804  8.3804  12.5706  16.7608  16.7608  16.7608   \nINNOSILICON T2T-29T        16.06   16.06    24.09    32.12    32.12    32.12   \nCountry                    Sudán   Libia     Irán   Angola     Irak  Nigeria   \n\n                          ...       121      122      123      124        125  \\\nModel                     ...                                                   \nAntminer S19 Pro 110TH/s  ...    711.75  735.475  735.475  782.925     806.65   \nAntminer S19 - 95TH/s     ...    711.75  735.475  735.475  782.925     806.65   \nAntminer T17+ 58TH/s      ...     635.1   656.27   656.27   698.61     719.78   \nAntminer T19 - 84TH/s     ...    689.85  712.845  712.845  758.835     781.83   \nAntminer S17e-60TH/s      ...     591.3   611.01   611.01   650.43     670.14   \nAntminer S17+ 70TH/s      ...     613.2   633.64   633.64   674.52     694.96   \nAntminer S9 SE-16TH/s     ...    280.32  289.664  289.664  308.352    317.696   \nAntminer S9k-13.5TH/s     ...   251.412  259.792  259.792  276.553    284.934   \nINNOSILICON T2T-29T       ...     481.8   497.86   497.86   529.98     546.04   \nCountry                   ...  Portugal  Bélgica  Bahamas  Jamaica  Dinamarca   \n\n                               126      127         128      129  \\\nModel                                                              \nAntminer S19 Pro 110TH/s     854.1      949         949      949   \nAntminer S19 - 95TH/s        854.1      949         949      949   \nAntminer T17+ 58TH/s        762.12    846.8       846.8    846.8   \nAntminer T19 - 84TH/s       827.82    919.8       919.8    919.8   \nAntminer S17e-60TH/s        709.56    788.4       788.4    788.4   \nAntminer S17+ 70TH/s        735.84    817.6       817.6    817.6   \nAntminer S9 SE-16TH/s      336.384   373.76      373.76   373.76   \nAntminer S9k-13.5TH/s      301.694  335.216     335.216  335.216   \nINNOSILICON T2T-29T         578.16    642.4       642.4    642.4   \nCountry                   Alemania  Rumanía  San Marino    Malta   \n\n                                        130  \nModel                                        \nAntminer S19 Pro 110TH/s             1043.9  \nAntminer S19 - 95TH/s                1043.9  \nAntminer T17+ 58TH/s                 931.48  \nAntminer T19 - 84TH/s               1011.78  \nAntminer S17e-60TH/s                 867.24  \nAntminer S17+ 70TH/s                 899.36  \nAntminer S9 SE-16TH/s               411.136  \nAntminer S9k-13.5TH/s               368.738  \nINNOSILICON T2T-29T                  706.64  \nCountry                   Antigua y Barbuda  \n\n[10 rows x 131 columns]",
      "text/html": "<div>\n<style scoped>\n    .dataframe tbody tr th:only-of-type {\n        vertical-align: middle;\n    }\n\n    .dataframe tbody tr th {\n        vertical-align: top;\n    }\n\n    .dataframe thead th {\n        text-align: right;\n    }\n</style>\n<table border=\"1\" class=\"dataframe\">\n  <thead>\n    <tr style=\"text-align: right;\">\n      <th></th>\n      <th>0</th>\n      <th>1</th>\n      <th>2</th>\n      <th>3</th>\n      <th>4</th>\n      <th>5</th>\n      <th>6</th>\n      <th>7</th>\n      <th>8</th>\n      <th>9</th>\n      <th>...</th>\n      <th>121</th>\n      <th>122</th>\n      <th>123</th>\n      <th>124</th>\n      <th>125</th>\n      <th>126</th>\n      <th>127</th>\n      <th>128</th>\n      <th>129</th>\n      <th>130</th>\n    </tr>\n    <tr>\n      <th>Model</th>\n      <th></th>\n      <th></th>\n      <th></th>\n      <th></th>\n      <th></th>\n      <th></th>\n      <th></th>\n      <th></th>\n      <th></th>\n      <th></th>\n      <th></th>\n      <th></th>\n      <th></th>\n      <th></th>\n      <th></th>\n      <th></th>\n      <th></th>\n      <th></th>\n      <th></th>\n      <th></th>\n      <th></th>\n    </tr>\n  </thead>\n  <tbody>\n    <tr>\n      <th>Antminer S19 Pro 110TH/s</th>\n      <td>6.1685</td>\n      <td>8.30375</td>\n      <td>18.7428</td>\n      <td>21.3525</td>\n      <td>23.725</td>\n      <td>23.725</td>\n      <td>35.5875</td>\n      <td>47.45</td>\n      <td>47.45</td>\n      <td>47.45</td>\n      <td>...</td>\n      <td>711.75</td>\n      <td>735.475</td>\n      <td>735.475</td>\n      <td>782.925</td>\n      <td>806.65</td>\n      <td>854.1</td>\n      <td>949</td>\n      <td>949</td>\n      <td>949</td>\n      <td>1043.9</td>\n    </tr>\n    <tr>\n      <th>Antminer S19 - 95TH/s</th>\n      <td>6.1685</td>\n      <td>8.30375</td>\n      <td>18.7428</td>\n      <td>21.3525</td>\n      <td>23.725</td>\n      <td>23.725</td>\n      <td>35.5875</td>\n      <td>47.45</td>\n      <td>47.45</td>\n      <td>47.45</td>\n      <td>...</td>\n      <td>711.75</td>\n      <td>735.475</td>\n      <td>735.475</td>\n      <td>782.925</td>\n      <td>806.65</td>\n      <td>854.1</td>\n      <td>949</td>\n      <td>949</td>\n      <td>949</td>\n      <td>1043.9</td>\n    </tr>\n    <tr>\n      <th>Antminer T17+ 58TH/s</th>\n      <td>5.5042</td>\n      <td>7.4095</td>\n      <td>16.7243</td>\n      <td>19.053</td>\n      <td>21.17</td>\n      <td>21.17</td>\n      <td>31.755</td>\n      <td>42.34</td>\n      <td>42.34</td>\n      <td>42.34</td>\n      <td>...</td>\n      <td>635.1</td>\n      <td>656.27</td>\n      <td>656.27</td>\n      <td>698.61</td>\n      <td>719.78</td>\n      <td>762.12</td>\n      <td>846.8</td>\n      <td>846.8</td>\n      <td>846.8</td>\n      <td>931.48</td>\n    </tr>\n    <tr>\n      <th>Antminer T19 - 84TH/s</th>\n      <td>5.9787</td>\n      <td>8.04825</td>\n      <td>18.166</td>\n      <td>20.6955</td>\n      <td>22.995</td>\n      <td>22.995</td>\n      <td>34.4925</td>\n      <td>45.99</td>\n      <td>45.99</td>\n      <td>45.99</td>\n      <td>...</td>\n      <td>689.85</td>\n      <td>712.845</td>\n      <td>712.845</td>\n      <td>758.835</td>\n      <td>781.83</td>\n      <td>827.82</td>\n      <td>919.8</td>\n      <td>919.8</td>\n      <td>919.8</td>\n      <td>1011.78</td>\n    </tr>\n    <tr>\n      <th>Antminer S17e-60TH/s</th>\n      <td>5.1246</td>\n      <td>6.8985</td>\n      <td>15.5709</td>\n      <td>17.739</td>\n      <td>19.71</td>\n      <td>19.71</td>\n      <td>29.565</td>\n      <td>39.42</td>\n      <td>39.42</td>\n      <td>39.42</td>\n      <td>...</td>\n      <td>591.3</td>\n      <td>611.01</td>\n      <td>611.01</td>\n      <td>650.43</td>\n      <td>670.14</td>\n      <td>709.56</td>\n      <td>788.4</td>\n      <td>788.4</td>\n      <td>788.4</td>\n      <td>867.24</td>\n    </tr>\n    <tr>\n      <th>Antminer S17+ 70TH/s</th>\n      <td>5.3144</td>\n      <td>7.154</td>\n      <td>16.1476</td>\n      <td>18.396</td>\n      <td>20.44</td>\n      <td>20.44</td>\n      <td>30.66</td>\n      <td>40.88</td>\n      <td>40.88</td>\n      <td>40.88</td>\n      <td>...</td>\n      <td>613.2</td>\n      <td>633.64</td>\n      <td>633.64</td>\n      <td>674.52</td>\n      <td>694.96</td>\n      <td>735.84</td>\n      <td>817.6</td>\n      <td>817.6</td>\n      <td>817.6</td>\n      <td>899.36</td>\n    </tr>\n    <tr>\n      <th>Antminer S9 SE-16TH/s</th>\n      <td>2.42944</td>\n      <td>3.2704</td>\n      <td>7.38176</td>\n      <td>8.4096</td>\n      <td>9.344</td>\n      <td>9.344</td>\n      <td>14.016</td>\n      <td>18.688</td>\n      <td>18.688</td>\n      <td>18.688</td>\n      <td>...</td>\n      <td>280.32</td>\n      <td>289.664</td>\n      <td>289.664</td>\n      <td>308.352</td>\n      <td>317.696</td>\n      <td>336.384</td>\n      <td>373.76</td>\n      <td>373.76</td>\n      <td>373.76</td>\n      <td>411.136</td>\n    </tr>\n    <tr>\n      <th>Antminer S9k-13.5TH/s</th>\n      <td>2.1789</td>\n      <td>2.93314</td>\n      <td>6.62052</td>\n      <td>7.54236</td>\n      <td>8.3804</td>\n      <td>8.3804</td>\n      <td>12.5706</td>\n      <td>16.7608</td>\n      <td>16.7608</td>\n      <td>16.7608</td>\n      <td>...</td>\n      <td>251.412</td>\n      <td>259.792</td>\n      <td>259.792</td>\n      <td>276.553</td>\n      <td>284.934</td>\n      <td>301.694</td>\n      <td>335.216</td>\n      <td>335.216</td>\n      <td>335.216</td>\n      <td>368.738</td>\n    </tr>\n    <tr>\n      <th>INNOSILICON T2T-29T</th>\n      <td>4.1756</td>\n      <td>5.621</td>\n      <td>12.6874</td>\n      <td>14.454</td>\n      <td>16.06</td>\n      <td>16.06</td>\n      <td>24.09</td>\n      <td>32.12</td>\n      <td>32.12</td>\n      <td>32.12</td>\n      <td>...</td>\n      <td>481.8</td>\n      <td>497.86</td>\n      <td>497.86</td>\n      <td>529.98</td>\n      <td>546.04</td>\n      <td>578.16</td>\n      <td>642.4</td>\n      <td>642.4</td>\n      <td>642.4</td>\n      <td>706.64</td>\n    </tr>\n    <tr>\n      <th>Country</th>\n      <td>Venezuela</td>\n      <td>Arabia Saudita</td>\n      <td>Bielorrusia</td>\n      <td>Egipto</td>\n      <td>Sudán</td>\n      <td>Libia</td>\n      <td>Irán</td>\n      <td>Angola</td>\n      <td>Irak</td>\n      <td>Nigeria</td>\n      <td>...</td>\n      <td>Portugal</td>\n      <td>Bélgica</td>\n      <td>Bahamas</td>\n      <td>Jamaica</td>\n      <td>Dinamarca</td>\n      <td>Alemania</td>\n      <td>Rumanía</td>\n      <td>San Marino</td>\n      <td>Malta</td>\n      <td>Antigua y Barbuda</td>\n    </tr>\n  </tbody>\n</table>\n<p>10 rows × 131 columns</p>\n</div>"
     },
     "metadata": {},
     "execution_count": 82
    }
   ],
   "source": [
    "datos"
   ]
  },
  {
   "cell_type": "code",
   "execution_count": 123,
   "metadata": {},
   "outputs": [],
   "source": [
    "data_u=pd.DataFrame(datos_1.iloc[0])"
   ]
  },
  {
   "cell_type": "code",
   "execution_count": 124,
   "metadata": {},
   "outputs": [
    {
     "output_type": "execute_result",
     "data": {
      "text/plain": "                         Venezuela\nAntminer S19 Pro 110TH/s    6.1685\nAntminer S19 - 95TH/s       6.1685\nAntminer T17+ 58TH/s        5.5042\nAntminer T19 - 84TH/s       5.9787\nAntminer S17e-60TH/s        5.1246\nAntminer S17+ 70TH/s        5.3144\nAntminer S9 SE-16TH/s      2.42944\nAntminer S9k-13.5TH/s       2.1789\nINNOSILICON T2T-29T         4.1756",
      "text/html": "<div>\n<style scoped>\n    .dataframe tbody tr th:only-of-type {\n        vertical-align: middle;\n    }\n\n    .dataframe tbody tr th {\n        vertical-align: top;\n    }\n\n    .dataframe thead th {\n        text-align: right;\n    }\n</style>\n<table border=\"1\" class=\"dataframe\">\n  <thead>\n    <tr style=\"text-align: right;\">\n      <th></th>\n      <th>Venezuela</th>\n    </tr>\n  </thead>\n  <tbody>\n    <tr>\n      <th>Antminer S19 Pro 110TH/s</th>\n      <td>6.1685</td>\n    </tr>\n    <tr>\n      <th>Antminer S19 - 95TH/s</th>\n      <td>6.1685</td>\n    </tr>\n    <tr>\n      <th>Antminer T17+ 58TH/s</th>\n      <td>5.5042</td>\n    </tr>\n    <tr>\n      <th>Antminer T19 - 84TH/s</th>\n      <td>5.9787</td>\n    </tr>\n    <tr>\n      <th>Antminer S17e-60TH/s</th>\n      <td>5.1246</td>\n    </tr>\n    <tr>\n      <th>Antminer S17+ 70TH/s</th>\n      <td>5.3144</td>\n    </tr>\n    <tr>\n      <th>Antminer S9 SE-16TH/s</th>\n      <td>2.42944</td>\n    </tr>\n    <tr>\n      <th>Antminer S9k-13.5TH/s</th>\n      <td>2.1789</td>\n    </tr>\n    <tr>\n      <th>INNOSILICON T2T-29T</th>\n      <td>4.1756</td>\n    </tr>\n  </tbody>\n</table>\n</div>"
     },
     "metadata": {},
     "execution_count": 124
    }
   ],
   "source": [
    "data_u"
   ]
  },
  {
   "cell_type": "code",
   "execution_count": 143,
   "metadata": {},
   "outputs": [],
   "source": [
    "temp=pd.DataFrame()\n",
    "for i in range(2):\n",
    "    data_u=pd.DataFrame(datos_1.iloc[i])\n",
    "    data_u[\"Country\"]=list(data_u)[0]\n",
    "    data_u[\"Model\"]=data_u.index\n",
    "    data_u=data_u.rename(columns={list(data_u)[0]:\"M.B.C USD\"})\n",
    "    data_u=data_u.reset_index(drop=True)\n",
    "    data_u=data_u[[\"Model\",\"Country\",\"M.B.C USD\"]]\n",
    "    temp=temp.append(data_u)"
   ]
  },
  {
   "cell_type": "code",
   "execution_count": 144,
   "metadata": {},
   "outputs": [
    {
     "output_type": "execute_result",
     "data": {
      "text/plain": "                      Model         Country M.B.C USD\n0  Antminer S19 Pro 110TH/s       Venezuela    6.1685\n1    Antminer S19 - 95TH/s        Venezuela    6.1685\n2     Antminer T17+ 58TH/s        Venezuela    5.5042\n3    Antminer T19 - 84TH/s        Venezuela    5.9787\n4     Antminer S17e-60TH/s        Venezuela    5.1246\n5     Antminer S17+ 70TH/s        Venezuela    5.3144\n6    Antminer S9 SE-16TH/s        Venezuela   2.42944\n7    Antminer S9k-13.5TH/s        Venezuela    2.1789\n8      INNOSILICON T2T-29T        Venezuela    4.1756\n0  Antminer S19 Pro 110TH/s  Arabia Saudita   8.30375\n1    Antminer S19 - 95TH/s   Arabia Saudita   8.30375\n2     Antminer T17+ 58TH/s   Arabia Saudita    7.4095\n3    Antminer T19 - 84TH/s   Arabia Saudita   8.04825\n4     Antminer S17e-60TH/s   Arabia Saudita    6.8985\n5     Antminer S17+ 70TH/s   Arabia Saudita     7.154\n6    Antminer S9 SE-16TH/s   Arabia Saudita    3.2704\n7    Antminer S9k-13.5TH/s   Arabia Saudita   2.93314\n8      INNOSILICON T2T-29T   Arabia Saudita     5.621",
      "text/html": "<div>\n<style scoped>\n    .dataframe tbody tr th:only-of-type {\n        vertical-align: middle;\n    }\n\n    .dataframe tbody tr th {\n        vertical-align: top;\n    }\n\n    .dataframe thead th {\n        text-align: right;\n    }\n</style>\n<table border=\"1\" class=\"dataframe\">\n  <thead>\n    <tr style=\"text-align: right;\">\n      <th></th>\n      <th>Model</th>\n      <th>Country</th>\n      <th>M.B.C USD</th>\n    </tr>\n  </thead>\n  <tbody>\n    <tr>\n      <th>0</th>\n      <td>Antminer S19 Pro 110TH/s</td>\n      <td>Venezuela</td>\n      <td>6.1685</td>\n    </tr>\n    <tr>\n      <th>1</th>\n      <td>Antminer S19 - 95TH/s</td>\n      <td>Venezuela</td>\n      <td>6.1685</td>\n    </tr>\n    <tr>\n      <th>2</th>\n      <td>Antminer T17+ 58TH/s</td>\n      <td>Venezuela</td>\n      <td>5.5042</td>\n    </tr>\n    <tr>\n      <th>3</th>\n      <td>Antminer T19 - 84TH/s</td>\n      <td>Venezuela</td>\n      <td>5.9787</td>\n    </tr>\n    <tr>\n      <th>4</th>\n      <td>Antminer S17e-60TH/s</td>\n      <td>Venezuela</td>\n      <td>5.1246</td>\n    </tr>\n    <tr>\n      <th>5</th>\n      <td>Antminer S17+ 70TH/s</td>\n      <td>Venezuela</td>\n      <td>5.3144</td>\n    </tr>\n    <tr>\n      <th>6</th>\n      <td>Antminer S9 SE-16TH/s</td>\n      <td>Venezuela</td>\n      <td>2.42944</td>\n    </tr>\n    <tr>\n      <th>7</th>\n      <td>Antminer S9k-13.5TH/s</td>\n      <td>Venezuela</td>\n      <td>2.1789</td>\n    </tr>\n    <tr>\n      <th>8</th>\n      <td>INNOSILICON T2T-29T</td>\n      <td>Venezuela</td>\n      <td>4.1756</td>\n    </tr>\n    <tr>\n      <th>0</th>\n      <td>Antminer S19 Pro 110TH/s</td>\n      <td>Arabia Saudita</td>\n      <td>8.30375</td>\n    </tr>\n    <tr>\n      <th>1</th>\n      <td>Antminer S19 - 95TH/s</td>\n      <td>Arabia Saudita</td>\n      <td>8.30375</td>\n    </tr>\n    <tr>\n      <th>2</th>\n      <td>Antminer T17+ 58TH/s</td>\n      <td>Arabia Saudita</td>\n      <td>7.4095</td>\n    </tr>\n    <tr>\n      <th>3</th>\n      <td>Antminer T19 - 84TH/s</td>\n      <td>Arabia Saudita</td>\n      <td>8.04825</td>\n    </tr>\n    <tr>\n      <th>4</th>\n      <td>Antminer S17e-60TH/s</td>\n      <td>Arabia Saudita</td>\n      <td>6.8985</td>\n    </tr>\n    <tr>\n      <th>5</th>\n      <td>Antminer S17+ 70TH/s</td>\n      <td>Arabia Saudita</td>\n      <td>7.154</td>\n    </tr>\n    <tr>\n      <th>6</th>\n      <td>Antminer S9 SE-16TH/s</td>\n      <td>Arabia Saudita</td>\n      <td>3.2704</td>\n    </tr>\n    <tr>\n      <th>7</th>\n      <td>Antminer S9k-13.5TH/s</td>\n      <td>Arabia Saudita</td>\n      <td>2.93314</td>\n    </tr>\n    <tr>\n      <th>8</th>\n      <td>INNOSILICON T2T-29T</td>\n      <td>Arabia Saudita</td>\n      <td>5.621</td>\n    </tr>\n  </tbody>\n</table>\n</div>"
     },
     "metadata": {},
     "execution_count": 144
    }
   ],
   "source": [
    "temp"
   ]
  },
  {
   "cell_type": "code",
   "execution_count": 134,
   "metadata": {},
   "outputs": [
    {
     "output_type": "execute_result",
     "data": {
      "text/plain": "  M.B.C USD    Country                     Model\n0    6.1685  Venezuela  Antminer S19 Pro 110TH/s\n1    6.1685  Venezuela    Antminer S19 - 95TH/s \n2    5.5042  Venezuela     Antminer T17+ 58TH/s \n3    5.9787  Venezuela    Antminer T19 - 84TH/s \n4    5.1246  Venezuela     Antminer S17e-60TH/s \n5    5.3144  Venezuela     Antminer S17+ 70TH/s \n6   2.42944  Venezuela    Antminer S9 SE-16TH/s \n7    2.1789  Venezuela    Antminer S9k-13.5TH/s \n8    4.1756  Venezuela      INNOSILICON T2T-29T ",
      "text/html": "<div>\n<style scoped>\n    .dataframe tbody tr th:only-of-type {\n        vertical-align: middle;\n    }\n\n    .dataframe tbody tr th {\n        vertical-align: top;\n    }\n\n    .dataframe thead th {\n        text-align: right;\n    }\n</style>\n<table border=\"1\" class=\"dataframe\">\n  <thead>\n    <tr style=\"text-align: right;\">\n      <th></th>\n      <th>M.B.C USD</th>\n      <th>Country</th>\n      <th>Model</th>\n    </tr>\n  </thead>\n  <tbody>\n    <tr>\n      <th>0</th>\n      <td>6.1685</td>\n      <td>Venezuela</td>\n      <td>Antminer S19 Pro 110TH/s</td>\n    </tr>\n    <tr>\n      <th>1</th>\n      <td>6.1685</td>\n      <td>Venezuela</td>\n      <td>Antminer S19 - 95TH/s</td>\n    </tr>\n    <tr>\n      <th>2</th>\n      <td>5.5042</td>\n      <td>Venezuela</td>\n      <td>Antminer T17+ 58TH/s</td>\n    </tr>\n    <tr>\n      <th>3</th>\n      <td>5.9787</td>\n      <td>Venezuela</td>\n      <td>Antminer T19 - 84TH/s</td>\n    </tr>\n    <tr>\n      <th>4</th>\n      <td>5.1246</td>\n      <td>Venezuela</td>\n      <td>Antminer S17e-60TH/s</td>\n    </tr>\n    <tr>\n      <th>5</th>\n      <td>5.3144</td>\n      <td>Venezuela</td>\n      <td>Antminer S17+ 70TH/s</td>\n    </tr>\n    <tr>\n      <th>6</th>\n      <td>2.42944</td>\n      <td>Venezuela</td>\n      <td>Antminer S9 SE-16TH/s</td>\n    </tr>\n    <tr>\n      <th>7</th>\n      <td>2.1789</td>\n      <td>Venezuela</td>\n      <td>Antminer S9k-13.5TH/s</td>\n    </tr>\n    <tr>\n      <th>8</th>\n      <td>4.1756</td>\n      <td>Venezuela</td>\n      <td>INNOSILICON T2T-29T</td>\n    </tr>\n  </tbody>\n</table>\n</div>"
     },
     "metadata": {},
     "execution_count": 134
    }
   ],
   "source": [
    "data_u"
   ]
  },
  {
   "cell_type": "code",
   "execution_count": 101,
   "metadata": {},
   "outputs": [],
   "source": [
    "data_u[\"Model\"]=data_u.index"
   ]
  },
  {
   "cell_type": "code",
   "execution_count": null,
   "metadata": {},
   "outputs": [],
   "source": []
  },
  {
   "cell_type": "code",
   "execution_count": 105,
   "metadata": {},
   "outputs": [
    {
     "output_type": "execute_result",
     "data": {
      "text/plain": "  Venezuela                     Model\n0    6.1685  Antminer S19 Pro 110TH/s\n1    6.1685    Antminer S19 - 95TH/s \n2    5.5042     Antminer T17+ 58TH/s \n3    5.9787    Antminer T19 - 84TH/s \n4    5.1246     Antminer S17e-60TH/s \n5    5.3144     Antminer S17+ 70TH/s \n6   2.42944    Antminer S9 SE-16TH/s \n7    2.1789    Antminer S9k-13.5TH/s \n8    4.1756      INNOSILICON T2T-29T ",
      "text/html": "<div>\n<style scoped>\n    .dataframe tbody tr th:only-of-type {\n        vertical-align: middle;\n    }\n\n    .dataframe tbody tr th {\n        vertical-align: top;\n    }\n\n    .dataframe thead th {\n        text-align: right;\n    }\n</style>\n<table border=\"1\" class=\"dataframe\">\n  <thead>\n    <tr style=\"text-align: right;\">\n      <th></th>\n      <th>Venezuela</th>\n      <th>Model</th>\n    </tr>\n  </thead>\n  <tbody>\n    <tr>\n      <th>0</th>\n      <td>6.1685</td>\n      <td>Antminer S19 Pro 110TH/s</td>\n    </tr>\n    <tr>\n      <th>1</th>\n      <td>6.1685</td>\n      <td>Antminer S19 - 95TH/s</td>\n    </tr>\n    <tr>\n      <th>2</th>\n      <td>5.5042</td>\n      <td>Antminer T17+ 58TH/s</td>\n    </tr>\n    <tr>\n      <th>3</th>\n      <td>5.9787</td>\n      <td>Antminer T19 - 84TH/s</td>\n    </tr>\n    <tr>\n      <th>4</th>\n      <td>5.1246</td>\n      <td>Antminer S17e-60TH/s</td>\n    </tr>\n    <tr>\n      <th>5</th>\n      <td>5.3144</td>\n      <td>Antminer S17+ 70TH/s</td>\n    </tr>\n    <tr>\n      <th>6</th>\n      <td>2.42944</td>\n      <td>Antminer S9 SE-16TH/s</td>\n    </tr>\n    <tr>\n      <th>7</th>\n      <td>2.1789</td>\n      <td>Antminer S9k-13.5TH/s</td>\n    </tr>\n    <tr>\n      <th>8</th>\n      <td>4.1756</td>\n      <td>INNOSILICON T2T-29T</td>\n    </tr>\n  </tbody>\n</table>\n</div>"
     },
     "metadata": {},
     "execution_count": 105
    }
   ],
   "source": [
    "data_u"
   ]
  },
  {
   "cell_type": "code",
   "execution_count": 104,
   "metadata": {},
   "outputs": [],
   "source": [
    "data_u=data_u.reset_index(drop=True)"
   ]
  },
  {
   "cell_type": "code",
   "execution_count": 106,
   "metadata": {},
   "outputs": [],
   "source": [
    "data_u=data_u[[\"Model\",\"Venezuela\"]]"
   ]
  },
  {
   "cell_type": "code",
   "execution_count": 111,
   "metadata": {},
   "outputs": [
    {
     "output_type": "execute_result",
     "data": {
      "text/plain": "                            Model Venezuela\nCountry                                    \n0        Antminer S19 Pro 110TH/s    6.1685\n1          Antminer S19 - 95TH/s     6.1685\n2           Antminer T17+ 58TH/s     5.5042\n3          Antminer T19 - 84TH/s     5.9787\n4           Antminer S17e-60TH/s     5.1246\n5           Antminer S17+ 70TH/s     5.3144\n6          Antminer S9 SE-16TH/s    2.42944\n7          Antminer S9k-13.5TH/s     2.1789\n8            INNOSILICON T2T-29T     4.1756",
      "text/html": "<div>\n<style scoped>\n    .dataframe tbody tr th:only-of-type {\n        vertical-align: middle;\n    }\n\n    .dataframe tbody tr th {\n        vertical-align: top;\n    }\n\n    .dataframe thead th {\n        text-align: right;\n    }\n</style>\n<table border=\"1\" class=\"dataframe\">\n  <thead>\n    <tr style=\"text-align: right;\">\n      <th></th>\n      <th>Model</th>\n      <th>Venezuela</th>\n    </tr>\n    <tr>\n      <th>Country</th>\n      <th></th>\n      <th></th>\n    </tr>\n  </thead>\n  <tbody>\n    <tr>\n      <th>0</th>\n      <td>Antminer S19 Pro 110TH/s</td>\n      <td>6.1685</td>\n    </tr>\n    <tr>\n      <th>1</th>\n      <td>Antminer S19 - 95TH/s</td>\n      <td>6.1685</td>\n    </tr>\n    <tr>\n      <th>2</th>\n      <td>Antminer T17+ 58TH/s</td>\n      <td>5.5042</td>\n    </tr>\n    <tr>\n      <th>3</th>\n      <td>Antminer T19 - 84TH/s</td>\n      <td>5.9787</td>\n    </tr>\n    <tr>\n      <th>4</th>\n      <td>Antminer S17e-60TH/s</td>\n      <td>5.1246</td>\n    </tr>\n    <tr>\n      <th>5</th>\n      <td>Antminer S17+ 70TH/s</td>\n      <td>5.3144</td>\n    </tr>\n    <tr>\n      <th>6</th>\n      <td>Antminer S9 SE-16TH/s</td>\n      <td>2.42944</td>\n    </tr>\n    <tr>\n      <th>7</th>\n      <td>Antminer S9k-13.5TH/s</td>\n      <td>2.1789</td>\n    </tr>\n    <tr>\n      <th>8</th>\n      <td>INNOSILICON T2T-29T</td>\n      <td>4.1756</td>\n    </tr>\n  </tbody>\n</table>\n</div>"
     },
     "metadata": {},
     "execution_count": 111
    }
   ],
   "source": [
    "data_u"
   ]
  },
  {
   "cell_type": "code",
   "execution_count": 108,
   "metadata": {},
   "outputs": [],
   "source": [
    "data_u_copy=data_u.copy()"
   ]
  },
  {
   "cell_type": "code",
   "execution_count": 110,
   "metadata": {},
   "outputs": [],
   "source": [
    "data_u.index.name=\"Country\""
   ]
  },
  {
   "cell_type": "code",
   "execution_count": 112,
   "metadata": {},
   "outputs": [],
   "source": [
    "data_u[\"Country\"]=\"Venezuela\""
   ]
  },
  {
   "cell_type": "code",
   "execution_count": 113,
   "metadata": {},
   "outputs": [
    {
     "output_type": "execute_result",
     "data": {
      "text/plain": "                            Model Venezuela    Country\nCountry                                               \n0        Antminer S19 Pro 110TH/s    6.1685  Venezuela\n1          Antminer S19 - 95TH/s     6.1685  Venezuela\n2           Antminer T17+ 58TH/s     5.5042  Venezuela\n3          Antminer T19 - 84TH/s     5.9787  Venezuela\n4           Antminer S17e-60TH/s     5.1246  Venezuela\n5           Antminer S17+ 70TH/s     5.3144  Venezuela\n6          Antminer S9 SE-16TH/s    2.42944  Venezuela\n7          Antminer S9k-13.5TH/s     2.1789  Venezuela\n8            INNOSILICON T2T-29T     4.1756  Venezuela",
      "text/html": "<div>\n<style scoped>\n    .dataframe tbody tr th:only-of-type {\n        vertical-align: middle;\n    }\n\n    .dataframe tbody tr th {\n        vertical-align: top;\n    }\n\n    .dataframe thead th {\n        text-align: right;\n    }\n</style>\n<table border=\"1\" class=\"dataframe\">\n  <thead>\n    <tr style=\"text-align: right;\">\n      <th></th>\n      <th>Model</th>\n      <th>Venezuela</th>\n      <th>Country</th>\n    </tr>\n    <tr>\n      <th>Country</th>\n      <th></th>\n      <th></th>\n      <th></th>\n    </tr>\n  </thead>\n  <tbody>\n    <tr>\n      <th>0</th>\n      <td>Antminer S19 Pro 110TH/s</td>\n      <td>6.1685</td>\n      <td>Venezuela</td>\n    </tr>\n    <tr>\n      <th>1</th>\n      <td>Antminer S19 - 95TH/s</td>\n      <td>6.1685</td>\n      <td>Venezuela</td>\n    </tr>\n    <tr>\n      <th>2</th>\n      <td>Antminer T17+ 58TH/s</td>\n      <td>5.5042</td>\n      <td>Venezuela</td>\n    </tr>\n    <tr>\n      <th>3</th>\n      <td>Antminer T19 - 84TH/s</td>\n      <td>5.9787</td>\n      <td>Venezuela</td>\n    </tr>\n    <tr>\n      <th>4</th>\n      <td>Antminer S17e-60TH/s</td>\n      <td>5.1246</td>\n      <td>Venezuela</td>\n    </tr>\n    <tr>\n      <th>5</th>\n      <td>Antminer S17+ 70TH/s</td>\n      <td>5.3144</td>\n      <td>Venezuela</td>\n    </tr>\n    <tr>\n      <th>6</th>\n      <td>Antminer S9 SE-16TH/s</td>\n      <td>2.42944</td>\n      <td>Venezuela</td>\n    </tr>\n    <tr>\n      <th>7</th>\n      <td>Antminer S9k-13.5TH/s</td>\n      <td>2.1789</td>\n      <td>Venezuela</td>\n    </tr>\n    <tr>\n      <th>8</th>\n      <td>INNOSILICON T2T-29T</td>\n      <td>4.1756</td>\n      <td>Venezuela</td>\n    </tr>\n  </tbody>\n</table>\n</div>"
     },
     "metadata": {},
     "execution_count": 113
    }
   ],
   "source": [
    "data_u"
   ]
  },
  {
   "cell_type": "code",
   "execution_count": 145,
   "metadata": {},
   "outputs": [],
   "source": [
    "def modi_table():\n",
    "    \n",
    "    data_temp=pd.DataFrame()\n",
    "    for i in range(len(datos_1)):\n",
    "        data_u=pd.DataFrame(datos_1.iloc[i])\n",
    "        data_u[\"Country\"]=list(data_u)[0]\n",
    "        data_u[\"Model\"]=data_u.index\n",
    "        data_u=data_u.rename(columns={list(data_u)[0]:\"M.B.C USD\"})\n",
    "        data_u=data_u.reset_index(drop=True)\n",
    "        data_u=data_u[[\"Model\",\"Country\",\"M.B.C USD\"]]\n",
    "        data_temp=data_temp.append(data_u)\n",
    "    return data_temp\n",
    "\n"
   ]
  },
  {
   "cell_type": "code",
   "execution_count": 146,
   "metadata": {},
   "outputs": [],
   "source": [
    "datos_new=modi_table()"
   ]
  },
  {
   "cell_type": "code",
   "execution_count": 147,
   "metadata": {},
   "outputs": [
    {
     "output_type": "execute_result",
     "data": {
      "text/plain": "                       Model            Country M.B.C USD\n0   Antminer S19 Pro 110TH/s          Venezuela    6.1685\n1     Antminer S19 - 95TH/s           Venezuela    6.1685\n2      Antminer T17+ 58TH/s           Venezuela    5.5042\n3     Antminer T19 - 84TH/s           Venezuela    5.9787\n4      Antminer S17e-60TH/s           Venezuela    5.1246\n..                       ...                ...       ...\n4      Antminer S17e-60TH/s   Antigua y Barbuda    867.24\n5      Antminer S17+ 70TH/s   Antigua y Barbuda    899.36\n6     Antminer S9 SE-16TH/s   Antigua y Barbuda   411.136\n7     Antminer S9k-13.5TH/s   Antigua y Barbuda   368.738\n8       INNOSILICON T2T-29T   Antigua y Barbuda    706.64\n\n[1179 rows x 3 columns]",
      "text/html": "<div>\n<style scoped>\n    .dataframe tbody tr th:only-of-type {\n        vertical-align: middle;\n    }\n\n    .dataframe tbody tr th {\n        vertical-align: top;\n    }\n\n    .dataframe thead th {\n        text-align: right;\n    }\n</style>\n<table border=\"1\" class=\"dataframe\">\n  <thead>\n    <tr style=\"text-align: right;\">\n      <th></th>\n      <th>Model</th>\n      <th>Country</th>\n      <th>M.B.C USD</th>\n    </tr>\n  </thead>\n  <tbody>\n    <tr>\n      <th>0</th>\n      <td>Antminer S19 Pro 110TH/s</td>\n      <td>Venezuela</td>\n      <td>6.1685</td>\n    </tr>\n    <tr>\n      <th>1</th>\n      <td>Antminer S19 - 95TH/s</td>\n      <td>Venezuela</td>\n      <td>6.1685</td>\n    </tr>\n    <tr>\n      <th>2</th>\n      <td>Antminer T17+ 58TH/s</td>\n      <td>Venezuela</td>\n      <td>5.5042</td>\n    </tr>\n    <tr>\n      <th>3</th>\n      <td>Antminer T19 - 84TH/s</td>\n      <td>Venezuela</td>\n      <td>5.9787</td>\n    </tr>\n    <tr>\n      <th>4</th>\n      <td>Antminer S17e-60TH/s</td>\n      <td>Venezuela</td>\n      <td>5.1246</td>\n    </tr>\n    <tr>\n      <th>...</th>\n      <td>...</td>\n      <td>...</td>\n      <td>...</td>\n    </tr>\n    <tr>\n      <th>4</th>\n      <td>Antminer S17e-60TH/s</td>\n      <td>Antigua y Barbuda</td>\n      <td>867.24</td>\n    </tr>\n    <tr>\n      <th>5</th>\n      <td>Antminer S17+ 70TH/s</td>\n      <td>Antigua y Barbuda</td>\n      <td>899.36</td>\n    </tr>\n    <tr>\n      <th>6</th>\n      <td>Antminer S9 SE-16TH/s</td>\n      <td>Antigua y Barbuda</td>\n      <td>411.136</td>\n    </tr>\n    <tr>\n      <th>7</th>\n      <td>Antminer S9k-13.5TH/s</td>\n      <td>Antigua y Barbuda</td>\n      <td>368.738</td>\n    </tr>\n    <tr>\n      <th>8</th>\n      <td>INNOSILICON T2T-29T</td>\n      <td>Antigua y Barbuda</td>\n      <td>706.64</td>\n    </tr>\n  </tbody>\n</table>\n<p>1179 rows × 3 columns</p>\n</div>"
     },
     "metadata": {},
     "execution_count": 147
    }
   ],
   "source": [
    "datos_new"
   ]
  },
  {
   "cell_type": "code",
   "execution_count": 122,
   "metadata": {},
   "outputs": [
    {
     "output_type": "execute_result",
     "data": {
      "text/plain": "                  Antminer S19 Pro 110TH/s Antminer S19 - 95TH/s   \\\nCountry                                                             \nVenezuela                           6.1685                 6.1685   \nArabia Saudita                     8.30375                8.30375   \nBielorrusia                        18.7428                18.7428   \nEgipto                             21.3525                21.3525   \nSudán                               23.725                 23.725   \n...                                    ...                    ...   \nAlemania                             854.1                  854.1   \nRumanía                                949                    949   \nSan Marino                             949                    949   \nMalta                                  949                    949   \nAntigua y Barbuda                   1043.9                 1043.9   \n\n                  Antminer T17+ 58TH/s  Antminer T19 - 84TH/s   \\\nCountry                                                          \nVenezuela                        5.5042                 5.9787   \nArabia Saudita                   7.4095                8.04825   \nBielorrusia                     16.7243                 18.166   \nEgipto                           19.053                20.6955   \nSudán                             21.17                 22.995   \n...                                 ...                    ...   \nAlemania                         762.12                 827.82   \nRumanía                           846.8                  919.8   \nSan Marino                        846.8                  919.8   \nMalta                             846.8                  919.8   \nAntigua y Barbuda                931.48                1011.78   \n\n                  Antminer S17e-60TH/s  Antminer S17+ 70TH/s   \\\nCountry                                                         \nVenezuela                        5.1246                5.3144   \nArabia Saudita                   6.8985                 7.154   \nBielorrusia                     15.5709               16.1476   \nEgipto                           17.739                18.396   \nSudán                             19.71                 20.44   \n...                                 ...                   ...   \nAlemania                         709.56                735.84   \nRumanía                           788.4                 817.6   \nSan Marino                        788.4                 817.6   \nMalta                             788.4                 817.6   \nAntigua y Barbuda                867.24                899.36   \n\n                  Antminer S9 SE-16TH/s  Antminer S9k-13.5TH/s   \\\nCountry                                                           \nVenezuela                        2.42944                 2.1789   \nArabia Saudita                    3.2704                2.93314   \nBielorrusia                      7.38176                6.62052   \nEgipto                            8.4096                7.54236   \nSudán                              9.344                 8.3804   \n...                                  ...                    ...   \nAlemania                         336.384                301.694   \nRumanía                           373.76                335.216   \nSan Marino                        373.76                335.216   \nMalta                             373.76                335.216   \nAntigua y Barbuda                411.136                368.738   \n\n                  INNOSILICON T2T-29T   \nCountry                                 \nVenezuela                       4.1756  \nArabia Saudita                   5.621  \nBielorrusia                    12.6874  \nEgipto                          14.454  \nSudán                            16.06  \n...                                ...  \nAlemania                        578.16  \nRumanía                          642.4  \nSan Marino                       642.4  \nMalta                            642.4  \nAntigua y Barbuda               706.64  \n\n[131 rows x 9 columns]",
      "text/html": "<div>\n<style scoped>\n    .dataframe tbody tr th:only-of-type {\n        vertical-align: middle;\n    }\n\n    .dataframe tbody tr th {\n        vertical-align: top;\n    }\n\n    .dataframe thead th {\n        text-align: right;\n    }\n</style>\n<table border=\"1\" class=\"dataframe\">\n  <thead>\n    <tr style=\"text-align: right;\">\n      <th></th>\n      <th>Antminer S19 Pro 110TH/s</th>\n      <th>Antminer S19 - 95TH/s</th>\n      <th>Antminer T17+ 58TH/s</th>\n      <th>Antminer T19 - 84TH/s</th>\n      <th>Antminer S17e-60TH/s</th>\n      <th>Antminer S17+ 70TH/s</th>\n      <th>Antminer S9 SE-16TH/s</th>\n      <th>Antminer S9k-13.5TH/s</th>\n      <th>INNOSILICON T2T-29T</th>\n    </tr>\n    <tr>\n      <th>Country</th>\n      <th></th>\n      <th></th>\n      <th></th>\n      <th></th>\n      <th></th>\n      <th></th>\n      <th></th>\n      <th></th>\n      <th></th>\n    </tr>\n  </thead>\n  <tbody>\n    <tr>\n      <th>Venezuela</th>\n      <td>6.1685</td>\n      <td>6.1685</td>\n      <td>5.5042</td>\n      <td>5.9787</td>\n      <td>5.1246</td>\n      <td>5.3144</td>\n      <td>2.42944</td>\n      <td>2.1789</td>\n      <td>4.1756</td>\n    </tr>\n    <tr>\n      <th>Arabia Saudita</th>\n      <td>8.30375</td>\n      <td>8.30375</td>\n      <td>7.4095</td>\n      <td>8.04825</td>\n      <td>6.8985</td>\n      <td>7.154</td>\n      <td>3.2704</td>\n      <td>2.93314</td>\n      <td>5.621</td>\n    </tr>\n    <tr>\n      <th>Bielorrusia</th>\n      <td>18.7428</td>\n      <td>18.7428</td>\n      <td>16.7243</td>\n      <td>18.166</td>\n      <td>15.5709</td>\n      <td>16.1476</td>\n      <td>7.38176</td>\n      <td>6.62052</td>\n      <td>12.6874</td>\n    </tr>\n    <tr>\n      <th>Egipto</th>\n      <td>21.3525</td>\n      <td>21.3525</td>\n      <td>19.053</td>\n      <td>20.6955</td>\n      <td>17.739</td>\n      <td>18.396</td>\n      <td>8.4096</td>\n      <td>7.54236</td>\n      <td>14.454</td>\n    </tr>\n    <tr>\n      <th>Sudán</th>\n      <td>23.725</td>\n      <td>23.725</td>\n      <td>21.17</td>\n      <td>22.995</td>\n      <td>19.71</td>\n      <td>20.44</td>\n      <td>9.344</td>\n      <td>8.3804</td>\n      <td>16.06</td>\n    </tr>\n    <tr>\n      <th>...</th>\n      <td>...</td>\n      <td>...</td>\n      <td>...</td>\n      <td>...</td>\n      <td>...</td>\n      <td>...</td>\n      <td>...</td>\n      <td>...</td>\n      <td>...</td>\n    </tr>\n    <tr>\n      <th>Alemania</th>\n      <td>854.1</td>\n      <td>854.1</td>\n      <td>762.12</td>\n      <td>827.82</td>\n      <td>709.56</td>\n      <td>735.84</td>\n      <td>336.384</td>\n      <td>301.694</td>\n      <td>578.16</td>\n    </tr>\n    <tr>\n      <th>Rumanía</th>\n      <td>949</td>\n      <td>949</td>\n      <td>846.8</td>\n      <td>919.8</td>\n      <td>788.4</td>\n      <td>817.6</td>\n      <td>373.76</td>\n      <td>335.216</td>\n      <td>642.4</td>\n    </tr>\n    <tr>\n      <th>San Marino</th>\n      <td>949</td>\n      <td>949</td>\n      <td>846.8</td>\n      <td>919.8</td>\n      <td>788.4</td>\n      <td>817.6</td>\n      <td>373.76</td>\n      <td>335.216</td>\n      <td>642.4</td>\n    </tr>\n    <tr>\n      <th>Malta</th>\n      <td>949</td>\n      <td>949</td>\n      <td>846.8</td>\n      <td>919.8</td>\n      <td>788.4</td>\n      <td>817.6</td>\n      <td>373.76</td>\n      <td>335.216</td>\n      <td>642.4</td>\n    </tr>\n    <tr>\n      <th>Antigua y Barbuda</th>\n      <td>1043.9</td>\n      <td>1043.9</td>\n      <td>931.48</td>\n      <td>1011.78</td>\n      <td>867.24</td>\n      <td>899.36</td>\n      <td>411.136</td>\n      <td>368.738</td>\n      <td>706.64</td>\n    </tr>\n  </tbody>\n</table>\n<p>131 rows × 9 columns</p>\n</div>"
     },
     "metadata": {},
     "execution_count": 122
    }
   ],
   "source": [
    "datos_1"
   ]
  },
  {
   "cell_type": "code",
   "execution_count": 150,
   "metadata": {},
   "outputs": [],
   "source": [
    "datos_new=datos_new.set_index(['Country',\"Model\"])"
   ]
  },
  {
   "cell_type": "code",
   "execution_count": 153,
   "metadata": {},
   "outputs": [
    {
     "output_type": "execute_result",
     "data": {
      "text/plain": "                                        M.B.C USD\nCountry        Model                             \nVenezuela      Antminer S19 Pro 110TH/s    6.1685\n               Antminer S19 - 95TH/s       6.1685\n               Antminer T17+ 58TH/s        5.5042\n               Antminer T19 - 84TH/s       5.9787\n               Antminer S17e-60TH/s        5.1246\n               Antminer S17+ 70TH/s        5.3144\n               Antminer S9 SE-16TH/s      2.42944\n               Antminer S9k-13.5TH/s       2.1789\n               INNOSILICON T2T-29T         4.1756\nArabia Saudita Antminer S19 Pro 110TH/s   8.30375\n               Antminer S19 - 95TH/s      8.30375\n               Antminer T17+ 58TH/s        7.4095\n               Antminer T19 - 84TH/s      8.04825\n               Antminer S17e-60TH/s        6.8985\n               Antminer S17+ 70TH/s         7.154",
      "text/html": "<div>\n<style scoped>\n    .dataframe tbody tr th:only-of-type {\n        vertical-align: middle;\n    }\n\n    .dataframe tbody tr th {\n        vertical-align: top;\n    }\n\n    .dataframe thead th {\n        text-align: right;\n    }\n</style>\n<table border=\"1\" class=\"dataframe\">\n  <thead>\n    <tr style=\"text-align: right;\">\n      <th></th>\n      <th></th>\n      <th>M.B.C USD</th>\n    </tr>\n    <tr>\n      <th>Country</th>\n      <th>Model</th>\n      <th></th>\n    </tr>\n  </thead>\n  <tbody>\n    <tr>\n      <th rowspan=\"9\" valign=\"top\">Venezuela</th>\n      <th>Antminer S19 Pro 110TH/s</th>\n      <td>6.1685</td>\n    </tr>\n    <tr>\n      <th>Antminer S19 - 95TH/s</th>\n      <td>6.1685</td>\n    </tr>\n    <tr>\n      <th>Antminer T17+ 58TH/s</th>\n      <td>5.5042</td>\n    </tr>\n    <tr>\n      <th>Antminer T19 - 84TH/s</th>\n      <td>5.9787</td>\n    </tr>\n    <tr>\n      <th>Antminer S17e-60TH/s</th>\n      <td>5.1246</td>\n    </tr>\n    <tr>\n      <th>Antminer S17+ 70TH/s</th>\n      <td>5.3144</td>\n    </tr>\n    <tr>\n      <th>Antminer S9 SE-16TH/s</th>\n      <td>2.42944</td>\n    </tr>\n    <tr>\n      <th>Antminer S9k-13.5TH/s</th>\n      <td>2.1789</td>\n    </tr>\n    <tr>\n      <th>INNOSILICON T2T-29T</th>\n      <td>4.1756</td>\n    </tr>\n    <tr>\n      <th rowspan=\"6\" valign=\"top\">Arabia Saudita</th>\n      <th>Antminer S19 Pro 110TH/s</th>\n      <td>8.30375</td>\n    </tr>\n    <tr>\n      <th>Antminer S19 - 95TH/s</th>\n      <td>8.30375</td>\n    </tr>\n    <tr>\n      <th>Antminer T17+ 58TH/s</th>\n      <td>7.4095</td>\n    </tr>\n    <tr>\n      <th>Antminer T19 - 84TH/s</th>\n      <td>8.04825</td>\n    </tr>\n    <tr>\n      <th>Antminer S17e-60TH/s</th>\n      <td>6.8985</td>\n    </tr>\n    <tr>\n      <th>Antminer S17+ 70TH/s</th>\n      <td>7.154</td>\n    </tr>\n  </tbody>\n</table>\n</div>"
     },
     "metadata": {},
     "execution_count": 153
    }
   ],
   "source": [
    "datos_new.head(15)"
   ]
  },
  {
   "cell_type": "code",
   "execution_count": 154,
   "metadata": {},
   "outputs": [],
   "source": [
    "datos_new.to_csv(\"consumption_table_by_group.csv\")"
   ]
  },
  {
   "cell_type": "code",
   "execution_count": 155,
   "metadata": {},
   "outputs": [],
   "source": [
    "const=0.0002174"
   ]
  },
  {
   "cell_type": "markdown",
   "metadata": {},
   "source": [
    "## COnstruyendo la otra parte de la tabla dinamica"
   ]
  },
  {
   "cell_type": "code",
   "execution_count": 160,
   "metadata": {},
   "outputs": [
    {
     "output_type": "execute_result",
     "data": {
      "text/plain": "                    Models    Price  Power Consumtion  TH/s\n0  Antminer S19 Pro 110TH/s  2407.0              3250   110\n1    Antminer S19 - 95TH/s   1785.0              3250    95\n2     Antminer T17+ 58TH/s    817.0              2900    58\n3    Antminer T19 - 84TH/s   1749.0              3150    84\n4     Antminer S17e-60TH/s    799.0              2700    60\n5     Antminer S17+ 70TH/s   1232.0              2800    70\n6    Antminer S9 SE-16TH/s     95.0              1280    16\n7    Antminer S9k-13.5TH/s     63.0              1148    14\n8      INNOSILICON T2T-29T    499.0              2200    29",
      "text/html": "<div>\n<style scoped>\n    .dataframe tbody tr th:only-of-type {\n        vertical-align: middle;\n    }\n\n    .dataframe tbody tr th {\n        vertical-align: top;\n    }\n\n    .dataframe thead th {\n        text-align: right;\n    }\n</style>\n<table border=\"1\" class=\"dataframe\">\n  <thead>\n    <tr style=\"text-align: right;\">\n      <th></th>\n      <th>Models</th>\n      <th>Price</th>\n      <th>Power Consumtion</th>\n      <th>TH/s</th>\n    </tr>\n  </thead>\n  <tbody>\n    <tr>\n      <th>0</th>\n      <td>Antminer S19 Pro 110TH/s</td>\n      <td>2407.0</td>\n      <td>3250</td>\n      <td>110</td>\n    </tr>\n    <tr>\n      <th>1</th>\n      <td>Antminer S19 - 95TH/s</td>\n      <td>1785.0</td>\n      <td>3250</td>\n      <td>95</td>\n    </tr>\n    <tr>\n      <th>2</th>\n      <td>Antminer T17+ 58TH/s</td>\n      <td>817.0</td>\n      <td>2900</td>\n      <td>58</td>\n    </tr>\n    <tr>\n      <th>3</th>\n      <td>Antminer T19 - 84TH/s</td>\n      <td>1749.0</td>\n      <td>3150</td>\n      <td>84</td>\n    </tr>\n    <tr>\n      <th>4</th>\n      <td>Antminer S17e-60TH/s</td>\n      <td>799.0</td>\n      <td>2700</td>\n      <td>60</td>\n    </tr>\n    <tr>\n      <th>5</th>\n      <td>Antminer S17+ 70TH/s</td>\n      <td>1232.0</td>\n      <td>2800</td>\n      <td>70</td>\n    </tr>\n    <tr>\n      <th>6</th>\n      <td>Antminer S9 SE-16TH/s</td>\n      <td>95.0</td>\n      <td>1280</td>\n      <td>16</td>\n    </tr>\n    <tr>\n      <th>7</th>\n      <td>Antminer S9k-13.5TH/s</td>\n      <td>63.0</td>\n      <td>1148</td>\n      <td>14</td>\n    </tr>\n    <tr>\n      <th>8</th>\n      <td>INNOSILICON T2T-29T</td>\n      <td>499.0</td>\n      <td>2200</td>\n      <td>29</td>\n    </tr>\n  </tbody>\n</table>\n</div>"
     },
     "metadata": {},
     "execution_count": 160
    }
   ],
   "source": [
    "data_model"
   ]
  },
  {
   "cell_type": "code",
   "execution_count": 171,
   "metadata": {},
   "outputs": [],
   "source": [
    "data=pd.merge(datos_new,data_model,how=\"left\",left_on=\"Model\",right_on=\"Models \")"
   ]
  },
  {
   "cell_type": "code",
   "execution_count": 167,
   "metadata": {},
   "outputs": [
    {
     "output_type": "execute_result",
     "data": {
      "text/plain": "     M.B.C USD                   Models    Price  Power Consumtion  TH/s\n0       6.1685  Antminer S19 Pro 110TH/s  2407.0              3250   110\n1      8.30375  Antminer S19 Pro 110TH/s  2407.0              3250   110\n2      18.7428  Antminer S19 Pro 110TH/s  2407.0              3250   110\n3      21.3525  Antminer S19 Pro 110TH/s  2407.0              3250   110\n4       23.725  Antminer S19 Pro 110TH/s  2407.0              3250   110\n...        ...                       ...     ...               ...   ...\n1174    578.16      INNOSILICON T2T-29T    499.0              2200    29\n1175     642.4      INNOSILICON T2T-29T    499.0              2200    29\n1176     642.4      INNOSILICON T2T-29T    499.0              2200    29\n1177     642.4      INNOSILICON T2T-29T    499.0              2200    29\n1178    706.64      INNOSILICON T2T-29T    499.0              2200    29\n\n[1179 rows x 5 columns]",
      "text/html": "<div>\n<style scoped>\n    .dataframe tbody tr th:only-of-type {\n        vertical-align: middle;\n    }\n\n    .dataframe tbody tr th {\n        vertical-align: top;\n    }\n\n    .dataframe thead th {\n        text-align: right;\n    }\n</style>\n<table border=\"1\" class=\"dataframe\">\n  <thead>\n    <tr style=\"text-align: right;\">\n      <th></th>\n      <th>M.B.C USD</th>\n      <th>Models</th>\n      <th>Price</th>\n      <th>Power Consumtion</th>\n      <th>TH/s</th>\n    </tr>\n  </thead>\n  <tbody>\n    <tr>\n      <th>0</th>\n      <td>6.1685</td>\n      <td>Antminer S19 Pro 110TH/s</td>\n      <td>2407.0</td>\n      <td>3250</td>\n      <td>110</td>\n    </tr>\n    <tr>\n      <th>1</th>\n      <td>8.30375</td>\n      <td>Antminer S19 Pro 110TH/s</td>\n      <td>2407.0</td>\n      <td>3250</td>\n      <td>110</td>\n    </tr>\n    <tr>\n      <th>2</th>\n      <td>18.7428</td>\n      <td>Antminer S19 Pro 110TH/s</td>\n      <td>2407.0</td>\n      <td>3250</td>\n      <td>110</td>\n    </tr>\n    <tr>\n      <th>3</th>\n      <td>21.3525</td>\n      <td>Antminer S19 Pro 110TH/s</td>\n      <td>2407.0</td>\n      <td>3250</td>\n      <td>110</td>\n    </tr>\n    <tr>\n      <th>4</th>\n      <td>23.725</td>\n      <td>Antminer S19 Pro 110TH/s</td>\n      <td>2407.0</td>\n      <td>3250</td>\n      <td>110</td>\n    </tr>\n    <tr>\n      <th>...</th>\n      <td>...</td>\n      <td>...</td>\n      <td>...</td>\n      <td>...</td>\n      <td>...</td>\n    </tr>\n    <tr>\n      <th>1174</th>\n      <td>578.16</td>\n      <td>INNOSILICON T2T-29T</td>\n      <td>499.0</td>\n      <td>2200</td>\n      <td>29</td>\n    </tr>\n    <tr>\n      <th>1175</th>\n      <td>642.4</td>\n      <td>INNOSILICON T2T-29T</td>\n      <td>499.0</td>\n      <td>2200</td>\n      <td>29</td>\n    </tr>\n    <tr>\n      <th>1176</th>\n      <td>642.4</td>\n      <td>INNOSILICON T2T-29T</td>\n      <td>499.0</td>\n      <td>2200</td>\n      <td>29</td>\n    </tr>\n    <tr>\n      <th>1177</th>\n      <td>642.4</td>\n      <td>INNOSILICON T2T-29T</td>\n      <td>499.0</td>\n      <td>2200</td>\n      <td>29</td>\n    </tr>\n    <tr>\n      <th>1178</th>\n      <td>706.64</td>\n      <td>INNOSILICON T2T-29T</td>\n      <td>499.0</td>\n      <td>2200</td>\n      <td>29</td>\n    </tr>\n  </tbody>\n</table>\n<p>1179 rows × 5 columns</p>\n</div>"
     },
     "metadata": {},
     "execution_count": 167
    }
   ],
   "source": [
    "data"
   ]
  },
  {
   "cell_type": "code",
   "execution_count": 165,
   "metadata": {},
   "outputs": [
    {
     "output_type": "execute_result",
     "data": {
      "text/plain": "     M.B.C USD                   Models    Price  Power Consumtion  TH/s\n0       6.1685  Antminer S19 Pro 110TH/s  2407.0              3250   110\n1       6.1685    Antminer S19 - 95TH/s   1785.0              3250    95\n2       5.5042     Antminer T17+ 58TH/s    817.0              2900    58\n3       5.9787    Antminer T19 - 84TH/s   1749.0              3150    84\n4       5.1246     Antminer S17e-60TH/s    799.0              2700    60\n...        ...                       ...     ...               ...   ...\n1174    867.24     Antminer S17e-60TH/s    799.0              2700    60\n1175    899.36     Antminer S17+ 70TH/s   1232.0              2800    70\n1176   411.136    Antminer S9 SE-16TH/s     95.0              1280    16\n1177   368.738    Antminer S9k-13.5TH/s     63.0              1148    14\n1178    706.64      INNOSILICON T2T-29T    499.0              2200    29\n\n[1179 rows x 5 columns]",
      "text/html": "<div>\n<style scoped>\n    .dataframe tbody tr th:only-of-type {\n        vertical-align: middle;\n    }\n\n    .dataframe tbody tr th {\n        vertical-align: top;\n    }\n\n    .dataframe thead th {\n        text-align: right;\n    }\n</style>\n<table border=\"1\" class=\"dataframe\">\n  <thead>\n    <tr style=\"text-align: right;\">\n      <th></th>\n      <th>M.B.C USD</th>\n      <th>Models</th>\n      <th>Price</th>\n      <th>Power Consumtion</th>\n      <th>TH/s</th>\n    </tr>\n  </thead>\n  <tbody>\n    <tr>\n      <th>0</th>\n      <td>6.1685</td>\n      <td>Antminer S19 Pro 110TH/s</td>\n      <td>2407.0</td>\n      <td>3250</td>\n      <td>110</td>\n    </tr>\n    <tr>\n      <th>1</th>\n      <td>6.1685</td>\n      <td>Antminer S19 - 95TH/s</td>\n      <td>1785.0</td>\n      <td>3250</td>\n      <td>95</td>\n    </tr>\n    <tr>\n      <th>2</th>\n      <td>5.5042</td>\n      <td>Antminer T17+ 58TH/s</td>\n      <td>817.0</td>\n      <td>2900</td>\n      <td>58</td>\n    </tr>\n    <tr>\n      <th>3</th>\n      <td>5.9787</td>\n      <td>Antminer T19 - 84TH/s</td>\n      <td>1749.0</td>\n      <td>3150</td>\n      <td>84</td>\n    </tr>\n    <tr>\n      <th>4</th>\n      <td>5.1246</td>\n      <td>Antminer S17e-60TH/s</td>\n      <td>799.0</td>\n      <td>2700</td>\n      <td>60</td>\n    </tr>\n    <tr>\n      <th>...</th>\n      <td>...</td>\n      <td>...</td>\n      <td>...</td>\n      <td>...</td>\n      <td>...</td>\n    </tr>\n    <tr>\n      <th>1174</th>\n      <td>867.24</td>\n      <td>Antminer S17e-60TH/s</td>\n      <td>799.0</td>\n      <td>2700</td>\n      <td>60</td>\n    </tr>\n    <tr>\n      <th>1175</th>\n      <td>899.36</td>\n      <td>Antminer S17+ 70TH/s</td>\n      <td>1232.0</td>\n      <td>2800</td>\n      <td>70</td>\n    </tr>\n    <tr>\n      <th>1176</th>\n      <td>411.136</td>\n      <td>Antminer S9 SE-16TH/s</td>\n      <td>95.0</td>\n      <td>1280</td>\n      <td>16</td>\n    </tr>\n    <tr>\n      <th>1177</th>\n      <td>368.738</td>\n      <td>Antminer S9k-13.5TH/s</td>\n      <td>63.0</td>\n      <td>1148</td>\n      <td>14</td>\n    </tr>\n    <tr>\n      <th>1178</th>\n      <td>706.64</td>\n      <td>INNOSILICON T2T-29T</td>\n      <td>499.0</td>\n      <td>2200</td>\n      <td>29</td>\n    </tr>\n  </tbody>\n</table>\n<p>1179 rows × 5 columns</p>\n</div>"
     },
     "metadata": {},
     "execution_count": 165
    }
   ],
   "source": [
    "data"
   ]
  },
  {
   "cell_type": "code",
   "execution_count": 164,
   "metadata": {},
   "outputs": [
    {
     "output_type": "execute_result",
     "data": {
      "text/plain": "['M.B.C USD', 'Models ', 'Price', 'Power Consumtion', 'TH/s']"
     },
     "metadata": {},
     "execution_count": 164
    }
   ],
   "source": [
    "list(data)"
   ]
  },
  {
   "cell_type": "code",
   "execution_count": 173,
   "metadata": {},
   "outputs": [
    {
     "output_type": "execute_result",
     "data": {
      "text/plain": "9171.35"
     },
     "metadata": {},
     "execution_count": 173
    }
   ],
   "source": [
    "stats=blockchain_stats()\n",
    "stats.get(\"market_price_usd\")"
   ]
  },
  {
   "cell_type": "markdown",
   "metadata": {},
   "source": [
    "## Funcion para actualizar"
   ]
  },
  {
   "cell_type": "code",
   "execution_count": 212,
   "metadata": {},
   "outputs": [],
   "source": [
    "# datos_new=pd.read_csv(\"consumption_table_by_group.csv\")\n",
    "# data_model=pd.read_csv(\"../../blockchain data/models_prices_th.csv\")\n",
    "\n",
    "# Const = la constante de crypto compare\n",
    "# data_new y Data Model recargado\n",
    "\n",
    "def profit_btc(datos_new,data_model):\n",
    "    const=0.0002174\n",
    "    stats=blockchain_stats()\n",
    "    price=stats.get(\"market_price_usd\")\n",
    "    # price=9171.35\n",
    "    \n",
    "    data=pd.merge(datos_new,data_model,how=\"inner\",left_on=\"Model\",right_on=\"Models \")\n",
    "    data=data.drop(['Models '],axis=1)\n",
    "    data=data.set_index(['Country',\"Model\"]).sort_index()\n",
    "    data[\"USD Profit\"]=data['TH/s']*const*price\n",
    "    data[\"BTC Profit\"]=data['TH/s']*const\n",
    "    return data\n",
    "\n"
   ]
  },
  {
   "cell_type": "markdown",
   "metadata": {},
   "source": [
    "## _-_-_-_-_-_-_-_-_-_-_-_-_-_-_-_-_-_-_-_-_-_-_-_---_-_-_-_-_---_-_--"
   ]
  },
  {
   "cell_type": "code",
   "execution_count": 213,
   "metadata": {
    "tags": []
   },
   "outputs": [],
   "source": [
    "data_prueba=profit_btc(datos_new,data_model)"
   ]
  },
  {
   "cell_type": "code",
   "execution_count": 214,
   "metadata": {},
   "outputs": [
    {
     "output_type": "execute_result",
     "data": {
      "text/plain": "                Country                     Model  M.B.C USD  \\\n0             Venezuela  Antminer S19 Pro 110TH/s    6.16850   \n1        Arabia Saudita  Antminer S19 Pro 110TH/s    8.30375   \n2           Bielorrusia  Antminer S19 Pro 110TH/s   18.74275   \n3                Egipto  Antminer S19 Pro 110TH/s   21.35250   \n4                 Sudán  Antminer S19 Pro 110TH/s   23.72500   \n...                 ...                       ...        ...   \n1174           Alemania      INNOSILICON T2T-29T   578.16000   \n1175            Rumanía      INNOSILICON T2T-29T   642.40000   \n1176         San Marino      INNOSILICON T2T-29T   642.40000   \n1177              Malta      INNOSILICON T2T-29T   642.40000   \n1178  Antigua y Barbuda      INNOSILICON T2T-29T   706.64000   \n\n                       Models    Price  Power Consumtion  TH/s  USD Profit  \\\n0     Antminer S19 Pro 110TH/s  2407.0              3250   110  219.323664   \n1     Antminer S19 Pro 110TH/s  2407.0              3250   110  219.323664   \n2     Antminer S19 Pro 110TH/s  2407.0              3250   110  219.323664   \n3     Antminer S19 Pro 110TH/s  2407.0              3250   110  219.323664   \n4     Antminer S19 Pro 110TH/s  2407.0              3250   110  219.323664   \n...                        ...     ...               ...   ...         ...   \n1174      INNOSILICON T2T-29T    499.0              2200    29   57.821693   \n1175      INNOSILICON T2T-29T    499.0              2200    29   57.821693   \n1176      INNOSILICON T2T-29T    499.0              2200    29   57.821693   \n1177      INNOSILICON T2T-29T    499.0              2200    29   57.821693   \n1178      INNOSILICON T2T-29T    499.0              2200    29   57.821693   \n\n      BTC Profit  \n0       0.023914  \n1       0.023914  \n2       0.023914  \n3       0.023914  \n4       0.023914  \n...          ...  \n1174    0.006305  \n1175    0.006305  \n1176    0.006305  \n1177    0.006305  \n1178    0.006305  \n\n[1179 rows x 9 columns]",
      "text/html": "<div>\n<style scoped>\n    .dataframe tbody tr th:only-of-type {\n        vertical-align: middle;\n    }\n\n    .dataframe tbody tr th {\n        vertical-align: top;\n    }\n\n    .dataframe thead th {\n        text-align: right;\n    }\n</style>\n<table border=\"1\" class=\"dataframe\">\n  <thead>\n    <tr style=\"text-align: right;\">\n      <th></th>\n      <th>Country</th>\n      <th>Model</th>\n      <th>M.B.C USD</th>\n      <th>Models</th>\n      <th>Price</th>\n      <th>Power Consumtion</th>\n      <th>TH/s</th>\n      <th>USD Profit</th>\n      <th>BTC Profit</th>\n    </tr>\n  </thead>\n  <tbody>\n    <tr>\n      <th>0</th>\n      <td>Venezuela</td>\n      <td>Antminer S19 Pro 110TH/s</td>\n      <td>6.16850</td>\n      <td>Antminer S19 Pro 110TH/s</td>\n      <td>2407.0</td>\n      <td>3250</td>\n      <td>110</td>\n      <td>219.323664</td>\n      <td>0.023914</td>\n    </tr>\n    <tr>\n      <th>1</th>\n      <td>Arabia Saudita</td>\n      <td>Antminer S19 Pro 110TH/s</td>\n      <td>8.30375</td>\n      <td>Antminer S19 Pro 110TH/s</td>\n      <td>2407.0</td>\n      <td>3250</td>\n      <td>110</td>\n      <td>219.323664</td>\n      <td>0.023914</td>\n    </tr>\n    <tr>\n      <th>2</th>\n      <td>Bielorrusia</td>\n      <td>Antminer S19 Pro 110TH/s</td>\n      <td>18.74275</td>\n      <td>Antminer S19 Pro 110TH/s</td>\n      <td>2407.0</td>\n      <td>3250</td>\n      <td>110</td>\n      <td>219.323664</td>\n      <td>0.023914</td>\n    </tr>\n    <tr>\n      <th>3</th>\n      <td>Egipto</td>\n      <td>Antminer S19 Pro 110TH/s</td>\n      <td>21.35250</td>\n      <td>Antminer S19 Pro 110TH/s</td>\n      <td>2407.0</td>\n      <td>3250</td>\n      <td>110</td>\n      <td>219.323664</td>\n      <td>0.023914</td>\n    </tr>\n    <tr>\n      <th>4</th>\n      <td>Sudán</td>\n      <td>Antminer S19 Pro 110TH/s</td>\n      <td>23.72500</td>\n      <td>Antminer S19 Pro 110TH/s</td>\n      <td>2407.0</td>\n      <td>3250</td>\n      <td>110</td>\n      <td>219.323664</td>\n      <td>0.023914</td>\n    </tr>\n    <tr>\n      <th>...</th>\n      <td>...</td>\n      <td>...</td>\n      <td>...</td>\n      <td>...</td>\n      <td>...</td>\n      <td>...</td>\n      <td>...</td>\n      <td>...</td>\n      <td>...</td>\n    </tr>\n    <tr>\n      <th>1174</th>\n      <td>Alemania</td>\n      <td>INNOSILICON T2T-29T</td>\n      <td>578.16000</td>\n      <td>INNOSILICON T2T-29T</td>\n      <td>499.0</td>\n      <td>2200</td>\n      <td>29</td>\n      <td>57.821693</td>\n      <td>0.006305</td>\n    </tr>\n    <tr>\n      <th>1175</th>\n      <td>Rumanía</td>\n      <td>INNOSILICON T2T-29T</td>\n      <td>642.40000</td>\n      <td>INNOSILICON T2T-29T</td>\n      <td>499.0</td>\n      <td>2200</td>\n      <td>29</td>\n      <td>57.821693</td>\n      <td>0.006305</td>\n    </tr>\n    <tr>\n      <th>1176</th>\n      <td>San Marino</td>\n      <td>INNOSILICON T2T-29T</td>\n      <td>642.40000</td>\n      <td>INNOSILICON T2T-29T</td>\n      <td>499.0</td>\n      <td>2200</td>\n      <td>29</td>\n      <td>57.821693</td>\n      <td>0.006305</td>\n    </tr>\n    <tr>\n      <th>1177</th>\n      <td>Malta</td>\n      <td>INNOSILICON T2T-29T</td>\n      <td>642.40000</td>\n      <td>INNOSILICON T2T-29T</td>\n      <td>499.0</td>\n      <td>2200</td>\n      <td>29</td>\n      <td>57.821693</td>\n      <td>0.006305</td>\n    </tr>\n    <tr>\n      <th>1178</th>\n      <td>Antigua y Barbuda</td>\n      <td>INNOSILICON T2T-29T</td>\n      <td>706.64000</td>\n      <td>INNOSILICON T2T-29T</td>\n      <td>499.0</td>\n      <td>2200</td>\n      <td>29</td>\n      <td>57.821693</td>\n      <td>0.006305</td>\n    </tr>\n  </tbody>\n</table>\n<p>1179 rows × 9 columns</p>\n</div>"
     },
     "metadata": {},
     "execution_count": 214
    }
   ],
   "source": []
  },
  {
   "cell_type": "code",
   "execution_count": 210,
   "metadata": {},
   "outputs": [],
   "source": [
    "stats=blockchain_stats()\n",
    "price=stats.get(\"market_price_usd\")\n",
    "data[\"USD Profit\"]=data['TH/s']*const*price\n",
    "data[\"BTC Profit\"]=data['TH/s']*const"
   ]
  },
  {
   "cell_type": "code",
   "execution_count": 211,
   "metadata": {},
   "outputs": [
    {
     "output_type": "execute_result",
     "data": {
      "text/plain": "                Country                     Model  M.B.C USD  \\\n0             Venezuela  Antminer S19 Pro 110TH/s    6.16850   \n1        Arabia Saudita  Antminer S19 Pro 110TH/s    8.30375   \n2           Bielorrusia  Antminer S19 Pro 110TH/s   18.74275   \n3                Egipto  Antminer S19 Pro 110TH/s   21.35250   \n4                 Sudán  Antminer S19 Pro 110TH/s   23.72500   \n...                 ...                       ...        ...   \n1174           Alemania      INNOSILICON T2T-29T   578.16000   \n1175            Rumanía      INNOSILICON T2T-29T   642.40000   \n1176         San Marino      INNOSILICON T2T-29T   642.40000   \n1177              Malta      INNOSILICON T2T-29T   642.40000   \n1178  Antigua y Barbuda      INNOSILICON T2T-29T   706.64000   \n\n                       Models    Price  Power Consumtion  TH/s  USD Profit  \\\n0     Antminer S19 Pro 110TH/s  2407.0              3250   110  219.323664   \n1     Antminer S19 Pro 110TH/s  2407.0              3250   110  219.323664   \n2     Antminer S19 Pro 110TH/s  2407.0              3250   110  219.323664   \n3     Antminer S19 Pro 110TH/s  2407.0              3250   110  219.323664   \n4     Antminer S19 Pro 110TH/s  2407.0              3250   110  219.323664   \n...                        ...     ...               ...   ...         ...   \n1174      INNOSILICON T2T-29T    499.0              2200    29   57.821693   \n1175      INNOSILICON T2T-29T    499.0              2200    29   57.821693   \n1176      INNOSILICON T2T-29T    499.0              2200    29   57.821693   \n1177      INNOSILICON T2T-29T    499.0              2200    29   57.821693   \n1178      INNOSILICON T2T-29T    499.0              2200    29   57.821693   \n\n      BTC Profit  \n0       0.023914  \n1       0.023914  \n2       0.023914  \n3       0.023914  \n4       0.023914  \n...          ...  \n1174    0.006305  \n1175    0.006305  \n1176    0.006305  \n1177    0.006305  \n1178    0.006305  \n\n[1179 rows x 9 columns]",
      "text/html": "<div>\n<style scoped>\n    .dataframe tbody tr th:only-of-type {\n        vertical-align: middle;\n    }\n\n    .dataframe tbody tr th {\n        vertical-align: top;\n    }\n\n    .dataframe thead th {\n        text-align: right;\n    }\n</style>\n<table border=\"1\" class=\"dataframe\">\n  <thead>\n    <tr style=\"text-align: right;\">\n      <th></th>\n      <th>Country</th>\n      <th>Model</th>\n      <th>M.B.C USD</th>\n      <th>Models</th>\n      <th>Price</th>\n      <th>Power Consumtion</th>\n      <th>TH/s</th>\n      <th>USD Profit</th>\n      <th>BTC Profit</th>\n    </tr>\n  </thead>\n  <tbody>\n    <tr>\n      <th>0</th>\n      <td>Venezuela</td>\n      <td>Antminer S19 Pro 110TH/s</td>\n      <td>6.16850</td>\n      <td>Antminer S19 Pro 110TH/s</td>\n      <td>2407.0</td>\n      <td>3250</td>\n      <td>110</td>\n      <td>219.323664</td>\n      <td>0.023914</td>\n    </tr>\n    <tr>\n      <th>1</th>\n      <td>Arabia Saudita</td>\n      <td>Antminer S19 Pro 110TH/s</td>\n      <td>8.30375</td>\n      <td>Antminer S19 Pro 110TH/s</td>\n      <td>2407.0</td>\n      <td>3250</td>\n      <td>110</td>\n      <td>219.323664</td>\n      <td>0.023914</td>\n    </tr>\n    <tr>\n      <th>2</th>\n      <td>Bielorrusia</td>\n      <td>Antminer S19 Pro 110TH/s</td>\n      <td>18.74275</td>\n      <td>Antminer S19 Pro 110TH/s</td>\n      <td>2407.0</td>\n      <td>3250</td>\n      <td>110</td>\n      <td>219.323664</td>\n      <td>0.023914</td>\n    </tr>\n    <tr>\n      <th>3</th>\n      <td>Egipto</td>\n      <td>Antminer S19 Pro 110TH/s</td>\n      <td>21.35250</td>\n      <td>Antminer S19 Pro 110TH/s</td>\n      <td>2407.0</td>\n      <td>3250</td>\n      <td>110</td>\n      <td>219.323664</td>\n      <td>0.023914</td>\n    </tr>\n    <tr>\n      <th>4</th>\n      <td>Sudán</td>\n      <td>Antminer S19 Pro 110TH/s</td>\n      <td>23.72500</td>\n      <td>Antminer S19 Pro 110TH/s</td>\n      <td>2407.0</td>\n      <td>3250</td>\n      <td>110</td>\n      <td>219.323664</td>\n      <td>0.023914</td>\n    </tr>\n    <tr>\n      <th>...</th>\n      <td>...</td>\n      <td>...</td>\n      <td>...</td>\n      <td>...</td>\n      <td>...</td>\n      <td>...</td>\n      <td>...</td>\n      <td>...</td>\n      <td>...</td>\n    </tr>\n    <tr>\n      <th>1174</th>\n      <td>Alemania</td>\n      <td>INNOSILICON T2T-29T</td>\n      <td>578.16000</td>\n      <td>INNOSILICON T2T-29T</td>\n      <td>499.0</td>\n      <td>2200</td>\n      <td>29</td>\n      <td>57.821693</td>\n      <td>0.006305</td>\n    </tr>\n    <tr>\n      <th>1175</th>\n      <td>Rumanía</td>\n      <td>INNOSILICON T2T-29T</td>\n      <td>642.40000</td>\n      <td>INNOSILICON T2T-29T</td>\n      <td>499.0</td>\n      <td>2200</td>\n      <td>29</td>\n      <td>57.821693</td>\n      <td>0.006305</td>\n    </tr>\n    <tr>\n      <th>1176</th>\n      <td>San Marino</td>\n      <td>INNOSILICON T2T-29T</td>\n      <td>642.40000</td>\n      <td>INNOSILICON T2T-29T</td>\n      <td>499.0</td>\n      <td>2200</td>\n      <td>29</td>\n      <td>57.821693</td>\n      <td>0.006305</td>\n    </tr>\n    <tr>\n      <th>1177</th>\n      <td>Malta</td>\n      <td>INNOSILICON T2T-29T</td>\n      <td>642.40000</td>\n      <td>INNOSILICON T2T-29T</td>\n      <td>499.0</td>\n      <td>2200</td>\n      <td>29</td>\n      <td>57.821693</td>\n      <td>0.006305</td>\n    </tr>\n    <tr>\n      <th>1178</th>\n      <td>Antigua y Barbuda</td>\n      <td>INNOSILICON T2T-29T</td>\n      <td>706.64000</td>\n      <td>INNOSILICON T2T-29T</td>\n      <td>499.0</td>\n      <td>2200</td>\n      <td>29</td>\n      <td>57.821693</td>\n      <td>0.006305</td>\n    </tr>\n  </tbody>\n</table>\n<p>1179 rows × 9 columns</p>\n</div>"
     },
     "metadata": {},
     "execution_count": 211
    }
   ],
   "source": [
    "data"
   ]
  },
  {
   "cell_type": "code",
   "execution_count": 206,
   "metadata": {},
   "outputs": [
    {
     "output_type": "execute_result",
     "data": {
      "text/plain": "                Country                     Model  M.B.C USD  \\\n0             Venezuela  Antminer S19 Pro 110TH/s    6.16850   \n1        Arabia Saudita  Antminer S19 Pro 110TH/s    8.30375   \n2           Bielorrusia  Antminer S19 Pro 110TH/s   18.74275   \n3                Egipto  Antminer S19 Pro 110TH/s   21.35250   \n4                 Sudán  Antminer S19 Pro 110TH/s   23.72500   \n...                 ...                       ...        ...   \n1174           Alemania      INNOSILICON T2T-29T   578.16000   \n1175            Rumanía      INNOSILICON T2T-29T   642.40000   \n1176         San Marino      INNOSILICON T2T-29T   642.40000   \n1177              Malta      INNOSILICON T2T-29T   642.40000   \n1178  Antigua y Barbuda      INNOSILICON T2T-29T   706.64000   \n\n                       Models    Price  Power Consumtion  TH/s  \n0     Antminer S19 Pro 110TH/s  2407.0              3250   110  \n1     Antminer S19 Pro 110TH/s  2407.0              3250   110  \n2     Antminer S19 Pro 110TH/s  2407.0              3250   110  \n3     Antminer S19 Pro 110TH/s  2407.0              3250   110  \n4     Antminer S19 Pro 110TH/s  2407.0              3250   110  \n...                        ...     ...               ...   ...  \n1174      INNOSILICON T2T-29T    499.0              2200    29  \n1175      INNOSILICON T2T-29T    499.0              2200    29  \n1176      INNOSILICON T2T-29T    499.0              2200    29  \n1177      INNOSILICON T2T-29T    499.0              2200    29  \n1178      INNOSILICON T2T-29T    499.0              2200    29  \n\n[1179 rows x 7 columns]",
      "text/html": "<div>\n<style scoped>\n    .dataframe tbody tr th:only-of-type {\n        vertical-align: middle;\n    }\n\n    .dataframe tbody tr th {\n        vertical-align: top;\n    }\n\n    .dataframe thead th {\n        text-align: right;\n    }\n</style>\n<table border=\"1\" class=\"dataframe\">\n  <thead>\n    <tr style=\"text-align: right;\">\n      <th></th>\n      <th>Country</th>\n      <th>Model</th>\n      <th>M.B.C USD</th>\n      <th>Models</th>\n      <th>Price</th>\n      <th>Power Consumtion</th>\n      <th>TH/s</th>\n    </tr>\n  </thead>\n  <tbody>\n    <tr>\n      <th>0</th>\n      <td>Venezuela</td>\n      <td>Antminer S19 Pro 110TH/s</td>\n      <td>6.16850</td>\n      <td>Antminer S19 Pro 110TH/s</td>\n      <td>2407.0</td>\n      <td>3250</td>\n      <td>110</td>\n    </tr>\n    <tr>\n      <th>1</th>\n      <td>Arabia Saudita</td>\n      <td>Antminer S19 Pro 110TH/s</td>\n      <td>8.30375</td>\n      <td>Antminer S19 Pro 110TH/s</td>\n      <td>2407.0</td>\n      <td>3250</td>\n      <td>110</td>\n    </tr>\n    <tr>\n      <th>2</th>\n      <td>Bielorrusia</td>\n      <td>Antminer S19 Pro 110TH/s</td>\n      <td>18.74275</td>\n      <td>Antminer S19 Pro 110TH/s</td>\n      <td>2407.0</td>\n      <td>3250</td>\n      <td>110</td>\n    </tr>\n    <tr>\n      <th>3</th>\n      <td>Egipto</td>\n      <td>Antminer S19 Pro 110TH/s</td>\n      <td>21.35250</td>\n      <td>Antminer S19 Pro 110TH/s</td>\n      <td>2407.0</td>\n      <td>3250</td>\n      <td>110</td>\n    </tr>\n    <tr>\n      <th>4</th>\n      <td>Sudán</td>\n      <td>Antminer S19 Pro 110TH/s</td>\n      <td>23.72500</td>\n      <td>Antminer S19 Pro 110TH/s</td>\n      <td>2407.0</td>\n      <td>3250</td>\n      <td>110</td>\n    </tr>\n    <tr>\n      <th>...</th>\n      <td>...</td>\n      <td>...</td>\n      <td>...</td>\n      <td>...</td>\n      <td>...</td>\n      <td>...</td>\n      <td>...</td>\n    </tr>\n    <tr>\n      <th>1174</th>\n      <td>Alemania</td>\n      <td>INNOSILICON T2T-29T</td>\n      <td>578.16000</td>\n      <td>INNOSILICON T2T-29T</td>\n      <td>499.0</td>\n      <td>2200</td>\n      <td>29</td>\n    </tr>\n    <tr>\n      <th>1175</th>\n      <td>Rumanía</td>\n      <td>INNOSILICON T2T-29T</td>\n      <td>642.40000</td>\n      <td>INNOSILICON T2T-29T</td>\n      <td>499.0</td>\n      <td>2200</td>\n      <td>29</td>\n    </tr>\n    <tr>\n      <th>1176</th>\n      <td>San Marino</td>\n      <td>INNOSILICON T2T-29T</td>\n      <td>642.40000</td>\n      <td>INNOSILICON T2T-29T</td>\n      <td>499.0</td>\n      <td>2200</td>\n      <td>29</td>\n    </tr>\n    <tr>\n      <th>1177</th>\n      <td>Malta</td>\n      <td>INNOSILICON T2T-29T</td>\n      <td>642.40000</td>\n      <td>INNOSILICON T2T-29T</td>\n      <td>499.0</td>\n      <td>2200</td>\n      <td>29</td>\n    </tr>\n    <tr>\n      <th>1178</th>\n      <td>Antigua y Barbuda</td>\n      <td>INNOSILICON T2T-29T</td>\n      <td>706.64000</td>\n      <td>INNOSILICON T2T-29T</td>\n      <td>499.0</td>\n      <td>2200</td>\n      <td>29</td>\n    </tr>\n  </tbody>\n</table>\n<p>1179 rows × 7 columns</p>\n</div>"
     },
     "metadata": {},
     "execution_count": 206
    }
   ],
   "source": [
    "data"
   ]
  },
  {
   "cell_type": "code",
   "execution_count": 201,
   "metadata": {},
   "outputs": [
    {
     "output_type": "execute_result",
     "data": {
      "text/plain": "                                           M.B.C USD  USD Profit  BTC Profit\nCountry           Model                                                     \nVenezuela         Antminer S19 Pro 110TH/s    6.1685         NaN         NaN\n                  Antminer S19 - 95TH/s       6.1685         NaN         NaN\n                  Antminer T17+ 58TH/s        5.5042         NaN         NaN\n                  Antminer T19 - 84TH/s       5.9787         NaN         NaN\n                  Antminer S17e-60TH/s        5.1246         NaN         NaN\n...                                              ...         ...         ...\nAntigua y Barbuda Antminer S17e-60TH/s        867.24         NaN         NaN\n                  Antminer S17+ 70TH/s        899.36         NaN         NaN\n                  Antminer S9 SE-16TH/s      411.136         NaN         NaN\n                  Antminer S9k-13.5TH/s      368.738         NaN         NaN\n                  INNOSILICON T2T-29T         706.64         NaN         NaN\n\n[1179 rows x 3 columns]",
      "text/html": "<div>\n<style scoped>\n    .dataframe tbody tr th:only-of-type {\n        vertical-align: middle;\n    }\n\n    .dataframe tbody tr th {\n        vertical-align: top;\n    }\n\n    .dataframe thead th {\n        text-align: right;\n    }\n</style>\n<table border=\"1\" class=\"dataframe\">\n  <thead>\n    <tr style=\"text-align: right;\">\n      <th></th>\n      <th></th>\n      <th>M.B.C USD</th>\n      <th>USD Profit</th>\n      <th>BTC Profit</th>\n    </tr>\n    <tr>\n      <th>Country</th>\n      <th>Model</th>\n      <th></th>\n      <th></th>\n      <th></th>\n    </tr>\n  </thead>\n  <tbody>\n    <tr>\n      <th rowspan=\"5\" valign=\"top\">Venezuela</th>\n      <th>Antminer S19 Pro 110TH/s</th>\n      <td>6.1685</td>\n      <td>NaN</td>\n      <td>NaN</td>\n    </tr>\n    <tr>\n      <th>Antminer S19 - 95TH/s</th>\n      <td>6.1685</td>\n      <td>NaN</td>\n      <td>NaN</td>\n    </tr>\n    <tr>\n      <th>Antminer T17+ 58TH/s</th>\n      <td>5.5042</td>\n      <td>NaN</td>\n      <td>NaN</td>\n    </tr>\n    <tr>\n      <th>Antminer T19 - 84TH/s</th>\n      <td>5.9787</td>\n      <td>NaN</td>\n      <td>NaN</td>\n    </tr>\n    <tr>\n      <th>Antminer S17e-60TH/s</th>\n      <td>5.1246</td>\n      <td>NaN</td>\n      <td>NaN</td>\n    </tr>\n    <tr>\n      <th>...</th>\n      <th>...</th>\n      <td>...</td>\n      <td>...</td>\n      <td>...</td>\n    </tr>\n    <tr>\n      <th rowspan=\"5\" valign=\"top\">Antigua y Barbuda</th>\n      <th>Antminer S17e-60TH/s</th>\n      <td>867.24</td>\n      <td>NaN</td>\n      <td>NaN</td>\n    </tr>\n    <tr>\n      <th>Antminer S17+ 70TH/s</th>\n      <td>899.36</td>\n      <td>NaN</td>\n      <td>NaN</td>\n    </tr>\n    <tr>\n      <th>Antminer S9 SE-16TH/s</th>\n      <td>411.136</td>\n      <td>NaN</td>\n      <td>NaN</td>\n    </tr>\n    <tr>\n      <th>Antminer S9k-13.5TH/s</th>\n      <td>368.738</td>\n      <td>NaN</td>\n      <td>NaN</td>\n    </tr>\n    <tr>\n      <th>INNOSILICON T2T-29T</th>\n      <td>706.64</td>\n      <td>NaN</td>\n      <td>NaN</td>\n    </tr>\n  </tbody>\n</table>\n<p>1179 rows × 3 columns</p>\n</div>"
     },
     "metadata": {},
     "execution_count": 201
    }
   ],
   "source": [
    "datos_new"
   ]
  },
  {
   "cell_type": "code",
   "execution_count": 191,
   "metadata": {
    "tags": []
   },
   "outputs": [
    {
     "output_type": "stream",
     "name": "stdout",
     "text": "219.3236639\n"
    }
   ],
   "source": [
    "stats=blockchain_stats()\n",
    "price=stats.get(\"market_price_usd\")\n",
    "data=pd.merge(datos_new,data_model,how=\"left\",left_on=\"Model\",right_on=\"Models \")\n",
    "data[\"USD Profit\"]=data['TH/s']*const*price\n",
    "data[\"BTC Profit\"]=data['TH/s']*const"
   ]
  },
  {
   "cell_type": "code",
   "execution_count": 195,
   "metadata": {
    "tags": []
   },
   "outputs": [],
   "source": [
    "data[\"BTC Profit\"]=data['TH/s']*const"
   ]
  },
  {
   "cell_type": "code",
   "execution_count": 215,
   "metadata": {},
   "outputs": [],
   "source": [
    "data=data.set_index(['Country',\"Model\"])"
   ]
  },
  {
   "cell_type": "code",
   "execution_count": 228,
   "metadata": {},
   "outputs": [],
   "source": [
    "data=data_prueba.copy(deep=True)"
   ]
  },
  {
   "cell_type": "code",
   "execution_count": 246,
   "metadata": {},
   "outputs": [],
   "source": [
    "data=data.drop(['Models '],axis=1)"
   ]
  },
  {
   "cell_type": "code",
   "execution_count": 251,
   "metadata": {},
   "outputs": [
    {
     "output_type": "execute_result",
     "data": {
      "text/plain": "                Country                     Model  M.B.C USD   Price  \\\n0             Venezuela  Antminer S19 Pro 110TH/s    6.16850  2407.0   \n1        Arabia Saudita  Antminer S19 Pro 110TH/s    8.30375  2407.0   \n2           Bielorrusia  Antminer S19 Pro 110TH/s   18.74275  2407.0   \n3                Egipto  Antminer S19 Pro 110TH/s   21.35250  2407.0   \n4                 Sudán  Antminer S19 Pro 110TH/s   23.72500  2407.0   \n...                 ...                       ...        ...     ...   \n1174           Alemania      INNOSILICON T2T-29T   578.16000   499.0   \n1175            Rumanía      INNOSILICON T2T-29T   642.40000   499.0   \n1176         San Marino      INNOSILICON T2T-29T   642.40000   499.0   \n1177              Malta      INNOSILICON T2T-29T   642.40000   499.0   \n1178  Antigua y Barbuda      INNOSILICON T2T-29T   706.64000   499.0   \n\n      Power Consumtion  TH/s  USD Profit  BTC Profit  \n0                 3250   110  219.323664    0.023914  \n1                 3250   110  219.323664    0.023914  \n2                 3250   110  219.323664    0.023914  \n3                 3250   110  219.323664    0.023914  \n4                 3250   110  219.323664    0.023914  \n...                ...   ...         ...         ...  \n1174              2200    29   57.821693    0.006305  \n1175              2200    29   57.821693    0.006305  \n1176              2200    29   57.821693    0.006305  \n1177              2200    29   57.821693    0.006305  \n1178              2200    29   57.821693    0.006305  \n\n[1179 rows x 8 columns]",
      "text/html": "<div>\n<style scoped>\n    .dataframe tbody tr th:only-of-type {\n        vertical-align: middle;\n    }\n\n    .dataframe tbody tr th {\n        vertical-align: top;\n    }\n\n    .dataframe thead th {\n        text-align: right;\n    }\n</style>\n<table border=\"1\" class=\"dataframe\">\n  <thead>\n    <tr style=\"text-align: right;\">\n      <th></th>\n      <th>Country</th>\n      <th>Model</th>\n      <th>M.B.C USD</th>\n      <th>Price</th>\n      <th>Power Consumtion</th>\n      <th>TH/s</th>\n      <th>USD Profit</th>\n      <th>BTC Profit</th>\n    </tr>\n  </thead>\n  <tbody>\n    <tr>\n      <th>0</th>\n      <td>Venezuela</td>\n      <td>Antminer S19 Pro 110TH/s</td>\n      <td>6.16850</td>\n      <td>2407.0</td>\n      <td>3250</td>\n      <td>110</td>\n      <td>219.323664</td>\n      <td>0.023914</td>\n    </tr>\n    <tr>\n      <th>1</th>\n      <td>Arabia Saudita</td>\n      <td>Antminer S19 Pro 110TH/s</td>\n      <td>8.30375</td>\n      <td>2407.0</td>\n      <td>3250</td>\n      <td>110</td>\n      <td>219.323664</td>\n      <td>0.023914</td>\n    </tr>\n    <tr>\n      <th>2</th>\n      <td>Bielorrusia</td>\n      <td>Antminer S19 Pro 110TH/s</td>\n      <td>18.74275</td>\n      <td>2407.0</td>\n      <td>3250</td>\n      <td>110</td>\n      <td>219.323664</td>\n      <td>0.023914</td>\n    </tr>\n    <tr>\n      <th>3</th>\n      <td>Egipto</td>\n      <td>Antminer S19 Pro 110TH/s</td>\n      <td>21.35250</td>\n      <td>2407.0</td>\n      <td>3250</td>\n      <td>110</td>\n      <td>219.323664</td>\n      <td>0.023914</td>\n    </tr>\n    <tr>\n      <th>4</th>\n      <td>Sudán</td>\n      <td>Antminer S19 Pro 110TH/s</td>\n      <td>23.72500</td>\n      <td>2407.0</td>\n      <td>3250</td>\n      <td>110</td>\n      <td>219.323664</td>\n      <td>0.023914</td>\n    </tr>\n    <tr>\n      <th>...</th>\n      <td>...</td>\n      <td>...</td>\n      <td>...</td>\n      <td>...</td>\n      <td>...</td>\n      <td>...</td>\n      <td>...</td>\n      <td>...</td>\n    </tr>\n    <tr>\n      <th>1174</th>\n      <td>Alemania</td>\n      <td>INNOSILICON T2T-29T</td>\n      <td>578.16000</td>\n      <td>499.0</td>\n      <td>2200</td>\n      <td>29</td>\n      <td>57.821693</td>\n      <td>0.006305</td>\n    </tr>\n    <tr>\n      <th>1175</th>\n      <td>Rumanía</td>\n      <td>INNOSILICON T2T-29T</td>\n      <td>642.40000</td>\n      <td>499.0</td>\n      <td>2200</td>\n      <td>29</td>\n      <td>57.821693</td>\n      <td>0.006305</td>\n    </tr>\n    <tr>\n      <th>1176</th>\n      <td>San Marino</td>\n      <td>INNOSILICON T2T-29T</td>\n      <td>642.40000</td>\n      <td>499.0</td>\n      <td>2200</td>\n      <td>29</td>\n      <td>57.821693</td>\n      <td>0.006305</td>\n    </tr>\n    <tr>\n      <th>1177</th>\n      <td>Malta</td>\n      <td>INNOSILICON T2T-29T</td>\n      <td>642.40000</td>\n      <td>499.0</td>\n      <td>2200</td>\n      <td>29</td>\n      <td>57.821693</td>\n      <td>0.006305</td>\n    </tr>\n    <tr>\n      <th>1178</th>\n      <td>Antigua y Barbuda</td>\n      <td>INNOSILICON T2T-29T</td>\n      <td>706.64000</td>\n      <td>499.0</td>\n      <td>2200</td>\n      <td>29</td>\n      <td>57.821693</td>\n      <td>0.006305</td>\n    </tr>\n  </tbody>\n</table>\n<p>1179 rows × 8 columns</p>\n</div>"
     },
     "metadata": {},
     "execution_count": 251
    }
   ],
   "source": [
    "data.groupby(['Country','Model'])[[\"Country\"]]"
   ]
  },
  {
   "cell_type": "code",
   "execution_count": 253,
   "metadata": {},
   "outputs": [],
   "source": [
    "data=data.set_index(['Country',\"Model\"]).sort_index()"
   ]
  },
  {
   "cell_type": "code",
   "execution_count": 254,
   "metadata": {},
   "outputs": [
    {
     "output_type": "execute_result",
     "data": {
      "text/plain": "                                     M.B.C USD   Price  Power Consumtion  \\\nCountry    Model                                                           \nAfganistán Antminer S17+ 70TH/s       102.2000  1232.0              2800   \n           Antminer S17e-60TH/s        98.5500   799.0              2700   \n           Antminer S19 - 95TH/s      118.6250  1785.0              3250   \n           Antminer S19 Pro 110TH/s   118.6250  2407.0              3250   \n           Antminer S9 SE-16TH/s       46.7200    95.0              1280   \n...                                        ...     ...               ...   \nZambia     Antminer S9 SE-16TH/s       28.0320    95.0              1280   \n           Antminer S9k-13.5TH/s       25.1412    63.0              1148   \n           Antminer T17+ 58TH/s        63.5100   817.0              2900   \n           Antminer T19 - 84TH/s       68.9850  1749.0              3150   \n           INNOSILICON T2T-29T         48.1800   499.0              2200   \n\n                                     TH/s  USD Profit  BTC Profit  \nCountry    Model                                                   \nAfganistán Antminer S17+ 70TH/s        70  139.569604    0.015218  \n           Antminer S17e-60TH/s        60  119.631089    0.013044  \n           Antminer S19 - 95TH/s       95  189.415892    0.020653  \n           Antminer S19 Pro 110TH/s   110  219.323664    0.023914  \n           Antminer S9 SE-16TH/s       16   31.901624    0.003478  \n...                                   ...         ...         ...  \nZambia     Antminer S9 SE-16TH/s       16   31.901624    0.003478  \n           Antminer S9k-13.5TH/s       14   27.913921    0.003044  \n           Antminer T17+ 58TH/s        58  115.643386    0.012609  \n           Antminer T19 - 84TH/s       84  167.483525    0.018262  \n           INNOSILICON T2T-29T         29   57.821693    0.006305  \n\n[1179 rows x 6 columns]",
      "text/html": "<div>\n<style scoped>\n    .dataframe tbody tr th:only-of-type {\n        vertical-align: middle;\n    }\n\n    .dataframe tbody tr th {\n        vertical-align: top;\n    }\n\n    .dataframe thead th {\n        text-align: right;\n    }\n</style>\n<table border=\"1\" class=\"dataframe\">\n  <thead>\n    <tr style=\"text-align: right;\">\n      <th></th>\n      <th></th>\n      <th>M.B.C USD</th>\n      <th>Price</th>\n      <th>Power Consumtion</th>\n      <th>TH/s</th>\n      <th>USD Profit</th>\n      <th>BTC Profit</th>\n    </tr>\n    <tr>\n      <th>Country</th>\n      <th>Model</th>\n      <th></th>\n      <th></th>\n      <th></th>\n      <th></th>\n      <th></th>\n      <th></th>\n    </tr>\n  </thead>\n  <tbody>\n    <tr>\n      <th rowspan=\"5\" valign=\"top\">Afganistán</th>\n      <th>Antminer S17+ 70TH/s</th>\n      <td>102.2000</td>\n      <td>1232.0</td>\n      <td>2800</td>\n      <td>70</td>\n      <td>139.569604</td>\n      <td>0.015218</td>\n    </tr>\n    <tr>\n      <th>Antminer S17e-60TH/s</th>\n      <td>98.5500</td>\n      <td>799.0</td>\n      <td>2700</td>\n      <td>60</td>\n      <td>119.631089</td>\n      <td>0.013044</td>\n    </tr>\n    <tr>\n      <th>Antminer S19 - 95TH/s</th>\n      <td>118.6250</td>\n      <td>1785.0</td>\n      <td>3250</td>\n      <td>95</td>\n      <td>189.415892</td>\n      <td>0.020653</td>\n    </tr>\n    <tr>\n      <th>Antminer S19 Pro 110TH/s</th>\n      <td>118.6250</td>\n      <td>2407.0</td>\n      <td>3250</td>\n      <td>110</td>\n      <td>219.323664</td>\n      <td>0.023914</td>\n    </tr>\n    <tr>\n      <th>Antminer S9 SE-16TH/s</th>\n      <td>46.7200</td>\n      <td>95.0</td>\n      <td>1280</td>\n      <td>16</td>\n      <td>31.901624</td>\n      <td>0.003478</td>\n    </tr>\n    <tr>\n      <th>...</th>\n      <th>...</th>\n      <td>...</td>\n      <td>...</td>\n      <td>...</td>\n      <td>...</td>\n      <td>...</td>\n      <td>...</td>\n    </tr>\n    <tr>\n      <th rowspan=\"5\" valign=\"top\">Zambia</th>\n      <th>Antminer S9 SE-16TH/s</th>\n      <td>28.0320</td>\n      <td>95.0</td>\n      <td>1280</td>\n      <td>16</td>\n      <td>31.901624</td>\n      <td>0.003478</td>\n    </tr>\n    <tr>\n      <th>Antminer S9k-13.5TH/s</th>\n      <td>25.1412</td>\n      <td>63.0</td>\n      <td>1148</td>\n      <td>14</td>\n      <td>27.913921</td>\n      <td>0.003044</td>\n    </tr>\n    <tr>\n      <th>Antminer T17+ 58TH/s</th>\n      <td>63.5100</td>\n      <td>817.0</td>\n      <td>2900</td>\n      <td>58</td>\n      <td>115.643386</td>\n      <td>0.012609</td>\n    </tr>\n    <tr>\n      <th>Antminer T19 - 84TH/s</th>\n      <td>68.9850</td>\n      <td>1749.0</td>\n      <td>3150</td>\n      <td>84</td>\n      <td>167.483525</td>\n      <td>0.018262</td>\n    </tr>\n    <tr>\n      <th>INNOSILICON T2T-29T</th>\n      <td>48.1800</td>\n      <td>499.0</td>\n      <td>2200</td>\n      <td>29</td>\n      <td>57.821693</td>\n      <td>0.006305</td>\n    </tr>\n  </tbody>\n</table>\n<p>1179 rows × 6 columns</p>\n</div>"
     },
     "metadata": {},
     "execution_count": 254
    }
   ],
   "source": [
    "data"
   ]
  },
  {
   "cell_type": "code",
   "execution_count": 259,
   "metadata": {},
   "outputs": [],
   "source": [
    "data=data.drop([\"Price\"],axis=1)"
   ]
  },
  {
   "cell_type": "code",
   "execution_count": 260,
   "metadata": {},
   "outputs": [],
   "source": [
    "data.to_csv(\"tabla_country_dinamica.csv\")"
   ]
  },
  {
   "cell_type": "code",
   "execution_count": 262,
   "metadata": {},
   "outputs": [
    {
     "output_type": "execute_result",
     "data": {
      "text/plain": "                                     M.B.C USD  Power Consumtion  TH/s  \\\nCountry    Model                                                         \nAfganistán Antminer S17+ 70TH/s       102.2000              2800    70   \n           Antminer S17e-60TH/s        98.5500              2700    60   \n           Antminer S19 - 95TH/s      118.6250              3250    95   \n           Antminer S19 Pro 110TH/s   118.6250              3250   110   \n           Antminer S9 SE-16TH/s       46.7200              1280    16   \n...                                        ...               ...   ...   \nZambia     Antminer S9 SE-16TH/s       28.0320              1280    16   \n           Antminer S9k-13.5TH/s       25.1412              1148    14   \n           Antminer T17+ 58TH/s        63.5100              2900    58   \n           Antminer T19 - 84TH/s       68.9850              3150    84   \n           INNOSILICON T2T-29T         48.1800              2200    29   \n\n                                     USD Profit  BTC Profit  \nCountry    Model                                             \nAfganistán Antminer S17+ 70TH/s      139.569604    0.015218  \n           Antminer S17e-60TH/s      119.631089    0.013044  \n           Antminer S19 - 95TH/s     189.415892    0.020653  \n           Antminer S19 Pro 110TH/s  219.323664    0.023914  \n           Antminer S9 SE-16TH/s      31.901624    0.003478  \n...                                         ...         ...  \nZambia     Antminer S9 SE-16TH/s      31.901624    0.003478  \n           Antminer S9k-13.5TH/s      27.913921    0.003044  \n           Antminer T17+ 58TH/s      115.643386    0.012609  \n           Antminer T19 - 84TH/s     167.483525    0.018262  \n           INNOSILICON T2T-29T        57.821693    0.006305  \n\n[1179 rows x 5 columns]",
      "text/html": "<div>\n<style scoped>\n    .dataframe tbody tr th:only-of-type {\n        vertical-align: middle;\n    }\n\n    .dataframe tbody tr th {\n        vertical-align: top;\n    }\n\n    .dataframe thead th {\n        text-align: right;\n    }\n</style>\n<table border=\"1\" class=\"dataframe\">\n  <thead>\n    <tr style=\"text-align: right;\">\n      <th></th>\n      <th></th>\n      <th>M.B.C USD</th>\n      <th>Power Consumtion</th>\n      <th>TH/s</th>\n      <th>USD Profit</th>\n      <th>BTC Profit</th>\n    </tr>\n    <tr>\n      <th>Country</th>\n      <th>Model</th>\n      <th></th>\n      <th></th>\n      <th></th>\n      <th></th>\n      <th></th>\n    </tr>\n  </thead>\n  <tbody>\n    <tr>\n      <th rowspan=\"5\" valign=\"top\">Afganistán</th>\n      <th>Antminer S17+ 70TH/s</th>\n      <td>102.2000</td>\n      <td>2800</td>\n      <td>70</td>\n      <td>139.569604</td>\n      <td>0.015218</td>\n    </tr>\n    <tr>\n      <th>Antminer S17e-60TH/s</th>\n      <td>98.5500</td>\n      <td>2700</td>\n      <td>60</td>\n      <td>119.631089</td>\n      <td>0.013044</td>\n    </tr>\n    <tr>\n      <th>Antminer S19 - 95TH/s</th>\n      <td>118.6250</td>\n      <td>3250</td>\n      <td>95</td>\n      <td>189.415892</td>\n      <td>0.020653</td>\n    </tr>\n    <tr>\n      <th>Antminer S19 Pro 110TH/s</th>\n      <td>118.6250</td>\n      <td>3250</td>\n      <td>110</td>\n      <td>219.323664</td>\n      <td>0.023914</td>\n    </tr>\n    <tr>\n      <th>Antminer S9 SE-16TH/s</th>\n      <td>46.7200</td>\n      <td>1280</td>\n      <td>16</td>\n      <td>31.901624</td>\n      <td>0.003478</td>\n    </tr>\n    <tr>\n      <th>...</th>\n      <th>...</th>\n      <td>...</td>\n      <td>...</td>\n      <td>...</td>\n      <td>...</td>\n      <td>...</td>\n    </tr>\n    <tr>\n      <th rowspan=\"5\" valign=\"top\">Zambia</th>\n      <th>Antminer S9 SE-16TH/s</th>\n      <td>28.0320</td>\n      <td>1280</td>\n      <td>16</td>\n      <td>31.901624</td>\n      <td>0.003478</td>\n    </tr>\n    <tr>\n      <th>Antminer S9k-13.5TH/s</th>\n      <td>25.1412</td>\n      <td>1148</td>\n      <td>14</td>\n      <td>27.913921</td>\n      <td>0.003044</td>\n    </tr>\n    <tr>\n      <th>Antminer T17+ 58TH/s</th>\n      <td>63.5100</td>\n      <td>2900</td>\n      <td>58</td>\n      <td>115.643386</td>\n      <td>0.012609</td>\n    </tr>\n    <tr>\n      <th>Antminer T19 - 84TH/s</th>\n      <td>68.9850</td>\n      <td>3150</td>\n      <td>84</td>\n      <td>167.483525</td>\n      <td>0.018262</td>\n    </tr>\n    <tr>\n      <th>INNOSILICON T2T-29T</th>\n      <td>48.1800</td>\n      <td>2200</td>\n      <td>29</td>\n      <td>57.821693</td>\n      <td>0.006305</td>\n    </tr>\n  </tbody>\n</table>\n<p>1179 rows × 5 columns</p>\n</div>"
     },
     "metadata": {},
     "execution_count": 262
    }
   ],
   "source": [
    "data"
   ]
  },
  {
   "cell_type": "code",
   "execution_count": 274,
   "metadata": {},
   "outputs": [
    {
     "output_type": "execute_result",
     "data": {
      "text/plain": "Country\nAfganistán     827.747000\nAlbania       1655.494000\nAlemania      5959.778400\nAndorra       2201.807020\nAngola         331.098800\n                 ...     \nUganda        2979.889200\nUruguay       2979.889200\nVenezuela       43.042844\nYibuti         463.538320\nZambia         496.648200\nName: M.B.C USD, Length: 131, dtype: float64"
     },
     "metadata": {},
     "execution_count": 274
    }
   ],
   "source": [
    "data.groupby([\"Country\"])[\"M.B.C USD\"].sum()"
   ]
  },
  {
   "cell_type": "code",
   "execution_count": null,
   "metadata": {},
   "outputs": [],
   "source": []
  }
 ],
 "metadata": {
  "language_info": {
   "codemirror_mode": {
    "name": "ipython",
    "version": 3
   },
   "file_extension": ".py",
   "mimetype": "text/x-python",
   "name": "python",
   "nbconvert_exporter": "python",
   "pygments_lexer": "ipython3",
   "version": "3.7.3-final"
  },
  "orig_nbformat": 2,
  "kernelspec": {
   "name": "python37364bitbaseconda0e883509fb914b28935ee363f9f0181b",
   "display_name": "Python 3.7.3 64-bit ('base': conda)"
  }
 },
 "nbformat": 4,
 "nbformat_minor": 2
}