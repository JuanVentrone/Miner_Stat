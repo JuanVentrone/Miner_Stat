{
 "metadata": {
  "language_info": {
   "codemirror_mode": {
    "name": "ipython",
    "version": 3
   },
   "file_extension": ".py",
   "mimetype": "text/x-python",
   "name": "python",
   "nbconvert_exporter": "python",
   "pygments_lexer": "ipython3",
   "version": "3.7.3-final"
  },
  "orig_nbformat": 2,
  "kernelspec": {
   "name": "python37364bitbaseconda0e883509fb914b28935ee363f9f0181b",
   "display_name": "Python 3.7.3 64-bit ('base': conda)"
  }
 },
 "nbformat": 4,
 "nbformat_minor": 2,
 "cells": [
  {
   "cell_type": "code",
   "execution_count": 1,
   "metadata": {},
   "outputs": [],
   "source": [
    "import pandas as pd\n",
    "import numpy as np"
   ]
  },
  {
   "cell_type": "code",
   "execution_count": 2,
   "metadata": {},
   "outputs": [],
   "source": [
    "data=pd.read_csv(\"../../blockchain data/bc data/data_update_2020-07-06.csv\")"
   ]
  },
  {
   "cell_type": "code",
   "execution_count": 4,
   "metadata": {
    "tags": []
   },
   "outputs": [
    {
     "output_type": "stream",
     "name": "stdout",
     "text": "<class 'pandas.core.frame.DataFrame'>\nRangeIndex: 638045 entries, 0 to 638044\nData columns (total 18 columns):\n #   Column                  Non-Null Count   Dtype \n---  ------                  --------------   ----- \n 0   Unnamed: 0              638045 non-null  int64 \n 1   Hash                    638045 non-null  object\n 2   Confirmations           638045 non-null  object\n 3   Timestamp               638045 non-null  object\n 4   Height                  638045 non-null  int64 \n 5   Number of Transactions  638045 non-null  object\n 6   Difficulty              638045 non-null  object\n 7   Merkle root             638045 non-null  object\n 8   Version                 638045 non-null  object\n 9   Bits                    638045 non-null  object\n 10  Weight                  638045 non-null  object\n 11  Size                    638045 non-null  object\n 12  Nonce                   638045 non-null  object\n 13  Transaction Volume      638045 non-null  object\n 14  Block Reward            638045 non-null  object\n 15  Fee Reward              638045 non-null  object\n 16  Miner Name              638045 non-null  object\n 17  URL Miner               638045 non-null  object\ndtypes: int64(2), object(16)\nmemory usage: 87.6+ MB\n"
    }
   ],
   "source": [
    "data.info()"
   ]
  },
  {
   "cell_type": "code",
   "execution_count": 7,
   "metadata": {},
   "outputs": [],
   "source": [
    "data=data[[\"Fee Reward\",\"Timestamp\",\"Height\"]]"
   ]
  },
  {
   "cell_type": "code",
   "execution_count": 8,
   "metadata": {},
   "outputs": [
    {
     "output_type": "execute_result",
     "data": {
      "text/plain": "            Fee Reward         Timestamp  Height\n0       0.21808885 BTC  2020-07-06 22:45  638045\n1       0.30686360 BTC  2020-07-06 22:42  638044\n2       0.25770656 BTC  2020-07-06 22:27  638043\n3       0.28058000 BTC  2020-07-06 22:20  638042\n4       0.27827185 BTC  2020-07-06 22:11  638041\n...                ...               ...     ...\n638040  0.00000000 BTC  2009-01-09 03:23       5\n638041  0.00000000 BTC  2009-01-09 03:16       4\n638042  0.00000000 BTC  2009-01-09 03:02       3\n638043  0.00000000 BTC  2009-01-09 02:55       2\n638044  0.00000000 BTC  2009-01-09 02:54       1\n\n[638045 rows x 3 columns]",
      "text/html": "<div>\n<style scoped>\n    .dataframe tbody tr th:only-of-type {\n        vertical-align: middle;\n    }\n\n    .dataframe tbody tr th {\n        vertical-align: top;\n    }\n\n    .dataframe thead th {\n        text-align: right;\n    }\n</style>\n<table border=\"1\" class=\"dataframe\">\n  <thead>\n    <tr style=\"text-align: right;\">\n      <th></th>\n      <th>Fee Reward</th>\n      <th>Timestamp</th>\n      <th>Height</th>\n    </tr>\n  </thead>\n  <tbody>\n    <tr>\n      <th>0</th>\n      <td>0.21808885 BTC</td>\n      <td>2020-07-06 22:45</td>\n      <td>638045</td>\n    </tr>\n    <tr>\n      <th>1</th>\n      <td>0.30686360 BTC</td>\n      <td>2020-07-06 22:42</td>\n      <td>638044</td>\n    </tr>\n    <tr>\n      <th>2</th>\n      <td>0.25770656 BTC</td>\n      <td>2020-07-06 22:27</td>\n      <td>638043</td>\n    </tr>\n    <tr>\n      <th>3</th>\n      <td>0.28058000 BTC</td>\n      <td>2020-07-06 22:20</td>\n      <td>638042</td>\n    </tr>\n    <tr>\n      <th>4</th>\n      <td>0.27827185 BTC</td>\n      <td>2020-07-06 22:11</td>\n      <td>638041</td>\n    </tr>\n    <tr>\n      <th>...</th>\n      <td>...</td>\n      <td>...</td>\n      <td>...</td>\n    </tr>\n    <tr>\n      <th>638040</th>\n      <td>0.00000000 BTC</td>\n      <td>2009-01-09 03:23</td>\n      <td>5</td>\n    </tr>\n    <tr>\n      <th>638041</th>\n      <td>0.00000000 BTC</td>\n      <td>2009-01-09 03:16</td>\n      <td>4</td>\n    </tr>\n    <tr>\n      <th>638042</th>\n      <td>0.00000000 BTC</td>\n      <td>2009-01-09 03:02</td>\n      <td>3</td>\n    </tr>\n    <tr>\n      <th>638043</th>\n      <td>0.00000000 BTC</td>\n      <td>2009-01-09 02:55</td>\n      <td>2</td>\n    </tr>\n    <tr>\n      <th>638044</th>\n      <td>0.00000000 BTC</td>\n      <td>2009-01-09 02:54</td>\n      <td>1</td>\n    </tr>\n  </tbody>\n</table>\n<p>638045 rows × 3 columns</p>\n</div>"
     },
     "metadata": {},
     "execution_count": 8
    }
   ],
   "source": [
    "data"
   ]
  },
  {
   "cell_type": "code",
   "execution_count": 9,
   "metadata": {},
   "outputs": [],
   "source": [
    "data[\"Fee Reward\"]=data['Fee Reward'].map(lambda x: x.rstrip(' BTC'))"
   ]
  },
  {
   "cell_type": "code",
   "execution_count": 12,
   "metadata": {},
   "outputs": [],
   "source": [
    "data[\"Timestamp\"]=pd.to_datetime(data['Timestamp'])"
   ]
  },
  {
   "cell_type": "code",
   "execution_count": 13,
   "metadata": {},
   "outputs": [],
   "source": [
    "data[\"Fee Reward\"]=data[\"Fee Reward\"].astype('float')"
   ]
  },
  {
   "cell_type": "code",
   "execution_count": 14,
   "metadata": {},
   "outputs": [
    {
     "output_type": "execute_result",
     "data": {
      "text/plain": "        Fee Reward           Timestamp  Height\n0         0.218089 2020-07-06 22:45:00  638045\n1         0.306864 2020-07-06 22:42:00  638044\n2         0.257707 2020-07-06 22:27:00  638043\n3         0.280580 2020-07-06 22:20:00  638042\n4         0.278272 2020-07-06 22:11:00  638041\n...            ...                 ...     ...\n638040    0.000000 2009-01-09 03:23:00       5\n638041    0.000000 2009-01-09 03:16:00       4\n638042    0.000000 2009-01-09 03:02:00       3\n638043    0.000000 2009-01-09 02:55:00       2\n638044    0.000000 2009-01-09 02:54:00       1\n\n[638045 rows x 3 columns]",
      "text/html": "<div>\n<style scoped>\n    .dataframe tbody tr th:only-of-type {\n        vertical-align: middle;\n    }\n\n    .dataframe tbody tr th {\n        vertical-align: top;\n    }\n\n    .dataframe thead th {\n        text-align: right;\n    }\n</style>\n<table border=\"1\" class=\"dataframe\">\n  <thead>\n    <tr style=\"text-align: right;\">\n      <th></th>\n      <th>Fee Reward</th>\n      <th>Timestamp</th>\n      <th>Height</th>\n    </tr>\n  </thead>\n  <tbody>\n    <tr>\n      <th>0</th>\n      <td>0.218089</td>\n      <td>2020-07-06 22:45:00</td>\n      <td>638045</td>\n    </tr>\n    <tr>\n      <th>1</th>\n      <td>0.306864</td>\n      <td>2020-07-06 22:42:00</td>\n      <td>638044</td>\n    </tr>\n    <tr>\n      <th>2</th>\n      <td>0.257707</td>\n      <td>2020-07-06 22:27:00</td>\n      <td>638043</td>\n    </tr>\n    <tr>\n      <th>3</th>\n      <td>0.280580</td>\n      <td>2020-07-06 22:20:00</td>\n      <td>638042</td>\n    </tr>\n    <tr>\n      <th>4</th>\n      <td>0.278272</td>\n      <td>2020-07-06 22:11:00</td>\n      <td>638041</td>\n    </tr>\n    <tr>\n      <th>...</th>\n      <td>...</td>\n      <td>...</td>\n      <td>...</td>\n    </tr>\n    <tr>\n      <th>638040</th>\n      <td>0.000000</td>\n      <td>2009-01-09 03:23:00</td>\n      <td>5</td>\n    </tr>\n    <tr>\n      <th>638041</th>\n      <td>0.000000</td>\n      <td>2009-01-09 03:16:00</td>\n      <td>4</td>\n    </tr>\n    <tr>\n      <th>638042</th>\n      <td>0.000000</td>\n      <td>2009-01-09 03:02:00</td>\n      <td>3</td>\n    </tr>\n    <tr>\n      <th>638043</th>\n      <td>0.000000</td>\n      <td>2009-01-09 02:55:00</td>\n      <td>2</td>\n    </tr>\n    <tr>\n      <th>638044</th>\n      <td>0.000000</td>\n      <td>2009-01-09 02:54:00</td>\n      <td>1</td>\n    </tr>\n  </tbody>\n</table>\n<p>638045 rows × 3 columns</p>\n</div>"
     },
     "metadata": {},
     "execution_count": 14
    }
   ],
   "source": [
    "data"
   ]
  },
  {
   "cell_type": "code",
   "execution_count": 30,
   "metadata": {},
   "outputs": [
    {
     "output_type": "execute_result",
     "data": {
      "text/plain": "          Fee Reward           Timestamp  Height\n136319  1.844674e+11 2017-12-30 12:55:00  501726",
      "text/html": "<div>\n<style scoped>\n    .dataframe tbody tr th:only-of-type {\n        vertical-align: middle;\n    }\n\n    .dataframe tbody tr th {\n        vertical-align: top;\n    }\n\n    .dataframe thead th {\n        text-align: right;\n    }\n</style>\n<table border=\"1\" class=\"dataframe\">\n  <thead>\n    <tr style=\"text-align: right;\">\n      <th></th>\n      <th>Fee Reward</th>\n      <th>Timestamp</th>\n      <th>Height</th>\n    </tr>\n  </thead>\n  <tbody>\n    <tr>\n      <th>136319</th>\n      <td>1.844674e+11</td>\n      <td>2017-12-30 12:55:00</td>\n      <td>501726</td>\n    </tr>\n  </tbody>\n</table>\n</div>"
     },
     "metadata": {},
     "execution_count": 30
    }
   ],
   "source": [
    "data[data[\"Fee Reward\"]==184467440724.5955]"
   ]
  },
  {
   "cell_type": "code",
   "execution_count": 21,
   "metadata": {},
   "outputs": [
    {
     "output_type": "execute_result",
     "data": {
      "text/plain": "          Fee Reward           Timestamp  Height\n513321  1.844674e+11 2011-05-18 00:21:00  124724",
      "text/html": "<div>\n<style scoped>\n    .dataframe tbody tr th:only-of-type {\n        vertical-align: middle;\n    }\n\n    .dataframe tbody tr th {\n        vertical-align: top;\n    }\n\n    .dataframe thead th {\n        text-align: right;\n    }\n</style>\n<table border=\"1\" class=\"dataframe\">\n  <thead>\n    <tr style=\"text-align: right;\">\n      <th></th>\n      <th>Fee Reward</th>\n      <th>Timestamp</th>\n      <th>Height</th>\n    </tr>\n  </thead>\n  <tbody>\n    <tr>\n      <th>513321</th>\n      <td>1.844674e+11</td>\n      <td>2011-05-18 00:21:00</td>\n      <td>124724</td>\n    </tr>\n  </tbody>\n</table>\n</div>"
     },
     "metadata": {},
     "execution_count": 21
    }
   ],
   "source": [
    "data.loc[data[\"Fee Reward\"]==184467440737.09552]"
   ]
  },
  {
   "cell_type": "code",
   "execution_count": 29,
   "metadata": {},
   "outputs": [
    {
     "output_type": "execute_result",
     "data": {
      "text/plain": "184467440724.5955"
     },
     "metadata": {},
     "execution_count": 29
    }
   ],
   "source": [
    "max(data[\"Fee Reward\"])"
   ]
  },
  {
   "cell_type": "code",
   "execution_count": 28,
   "metadata": {},
   "outputs": [],
   "source": [
    "data[\"Fee Reward\"][111454]=0.1"
   ]
  },
  {
   "cell_type": "code",
   "execution_count": 3,
   "metadata": {},
   "outputs": [
    {
     "output_type": "error",
     "ename": "ModuleNotFoundError",
     "evalue": "No module named 'torch'",
     "traceback": [
      "\u001b[1;31m---------------------------------------------------------------------------\u001b[0m",
      "\u001b[1;31mModuleNotFoundError\u001b[0m                       Traceback (most recent call last)",
      "\u001b[1;32m<ipython-input-3-eb42ca6e4af3>\u001b[0m in \u001b[0;36m<module>\u001b[1;34m\u001b[0m\n\u001b[1;32m----> 1\u001b[1;33m \u001b[1;32mimport\u001b[0m \u001b[0mtorch\u001b[0m\u001b[1;33m\u001b[0m\u001b[1;33m\u001b[0m\u001b[0m\n\u001b[0m",
      "\u001b[1;31mModuleNotFoundError\u001b[0m: No module named 'torch'"
     ]
    }
   ],
   "source": [
    "import torch"
   ]
  },
  {
   "cell_type": "code",
   "execution_count": 4,
   "metadata": {},
   "outputs": [],
   "source": [
    "import numpy as np"
   ]
  },
  {
   "cell_type": "code",
   "execution_count": 8,
   "metadata": {},
   "outputs": [],
   "source": [
    "a=np.array([[1, 2],\n",
    "[3, 4],\n",
    "[5 ,6]])"
   ]
  },
  {
   "cell_type": "code",
   "execution_count": 9,
   "metadata": {},
   "outputs": [
    {
     "output_type": "execute_result",
     "data": {
      "text/plain": "array([[-1.33333333, -0.33333333,  0.66666667],\n       [ 1.08333333,  0.33333333, -0.41666667]])"
     },
     "metadata": {},
     "execution_count": 9
    }
   ],
   "source": [
    "np.linalg.pinv(a)"
   ]
  },
  {
   "cell_type": "code",
   "execution_count": 11,
   "metadata": {},
   "outputs": [
    {
     "output_type": "execute_result",
     "data": {
      "text/plain": "(array([ 6., -1.]), array([[ 0.8       , -0.70710678],\n        [ 0.6       ,  0.70710678]]))"
     },
     "metadata": {},
     "execution_count": 11
    }
   ],
   "source": [
    "a=np.array([[3 ,4], [3 ,2]])\n",
    "np.linalg.eig(a)"
   ]
  },
  {
   "cell_type": "code",
   "execution_count": 25,
   "metadata": {},
   "outputs": [],
   "source": [
    "matriz=np.array([[1,4],[2,5],[-3,6]])"
   ]
  },
  {
   "cell_type": "code",
   "execution_count": 26,
   "metadata": {},
   "outputs": [],
   "source": [
    "b=np.linalg.pinv(matriz)"
   ]
  },
  {
   "cell_type": "code",
   "execution_count": 15,
   "metadata": {},
   "outputs": [
    {
     "output_type": "execute_result",
     "data": {
      "text/plain": "array([[ 0.31355932,  0.45762712,  0.07627119],\n       [ 0.45762712,  0.69491525, -0.05084746],\n       [ 0.07627119, -0.05084746,  0.99152542]])"
     },
     "metadata": {},
     "execution_count": 15
    }
   ],
   "source": [
    "matriz.dot(b)"
   ]
  },
  {
   "cell_type": "code",
   "execution_count": 16,
   "metadata": {},
   "outputs": [
    {
     "output_type": "execute_result",
     "data": {
      "text/plain": "array([[ 1.00000000e+00,  0.00000000e+00],\n       [-2.77555756e-17,  1.00000000e+00]])"
     },
     "metadata": {},
     "execution_count": 16
    }
   ],
   "source": [
    "b.dot(matriz)"
   ]
  },
  {
   "cell_type": "code",
   "execution_count": 20,
   "metadata": {},
   "outputs": [],
   "source": [
    "a,b=np.linalg.pinv(matriz)"
   ]
  },
  {
   "cell_type": "code",
   "execution_count": 21,
   "metadata": {},
   "outputs": [
    {
     "output_type": "execute_result",
     "data": {
      "text/plain": "array([ 0.08757062,  0.16384181, -0.19491525])"
     },
     "metadata": {},
     "execution_count": 21
    }
   ],
   "source": [
    "a"
   ]
  },
  {
   "cell_type": "code",
   "execution_count": 28,
   "metadata": {},
   "outputs": [],
   "source": [
    "solu=np.array([[1],[2],[-3]])"
   ]
  },
  {
   "cell_type": "code",
   "execution_count": 29,
   "metadata": {},
   "outputs": [
    {
     "output_type": "execute_result",
     "data": {
      "text/plain": "array([[ 1.00000000e+00],\n       [-2.77555756e-17]])"
     },
     "metadata": {},
     "execution_count": 29
    }
   ],
   "source": [
    "b.dot(solu)"
   ]
  },
  {
   "cell_type": "code",
   "execution_count": 1,
   "metadata": {},
   "outputs": [],
   "source": [
    "import torch"
   ]
  },
  {
   "cell_type": "code",
   "execution_count": 5,
   "metadata": {
    "tags": []
   },
   "outputs": [
    {
     "output_type": "stream",
     "name": "stdout",
     "text": "tensor([1.5000, 3.5000]) tensor([2., 3.]) tensor(2.5000)\n"
    }
   ],
   "source": [
    "new_tensor = torch.tensor([[1.0, 2.0],[3.0, 4.0]])\n",
    "print(torch.mean(new_tensor, dim=1),\n",
    "      torch.mean(new_tensor, dim=0),\n",
    "      torch.mean(new_tensor)) "
   ]
  },
  {
   "cell_type": "code",
   "execution_count": 2,
   "metadata": {},
   "outputs": [],
   "source": [
    "a=np.array([[1, 2],\n",
    "[3, 4],\n",
    "[5, 6]])"
   ]
  },
  {
   "cell_type": "code",
   "execution_count": 3,
   "metadata": {},
   "outputs": [
    {
     "output_type": "execute_result",
     "data": {
      "text/plain": "array([[-1.33333333, -0.33333333,  0.66666667],\n       [ 1.08333333,  0.33333333, -0.41666667]])"
     },
     "metadata": {},
     "execution_count": 3
    }
   ],
   "source": [
    "np.linalg.pinv(a)"
   ]
  },
  {
   "cell_type": "code",
   "execution_count": null,
   "metadata": {},
   "outputs": [],
   "source": []
  }
 ]
}