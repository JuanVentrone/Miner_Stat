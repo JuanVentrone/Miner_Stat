{
 "cells": [
  {
   "cell_type": "code",
   "execution_count": 4,
   "metadata": {},
   "outputs": [],
   "source": [
    "import pandas as pd\n",
    "import numpy as np\n",
    "import math\n",
    "from Python import Scrapper_Blockchain_Func as sf\n",
    "from Python import procces_table as pt"
   ]
  },
  {
   "cell_type": "markdown",
   "metadata": {},
   "source": [
    "### Este Codigo sirve para limpiar todos los datos Scrappeados\n",
    "### Cleaning all data that Scrapped before and unific as one\n",
    "\n",
    "- Unificamos la data\n",
    "- Agrupamos por su tiempo de modo que sera por dia\n",
    "- Creamos varias tablas para su posterior uso"
   ]
  },
  {
   "cell_type": "code",
   "execution_count": 3,
   "metadata": {},
   "outputs": [],
   "source": [
    "data_copy=pd.read_csv(\"Blockchain_Tables/block_tables_crudo.csv\")\n",
    "data=data_copy.copy(deep=True)\n"
   ]
  },
  {
   "cell_type": "code",
   "execution_count": 4,
   "metadata": {},
   "outputs": [],
   "source": [
    "import os"
   ]
  },
  {
   "cell_type": "code",
   "execution_count": null,
   "metadata": {},
   "outputs": [],
   "source": [
    " data=data.drop_duplicates()"
   ]
  },
  {
   "cell_type": "code",
   "execution_count": 6,
   "metadata": {},
   "outputs": [],
   "source": [
    "dir_tables=os.listdir(\"Blockchain_Tables/block_constructor\")"
   ]
  },
  {
   "cell_type": "code",
   "execution_count": 15,
   "metadata": {},
   "outputs": [],
   "source": [
    "dir_tables=os.listdir(\"Blockchain_Tables/block_constructor/\")"
   ]
  },
  {
   "cell_type": "code",
   "execution_count": 21,
   "metadata": {},
   "outputs": [],
   "source": [
    "data=pd.read_csv(\"Blockchain_Tables/data_crudo.csv\")"
   ]
  },
  {
   "cell_type": "code",
   "execution_count": 22,
   "metadata": {},
   "outputs": [
    {
     "output_type": "execute_result",
     "data": {
      "text/plain": "(600358, 20)"
     },
     "metadata": {},
     "execution_count": 22
    }
   ],
   "source": [
    "data.shape"
   ]
  },
  {
   "cell_type": "code",
   "execution_count": 24,
   "metadata": {},
   "outputs": [
    {
     "output_type": "execute_result",
     "data": {
      "text/plain": "636.92"
     },
     "metadata": {},
     "execution_count": 24
    }
   ],
   "source": [
    "(max(data[\"Height\"])-data.shape[0])/50"
   ]
  },
  {
   "cell_type": "code",
   "execution_count": 25,
   "metadata": {},
   "outputs": [],
   "source": [
    "data_old=pd.read_csv(\"block_tables_crudo.csv\")"
   ]
  },
  {
   "cell_type": "code",
   "execution_count": 26,
   "metadata": {},
   "outputs": [
    {
     "output_type": "execute_result",
     "data": {
      "text/plain": "946"
     },
     "metadata": {},
     "execution_count": 26
    }
   ],
   "source": [
    "data.shape[0]-data_old.shape[0]"
   ]
  },
  {
   "cell_type": "code",
   "execution_count": 2,
   "metadata": {
    "tags": [
     "outputPrepend"
    ]
   },
   "outputs": [
    {
     "output_type": "stream",
     "name": "stdout",
     "text": "Hemos Finalizado\nEl Proceso se realizo exitosamente!, Revisar las Paginas Erradas\n"
    }
   ],
   "source": [
    "pt.init_lost_block()"
   ]
  },
  {
   "cell_type": "code",
   "execution_count": 3,
   "metadata": {},
   "outputs": [
    {
     "output_type": "execute_result",
     "data": {
      "text/plain": "     Unnamed: 0  Ini Page  Final Page  I block  F block\n0             0     12662       12665      747      751\n1             1     12659       12662      897      903\n2             2     12655       12661      953     1101\n3             3     12654       12657     1151     1153\n4             4     12651       12654     1297     1303\n..          ...       ...         ...      ...      ...\n166         166       187         433   612320   624484\n167         167       127         130   627475   627497\n168         168       102         106   628674   628720\n169         169        74          78   630111   630166\n170         170        73          77   630167   630189\n\n[171 rows x 5 columns]",
      "text/html": "<div>\n<style scoped>\n    .dataframe tbody tr th:only-of-type {\n        vertical-align: middle;\n    }\n\n    .dataframe tbody tr th {\n        vertical-align: top;\n    }\n\n    .dataframe thead th {\n        text-align: right;\n    }\n</style>\n<table border=\"1\" class=\"dataframe\">\n  <thead>\n    <tr style=\"text-align: right;\">\n      <th></th>\n      <th>Unnamed: 0</th>\n      <th>Ini Page</th>\n      <th>Final Page</th>\n      <th>I block</th>\n      <th>F block</th>\n    </tr>\n  </thead>\n  <tbody>\n    <tr>\n      <th>0</th>\n      <td>0</td>\n      <td>12662</td>\n      <td>12665</td>\n      <td>747</td>\n      <td>751</td>\n    </tr>\n    <tr>\n      <th>1</th>\n      <td>1</td>\n      <td>12659</td>\n      <td>12662</td>\n      <td>897</td>\n      <td>903</td>\n    </tr>\n    <tr>\n      <th>2</th>\n      <td>2</td>\n      <td>12655</td>\n      <td>12661</td>\n      <td>953</td>\n      <td>1101</td>\n    </tr>\n    <tr>\n      <th>3</th>\n      <td>3</td>\n      <td>12654</td>\n      <td>12657</td>\n      <td>1151</td>\n      <td>1153</td>\n    </tr>\n    <tr>\n      <th>4</th>\n      <td>4</td>\n      <td>12651</td>\n      <td>12654</td>\n      <td>1297</td>\n      <td>1303</td>\n    </tr>\n    <tr>\n      <th>...</th>\n      <td>...</td>\n      <td>...</td>\n      <td>...</td>\n      <td>...</td>\n      <td>...</td>\n    </tr>\n    <tr>\n      <th>166</th>\n      <td>166</td>\n      <td>187</td>\n      <td>433</td>\n      <td>612320</td>\n      <td>624484</td>\n    </tr>\n    <tr>\n      <th>167</th>\n      <td>167</td>\n      <td>127</td>\n      <td>130</td>\n      <td>627475</td>\n      <td>627497</td>\n    </tr>\n    <tr>\n      <th>168</th>\n      <td>168</td>\n      <td>102</td>\n      <td>106</td>\n      <td>628674</td>\n      <td>628720</td>\n    </tr>\n    <tr>\n      <th>169</th>\n      <td>169</td>\n      <td>74</td>\n      <td>78</td>\n      <td>630111</td>\n      <td>630166</td>\n    </tr>\n    <tr>\n      <th>170</th>\n      <td>170</td>\n      <td>73</td>\n      <td>77</td>\n      <td>630167</td>\n      <td>630189</td>\n    </tr>\n  </tbody>\n</table>\n<p>171 rows × 5 columns</p>\n</div>"
     },
     "metadata": {},
     "execution_count": 3
    }
   ],
   "source": [
    "data_lost=pd.read_csv(\"Blockchain_Tables/rang_paginas_erradas.csv\")\n",
    "data_lost"
   ]
  },
  {
   "cell_type": "code",
   "execution_count": 8,
   "metadata": {},
   "outputs": [
    {
     "output_type": "execute_result",
     "data": {
      "text/plain": "tuple"
     },
     "metadata": {},
     "execution_count": 8
    }
   ],
   "source": [
    "prueba=(range(data_lost[\"Ini Page\"][0],data_lost[\"Final Page\"][0]),range(data_lost[\"I block\"][0],data_lost[\"F block\"][0]))\n",
    "type(prueba)"
   ]
  },
  {
   "cell_type": "code",
   "execution_count": 10,
   "metadata": {},
   "outputs": [
    {
     "output_type": "execute_result",
     "data": {
      "text/plain": "range"
     },
     "metadata": {},
     "execution_count": 10
    }
   ],
   "source": [
    "type(prueba[0])"
   ]
  },
  {
   "cell_type": "code",
   "execution_count": 4,
   "metadata": {},
   "outputs": [
    {
     "output_type": "execute_result",
     "data": {
      "text/plain": "31846"
     },
     "metadata": {},
     "execution_count": 4
    }
   ],
   "source": [
    "data_lost[\"T block\"]=data_lost[\"F block\"]-data_lost[\"I block\"]\n",
    "sum(data_lost[\"T block\"])"
   ]
  },
  {
   "cell_type": "code",
   "execution_count": 5,
   "metadata": {},
   "outputs": [
    {
     "output_type": "execute_result",
     "data": {
      "text/plain": "True"
     },
     "metadata": {},
     "execution_count": 5
    }
   ],
   "source": [
    "data_old=pd.read_csv(\"Blockchain_Tables/data_crudo.csv\")\n",
    "suma_t=data_old.shape[0]+sum(data_lost[\"T block\"])\n",
    "suma_t==max(data_old[\"Height\"])"
   ]
  },
  {
   "cell_type": "code",
   "execution_count": 30,
   "metadata": {},
   "outputs": [
    {
     "output_type": "execute_result",
     "data": {
      "text/plain": "   Unnamed: 0      0      1\n0           0  12660  12663\n1           1  12656  12660\n2           2  12653  12658\n3           3  12651  12655\n4           4  12648  12652",
      "text/html": "<div>\n<style scoped>\n    .dataframe tbody tr th:only-of-type {\n        vertical-align: middle;\n    }\n\n    .dataframe tbody tr th {\n        vertical-align: top;\n    }\n\n    .dataframe thead th {\n        text-align: right;\n    }\n</style>\n<table border=\"1\" class=\"dataframe\">\n  <thead>\n    <tr style=\"text-align: right;\">\n      <th></th>\n      <th>Unnamed: 0</th>\n      <th>0</th>\n      <th>1</th>\n    </tr>\n  </thead>\n  <tbody>\n    <tr>\n      <th>0</th>\n      <td>0</td>\n      <td>12660</td>\n      <td>12663</td>\n    </tr>\n    <tr>\n      <th>1</th>\n      <td>1</td>\n      <td>12656</td>\n      <td>12660</td>\n    </tr>\n    <tr>\n      <th>2</th>\n      <td>2</td>\n      <td>12653</td>\n      <td>12658</td>\n    </tr>\n    <tr>\n      <th>3</th>\n      <td>3</td>\n      <td>12651</td>\n      <td>12655</td>\n    </tr>\n    <tr>\n      <th>4</th>\n      <td>4</td>\n      <td>12648</td>\n      <td>12652</td>\n    </tr>\n  </tbody>\n</table>\n</div>"
     },
     "metadata": {},
     "execution_count": 30
    }
   ],
   "source": []
  },
  {
   "cell_type": "code",
   "execution_count": 31,
   "metadata": {},
   "outputs": [],
   "source": [
    "data_error[\"Total\"]=data_error[\"1\"]-data_error[\"0\"]"
   ]
  },
  {
   "cell_type": "code",
   "execution_count": 32,
   "metadata": {},
   "outputs": [
    {
     "output_type": "execute_result",
     "data": {
      "text/plain": "1151"
     },
     "metadata": {},
     "execution_count": 32
    }
   ],
   "source": [
    "sum(data_error[\"Total\"])"
   ]
  },
  {
   "cell_type": "code",
   "execution_count": 33,
   "metadata": {},
   "outputs": [
    {
     "output_type": "execute_result",
     "data": {
      "text/plain": "60.578947368421055"
     },
     "metadata": {},
     "execution_count": 33
    }
   ],
   "source": [
    "1151/19"
   ]
  },
  {
   "cell_type": "code",
   "execution_count": 34,
   "metadata": {},
   "outputs": [
    {
     "output_type": "execute_result",
     "data": {
      "text/plain": "     Unnamed: 0      0      1  Total\n0             0  12660  12663      3\n1             1  12656  12660      4\n2             2  12653  12658      5\n3             3  12651  12655      4\n4             4  12648  12652      4\n..          ...    ...    ...    ...\n166         166    185    431    246\n167         167    125    128      3\n168         168    100    104      4\n169         169     71     75      4\n170         170     71     74      3\n\n[171 rows x 4 columns]",
      "text/html": "<div>\n<style scoped>\n    .dataframe tbody tr th:only-of-type {\n        vertical-align: middle;\n    }\n\n    .dataframe tbody tr th {\n        vertical-align: top;\n    }\n\n    .dataframe thead th {\n        text-align: right;\n    }\n</style>\n<table border=\"1\" class=\"dataframe\">\n  <thead>\n    <tr style=\"text-align: right;\">\n      <th></th>\n      <th>Unnamed: 0</th>\n      <th>0</th>\n      <th>1</th>\n      <th>Total</th>\n    </tr>\n  </thead>\n  <tbody>\n    <tr>\n      <th>0</th>\n      <td>0</td>\n      <td>12660</td>\n      <td>12663</td>\n      <td>3</td>\n    </tr>\n    <tr>\n      <th>1</th>\n      <td>1</td>\n      <td>12656</td>\n      <td>12660</td>\n      <td>4</td>\n    </tr>\n    <tr>\n      <th>2</th>\n      <td>2</td>\n      <td>12653</td>\n      <td>12658</td>\n      <td>5</td>\n    </tr>\n    <tr>\n      <th>3</th>\n      <td>3</td>\n      <td>12651</td>\n      <td>12655</td>\n      <td>4</td>\n    </tr>\n    <tr>\n      <th>4</th>\n      <td>4</td>\n      <td>12648</td>\n      <td>12652</td>\n      <td>4</td>\n    </tr>\n    <tr>\n      <th>...</th>\n      <td>...</td>\n      <td>...</td>\n      <td>...</td>\n      <td>...</td>\n    </tr>\n    <tr>\n      <th>166</th>\n      <td>166</td>\n      <td>185</td>\n      <td>431</td>\n      <td>246</td>\n    </tr>\n    <tr>\n      <th>167</th>\n      <td>167</td>\n      <td>125</td>\n      <td>128</td>\n      <td>3</td>\n    </tr>\n    <tr>\n      <th>168</th>\n      <td>168</td>\n      <td>100</td>\n      <td>104</td>\n      <td>4</td>\n    </tr>\n    <tr>\n      <th>169</th>\n      <td>169</td>\n      <td>71</td>\n      <td>75</td>\n      <td>4</td>\n    </tr>\n    <tr>\n      <th>170</th>\n      <td>170</td>\n      <td>71</td>\n      <td>74</td>\n      <td>3</td>\n    </tr>\n  </tbody>\n</table>\n<p>171 rows × 4 columns</p>\n</div>"
     },
     "metadata": {},
     "execution_count": 34
    }
   ],
   "source": [
    "data_error"
   ]
  },
  {
   "cell_type": "code",
   "execution_count": 22,
   "metadata": {
    "tags": [
     "outputPrepend",
     "outputPrepend",
     "outputPrepend"
    ]
   },
   "outputs": [
    {
     "output_type": "stream",
     "name": "stdout",
     "text": " 999"
    }
   ],
   "source": [
    "graph=[\" / \",\" - \",\" \\ \",\" | \"]\n",
    "for i in range(0,1000):\n",
    "    print(\"\\r\",i, end='')"
   ]
  },
  {
   "cell_type": "code",
   "execution_count": 27,
   "metadata": {},
   "outputs": [],
   "source": [
    "graph=[\" / \",\" - \",\" \\ \",\" | \"]\n",
    "a=0\n",
    "def graph_bar(a):\n",
    "    graph=[\" / \",\" - \",\" \\ \",\" | \"]\n",
    "    if a==3:\n",
    "        print(\"\\r\",graph[a], end='')\n",
    "        a=0\n",
    "    else:\n",
    "        print(\"\\r\",graph[a], end='')\n",
    "        a+=1\n",
    "    return a"
   ]
  },
  {
   "cell_type": "code",
   "execution_count": 38,
   "metadata": {},
   "outputs": [
    {
     "output_type": "stream",
     "name": "stdout",
     "text": "\\"
    }
   ],
   "source": [
    "a=graph_bar(a)\n"
   ]
  },
  {
   "cell_type": "code",
   "execution_count": 2,
   "metadata": {},
   "outputs": [],
   "source": [
    "def graph_bar(g):\n",
    "    graph=[\" / \",\" - \",\" \\ \",\" | \"]\n",
    "    if g==3:\n",
    "        print(\"\\r\",graph[g], end='')\n",
    "        g=0\n",
    "    else:\n",
    "        print(\"\\r\",graph[g], end='')\n",
    "        g+=1\n",
    "    return g"
   ]
  },
  {
   "cell_type": "code",
   "execution_count": 4,
   "metadata": {},
   "outputs": [
    {
     "output_type": "stream",
     "name": "stdout",
     "text": "/"
    }
   ],
   "source": [
    "g=graph_bar(g)"
   ]
  },
  {
   "cell_type": "code",
   "execution_count": 1,
   "metadata": {},
   "outputs": [],
   "source": [
    "import pandas as pd\n",
    "import numpy as np\n",
    "import math\n",
    "import Scrapper_Blockchain_Func as sf\n",
    "import procces_table as pt"
   ]
  },
  {
   "cell_type": "code",
   "execution_count": 2,
   "metadata": {},
   "outputs": [
    {
     "output_type": "stream",
     "name": "stdout",
     "text": "34042\nescrapeando pagina:  12000\n  -"
    }
   ],
   "source": [
    "sf.scrapper_partitions(12000,1)"
   ]
  },
  {
   "cell_type": "code",
   "execution_count": 3,
   "metadata": {},
   "outputs": [
    {
     "output_type": "execute_result",
     "data": {
      "text/plain": "False"
     },
     "metadata": {},
     "execution_count": 3
    }
   ],
   "source": [
    "n=[1 for i in range(3)]\n",
    "type(n)==tuple"
   ]
  },
  {
   "cell_type": "code",
   "execution_count": 3,
   "metadata": {},
   "outputs": [
    {
     "output_type": "stream",
     "name": "stdout",
     "text": "Hemos Finalizado\n"
    }
   ],
   "source": [
    "pt.init_lost_block()"
   ]
  },
  {
   "cell_type": "code",
   "execution_count": 9,
   "metadata": {},
   "outputs": [],
   "source": [
    "data_=pd.read_csv(\"Blockchain_Tables/rang_paginas_erradas.csv\")"
   ]
  },
  {
   "cell_type": "code",
   "execution_count": 10,
   "metadata": {},
   "outputs": [
    {
     "output_type": "execute_result",
     "data": {
      "text/plain": "     Unnamed: 0  Ini Page  Final Page  I block  F block\n0             0     12664       12667      747      751\n1             1     12661       12664      897      903\n2             2     12657       12663      953     1101\n3             3     12656       12659     1151     1153\n4             4     12653       12656     1297     1303\n..          ...       ...         ...      ...      ...\n166         166       189         435   612320   624484\n167         167       129         132   627475   627497\n168         168       104         108   628674   628720\n169         169        75          79   630111   630166\n170         170        75          78   630167   630189\n\n[171 rows x 5 columns]",
      "text/html": "<div>\n<style scoped>\n    .dataframe tbody tr th:only-of-type {\n        vertical-align: middle;\n    }\n\n    .dataframe tbody tr th {\n        vertical-align: top;\n    }\n\n    .dataframe thead th {\n        text-align: right;\n    }\n</style>\n<table border=\"1\" class=\"dataframe\">\n  <thead>\n    <tr style=\"text-align: right;\">\n      <th></th>\n      <th>Unnamed: 0</th>\n      <th>Ini Page</th>\n      <th>Final Page</th>\n      <th>I block</th>\n      <th>F block</th>\n    </tr>\n  </thead>\n  <tbody>\n    <tr>\n      <th>0</th>\n      <td>0</td>\n      <td>12664</td>\n      <td>12667</td>\n      <td>747</td>\n      <td>751</td>\n    </tr>\n    <tr>\n      <th>1</th>\n      <td>1</td>\n      <td>12661</td>\n      <td>12664</td>\n      <td>897</td>\n      <td>903</td>\n    </tr>\n    <tr>\n      <th>2</th>\n      <td>2</td>\n      <td>12657</td>\n      <td>12663</td>\n      <td>953</td>\n      <td>1101</td>\n    </tr>\n    <tr>\n      <th>3</th>\n      <td>3</td>\n      <td>12656</td>\n      <td>12659</td>\n      <td>1151</td>\n      <td>1153</td>\n    </tr>\n    <tr>\n      <th>4</th>\n      <td>4</td>\n      <td>12653</td>\n      <td>12656</td>\n      <td>1297</td>\n      <td>1303</td>\n    </tr>\n    <tr>\n      <th>...</th>\n      <td>...</td>\n      <td>...</td>\n      <td>...</td>\n      <td>...</td>\n      <td>...</td>\n    </tr>\n    <tr>\n      <th>166</th>\n      <td>166</td>\n      <td>189</td>\n      <td>435</td>\n      <td>612320</td>\n      <td>624484</td>\n    </tr>\n    <tr>\n      <th>167</th>\n      <td>167</td>\n      <td>129</td>\n      <td>132</td>\n      <td>627475</td>\n      <td>627497</td>\n    </tr>\n    <tr>\n      <th>168</th>\n      <td>168</td>\n      <td>104</td>\n      <td>108</td>\n      <td>628674</td>\n      <td>628720</td>\n    </tr>\n    <tr>\n      <th>169</th>\n      <td>169</td>\n      <td>75</td>\n      <td>79</td>\n      <td>630111</td>\n      <td>630166</td>\n    </tr>\n    <tr>\n      <th>170</th>\n      <td>170</td>\n      <td>75</td>\n      <td>78</td>\n      <td>630167</td>\n      <td>630189</td>\n    </tr>\n  </tbody>\n</table>\n<p>171 rows × 5 columns</p>\n</div>"
     },
     "metadata": {},
     "execution_count": 10
    }
   ],
   "source": [
    "data_"
   ]
  },
  {
   "cell_type": "code",
   "execution_count": 10,
   "metadata": {},
   "outputs": [],
   "source": [
    "data=data_[data_[\"Ini Page\"]>12663]"
   ]
  },
  {
   "cell_type": "code",
   "execution_count": 5,
   "metadata": {},
   "outputs": [
    {
     "output_type": "error",
     "ename": "NameError",
     "evalue": "name 'data' is not defined",
     "traceback": [
      "\u001b[1;31m---------------------------------------------------------------------------\u001b[0m",
      "\u001b[1;31mNameError\u001b[0m                                 Traceback (most recent call last)",
      "\u001b[1;32m<ipython-input-5-c5d84736ba45>\u001b[0m in \u001b[0;36m<module>\u001b[1;34m\u001b[0m\n\u001b[1;32m----> 1\u001b[1;33m \u001b[0mdata\u001b[0m\u001b[1;33m\u001b[0m\u001b[1;33m\u001b[0m\u001b[0m\n\u001b[0m",
      "\u001b[1;31mNameError\u001b[0m: name 'data' is not defined"
     ]
    }
   ],
   "source": [
    "data"
   ]
  },
  {
   "cell_type": "code",
   "execution_count": 15,
   "metadata": {},
   "outputs": [],
   "source": [
    "data.to_csv(\"Blockchain_Tables/rang_paginas_erradas.csv\")"
   ]
  },
  {
   "cell_type": "code",
   "execution_count": 28,
   "metadata": {},
   "outputs": [
    {
     "output_type": "error",
     "ename": "ModuleNotFoundError",
     "evalue": "No module named 'Python'",
     "traceback": [
      "\u001b[1;31m---------------------------------------------------------------------------\u001b[0m",
      "\u001b[1;31mModuleNotFoundError\u001b[0m                       Traceback (most recent call last)",
      "\u001b[1;32m<ipython-input-28-0199b17b3714>\u001b[0m in \u001b[0;36m<module>\u001b[1;34m\u001b[0m\n\u001b[0;32m      2\u001b[0m \u001b[1;32mimport\u001b[0m \u001b[0mnumpy\u001b[0m \u001b[1;32mas\u001b[0m \u001b[0mnp\u001b[0m\u001b[1;33m\u001b[0m\u001b[1;33m\u001b[0m\u001b[0m\n\u001b[0;32m      3\u001b[0m \u001b[1;32mimport\u001b[0m \u001b[0mmath\u001b[0m\u001b[1;33m\u001b[0m\u001b[1;33m\u001b[0m\u001b[0m\n\u001b[1;32m----> 4\u001b[1;33m \u001b[1;32mfrom\u001b[0m \u001b[0mPython\u001b[0m \u001b[1;32mimport\u001b[0m \u001b[0mScrapper_Blockchain_Func\u001b[0m \u001b[1;32mas\u001b[0m \u001b[0msf\u001b[0m\u001b[1;33m\u001b[0m\u001b[1;33m\u001b[0m\u001b[0m\n\u001b[0m\u001b[0;32m      5\u001b[0m \u001b[1;32mfrom\u001b[0m \u001b[0mPython\u001b[0m \u001b[1;32mimport\u001b[0m \u001b[0mprocces_table\u001b[0m \u001b[1;32mas\u001b[0m \u001b[0mpt\u001b[0m\u001b[1;33m\u001b[0m\u001b[1;33m\u001b[0m\u001b[0m\n",
      "\u001b[1;31mModuleNotFoundError\u001b[0m: No module named 'Python'"
     ]
    }
   ],
   "source": [
    "import pandas as pd\n",
    "import numpy as np\n",
    "import math\n",
    "from Python import Scrapper_Blockchain_Func as sf\n",
    "from Python import procces_table as pt"
   ]
  },
  {
   "cell_type": "code",
   "execution_count": 2,
   "metadata": {},
   "outputs": [
    {
     "output_type": "stream",
     "name": "stdout",
     "text": "range(747, 752)\nescrapeando pagina:  12664\n['903', '902', '901', '900', '899', '898', '897', '896', '895', '894', '893', '892', '891', '890', '889', '888', '887', '886', '885', '884', '883', '882', '881', '880', '879', '878', '877', '876', '875', '874', '873', '872', '871', '870', '869', '868', '867', '866', '865', '864', '863', '862', '861', '860', '859', '858', '857', '856', '855', '854']\nel programa colapso\nCantidad de bloques no encontrado 50\nescrapeando pagina:  12665\n['853', '852', '851', '850', '849', '848', '847', '846', '845', '844', '843', '842', '841', '840', '839', '838', '837', '836', '835', '834', '833', '832', '831', '830', '829', '828', '827', '826', '825', '824', '823', '822', '821', '820', '819', '818', '817', '816', '815', '814', '813', '812', '811', '810', '809', '808', '807', '806', '805', '804']\nel programa colapso\nCantidad de bloques no encontrado 50\nescrapeando pagina:  12666\n['803', '802', '801', '800', '799', '798', '797', '796', '795', '794', '793', '792', '791', '790', '789', '788', '787', '786', '785', '784', '783', '782', '781', '780', '779', '778', '777', '776', '775', '774', '773', '772', '771', '770', '769', '768', '767', '766', '765', '764', '763', '762', '761', '760', '759', '758', '757', '756', '755', '754']\nel programa colapso\nCantidad de bloques no encontrado 50\nrange(747, 752)\n"
    },
    {
     "output_type": "error",
     "ename": "KeyError",
     "evalue": "Index(['Height'], dtype='object')",
     "traceback": [
      "\u001b[1;31m---------------------------------------------------------------------------\u001b[0m",
      "\u001b[1;31mKeyError\u001b[0m                                  Traceback (most recent call last)",
      "\u001b[1;32m<ipython-input-2-bca48ec7f33f>\u001b[0m in \u001b[0;36m<module>\u001b[1;34m\u001b[0m\n\u001b[1;32m----> 1\u001b[1;33m \u001b[0msf\u001b[0m\u001b[1;33m.\u001b[0m\u001b[0mscrapper_lost_block\u001b[0m\u001b[1;33m(\u001b[0m\u001b[1;33m)\u001b[0m\u001b[1;33m\u001b[0m\u001b[1;33m\u001b[0m\u001b[0m\n\u001b[0m",
      "\u001b[1;32mc:\\Users\\jvent\\Documents\\Python Scripts\\Miner_Stat\\Scrapper_Blockchain_Func.py\u001b[0m in \u001b[0;36mscrapper_lost_block\u001b[1;34m()\u001b[0m\n\u001b[0;32m    294\u001b[0m             \u001b[0mdf\u001b[0m\u001b[1;33m,\u001b[0m\u001b[0mdr\u001b[0m\u001b[1;33m=\u001b[0m \u001b[0mblock_scrapper_pages\u001b[0m\u001b[1;33m(\u001b[0m\u001b[0mn_pages_1\u001b[0m\u001b[1;33m,\u001b[0m\u001b[0mn_range_block\u001b[0m\u001b[1;33m)\u001b[0m\u001b[1;33m\u001b[0m\u001b[1;33m\u001b[0m\u001b[0m\n\u001b[0;32m    295\u001b[0m             \u001b[0mdf_new\u001b[0m\u001b[1;33m=\u001b[0m\u001b[0mlast_scrpapping\u001b[0m\u001b[1;33m(\u001b[0m\u001b[0mdf\u001b[0m\u001b[1;33m,\u001b[0m\u001b[0mdr\u001b[0m\u001b[1;33m,\u001b[0m\u001b[0mn_range_block\u001b[0m\u001b[1;33m)\u001b[0m\u001b[1;33m\u001b[0m\u001b[1;33m\u001b[0m\u001b[0m\n\u001b[1;32m--> 296\u001b[1;33m             \u001b[0mtable_save_update\u001b[0m\u001b[1;33m(\u001b[0m\u001b[0mdf_new\u001b[0m\u001b[1;33m,\u001b[0m\u001b[0mdata\u001b[0m\u001b[1;33m)\u001b[0m\u001b[1;33m\u001b[0m\u001b[1;33m\u001b[0m\u001b[0m\n\u001b[0m\u001b[0;32m    297\u001b[0m \u001b[1;33m\u001b[0m\u001b[0m\n\u001b[0;32m    298\u001b[0m         \u001b[1;31m# CONTINUAMOS ordenar como vamos a guardar las tablas\u001b[0m\u001b[1;33m\u001b[0m\u001b[1;33m\u001b[0m\u001b[1;33m\u001b[0m\u001b[0m\n",
      "\u001b[1;32mc:\\Users\\jvent\\Documents\\Python Scripts\\Miner_Stat\\Scrapper_Blockchain_Func.py\u001b[0m in \u001b[0;36mtable_save_update\u001b[1;34m(df_new, data_old)\u001b[0m\n\u001b[0;32m    227\u001b[0m \u001b[1;33m\u001b[0m\u001b[0m\n\u001b[0;32m    228\u001b[0m     \u001b[0mdf_suma\u001b[0m\u001b[1;33m=\u001b[0m\u001b[0mdf_new\u001b[0m\u001b[1;33m.\u001b[0m\u001b[0mappend\u001b[0m\u001b[1;33m(\u001b[0m\u001b[0mdata_old\u001b[0m\u001b[1;33m)\u001b[0m\u001b[1;33m\u001b[0m\u001b[1;33m\u001b[0m\u001b[0m\n\u001b[1;32m--> 229\u001b[1;33m     \u001b[0mdf_suma\u001b[0m\u001b[1;33m=\u001b[0m \u001b[0mdf_suma\u001b[0m\u001b[1;33m.\u001b[0m\u001b[0mdrop_duplicates\u001b[0m\u001b[1;33m(\u001b[0m\u001b[1;34m\"Height\"\u001b[0m\u001b[1;33m,\u001b[0m \u001b[0mkeep\u001b[0m\u001b[1;33m=\u001b[0m\u001b[1;34m'last'\u001b[0m\u001b[1;33m)\u001b[0m\u001b[1;33m\u001b[0m\u001b[1;33m\u001b[0m\u001b[0m\n\u001b[0m\u001b[0;32m    230\u001b[0m     \u001b[0mdf_suma\u001b[0m\u001b[1;33m.\u001b[0m\u001b[0mdrop\u001b[0m\u001b[1;33m(\u001b[0m\u001b[0mdf_suma\u001b[0m\u001b[1;33m.\u001b[0m\u001b[0mcolumns\u001b[0m\u001b[1;33m[\u001b[0m\u001b[0mdf_suma\u001b[0m\u001b[1;33m.\u001b[0m\u001b[0mcolumns\u001b[0m\u001b[1;33m.\u001b[0m\u001b[0mstr\u001b[0m\u001b[1;33m.\u001b[0m\u001b[0mcontains\u001b[0m\u001b[1;33m(\u001b[0m\u001b[1;34m'unnamed'\u001b[0m\u001b[1;33m,\u001b[0m\u001b[0mcase\u001b[0m \u001b[1;33m=\u001b[0m \u001b[1;32mFalse\u001b[0m\u001b[1;33m)\u001b[0m\u001b[1;33m]\u001b[0m\u001b[1;33m,\u001b[0m\u001b[0maxis\u001b[0m \u001b[1;33m=\u001b[0m \u001b[1;36m1\u001b[0m\u001b[1;33m,\u001b[0m \u001b[0minplace\u001b[0m \u001b[1;33m=\u001b[0m \u001b[1;32mTrue\u001b[0m\u001b[1;33m)\u001b[0m\u001b[1;33m\u001b[0m\u001b[1;33m\u001b[0m\u001b[0m\n\u001b[0;32m    231\u001b[0m     \u001b[1;31m# df_suma.to_csv(\"Blockchain_Tables/blocks_data_last_update\"+str(date.today())+\".csv\")\u001b[0m\u001b[1;33m\u001b[0m\u001b[1;33m\u001b[0m\u001b[1;33m\u001b[0m\u001b[0m\n",
      "\u001b[1;32m~\\Anaconda3\\lib\\site-packages\\pandas\\core\\frame.py\u001b[0m in \u001b[0;36mdrop_duplicates\u001b[1;34m(self, subset, keep, inplace, ignore_index)\u001b[0m\n\u001b[0;32m   4809\u001b[0m \u001b[1;33m\u001b[0m\u001b[0m\n\u001b[0;32m   4810\u001b[0m         \u001b[0minplace\u001b[0m \u001b[1;33m=\u001b[0m \u001b[0mvalidate_bool_kwarg\u001b[0m\u001b[1;33m(\u001b[0m\u001b[0minplace\u001b[0m\u001b[1;33m,\u001b[0m \u001b[1;34m\"inplace\"\u001b[0m\u001b[1;33m)\u001b[0m\u001b[1;33m\u001b[0m\u001b[1;33m\u001b[0m\u001b[0m\n\u001b[1;32m-> 4811\u001b[1;33m         \u001b[0mduplicated\u001b[0m \u001b[1;33m=\u001b[0m \u001b[0mself\u001b[0m\u001b[1;33m.\u001b[0m\u001b[0mduplicated\u001b[0m\u001b[1;33m(\u001b[0m\u001b[0msubset\u001b[0m\u001b[1;33m,\u001b[0m \u001b[0mkeep\u001b[0m\u001b[1;33m=\u001b[0m\u001b[0mkeep\u001b[0m\u001b[1;33m)\u001b[0m\u001b[1;33m\u001b[0m\u001b[1;33m\u001b[0m\u001b[0m\n\u001b[0m\u001b[0;32m   4812\u001b[0m \u001b[1;33m\u001b[0m\u001b[0m\n\u001b[0;32m   4813\u001b[0m         \u001b[1;32mif\u001b[0m \u001b[0minplace\u001b[0m\u001b[1;33m:\u001b[0m\u001b[1;33m\u001b[0m\u001b[1;33m\u001b[0m\u001b[0m\n",
      "\u001b[1;32m~\\Anaconda3\\lib\\site-packages\\pandas\\core\\frame.py\u001b[0m in \u001b[0;36mduplicated\u001b[1;34m(self, subset, keep)\u001b[0m\n\u001b[0;32m   4883\u001b[0m         \u001b[0mdiff\u001b[0m \u001b[1;33m=\u001b[0m \u001b[0mIndex\u001b[0m\u001b[1;33m(\u001b[0m\u001b[0msubset\u001b[0m\u001b[1;33m)\u001b[0m\u001b[1;33m.\u001b[0m\u001b[0mdifference\u001b[0m\u001b[1;33m(\u001b[0m\u001b[0mself\u001b[0m\u001b[1;33m.\u001b[0m\u001b[0mcolumns\u001b[0m\u001b[1;33m)\u001b[0m\u001b[1;33m\u001b[0m\u001b[1;33m\u001b[0m\u001b[0m\n\u001b[0;32m   4884\u001b[0m         \u001b[1;32mif\u001b[0m \u001b[1;32mnot\u001b[0m \u001b[0mdiff\u001b[0m\u001b[1;33m.\u001b[0m\u001b[0mempty\u001b[0m\u001b[1;33m:\u001b[0m\u001b[1;33m\u001b[0m\u001b[1;33m\u001b[0m\u001b[0m\n\u001b[1;32m-> 4885\u001b[1;33m             \u001b[1;32mraise\u001b[0m \u001b[0mKeyError\u001b[0m\u001b[1;33m(\u001b[0m\u001b[0mdiff\u001b[0m\u001b[1;33m)\u001b[0m\u001b[1;33m\u001b[0m\u001b[1;33m\u001b[0m\u001b[0m\n\u001b[0m\u001b[0;32m   4886\u001b[0m \u001b[1;33m\u001b[0m\u001b[0m\n\u001b[0;32m   4887\u001b[0m         \u001b[0mvals\u001b[0m \u001b[1;33m=\u001b[0m \u001b[1;33m(\u001b[0m\u001b[0mcol\u001b[0m\u001b[1;33m.\u001b[0m\u001b[0mvalues\u001b[0m \u001b[1;32mfor\u001b[0m \u001b[0mname\u001b[0m\u001b[1;33m,\u001b[0m \u001b[0mcol\u001b[0m \u001b[1;32min\u001b[0m \u001b[0mself\u001b[0m\u001b[1;33m.\u001b[0m\u001b[0mitems\u001b[0m\u001b[1;33m(\u001b[0m\u001b[1;33m)\u001b[0m \u001b[1;32mif\u001b[0m \u001b[0mname\u001b[0m \u001b[1;32min\u001b[0m \u001b[0msubset\u001b[0m\u001b[1;33m)\u001b[0m\u001b[1;33m\u001b[0m\u001b[1;33m\u001b[0m\u001b[0m\n",
      "\u001b[1;31mKeyError\u001b[0m: Index(['Height'], dtype='object')"
     ]
    }
   ],
   "source": [
    "sf.scrapper_lost_block()"
   ]
  },
  {
   "cell_type": "code",
   "execution_count": 11,
   "metadata": {},
   "outputs": [
    {
     "output_type": "error",
     "ename": "AttributeError",
     "evalue": "type object 'list' has no attribute 'to_numeric'",
     "traceback": [
      "\u001b[1;31m---------------------------------------------------------------------------\u001b[0m",
      "\u001b[1;31mAttributeError\u001b[0m                            Traceback (most recent call last)",
      "\u001b[1;32m<ipython-input-11-abc6c65cce0f>\u001b[0m in \u001b[0;36m<module>\u001b[1;34m\u001b[0m\n\u001b[0;32m      1\u001b[0m \u001b[0mdata\u001b[0m\u001b[1;33m=\u001b[0m\u001b[0mpd\u001b[0m\u001b[1;33m.\u001b[0m\u001b[0mread_csv\u001b[0m\u001b[1;33m(\u001b[0m\u001b[1;34m\"Blockchain_Tables/rang_paginas_erradas.csv\"\u001b[0m\u001b[1;33m)\u001b[0m\u001b[1;33m\u001b[0m\u001b[1;33m\u001b[0m\u001b[0m\n\u001b[1;32m----> 2\u001b[1;33m \u001b[0mdatos\u001b[0m \u001b[1;33m=\u001b[0m \u001b[0mlist\u001b[0m\u001b[1;33m.\u001b[0m\u001b[0mto_numeric\u001b[0m\u001b[1;33m(\u001b[0m\u001b[0mv\u001b[0m\u001b[1;33m)\u001b[0m\u001b[1;33m\u001b[0m\u001b[1;33m\u001b[0m\u001b[0m\n\u001b[0m\u001b[0;32m      3\u001b[0m \u001b[0mdatos\u001b[0m\u001b[1;33m\u001b[0m\u001b[1;33m\u001b[0m\u001b[0m\n",
      "\u001b[1;31mAttributeError\u001b[0m: type object 'list' has no attribute 'to_numeric'"
     ]
    }
   ],
   "source": [
    "data=pd.read_csv(\"Blockchain_Tables/rang_paginas_erradas.csv\")\n",
    "datos = list.to_numeric(v)\n",
    "datos"
   ]
  },
  {
   "cell_type": "code",
   "execution_count": 3,
   "metadata": {},
   "outputs": [
    {
     "output_type": "error",
     "ename": "NameError",
     "evalue": "name 'data' is not defined",
     "traceback": [
      "\u001b[1;31m---------------------------------------------------------------------------\u001b[0m",
      "\u001b[1;31mNameError\u001b[0m                                 Traceback (most recent call last)",
      "\u001b[1;32m<ipython-input-3-2667485b5f2f>\u001b[0m in \u001b[0;36m<module>\u001b[1;34m\u001b[0m\n\u001b[1;32m----> 1\u001b[1;33m \u001b[0mdata\u001b[0m\u001b[1;33m.\u001b[0m\u001b[0mtype\u001b[0m\u001b[1;33m(\u001b[0m\u001b[1;33m)\u001b[0m\u001b[1;33m\u001b[0m\u001b[1;33m\u001b[0m\u001b[0m\n\u001b[0m",
      "\u001b[1;31mNameError\u001b[0m: name 'data' is not defined"
     ]
    }
   ],
   "source": [
    "data = data.astype(int)\n",
    "data.to_csv(\"Blockchain_Tables/rang_paginas_erradas.csv\")\n",
    "data.type()"
   ]
  },
  {
   "cell_type": "code",
   "execution_count": 8,
   "metadata": {},
   "outputs": [],
   "source": [
    "v=['825', '824', '823', '822', '821', '820', '819', '818', '817', '816', '815', '814', '813', '812', '811', '810', '809', '808', '807', '806', '805', '804', '803', '802', '801', '800', '799', '798', '797', '796', '795', '794', '793', '792', '791', '790', '789', '788', '787', '786', '785', '784', '783', '782', '781', '780', '779', '778', '777', '776']"
   ]
  },
  {
   "cell_type": "code",
   "execution_count": 4,
   "metadata": {},
   "outputs": [
    {
     "output_type": "execute_result",
     "data": {
      "text/plain": "range(0, 1)"
     },
     "metadata": {},
     "execution_count": 4
    }
   ],
   "source": [
    "range(len(data))"
   ]
  },
  {
   "cell_type": "code",
   "execution_count": 10,
   "metadata": {},
   "outputs": [
    {
     "output_type": "stream",
     "name": "stdout",
     "text": "0\n"
    }
   ],
   "source": [
    " for i in range(len(data)):\n",
    "    print(i)\n",
    "    n_pages_1= range(data[\"Ini Page\"][i],data[\"Final Page\"][i])\n",
    "    n_range_block= range(data[\"I block\"][i],data[\"F block\"][i])\n",
    "    "
   ]
  },
  {
   "cell_type": "code",
   "execution_count": 11,
   "metadata": {},
   "outputs": [
    {
     "output_type": "execute_result",
     "data": {
      "text/plain": "range(12664, 12667)"
     },
     "metadata": {},
     "execution_count": 11
    }
   ],
   "source": [
    "\n",
    "n_pages_1"
   ]
  },
  {
   "cell_type": "code",
   "execution_count": 4,
   "metadata": {},
   "outputs": [],
   "source": [
    "def prueba():\n",
    "    d=[2]\n",
    "    c=[]\n",
    "    return d,c"
   ]
  },
  {
   "cell_type": "code",
   "execution_count": 5,
   "metadata": {},
   "outputs": [],
   "source": [
    "d,c=prueba()"
   ]
  },
  {
   "cell_type": "code",
   "execution_count": 7,
   "metadata": {},
   "outputs": [
    {
     "output_type": "execute_result",
     "data": {
      "text/plain": "[2]"
     },
     "metadata": {},
     "execution_count": 7
    }
   ],
   "source": [
    "d"
   ]
  },
  {
   "cell_type": "code",
   "execution_count": 8,
   "metadata": {},
   "outputs": [
    {
     "output_type": "error",
     "ename": "NameError",
     "evalue": "name 'data' is not defined",
     "traceback": [
      "\u001b[1;31m---------------------------------------------------------------------------\u001b[0m",
      "\u001b[1;31mNameError\u001b[0m                                 Traceback (most recent call last)",
      "\u001b[1;32m<ipython-input-8-c5d84736ba45>\u001b[0m in \u001b[0;36m<module>\u001b[1;34m\u001b[0m\n\u001b[1;32m----> 1\u001b[1;33m \u001b[0mdata\u001b[0m\u001b[1;33m\u001b[0m\u001b[1;33m\u001b[0m\u001b[0m\n\u001b[0m",
      "\u001b[1;31mNameError\u001b[0m: name 'data' is not defined"
     ]
    }
   ],
   "source": [
    "data"
   ]
  },
  {
   "cell_type": "code",
   "execution_count": 2,
   "metadata": {},
   "outputs": [],
   "source": [
    "def prueba():\n",
    "    v=[None]\n",
    "    c=[None]\n",
    "    return v,c\n"
   ]
  },
  {
   "cell_type": "code",
   "execution_count": 4,
   "metadata": {},
   "outputs": [],
   "source": [
    "v,c=prueba()"
   ]
  },
  {
   "cell_type": "code",
   "execution_count": 5,
   "metadata": {},
   "outputs": [
    {
     "output_type": "execute_result",
     "data": {
      "text/plain": "[None]"
     },
     "metadata": {},
     "execution_count": 5
    }
   ],
   "source": [
    "v"
   ]
  },
  {
   "cell_type": "code",
   "execution_count": 8,
   "metadata": {},
   "outputs": [],
   "source": [
    "data=pd.read_csv(\"Blockchain_Tables/rang_paginas_erradas.csv\")\n"
   ]
  },
  {
   "cell_type": "code",
   "execution_count": 9,
   "metadata": {},
   "outputs": [
    {
     "output_type": "execute_result",
     "data": {
      "text/plain": "<bound method DataFrame.info of    Unnamed: 0  Unnamed: 0.1  Unnamed: 0.1.1  Ini Page  Final Page  I block  \\\n0           0             0               0     12664       12667      747   \n\n   F block  \n0      751  >"
     },
     "metadata": {},
     "execution_count": 9
    }
   ],
   "source": [
    "data.info"
   ]
  },
  {
   "cell_type": "code",
   "execution_count": 10,
   "metadata": {},
   "outputs": [
    {
     "output_type": "stream",
     "name": "stdout",
     "text": "<class 'pandas.core.frame.DataFrame'>\nRangeIndex: 1 entries, 0 to 0\nData columns (total 7 columns):\n #   Column          Non-Null Count  Dtype\n---  ------          --------------  -----\n 0   Unnamed: 0      1 non-null      int64\n 1   Unnamed: 0.1    1 non-null      int64\n 2   Unnamed: 0.1.1  1 non-null      int64\n 3   Ini Page        1 non-null      int64\n 4   Final Page      1 non-null      int64\n 5   I block         1 non-null      int64\n 6   F block         1 non-null      int64\ndtypes: int64(7)\nmemory usage: 184.0 bytes\n"
    }
   ],
   "source": [
    "data.info()"
   ]
  },
  {
   "cell_type": "code",
   "execution_count": 13,
   "metadata": {},
   "outputs": [],
   "source": [
    "data=data.apply(pd.to_numeric)"
   ]
  },
  {
   "cell_type": "code",
   "execution_count": 14,
   "metadata": {},
   "outputs": [
    {
     "output_type": "stream",
     "name": "stdout",
     "text": "<class 'pandas.core.frame.DataFrame'>\nRangeIndex: 1 entries, 0 to 0\nData columns (total 7 columns):\n #   Column          Non-Null Count  Dtype\n---  ------          --------------  -----\n 0   Unnamed: 0      1 non-null      int64\n 1   Unnamed: 0.1    1 non-null      int64\n 2   Unnamed: 0.1.1  1 non-null      int64\n 3   Ini Page        1 non-null      int64\n 4   Final Page      1 non-null      int64\n 5   I block         1 non-null      int64\n 6   F block         1 non-null      int64\ndtypes: int64(7)\nmemory usage: 184.0 bytes\n"
    }
   ],
   "source": [
    "data.info()"
   ]
  },
  {
   "cell_type": "code",
   "execution_count": 3,
   "metadata": {},
   "outputs": [],
   "source": [
    "v=['892', '891', '890', '889', '888', '887', '886', '885', '884', '883', '882', '881', '880', '879', '878', '877', '876', '875', '874', '873', '872', '871', '870', '869', '868', '867', '866', '865', '864', '863', '862', '861', '860', '859', '858', '857', '856', '855', '854', '853', '852', '851', '850', '849', '848', '847', '846', '845', '844', '843']"
   ]
  },
  {
   "cell_type": "code",
   "execution_count": 13,
   "metadata": {},
   "outputs": [],
   "source": [
    "data=pd.read_csv(\"../blockchain data/bc data/data_crudo_check.csv\")"
   ]
  },
  {
   "cell_type": "code",
   "execution_count": 4,
   "metadata": {},
   "outputs": [
    {
     "output_type": "execute_result",
     "data": {
      "text/plain": "   Unnamed: 0                                               Hash  \\\n0           0  000000000000000000073b6fdcfef8e7fe1d791e0d03e9...   \n1           1  0000000000000000000e011573654cdc1338b37354a7b9...   \n2           2  000000000000000000016012f36863f0230cc4284332ac...   \n3           3  000000000000000000073f2b9e7f8dc678f883b35b7c3b...   \n4           4  00000000000000000002dba669ee459ee630861b459c84...   \n\n  Confirmations         Timestamp    Height Number of Transactions  \\\n0             1  2020-05-29 17:48  632204.0                  2,874   \n1             2  2020-05-29 17:43  632203.0                  2,794   \n2             3  2020-05-29 17:40  632202.0                  2,930   \n3             4  2020-05-29 17:37  632201.0                  3,190   \n4             5  2020-05-29 17:31  632200.0                  2,831   \n\n              Difficulty                                        Merkle root  \\\n0  15,138,043,247,082.88  8c750f293d48eb7ee6ad3c1b9fd918d231647000cd0cfd...   \n1  15,138,043,247,082.88  5774e22670cafba34c0e560beefaf7f30c5c15840bba59...   \n2  15,138,043,247,082.88  d65f87b39de55155085d96358ffbb55fb88c5e6d76ab37...   \n3  15,138,043,247,082.88  8c48b03673d3594c729c8594add43e8119a214c1973e8f...   \n4  15,138,043,247,082.88  47be90fed6ebc50c7359bc1236de210a25fbcd8a12b1fa...   \n\n      Version         Bits  ...  Transaction Volume    Block Reward  \\\n0  0x20c00000  387,094,518  ...   3295.16333366 BTC  6.25000000 BTC   \n1  0x20000000  387,094,518  ...   3360.42926493 BTC  6.25000000 BTC   \n2  0x20800000  387,094,518  ...   2558.25477619 BTC  6.25000000 BTC   \n3  0x20000000  387,094,518  ...   4286.11940584 BTC  6.25000000 BTC   \n4  0x20800000  387,094,518  ...  12282.13969394 BTC  6.25000000 BTC   \n\n       Fee Reward Miner Name  \\\n0  0.69030603 BTC    BTC.com   \n1  0.61549767 BTC    BTC.com   \n2  0.68014061 BTC    Unknown   \n3  0.94487766 BTC    AntPool   \n4  1.12972137 BTC  SlushPool   \n\n                                           URL Miner Unnamed: 0.1 F block  \\\n0  /btc/address/bc1qjl8uwezzlech723lpnyuza0h2cdkv...          NaN     NaN   \n1  /btc/address/bc1qjl8uwezzlech723lpnyuza0h2cdkv...          NaN     NaN   \n2    /btc/address/147SwRQdpCfj5p8PnfsXV2SsVVpVcz3aPq          NaN     NaN   \n3    /btc/address/12dRugNcdxK39288NjcDV4GX7rMsKCGn6B          NaN     NaN   \n4    /btc/address/1CK6KHY6MHgYvmRQ4PAafKYDrg1ejbH1cE          NaN     NaN   \n\n  Final Page  I block  Ini Page  \n0        NaN      NaN       NaN  \n1        NaN      NaN       NaN  \n2        NaN      NaN       NaN  \n3        NaN      NaN       NaN  \n4        NaN      NaN       NaN  \n\n[5 rows x 23 columns]",
      "text/html": "<div>\n<style scoped>\n    .dataframe tbody tr th:only-of-type {\n        vertical-align: middle;\n    }\n\n    .dataframe tbody tr th {\n        vertical-align: top;\n    }\n\n    .dataframe thead th {\n        text-align: right;\n    }\n</style>\n<table border=\"1\" class=\"dataframe\">\n  <thead>\n    <tr style=\"text-align: right;\">\n      <th></th>\n      <th>Unnamed: 0</th>\n      <th>Hash</th>\n      <th>Confirmations</th>\n      <th>Timestamp</th>\n      <th>Height</th>\n      <th>Number of Transactions</th>\n      <th>Difficulty</th>\n      <th>Merkle root</th>\n      <th>Version</th>\n      <th>Bits</th>\n      <th>...</th>\n      <th>Transaction Volume</th>\n      <th>Block Reward</th>\n      <th>Fee Reward</th>\n      <th>Miner Name</th>\n      <th>URL Miner</th>\n      <th>Unnamed: 0.1</th>\n      <th>F block</th>\n      <th>Final Page</th>\n      <th>I block</th>\n      <th>Ini Page</th>\n    </tr>\n  </thead>\n  <tbody>\n    <tr>\n      <th>0</th>\n      <td>0</td>\n      <td>000000000000000000073b6fdcfef8e7fe1d791e0d03e9...</td>\n      <td>1</td>\n      <td>2020-05-29 17:48</td>\n      <td>632204.0</td>\n      <td>2,874</td>\n      <td>15,138,043,247,082.88</td>\n      <td>8c750f293d48eb7ee6ad3c1b9fd918d231647000cd0cfd...</td>\n      <td>0x20c00000</td>\n      <td>387,094,518</td>\n      <td>...</td>\n      <td>3295.16333366 BTC</td>\n      <td>6.25000000 BTC</td>\n      <td>0.69030603 BTC</td>\n      <td>BTC.com</td>\n      <td>/btc/address/bc1qjl8uwezzlech723lpnyuza0h2cdkv...</td>\n      <td>NaN</td>\n      <td>NaN</td>\n      <td>NaN</td>\n      <td>NaN</td>\n      <td>NaN</td>\n    </tr>\n    <tr>\n      <th>1</th>\n      <td>1</td>\n      <td>0000000000000000000e011573654cdc1338b37354a7b9...</td>\n      <td>2</td>\n      <td>2020-05-29 17:43</td>\n      <td>632203.0</td>\n      <td>2,794</td>\n      <td>15,138,043,247,082.88</td>\n      <td>5774e22670cafba34c0e560beefaf7f30c5c15840bba59...</td>\n      <td>0x20000000</td>\n      <td>387,094,518</td>\n      <td>...</td>\n      <td>3360.42926493 BTC</td>\n      <td>6.25000000 BTC</td>\n      <td>0.61549767 BTC</td>\n      <td>BTC.com</td>\n      <td>/btc/address/bc1qjl8uwezzlech723lpnyuza0h2cdkv...</td>\n      <td>NaN</td>\n      <td>NaN</td>\n      <td>NaN</td>\n      <td>NaN</td>\n      <td>NaN</td>\n    </tr>\n    <tr>\n      <th>2</th>\n      <td>2</td>\n      <td>000000000000000000016012f36863f0230cc4284332ac...</td>\n      <td>3</td>\n      <td>2020-05-29 17:40</td>\n      <td>632202.0</td>\n      <td>2,930</td>\n      <td>15,138,043,247,082.88</td>\n      <td>d65f87b39de55155085d96358ffbb55fb88c5e6d76ab37...</td>\n      <td>0x20800000</td>\n      <td>387,094,518</td>\n      <td>...</td>\n      <td>2558.25477619 BTC</td>\n      <td>6.25000000 BTC</td>\n      <td>0.68014061 BTC</td>\n      <td>Unknown</td>\n      <td>/btc/address/147SwRQdpCfj5p8PnfsXV2SsVVpVcz3aPq</td>\n      <td>NaN</td>\n      <td>NaN</td>\n      <td>NaN</td>\n      <td>NaN</td>\n      <td>NaN</td>\n    </tr>\n    <tr>\n      <th>3</th>\n      <td>3</td>\n      <td>000000000000000000073f2b9e7f8dc678f883b35b7c3b...</td>\n      <td>4</td>\n      <td>2020-05-29 17:37</td>\n      <td>632201.0</td>\n      <td>3,190</td>\n      <td>15,138,043,247,082.88</td>\n      <td>8c48b03673d3594c729c8594add43e8119a214c1973e8f...</td>\n      <td>0x20000000</td>\n      <td>387,094,518</td>\n      <td>...</td>\n      <td>4286.11940584 BTC</td>\n      <td>6.25000000 BTC</td>\n      <td>0.94487766 BTC</td>\n      <td>AntPool</td>\n      <td>/btc/address/12dRugNcdxK39288NjcDV4GX7rMsKCGn6B</td>\n      <td>NaN</td>\n      <td>NaN</td>\n      <td>NaN</td>\n      <td>NaN</td>\n      <td>NaN</td>\n    </tr>\n    <tr>\n      <th>4</th>\n      <td>4</td>\n      <td>00000000000000000002dba669ee459ee630861b459c84...</td>\n      <td>5</td>\n      <td>2020-05-29 17:31</td>\n      <td>632200.0</td>\n      <td>2,831</td>\n      <td>15,138,043,247,082.88</td>\n      <td>47be90fed6ebc50c7359bc1236de210a25fbcd8a12b1fa...</td>\n      <td>0x20800000</td>\n      <td>387,094,518</td>\n      <td>...</td>\n      <td>12282.13969394 BTC</td>\n      <td>6.25000000 BTC</td>\n      <td>1.12972137 BTC</td>\n      <td>SlushPool</td>\n      <td>/btc/address/1CK6KHY6MHgYvmRQ4PAafKYDrg1ejbH1cE</td>\n      <td>NaN</td>\n      <td>NaN</td>\n      <td>NaN</td>\n      <td>NaN</td>\n      <td>NaN</td>\n    </tr>\n  </tbody>\n</table>\n<p>5 rows × 23 columns</p>\n</div>"
     },
     "metadata": {},
     "execution_count": 4
    }
   ],
   "source": [
    "data.head()"
   ]
  },
  {
   "cell_type": "code",
   "execution_count": 7,
   "metadata": {},
   "outputs": [
    {
     "output_type": "execute_result",
     "data": {
      "text/plain": "(619756, 21)"
     },
     "metadata": {},
     "execution_count": 7
    }
   ],
   "source": [
    "data.shape"
   ]
  },
  {
   "cell_type": "code",
   "execution_count": 14,
   "metadata": {},
   "outputs": [],
   "source": [
    "data.drop(data.columns[data.columns.str.contains('unnamed',case = False)],axis = 1, inplace = True)"
   ]
  },
  {
   "cell_type": "code",
   "execution_count": 15,
   "metadata": {},
   "outputs": [],
   "source": [
    "data= data.drop(['F block', 'Final Page',\"I block\",\"Ini Page\"], axis=1)"
   ]
  },
  {
   "cell_type": "code",
   "execution_count": 16,
   "metadata": {},
   "outputs": [],
   "source": [
    "data=data.sort_values(by=['Height'],ascending=False)"
   ]
  },
  {
   "cell_type": "code",
   "execution_count": 17,
   "metadata": {},
   "outputs": [],
   "source": [
    "data = data.dropna()"
   ]
  },
  {
   "cell_type": "code",
   "execution_count": 18,
   "metadata": {},
   "outputs": [
    {
     "output_type": "execute_result",
     "data": {
      "text/plain": "                                                     Hash Confirmations  \\\n0       000000000000000000073b6fdcfef8e7fe1d791e0d03e9...             1   \n1       0000000000000000000e011573654cdc1338b37354a7b9...             2   \n2       000000000000000000016012f36863f0230cc4284332ac...             3   \n3       000000000000000000073f2b9e7f8dc678f883b35b7c3b...             4   \n4       00000000000000000002dba669ee459ee630861b459c84...             5   \n...                                                   ...           ...   \n613962  000000009b7262315dbf071787ad3656097b892abffd1f...       633,746   \n613963  000000004ebadb55ee9096c9a2f8880e09da59c0d68b1c...       633,747   \n613964  0000000082b5015589a3fdf2d4baff403e6f0be035a5d9...       633,748   \n613965  000000006a625f06636b8bb6ac7b960a8d03705d1ace08...       633,749   \n613966  00000000839a8e6886ab5951d76f411475428afc90947e...       633,750   \n\n               Timestamp    Height Number of Transactions  \\\n0       2020-05-29 17:48  632204.0                  2,874   \n1       2020-05-29 17:43  632203.0                  2,794   \n2       2020-05-29 17:40  632202.0                  2,930   \n3       2020-05-29 17:37  632201.0                  3,190   \n4       2020-05-29 17:31  632200.0                  2,831   \n...                  ...       ...                    ...   \n613962  2009-01-09 03:23       5.0                    1.0   \n613963  2009-01-09 03:16       4.0                    1.0   \n613964  2009-01-09 03:02       3.0                    1.0   \n613965  2009-01-09 02:55       2.0                    1.0   \n613966  2009-01-09 02:54       1.0                    1.0   \n\n                   Difficulty  \\\n0       15,138,043,247,082.88   \n1       15,138,043,247,082.88   \n2       15,138,043,247,082.88   \n3       15,138,043,247,082.88   \n4       15,138,043,247,082.88   \n...                       ...   \n613962                    1.0   \n613963                    1.0   \n613964                    1.0   \n613965                    1.0   \n613966                    1.0   \n\n                                              Merkle root     Version  \\\n0       8c750f293d48eb7ee6ad3c1b9fd918d231647000cd0cfd...  0x20c00000   \n1       5774e22670cafba34c0e560beefaf7f30c5c15840bba59...  0x20000000   \n2       d65f87b39de55155085d96358ffbb55fb88c5e6d76ab37...  0x20800000   \n3       8c48b03673d3594c729c8594add43e8119a214c1973e8f...  0x20000000   \n4       47be90fed6ebc50c7359bc1236de210a25fbcd8a12b1fa...  0x20800000   \n...                                                   ...         ...   \n613962  63522845d294ee9b0188ae5cac91bf389a0c3723f084ca...         0x1   \n613963  df2b060fa2e5e9c8ed5eaf6a45c13753ec8c63282b2688...         0x1   \n613964  999e1c837c76a1b7fbb7e57baf87b309960f5ffefbf2a9...         0x1   \n613965  9b0fc92260312ce44e74ef369f5c66bbb85848f2eddd5a...         0x1   \n613966  0e3e2357e806b6cdb1f70b54c3a3a17b6714ee1f0e68be...         0x1   \n\n               Bits        Weight             Size          Nonce  \\\n0       387,094,518  3,993,183 WU  1,208,670 bytes  1,180,895,046   \n1       387,094,518  3,993,275 WU  1,220,891 bytes    640,333,900   \n2       387,094,518  3,993,427 WU  1,153,318 bytes  2,746,715,948   \n3       387,094,518  3,993,334 WU  1,241,755 bytes  2,782,270,481   \n4       387,094,518  3,993,403 WU  1,373,197 bytes  2,798,989,211   \n...             ...           ...              ...            ...   \n613962  486,604,799        860 WU        215 bytes  2,011,431,709   \n613963  486,604,799        860 WU        215 bytes  2,850,094,635   \n613964  486,604,799        860 WU        215 bytes  1,844,305,925   \n613965  486,604,799        860 WU        215 bytes  1,639,830,024   \n613966  486,604,799        860 WU        215 bytes  2,573,394,689   \n\n        Transaction Volume     Block Reward      Fee Reward Miner Name  \\\n0        3295.16333366 BTC   6.25000000 BTC  0.69030603 BTC    BTC.com   \n1        3360.42926493 BTC   6.25000000 BTC  0.61549767 BTC    BTC.com   \n2        2558.25477619 BTC   6.25000000 BTC  0.68014061 BTC    Unknown   \n3        4286.11940584 BTC   6.25000000 BTC  0.94487766 BTC    AntPool   \n4       12282.13969394 BTC   6.25000000 BTC  1.12972137 BTC  SlushPool   \n...                    ...              ...             ...        ...   \n613962      0.00000000 BTC  50.00000000 BTC  0.00000000 BTC    Unknown   \n613963      0.00000000 BTC  50.00000000 BTC  0.00000000 BTC    Unknown   \n613964      0.00000000 BTC  50.00000000 BTC  0.00000000 BTC    Unknown   \n613965      0.00000000 BTC  50.00000000 BTC  0.00000000 BTC    Unknown   \n613966      0.00000000 BTC  50.00000000 BTC  0.00000000 BTC    Unknown   \n\n                                                URL Miner  \n0       /btc/address/bc1qjl8uwezzlech723lpnyuza0h2cdkv...  \n1       /btc/address/bc1qjl8uwezzlech723lpnyuza0h2cdkv...  \n2         /btc/address/147SwRQdpCfj5p8PnfsXV2SsVVpVcz3aPq  \n3         /btc/address/12dRugNcdxK39288NjcDV4GX7rMsKCGn6B  \n4         /btc/address/1CK6KHY6MHgYvmRQ4PAafKYDrg1ejbH1cE  \n...                                                   ...  \n613962    /btc/address/1JfbZRwdDHKZmuiZgYArJZhcuuzuw2HuMu  \n613963    /btc/address/15ubicBBWFnvoZLT7GiU2qxjRaKJPdkDMG  \n613964    /btc/address/1FvzCLoTPGANNjWoUo6jUGuAG3wg1w4YjR  \n613965    /btc/address/1HLoD9E4SDFFPDiYfNYnkBLQ85Y51J3Zb1  \n613966    /btc/address/12c6DSiU4Rq3P4ZxziKxzrL5LmMBrzjrJX  \n\n[619748 rows x 17 columns]",
      "text/html": "<div>\n<style scoped>\n    .dataframe tbody tr th:only-of-type {\n        vertical-align: middle;\n    }\n\n    .dataframe tbody tr th {\n        vertical-align: top;\n    }\n\n    .dataframe thead th {\n        text-align: right;\n    }\n</style>\n<table border=\"1\" class=\"dataframe\">\n  <thead>\n    <tr style=\"text-align: right;\">\n      <th></th>\n      <th>Hash</th>\n      <th>Confirmations</th>\n      <th>Timestamp</th>\n      <th>Height</th>\n      <th>Number of Transactions</th>\n      <th>Difficulty</th>\n      <th>Merkle root</th>\n      <th>Version</th>\n      <th>Bits</th>\n      <th>Weight</th>\n      <th>Size</th>\n      <th>Nonce</th>\n      <th>Transaction Volume</th>\n      <th>Block Reward</th>\n      <th>Fee Reward</th>\n      <th>Miner Name</th>\n      <th>URL Miner</th>\n    </tr>\n  </thead>\n  <tbody>\n    <tr>\n      <th>0</th>\n      <td>000000000000000000073b6fdcfef8e7fe1d791e0d03e9...</td>\n      <td>1</td>\n      <td>2020-05-29 17:48</td>\n      <td>632204.0</td>\n      <td>2,874</td>\n      <td>15,138,043,247,082.88</td>\n      <td>8c750f293d48eb7ee6ad3c1b9fd918d231647000cd0cfd...</td>\n      <td>0x20c00000</td>\n      <td>387,094,518</td>\n      <td>3,993,183 WU</td>\n      <td>1,208,670 bytes</td>\n      <td>1,180,895,046</td>\n      <td>3295.16333366 BTC</td>\n      <td>6.25000000 BTC</td>\n      <td>0.69030603 BTC</td>\n      <td>BTC.com</td>\n      <td>/btc/address/bc1qjl8uwezzlech723lpnyuza0h2cdkv...</td>\n    </tr>\n    <tr>\n      <th>1</th>\n      <td>0000000000000000000e011573654cdc1338b37354a7b9...</td>\n      <td>2</td>\n      <td>2020-05-29 17:43</td>\n      <td>632203.0</td>\n      <td>2,794</td>\n      <td>15,138,043,247,082.88</td>\n      <td>5774e22670cafba34c0e560beefaf7f30c5c15840bba59...</td>\n      <td>0x20000000</td>\n      <td>387,094,518</td>\n      <td>3,993,275 WU</td>\n      <td>1,220,891 bytes</td>\n      <td>640,333,900</td>\n      <td>3360.42926493 BTC</td>\n      <td>6.25000000 BTC</td>\n      <td>0.61549767 BTC</td>\n      <td>BTC.com</td>\n      <td>/btc/address/bc1qjl8uwezzlech723lpnyuza0h2cdkv...</td>\n    </tr>\n    <tr>\n      <th>2</th>\n      <td>000000000000000000016012f36863f0230cc4284332ac...</td>\n      <td>3</td>\n      <td>2020-05-29 17:40</td>\n      <td>632202.0</td>\n      <td>2,930</td>\n      <td>15,138,043,247,082.88</td>\n      <td>d65f87b39de55155085d96358ffbb55fb88c5e6d76ab37...</td>\n      <td>0x20800000</td>\n      <td>387,094,518</td>\n      <td>3,993,427 WU</td>\n      <td>1,153,318 bytes</td>\n      <td>2,746,715,948</td>\n      <td>2558.25477619 BTC</td>\n      <td>6.25000000 BTC</td>\n      <td>0.68014061 BTC</td>\n      <td>Unknown</td>\n      <td>/btc/address/147SwRQdpCfj5p8PnfsXV2SsVVpVcz3aPq</td>\n    </tr>\n    <tr>\n      <th>3</th>\n      <td>000000000000000000073f2b9e7f8dc678f883b35b7c3b...</td>\n      <td>4</td>\n      <td>2020-05-29 17:37</td>\n      <td>632201.0</td>\n      <td>3,190</td>\n      <td>15,138,043,247,082.88</td>\n      <td>8c48b03673d3594c729c8594add43e8119a214c1973e8f...</td>\n      <td>0x20000000</td>\n      <td>387,094,518</td>\n      <td>3,993,334 WU</td>\n      <td>1,241,755 bytes</td>\n      <td>2,782,270,481</td>\n      <td>4286.11940584 BTC</td>\n      <td>6.25000000 BTC</td>\n      <td>0.94487766 BTC</td>\n      <td>AntPool</td>\n      <td>/btc/address/12dRugNcdxK39288NjcDV4GX7rMsKCGn6B</td>\n    </tr>\n    <tr>\n      <th>4</th>\n      <td>00000000000000000002dba669ee459ee630861b459c84...</td>\n      <td>5</td>\n      <td>2020-05-29 17:31</td>\n      <td>632200.0</td>\n      <td>2,831</td>\n      <td>15,138,043,247,082.88</td>\n      <td>47be90fed6ebc50c7359bc1236de210a25fbcd8a12b1fa...</td>\n      <td>0x20800000</td>\n      <td>387,094,518</td>\n      <td>3,993,403 WU</td>\n      <td>1,373,197 bytes</td>\n      <td>2,798,989,211</td>\n      <td>12282.13969394 BTC</td>\n      <td>6.25000000 BTC</td>\n      <td>1.12972137 BTC</td>\n      <td>SlushPool</td>\n      <td>/btc/address/1CK6KHY6MHgYvmRQ4PAafKYDrg1ejbH1cE</td>\n    </tr>\n    <tr>\n      <th>...</th>\n      <td>...</td>\n      <td>...</td>\n      <td>...</td>\n      <td>...</td>\n      <td>...</td>\n      <td>...</td>\n      <td>...</td>\n      <td>...</td>\n      <td>...</td>\n      <td>...</td>\n      <td>...</td>\n      <td>...</td>\n      <td>...</td>\n      <td>...</td>\n      <td>...</td>\n      <td>...</td>\n      <td>...</td>\n    </tr>\n    <tr>\n      <th>613962</th>\n      <td>000000009b7262315dbf071787ad3656097b892abffd1f...</td>\n      <td>633,746</td>\n      <td>2009-01-09 03:23</td>\n      <td>5.0</td>\n      <td>1.0</td>\n      <td>1.0</td>\n      <td>63522845d294ee9b0188ae5cac91bf389a0c3723f084ca...</td>\n      <td>0x1</td>\n      <td>486,604,799</td>\n      <td>860 WU</td>\n      <td>215 bytes</td>\n      <td>2,011,431,709</td>\n      <td>0.00000000 BTC</td>\n      <td>50.00000000 BTC</td>\n      <td>0.00000000 BTC</td>\n      <td>Unknown</td>\n      <td>/btc/address/1JfbZRwdDHKZmuiZgYArJZhcuuzuw2HuMu</td>\n    </tr>\n    <tr>\n      <th>613963</th>\n      <td>000000004ebadb55ee9096c9a2f8880e09da59c0d68b1c...</td>\n      <td>633,747</td>\n      <td>2009-01-09 03:16</td>\n      <td>4.0</td>\n      <td>1.0</td>\n      <td>1.0</td>\n      <td>df2b060fa2e5e9c8ed5eaf6a45c13753ec8c63282b2688...</td>\n      <td>0x1</td>\n      <td>486,604,799</td>\n      <td>860 WU</td>\n      <td>215 bytes</td>\n      <td>2,850,094,635</td>\n      <td>0.00000000 BTC</td>\n      <td>50.00000000 BTC</td>\n      <td>0.00000000 BTC</td>\n      <td>Unknown</td>\n      <td>/btc/address/15ubicBBWFnvoZLT7GiU2qxjRaKJPdkDMG</td>\n    </tr>\n    <tr>\n      <th>613964</th>\n      <td>0000000082b5015589a3fdf2d4baff403e6f0be035a5d9...</td>\n      <td>633,748</td>\n      <td>2009-01-09 03:02</td>\n      <td>3.0</td>\n      <td>1.0</td>\n      <td>1.0</td>\n      <td>999e1c837c76a1b7fbb7e57baf87b309960f5ffefbf2a9...</td>\n      <td>0x1</td>\n      <td>486,604,799</td>\n      <td>860 WU</td>\n      <td>215 bytes</td>\n      <td>1,844,305,925</td>\n      <td>0.00000000 BTC</td>\n      <td>50.00000000 BTC</td>\n      <td>0.00000000 BTC</td>\n      <td>Unknown</td>\n      <td>/btc/address/1FvzCLoTPGANNjWoUo6jUGuAG3wg1w4YjR</td>\n    </tr>\n    <tr>\n      <th>613965</th>\n      <td>000000006a625f06636b8bb6ac7b960a8d03705d1ace08...</td>\n      <td>633,749</td>\n      <td>2009-01-09 02:55</td>\n      <td>2.0</td>\n      <td>1.0</td>\n      <td>1.0</td>\n      <td>9b0fc92260312ce44e74ef369f5c66bbb85848f2eddd5a...</td>\n      <td>0x1</td>\n      <td>486,604,799</td>\n      <td>860 WU</td>\n      <td>215 bytes</td>\n      <td>1,639,830,024</td>\n      <td>0.00000000 BTC</td>\n      <td>50.00000000 BTC</td>\n      <td>0.00000000 BTC</td>\n      <td>Unknown</td>\n      <td>/btc/address/1HLoD9E4SDFFPDiYfNYnkBLQ85Y51J3Zb1</td>\n    </tr>\n    <tr>\n      <th>613966</th>\n      <td>00000000839a8e6886ab5951d76f411475428afc90947e...</td>\n      <td>633,750</td>\n      <td>2009-01-09 02:54</td>\n      <td>1.0</td>\n      <td>1.0</td>\n      <td>1.0</td>\n      <td>0e3e2357e806b6cdb1f70b54c3a3a17b6714ee1f0e68be...</td>\n      <td>0x1</td>\n      <td>486,604,799</td>\n      <td>860 WU</td>\n      <td>215 bytes</td>\n      <td>2,573,394,689</td>\n      <td>0.00000000 BTC</td>\n      <td>50.00000000 BTC</td>\n      <td>0.00000000 BTC</td>\n      <td>Unknown</td>\n      <td>/btc/address/12c6DSiU4Rq3P4ZxziKxzrL5LmMBrzjrJX</td>\n    </tr>\n  </tbody>\n</table>\n<p>619748 rows × 17 columns</p>\n</div>"
     },
     "metadata": {},
     "execution_count": 18
    }
   ],
   "source": [
    "data"
   ]
  },
  {
   "cell_type": "code",
   "execution_count": 19,
   "metadata": {},
   "outputs": [
    {
     "output_type": "execute_result",
     "data": {
      "text/plain": "12456.0"
     },
     "metadata": {},
     "execution_count": 19
    }
   ],
   "source": [
    "max(data[\"Height\"])-len(data)"
   ]
  },
  {
   "cell_type": "code",
   "execution_count": 20,
   "metadata": {},
   "outputs": [
    {
     "output_type": "execute_result",
     "data": {
      "text/plain": "249.12"
     },
     "metadata": {},
     "execution_count": 20
    }
   ],
   "source": [
    "12456.0/50\n"
   ]
  },
  {
   "cell_type": "code",
   "execution_count": 21,
   "metadata": {},
   "outputs": [
    {
     "output_type": "execute_result",
     "data": {
      "text/plain": "'https://www.blockchain.com/btc/blocks?page='"
     },
     "metadata": {},
     "execution_count": 21
    }
   ],
   "source": [
    "\"https://www.blockchain.com/btc/blocks?page=\""
   ]
  },
  {
   "cell_type": "code",
   "execution_count": 22,
   "metadata": {},
   "outputs": [
    {
     "output_type": "error",
     "ename": "NameError",
     "evalue": "name 'pt' is not defined",
     "traceback": [
      "\u001b[1;31m---------------------------------------------------------------------------\u001b[0m",
      "\u001b[1;31mNameError\u001b[0m                                 Traceback (most recent call last)",
      "\u001b[1;32m<ipython-input-22-66145355a148>\u001b[0m in \u001b[0;36m<module>\u001b[1;34m\u001b[0m\n\u001b[1;32m----> 1\u001b[1;33m \u001b[0mpt\u001b[0m\u001b[1;33m.\u001b[0m\u001b[0mfind_lost_block\u001b[0m\u001b[1;33m(\u001b[0m\u001b[1;33m)\u001b[0m\u001b[1;33m\u001b[0m\u001b[1;33m\u001b[0m\u001b[0m\n\u001b[0m",
      "\u001b[1;31mNameError\u001b[0m: name 'pt' is not defined"
     ]
    }
   ],
   "source": [
    "pt.find_lost_block()"
   ]
  },
  {
   "cell_type": "code",
   "execution_count": null,
   "metadata": {},
   "outputs": [],
   "source": []
  }
 ],
 "metadata": {
  "language_info": {
   "codemirror_mode": {
    "name": "ipython",
    "version": 3
   },
   "file_extension": ".py",
   "mimetype": "text/x-python",
   "name": "python",
   "nbconvert_exporter": "python",
   "pygments_lexer": "ipython3",
   "version": "3.7.3-final"
  },
  "orig_nbformat": 2,
  "kernelspec": {
   "name": "python3",
   "display_name": "Python 3"
  }
 },
 "nbformat": 4,
 "nbformat_minor": 2
}