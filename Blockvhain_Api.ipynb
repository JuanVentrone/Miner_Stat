{
 "cells": [
  {
   "cell_type": "code",
   "execution_count": 1,
   "metadata": {},
   "outputs": [],
   "source": [
    "import urllib, json\n",
    "import requests"
   ]
  },
  {
   "cell_type": "code",
   "execution_count": 2,
   "metadata": {},
   "outputs": [],
   "source": [
    "import pandas as pd"
   ]
  },
  {
   "cell_type": "code",
   "execution_count": 3,
   "metadata": {},
   "outputs": [],
   "source": [
    "# Construyendo el pipe line que es la unificacion de todas las tablas de tados blockchain\n",
    "\n",
    "# Creando el estimado del 1 TH de recompensa basado en 24 horas\n",
    "\n",
    "# vamos a revisar demas apis \n",
    "\n",
    "# COntruccion de rentabilidad basado en electricidad con tablas ya hechas\n",
    "\n",
    "# "
   ]
  },
  {
   "cell_type": "code",
   "execution_count": 4,
   "metadata": {},
   "outputs": [],
   "source": [
    "import Blockchain_Api as ba"
   ]
  },
  {
   "cell_type": "code",
   "execution_count": 5,
   "metadata": {},
   "outputs": [],
   "source": [
    "x,v= ba.pool_pie()"
   ]
  },
  {
   "cell_type": "code",
   "execution_count": 6,
   "metadata": {},
   "outputs": [
    {
     "output_type": "execute_result",
     "data": {
      "text/plain": "             Pool  Block_Founds  BF_Percent\n0   1THash&58COIN            52      0.0636\n1          ViaBTC            44      0.0539\n2         AntPool           112      0.1371\n3         BTC.com           105      0.1285\n4      Huobi.pool            36      0.0441\n5          F2Pool           162      0.1983\n6         Unknown            72      0.0881\n7         BTC.TOP            23      0.0282\n8        OKExPool            47      0.0575\n9          Poolin           108      0.1322\n10      SlushPool            39      0.0477\n11        EMCD.IO             3      0.0037\n12      NovaBlock            10      0.0122\n13    Bitcoin.com             2      0.0024\n14       KanoPool             1      0.0012\n15        WAYI.CN             1      0.0012",
      "text/html": "<div>\n<style scoped>\n    .dataframe tbody tr th:only-of-type {\n        vertical-align: middle;\n    }\n\n    .dataframe tbody tr th {\n        vertical-align: top;\n    }\n\n    .dataframe thead th {\n        text-align: right;\n    }\n</style>\n<table border=\"1\" class=\"dataframe\">\n  <thead>\n    <tr style=\"text-align: right;\">\n      <th></th>\n      <th>Pool</th>\n      <th>Block_Founds</th>\n      <th>BF_Percent</th>\n    </tr>\n  </thead>\n  <tbody>\n    <tr>\n      <th>0</th>\n      <td>1THash&amp;58COIN</td>\n      <td>52</td>\n      <td>0.0636</td>\n    </tr>\n    <tr>\n      <th>1</th>\n      <td>ViaBTC</td>\n      <td>44</td>\n      <td>0.0539</td>\n    </tr>\n    <tr>\n      <th>2</th>\n      <td>AntPool</td>\n      <td>112</td>\n      <td>0.1371</td>\n    </tr>\n    <tr>\n      <th>3</th>\n      <td>BTC.com</td>\n      <td>105</td>\n      <td>0.1285</td>\n    </tr>\n    <tr>\n      <th>4</th>\n      <td>Huobi.pool</td>\n      <td>36</td>\n      <td>0.0441</td>\n    </tr>\n    <tr>\n      <th>5</th>\n      <td>F2Pool</td>\n      <td>162</td>\n      <td>0.1983</td>\n    </tr>\n    <tr>\n      <th>6</th>\n      <td>Unknown</td>\n      <td>72</td>\n      <td>0.0881</td>\n    </tr>\n    <tr>\n      <th>7</th>\n      <td>BTC.TOP</td>\n      <td>23</td>\n      <td>0.0282</td>\n    </tr>\n    <tr>\n      <th>8</th>\n      <td>OKExPool</td>\n      <td>47</td>\n      <td>0.0575</td>\n    </tr>\n    <tr>\n      <th>9</th>\n      <td>Poolin</td>\n      <td>108</td>\n      <td>0.1322</td>\n    </tr>\n    <tr>\n      <th>10</th>\n      <td>SlushPool</td>\n      <td>39</td>\n      <td>0.0477</td>\n    </tr>\n    <tr>\n      <th>11</th>\n      <td>EMCD.IO</td>\n      <td>3</td>\n      <td>0.0037</td>\n    </tr>\n    <tr>\n      <th>12</th>\n      <td>NovaBlock</td>\n      <td>10</td>\n      <td>0.0122</td>\n    </tr>\n    <tr>\n      <th>13</th>\n      <td>Bitcoin.com</td>\n      <td>2</td>\n      <td>0.0024</td>\n    </tr>\n    <tr>\n      <th>14</th>\n      <td>KanoPool</td>\n      <td>1</td>\n      <td>0.0012</td>\n    </tr>\n    <tr>\n      <th>15</th>\n      <td>WAYI.CN</td>\n      <td>1</td>\n      <td>0.0012</td>\n    </tr>\n  </tbody>\n</table>\n</div>"
     },
     "metadata": {},
     "execution_count": 6
    }
   ],
   "source": [
    "x"
   ]
  },
  {
   "cell_type": "code",
   "execution_count": 7,
   "metadata": {},
   "outputs": [
    {
     "output_type": "execute_result",
     "data": {
      "text/plain": "817"
     },
     "metadata": {},
     "execution_count": 7
    }
   ],
   "source": [
    "v"
   ]
  },
  {
   "cell_type": "code",
   "execution_count": 8,
   "metadata": {},
   "outputs": [],
   "source": [
    "# empezamos con el screapeo, para determinar los bloques pero debemos confirmar si son los mismos, COmo?\n"
   ]
  },
  {
   "cell_type": "code",
   "execution_count": 9,
   "metadata": {},
   "outputs": [],
   "source": [
    "stats= ba.blockchain_stats()"
   ]
  },
  {
   "cell_type": "code",
   "execution_count": 10,
   "metadata": {},
   "outputs": [
    {
     "output_type": "execute_result",
     "data": {
      "text/plain": "{'timestamp': 1590247212000.0,\n 'market_price_usd': 9173.34,\n 'hash_rate': 84281815685.47331,\n 'total_fees_btc': 12473904764,\n 'n_btc_mined': 70000000000,\n 'n_tx': 273279,\n 'n_blocks_mined': 112,\n 'minutes_between_blocks': 12.3514,\n 'totalbc': 1838393125000000,\n 'n_blocks_total': 631429,\n 'estimated_transaction_volume_usd': 869054125.9700284,\n 'blocks_size': 142505382,\n 'miners_revenue_usd': 7565611.695277918,\n 'nextretarget': 633023,\n 'difficulty': 15138043247082,\n 'estimated_btc_sent': 9473693616175,\n 'miners_revenue_btc': 824,\n 'total_btc_sent': 75586798152343,\n 'trade_volume_btc': 11169.48,\n 'trade_volume_usd': 102461437.66319999}"
     },
     "metadata": {},
     "execution_count": 10
    }
   ],
   "source": [
    "stats"
   ]
  },
  {
   "cell_type": "code",
   "execution_count": 11,
   "metadata": {},
   "outputs": [
    {
     "output_type": "execute_result",
     "data": {
      "text/plain": "631429"
     },
     "metadata": {},
     "execution_count": 11
    }
   ],
   "source": [
    "stats.get('n_blocks_total')"
   ]
  },
  {
   "cell_type": "code",
   "execution_count": 12,
   "metadata": {},
   "outputs": [],
   "source": [
    "estimado_recompensa=stats.get('miners_revenue_btc')/stats.get('n_blocks_mined')"
   ]
  },
  {
   "cell_type": "code",
   "execution_count": 13,
   "metadata": {},
   "outputs": [
    {
     "output_type": "execute_result",
     "data": {
      "text/plain": "7.357142857142857"
     },
     "metadata": {},
     "execution_count": 13
    }
   ],
   "source": [
    "estimado_recompensa"
   ]
  },
  {
   "cell_type": "code",
   "execution_count": 14,
   "metadata": {},
   "outputs": [],
   "source": [
    "estimado_th=estimado_recompensa/stats.get('hash_rate')"
   ]
  },
  {
   "cell_type": "code",
   "execution_count": 15,
   "metadata": {},
   "outputs": [
    {
     "output_type": "execute_result",
     "data": {
      "text/plain": "8.729217325595564e-11"
     },
     "metadata": {},
     "execution_count": 15
    }
   ],
   "source": [
    "estimado_th"
   ]
  },
  {
   "cell_type": "code",
   "execution_count": 16,
   "metadata": {},
   "outputs": [
    {
     "output_type": "execute_result",
     "data": {
      "text/plain": "7.542043769314567e-06"
     },
     "metadata": {},
     "execution_count": 16
    }
   ],
   "source": [
    "estimado_th_24=estimado_th*60*60*24\n",
    "estimado_th_24"
   ]
  },
  {
   "cell_type": "code",
   "execution_count": 17,
   "metadata": {},
   "outputs": [],
   "source": [
    "btc_th_estimado=0.00000831"
   ]
  },
  {
   "cell_type": "code",
   "execution_count": 18,
   "metadata": {},
   "outputs": [
    {
     "output_type": "execute_result",
     "data": {
      "text/plain": "0.9075864945023546"
     },
     "metadata": {},
     "execution_count": 18
    }
   ],
   "source": [
    "estimado_th_24/btc_th_estimado"
   ]
  },
  {
   "cell_type": "code",
   "execution_count": 19,
   "metadata": {},
   "outputs": [],
   "source": [
    "ant_estimado=0.00032027/25.92"
   ]
  },
  {
   "cell_type": "code",
   "execution_count": 20,
   "metadata": {},
   "outputs": [
    {
     "output_type": "execute_result",
     "data": {
      "text/plain": "1.2356095679012344e-05"
     },
     "metadata": {},
     "execution_count": 20
    }
   ],
   "source": [
    "ant_estimado"
   ]
  },
  {
   "cell_type": "code",
   "execution_count": 21,
   "metadata": {},
   "outputs": [
    {
     "output_type": "execute_result",
     "data": {
      "text/plain": "0.9873483636211999"
     },
     "metadata": {},
     "execution_count": 21
    }
   ],
   "source": [
    "40610.76843072/41131.14471753"
   ]
  },
  {
   "cell_type": "code",
   "execution_count": 22,
   "metadata": {},
   "outputs": [
    {
     "output_type": "execute_result",
     "data": {
      "text/plain": "0.9998868003770242"
     },
     "metadata": {},
     "execution_count": 22
    }
   ],
   "source": [
    "\n",
    "4971100.68728167/4971663.47771291"
   ]
  },
  {
   "cell_type": "code",
   "execution_count": 23,
   "metadata": {},
   "outputs": [],
   "source": [
    "url=\"https://www.blockchain.com/btc/blocks?page=1\""
   ]
  },
  {
   "cell_type": "code",
   "execution_count": 24,
   "metadata": {},
   "outputs": [],
   "source": [
    "pb=requests.get(url)"
   ]
  },
  {
   "cell_type": "code",
   "execution_count": 25,
   "metadata": {},
   "outputs": [
    {
     "output_type": "execute_result",
     "data": {
      "text/plain": "200"
     },
     "metadata": {},
     "execution_count": 25
    }
   ],
   "source": [
    "pb.status_code"
   ]
  },
  {
   "cell_type": "code",
   "execution_count": 26,
   "metadata": {},
   "outputs": [],
   "source": [
    "from bs4 import BeautifulSoup\n",
    "sopa=BeautifulSoup(pb.text, \"html5lib\")"
   ]
  },
  {
   "cell_type": "code",
   "execution_count": 27,
   "metadata": {},
   "outputs": [
    {
     "output_type": "execute_result",
     "data": {
      "text/plain": "150"
     },
     "metadata": {},
     "execution_count": 27
    }
   ],
   "source": [
    "links=sopa.find_all(\"a\",attrs={\"class\":\"sc-1r996ns-0 gzrtQD sc-1tbyx6t-1 kXxRxe iklhnl-0 kVizQZ\"})\n",
    "len(links)"
   ]
  },
  {
   "cell_type": "code",
   "execution_count": 28,
   "metadata": {},
   "outputs": [],
   "source": [
    "links_blocks=[link.get(\"href\") for link in links]\n"
   ]
  },
  {
   "cell_type": "code",
   "execution_count": 29,
   "metadata": {},
   "outputs": [
    {
     "output_type": "execute_result",
     "data": {
      "text/plain": "'/btc/block/0000000000000000000243fd0b40d44e5e14a041c55f4e457ae9fe8bd1848794'"
     },
     "metadata": {},
     "execution_count": 29
    }
   ],
   "source": [
    "links_blocks[3]"
   ]
  },
  {
   "cell_type": "code",
   "execution_count": 30,
   "metadata": {},
   "outputs": [],
   "source": [
    "url_block=\"https://www.blockchain.com\"\n"
   ]
  },
  {
   "cell_type": "code",
   "execution_count": 33,
   "metadata": {},
   "outputs": [
    {
     "output_type": "execute_result",
     "data": {
      "text/plain": "12629"
     },
     "metadata": {},
     "execution_count": 33
    }
   ],
   "source": [
    "round(stats.get('n_blocks_total')/50)"
   ]
  },
  {
   "cell_type": "code",
   "execution_count": 34,
   "metadata": {},
   "outputs": [
    {
     "output_type": "execute_result",
     "data": {
      "text/plain": "150"
     },
     "metadata": {},
     "execution_count": 34
    }
   ],
   "source": [
    "len(links_blocks)\n",
    "\n",
    "\n"
   ]
  },
  {
   "cell_type": "code",
   "execution_count": 35,
   "metadata": {},
   "outputs": [],
   "source": [
    "block_links=[]\n",
    "contador=0\n",
    "c=int(len(links_blocks)/3)\n",
    "for i in range(c):\n",
    "    block_links.append(url_block+links_blocks[contador])\n",
    "    contador+=3\n"
   ]
  },
  {
   "cell_type": "code",
   "execution_count": 36,
   "metadata": {},
   "outputs": [],
   "source": [
    "pagina_url= requests.get(block_links[0])\n",
    "s=BeautifulSoup(pagina_url.text, \"html5lib\")\n",
    "p = s.find(\"div\",attrs={'class':'sc-1s7qjmx-0 iLEnZs'})\n"
   ]
  },
  {
   "cell_type": "code",
   "execution_count": 37,
   "metadata": {},
   "outputs": [],
   "source": [
    "h=p.find_all(\"span\",attrs={'class':'sc-1ryi78w-0 gCzMgE sc-16b9dsl-1 kUAhZx sc-1n72lkw-0 lhmHll'})"
   ]
  },
  {
   "cell_type": "code",
   "execution_count": 38,
   "metadata": {},
   "outputs": [
    {
     "output_type": "execute_result",
     "data": {
      "text/plain": "[<span class=\"sc-1ryi78w-0 gCzMgE sc-16b9dsl-1 kUAhZx u3ufsr-0 fGQJzg\" opacity=\"1\">000000000000000000017c5c444aeeab76ff08b450ae817eaf96026789e114d9</span>,\n <span class=\"sc-1ryi78w-0 gCzMgE sc-16b9dsl-1 kUAhZx u3ufsr-0 fGQJzg\" opacity=\"1\">1</span>,\n <span class=\"sc-1ryi78w-0 gCzMgE sc-16b9dsl-1 kUAhZx u3ufsr-0 fGQJzg\" opacity=\"1\">2020-05-23 15:11</span>,\n <span class=\"sc-1ryi78w-0 gCzMgE sc-16b9dsl-1 kUAhZx u3ufsr-0 fGQJzg\" opacity=\"1\">631428</span>,\n <span class=\"sc-1ryi78w-0 gCzMgE sc-16b9dsl-1 kUAhZx u3ufsr-0 fGQJzg\" opacity=\"1\">2,158</span>,\n <span class=\"sc-1ryi78w-0 gCzMgE sc-16b9dsl-1 kUAhZx u3ufsr-0 fGQJzg\" opacity=\"1\">15,138,043,247,082.88</span>,\n <span class=\"sc-1ryi78w-0 gCzMgE sc-16b9dsl-1 kUAhZx u3ufsr-0 fGQJzg\" opacity=\"1\">75a3cb5de62a09106eb5a6fb88e790d754fb7480e422eded5b5fda7ca13c1096</span>,\n <span class=\"sc-1ryi78w-0 gCzMgE sc-16b9dsl-1 kUAhZx u3ufsr-0 fGQJzg\" opacity=\"1\">0x27ffe000</span>,\n <span class=\"sc-1ryi78w-0 gCzMgE sc-16b9dsl-1 kUAhZx u3ufsr-0 fGQJzg\" opacity=\"1\">387,094,518</span>,\n <span class=\"sc-1ryi78w-0 gCzMgE sc-16b9dsl-1 kUAhZx u3ufsr-0 fGQJzg\" opacity=\"1\">3,993,089 WU</span>,\n <span class=\"sc-1ryi78w-0 gCzMgE sc-16b9dsl-1 kUAhZx u3ufsr-0 fGQJzg\" opacity=\"1\"><span class=\"sc-1ryi78w-0 gCzMgE sc-16b9dsl-1 kUAhZx u3ufsr-0 fGQJzg\" opacity=\"1\">1,166,294 bytes</span></span>,\n <span class=\"sc-1ryi78w-0 gCzMgE sc-16b9dsl-1 kUAhZx u3ufsr-0 fGQJzg\" opacity=\"1\">1,166,294 bytes</span>,\n <span class=\"sc-1ryi78w-0 gCzMgE sc-16b9dsl-1 kUAhZx u3ufsr-0 fGQJzg\" opacity=\"1\">607,229,326</span>,\n <span class=\"sc-1ryi78w-0 gCzMgE sc-16b9dsl-1 kUAhZx u3ufsr-0 fGQJzg\" opacity=\"1\">2369.36208572 BTC</span>,\n <span class=\"sc-1ryi78w-0 gCzMgE sc-16b9dsl-1 kUAhZx u3ufsr-0 fGQJzg\" opacity=\"1\">6.25000000 BTC</span>,\n <span class=\"sc-1ryi78w-0 gCzMgE sc-16b9dsl-1 kUAhZx u3ufsr-0 fGQJzg\" opacity=\"1\">0.50881006 BTC</span>,\n <span class=\"sc-1ryi78w-0 gCzMgE sc-16b9dsl-1 kUAhZx u3ufsr-0 fGQJzg\" opacity=\"1\">Learn more about</span>]"
     },
     "metadata": {},
     "execution_count": 38
    }
   ],
   "source": [
    "q=p.find_all(\"span\",attrs={'class':'sc-1ryi78w-0 gCzMgE sc-16b9dsl-1 kUAhZx u3ufsr-0 fGQJzg'})\n",
    "q"
   ]
  },
  {
   "cell_type": "code",
   "execution_count": 39,
   "metadata": {},
   "outputs": [
    {
     "output_type": "execute_result",
     "data": {
      "text/plain": "('Hash', '000000000000000000017c5c444aeeab76ff08b450ae817eaf96026789e114d9')"
     },
     "metadata": {},
     "execution_count": 39
    }
   ],
   "source": [
    "h[0].get_text(),q[0].get_text()"
   ]
  },
  {
   "cell_type": "code",
   "execution_count": 95,
   "metadata": {},
   "outputs": [
    {
     "output_type": "execute_result",
     "data": {
      "text/plain": "'/btc/address/1C81BGyi8SJ919UxnHm2iwNmaN2RHfU4us'"
     },
     "metadata": {},
     "execution_count": 95
    }
   ],
   "source": [
    "miner_wallet_link=p.find(\"a\",attrs={'class':'sc-1r996ns-0 gzrtQD sc-1tbyx6t-1 kXxRxe iklhnl-0 kVizQZ'})\n",
    "miner_wallet_link.get(\"href\")"
   ]
  },
  {
   "cell_type": "code",
   "execution_count": 41,
   "metadata": {},
   "outputs": [],
   "source": [
    "lista_h=[]\n",
    "lista_q=[]\n",
    "for i in range(len(q)):\n",
    "    lista_q.append(q[i].get_text())"
   ]
  },
  {
   "cell_type": "code",
   "execution_count": 42,
   "metadata": {},
   "outputs": [],
   "source": [
    "for i in range(len(h)):\n",
    "    lista_h.append(h[i].get_text())"
   ]
  },
  {
   "cell_type": "code",
   "execution_count": 43,
   "metadata": {},
   "outputs": [],
   "source": [
    "lista_h.remove('Miner')\n",
    "lista_q.remove('Learn more about')"
   ]
  },
  {
   "cell_type": "code",
   "execution_count": 44,
   "metadata": {},
   "outputs": [
    {
     "output_type": "execute_result",
     "data": {
      "text/plain": "(15, 16)"
     },
     "metadata": {},
     "execution_count": 44
    }
   ],
   "source": [
    "len(lista_h), len(lista_q)"
   ]
  },
  {
   "cell_type": "code",
   "execution_count": 45,
   "metadata": {},
   "outputs": [],
   "source": [
    "lista_q2=set(lista_q)"
   ]
  },
  {
   "cell_type": "code",
   "execution_count": 46,
   "metadata": {},
   "outputs": [
    {
     "output_type": "execute_result",
     "data": {
      "text/plain": "{'0.50881006 BTC',\n '000000000000000000017c5c444aeeab76ff08b450ae817eaf96026789e114d9',\n '0x27ffe000',\n '1',\n '1,166,294 bytes',\n '15,138,043,247,082.88',\n '2,158',\n '2020-05-23 15:11',\n '2369.36208572 BTC',\n '3,993,089 WU',\n '387,094,518',\n '6.25000000 BTC',\n '607,229,326',\n '631428',\n '75a3cb5de62a09106eb5a6fb88e790d754fb7480e422eded5b5fda7ca13c1096'}"
     },
     "metadata": {},
     "execution_count": 46
    }
   ],
   "source": [
    "lista_q2"
   ]
  },
  {
   "cell_type": "code",
   "execution_count": 63,
   "metadata": {},
   "outputs": [],
   "source": [
    "lista_prueba=lista_q.copy()\n",
    "lista_prueba.pop(10)\n",
    "lista_q=lista_prueba"
   ]
  },
  {
   "cell_type": "code",
   "execution_count": 64,
   "metadata": {},
   "outputs": [
    {
     "output_type": "execute_result",
     "data": {
      "text/plain": "(15, 15)"
     },
     "metadata": {},
     "execution_count": 64
    }
   ],
   "source": [
    "len(lista_q),len(lista_h)"
   ]
  },
  {
   "cell_type": "code",
   "execution_count": 65,
   "metadata": {},
   "outputs": [
    {
     "output_type": "execute_result",
     "data": {
      "text/plain": "{'Hash': '000000000000000000017c5c444aeeab76ff08b450ae817eaf96026789e114d9',\n 'Confirmations': '1',\n 'Timestamp': '2020-05-23 15:11',\n 'Height': '631428',\n 'Number of Transactions': '2,158',\n 'Difficulty': '15,138,043,247,082.88',\n 'Merkle root': '75a3cb5de62a09106eb5a6fb88e790d754fb7480e422eded5b5fda7ca13c1096',\n 'Version': '0x27ffe000',\n 'Bits': '387,094,518',\n 'Weight': '3,993,089 WU',\n 'Size': '1,166,294 bytes',\n 'Nonce': '607,229,326',\n 'Transaction Volume': '2369.36208572 BTC',\n 'Block Reward': '6.25000000 BTC',\n 'Fee Reward': '0.50881006 BTC'}"
     },
     "metadata": {},
     "execution_count": 65
    }
   ],
   "source": [
    "datos_temporal={}\n",
    "for i in range(len(lista_q)):\n",
    "    datos_temporal[lista_h[i]]=lista_q[i]\n",
    "datos_temporal    "
   ]
  },
  {
   "cell_type": "code",
   "execution_count": 68,
   "metadata": {},
   "outputs": [
    {
     "output_type": "execute_result",
     "data": {
      "text/plain": "dict_keys(['Hash', 'Confirmations', 'Timestamp', 'Height', 'Number of Transactions', 'Difficulty', 'Merkle root', 'Version', 'Bits', 'Weight', 'Size', 'Nonce', 'Transaction Volume', 'Block Reward', 'Fee Reward'])"
     },
     "metadata": {},
     "execution_count": 68
    }
   ],
   "source": [
    "datos_temporal.keys()"
   ]
  },
  {
   "cell_type": "code",
   "execution_count": 69,
   "metadata": {},
   "outputs": [
    {
     "output_type": "execute_result",
     "data": {
      "text/plain": "dict_items([('Hash', '000000000000000000017c5c444aeeab76ff08b450ae817eaf96026789e114d9'), ('Confirmations', '1'), ('Timestamp', '2020-05-23 15:11'), ('Height', '631428'), ('Number of Transactions', '2,158'), ('Difficulty', '15,138,043,247,082.88'), ('Merkle root', '75a3cb5de62a09106eb5a6fb88e790d754fb7480e422eded5b5fda7ca13c1096'), ('Version', '0x27ffe000'), ('Bits', '387,094,518'), ('Weight', '3,993,089 WU'), ('Size', '1,166,294 bytes'), ('Nonce', '607,229,326'), ('Transaction Volume', '2369.36208572 BTC'), ('Block Reward', '6.25000000 BTC'), ('Fee Reward', '0.50881006 BTC')])"
     },
     "metadata": {},
     "execution_count": 69
    }
   ],
   "source": [
    "datos_temporal.items()"
   ]
  },
  {
   "cell_type": "code",
   "execution_count": 86,
   "metadata": {},
   "outputs": [
    {
     "output_type": "execute_result",
     "data": {
      "text/plain": "104"
     },
     "metadata": {},
     "execution_count": 86
    }
   ],
   "source": [
    "stats.get()-631325"
   ]
  },
  {
   "cell_type": "code",
   "execution_count": 91,
   "metadata": {},
   "outputs": [
    {
     "output_type": "stream",
     "name": "stdout",
     "text": "3\n"
    }
   ],
   "source": [
    "import math\n",
    "print(math.ceil(104/50))"
   ]
  },
  {
   "cell_type": "code",
   "execution_count": 92,
   "metadata": {},
   "outputs": [
    {
     "output_type": "execute_result",
     "data": {
      "text/plain": "{'Hash': '000000000000000000017c5c444aeeab76ff08b450ae817eaf96026789e114d9',\n 'Confirmations': '1',\n 'Timestamp': '2020-05-23 15:11',\n 'Height': '631428',\n 'Number of Transactions': '2,158',\n 'Difficulty': '15,138,043,247,082.88',\n 'Merkle root': '75a3cb5de62a09106eb5a6fb88e790d754fb7480e422eded5b5fda7ca13c1096',\n 'Version': '0x27ffe000',\n 'Bits': '387,094,518',\n 'Weight': '3,993,089 WU',\n 'Size': '1,166,294 bytes',\n 'Nonce': '607,229,326',\n 'Transaction Volume': '2369.36208572 BTC',\n 'Block Reward': '6.25000000 BTC',\n 'Fee Reward': '0.50881006 BTC'}"
     },
     "metadata": {},
     "execution_count": 92
    }
   ],
   "source": [
    "datos_temporal"
   ]
  },
  {
   "cell_type": "code",
   "execution_count": 93,
   "metadata": {},
   "outputs": [
    {
     "output_type": "execute_result",
     "data": {
      "text/plain": "{'timestamp': 1590247212000.0,\n 'market_price_usd': 9173.34,\n 'hash_rate': 84281815685.47331,\n 'total_fees_btc': 12473904764,\n 'n_btc_mined': 70000000000,\n 'n_tx': 273279,\n 'n_blocks_mined': 112,\n 'minutes_between_blocks': 12.3514,\n 'totalbc': 1838393125000000,\n 'n_blocks_total': 631429,\n 'estimated_transaction_volume_usd': 869054125.9700284,\n 'blocks_size': 142505382,\n 'miners_revenue_usd': 7565611.695277918,\n 'nextretarget': 633023,\n 'difficulty': 15138043247082,\n 'estimated_btc_sent': 9473693616175,\n 'miners_revenue_btc': 824,\n 'total_btc_sent': 75586798152343,\n 'trade_volume_btc': 11169.48,\n 'trade_volume_usd': 102461437.66319999}"
     },
     "metadata": {},
     "execution_count": 93
    }
   ],
   "source": [
    "stats"
   ]
  },
  {
   "cell_type": "code",
   "execution_count": null,
   "metadata": {},
   "outputs": [],
   "source": []
  }
 ],
 "metadata": {
  "language_info": {
   "codemirror_mode": {
    "name": "ipython",
    "version": 3
   },
   "file_extension": ".py",
   "mimetype": "text/x-python",
   "name": "python",
   "nbconvert_exporter": "python",
   "pygments_lexer": "ipython3",
   "version": "3.7.3-final"
  },
  "orig_nbformat": 2,
  "kernelspec": {
   "name": "python3",
   "display_name": "Python 3"
  }
 },
 "nbformat": 4,
 "nbformat_minor": 2
}