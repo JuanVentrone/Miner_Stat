{
 "cells": [
  {
   "cell_type": "code",
   "execution_count": 119,
   "metadata": {},
   "outputs": [],
   "source": [
    "import urllib, json\n",
    "import requests"
   ]
  },
  {
   "cell_type": "code",
   "execution_count": 120,
   "metadata": {},
   "outputs": [],
   "source": [
    "import pandas as pd"
   ]
  },
  {
   "cell_type": "code",
   "execution_count": 121,
   "metadata": {},
   "outputs": [],
   "source": [
    "# Construyendo el pipe line que es la unificacion de todas las tablas de tados blockchain\n",
    "\n",
    "# Creando el estimado del 1 TH de recompensa basado en 24 horas\n",
    "\n",
    "# vamos a revisar demas apis \n",
    "\n",
    "# COntruccion de rentabilidad basado en electricidad con tablas ya hechas\n",
    "\n",
    "# "
   ]
  },
  {
   "cell_type": "code",
   "execution_count": 122,
   "metadata": {},
   "outputs": [],
   "source": [
    "import Blockchain_Api as ba"
   ]
  },
  {
   "cell_type": "code",
   "execution_count": 123,
   "metadata": {},
   "outputs": [],
   "source": [
    "x,v= ba.pool_pie()"
   ]
  },
  {
   "cell_type": "code",
   "execution_count": 124,
   "metadata": {},
   "outputs": [
    {
     "output_type": "execute_result",
     "data": {
      "text/plain": "             Pool  Block_Founds  BF_Percent\n0        OKExPool            51      0.0619\n1         BTC.com           113      0.1371\n2          F2Pool           154      0.1869\n3         Unknown            77      0.0934\n4         AntPool           114      0.1383\n5   1THash&58COIN            51      0.0619\n6          Poolin           103      0.1250\n7      Huobi.pool            36      0.0437\n8       SlushPool            36      0.0437\n9          ViaBTC            48      0.0583\n10        BTC.TOP            24      0.0291\n11        EMCD.IO             3      0.0036\n12      NovaBlock            10      0.0121\n13    Bitcoin.com             2      0.0024\n14       KanoPool             1      0.0012\n15        WAYI.CN             1      0.0012",
      "text/html": "<div>\n<style scoped>\n    .dataframe tbody tr th:only-of-type {\n        vertical-align: middle;\n    }\n\n    .dataframe tbody tr th {\n        vertical-align: top;\n    }\n\n    .dataframe thead th {\n        text-align: right;\n    }\n</style>\n<table border=\"1\" class=\"dataframe\">\n  <thead>\n    <tr style=\"text-align: right;\">\n      <th></th>\n      <th>Pool</th>\n      <th>Block_Founds</th>\n      <th>BF_Percent</th>\n    </tr>\n  </thead>\n  <tbody>\n    <tr>\n      <th>0</th>\n      <td>OKExPool</td>\n      <td>51</td>\n      <td>0.0619</td>\n    </tr>\n    <tr>\n      <th>1</th>\n      <td>BTC.com</td>\n      <td>113</td>\n      <td>0.1371</td>\n    </tr>\n    <tr>\n      <th>2</th>\n      <td>F2Pool</td>\n      <td>154</td>\n      <td>0.1869</td>\n    </tr>\n    <tr>\n      <th>3</th>\n      <td>Unknown</td>\n      <td>77</td>\n      <td>0.0934</td>\n    </tr>\n    <tr>\n      <th>4</th>\n      <td>AntPool</td>\n      <td>114</td>\n      <td>0.1383</td>\n    </tr>\n    <tr>\n      <th>5</th>\n      <td>1THash&amp;58COIN</td>\n      <td>51</td>\n      <td>0.0619</td>\n    </tr>\n    <tr>\n      <th>6</th>\n      <td>Poolin</td>\n      <td>103</td>\n      <td>0.1250</td>\n    </tr>\n    <tr>\n      <th>7</th>\n      <td>Huobi.pool</td>\n      <td>36</td>\n      <td>0.0437</td>\n    </tr>\n    <tr>\n      <th>8</th>\n      <td>SlushPool</td>\n      <td>36</td>\n      <td>0.0437</td>\n    </tr>\n    <tr>\n      <th>9</th>\n      <td>ViaBTC</td>\n      <td>48</td>\n      <td>0.0583</td>\n    </tr>\n    <tr>\n      <th>10</th>\n      <td>BTC.TOP</td>\n      <td>24</td>\n      <td>0.0291</td>\n    </tr>\n    <tr>\n      <th>11</th>\n      <td>EMCD.IO</td>\n      <td>3</td>\n      <td>0.0036</td>\n    </tr>\n    <tr>\n      <th>12</th>\n      <td>NovaBlock</td>\n      <td>10</td>\n      <td>0.0121</td>\n    </tr>\n    <tr>\n      <th>13</th>\n      <td>Bitcoin.com</td>\n      <td>2</td>\n      <td>0.0024</td>\n    </tr>\n    <tr>\n      <th>14</th>\n      <td>KanoPool</td>\n      <td>1</td>\n      <td>0.0012</td>\n    </tr>\n    <tr>\n      <th>15</th>\n      <td>WAYI.CN</td>\n      <td>1</td>\n      <td>0.0012</td>\n    </tr>\n  </tbody>\n</table>\n</div>"
     },
     "metadata": {},
     "execution_count": 124
    }
   ],
   "source": [
    "x"
   ]
  },
  {
   "cell_type": "code",
   "execution_count": 125,
   "metadata": {},
   "outputs": [
    {
     "output_type": "execute_result",
     "data": {
      "text/plain": "824"
     },
     "metadata": {},
     "execution_count": 125
    }
   ],
   "source": [
    "v"
   ]
  },
  {
   "cell_type": "code",
   "execution_count": 126,
   "metadata": {},
   "outputs": [],
   "source": [
    "# empezamos con el screapeo, para determinar los bloques pero debemos confirmar si son los mismos, COmo?\n"
   ]
  },
  {
   "cell_type": "code",
   "execution_count": 127,
   "metadata": {},
   "outputs": [],
   "source": [
    "stats= ba.blockchain_stats()"
   ]
  },
  {
   "cell_type": "code",
   "execution_count": 128,
   "metadata": {},
   "outputs": [
    {
     "output_type": "execute_result",
     "data": {
      "text/plain": "{'timestamp': 1590197652000.0,\n 'market_price_usd': 9184.0,\n 'hash_rate': 84281815685.47331,\n 'total_fees_btc': 15916972039,\n 'n_btc_mined': 70000000000,\n 'n_tx': 280681,\n 'n_blocks_mined': 112,\n 'minutes_between_blocks': 12.045,\n 'totalbc': 1838350000000000,\n 'n_blocks_total': 631360,\n 'estimated_transaction_volume_usd': 1302018497.9054127,\n 'blocks_size': 145588988,\n 'miners_revenue_usd': 7890614.712061758,\n 'nextretarget': 633023,\n 'difficulty': 15138043247082,\n 'estimated_btc_sent': 14177030682768,\n 'miners_revenue_btc': 859,\n 'total_btc_sent': 96380860924996,\n 'trade_volume_btc': 14969.99,\n 'trade_volume_usd': 137484388.16}"
     },
     "metadata": {},
     "execution_count": 128
    }
   ],
   "source": [
    "stats"
   ]
  },
  {
   "cell_type": "code",
   "execution_count": 129,
   "metadata": {},
   "outputs": [
    {
     "output_type": "execute_result",
     "data": {
      "text/plain": "631360"
     },
     "metadata": {},
     "execution_count": 129
    }
   ],
   "source": [
    "stats.get('n_blocks_total')"
   ]
  },
  {
   "cell_type": "code",
   "execution_count": 130,
   "metadata": {},
   "outputs": [],
   "source": [
    "estimado_recompensa=stats.get('miners_revenue_btc')/stats.get('n_blocks_mined')"
   ]
  },
  {
   "cell_type": "code",
   "execution_count": 131,
   "metadata": {},
   "outputs": [
    {
     "output_type": "execute_result",
     "data": {
      "text/plain": "7.669642857142857"
     },
     "metadata": {},
     "execution_count": 131
    }
   ],
   "source": [
    "estimado_recompensa"
   ]
  },
  {
   "cell_type": "code",
   "execution_count": 132,
   "metadata": {},
   "outputs": [],
   "source": [
    "estimado_th=estimado_recompensa/stats.get('hash_rate')"
   ]
  },
  {
   "cell_type": "code",
   "execution_count": 133,
   "metadata": {},
   "outputs": [
    {
     "output_type": "execute_result",
     "data": {
      "text/plain": "9.099997187726445e-11"
     },
     "metadata": {},
     "execution_count": 133
    }
   ],
   "source": [
    "estimado_th"
   ]
  },
  {
   "cell_type": "code",
   "execution_count": 134,
   "metadata": {},
   "outputs": [
    {
     "output_type": "execute_result",
     "data": {
      "text/plain": "7.862397570195649e-06"
     },
     "metadata": {},
     "execution_count": 134
    }
   ],
   "source": [
    "estimado_th_24=estimado_th*60*60*24\n",
    "estimado_th_24"
   ]
  },
  {
   "cell_type": "code",
   "execution_count": 135,
   "metadata": {},
   "outputs": [],
   "source": [
    "btc_th_estimado=0.00000831"
   ]
  },
  {
   "cell_type": "code",
   "execution_count": 136,
   "metadata": {},
   "outputs": [
    {
     "output_type": "execute_result",
     "data": {
      "text/plain": "0.9461368917202947"
     },
     "metadata": {},
     "execution_count": 136
    }
   ],
   "source": [
    "estimado_th_24/btc_th_estimado"
   ]
  },
  {
   "cell_type": "code",
   "execution_count": 137,
   "metadata": {},
   "outputs": [],
   "source": [
    "ant_estimado=0.00032027/25.92"
   ]
  },
  {
   "cell_type": "code",
   "execution_count": 138,
   "metadata": {},
   "outputs": [
    {
     "output_type": "execute_result",
     "data": {
      "text/plain": "1.2356095679012344e-05"
     },
     "metadata": {},
     "execution_count": 138
    }
   ],
   "source": [
    "ant_estimado"
   ]
  },
  {
   "cell_type": "code",
   "execution_count": 139,
   "metadata": {},
   "outputs": [
    {
     "output_type": "execute_result",
     "data": {
      "text/plain": "0.9873483636211999"
     },
     "metadata": {},
     "execution_count": 139
    }
   ],
   "source": [
    "40610.76843072/41131.14471753"
   ]
  },
  {
   "cell_type": "code",
   "execution_count": 140,
   "metadata": {},
   "outputs": [
    {
     "output_type": "execute_result",
     "data": {
      "text/plain": "0.9998868003770242"
     },
     "metadata": {},
     "execution_count": 140
    }
   ],
   "source": [
    "\n",
    "4971100.68728167/4971663.47771291"
   ]
  },
  {
   "cell_type": "code",
   "execution_count": 141,
   "metadata": {},
   "outputs": [],
   "source": [
    "url=\"https://www.blockchain.com/btc/blocks?page=1\""
   ]
  },
  {
   "cell_type": "code",
   "execution_count": 142,
   "metadata": {},
   "outputs": [],
   "source": [
    "pb=requests.get(url)"
   ]
  },
  {
   "cell_type": "code",
   "execution_count": 143,
   "metadata": {},
   "outputs": [
    {
     "output_type": "execute_result",
     "data": {
      "text/plain": "200"
     },
     "metadata": {},
     "execution_count": 143
    }
   ],
   "source": [
    "pb.status_code"
   ]
  },
  {
   "cell_type": "code",
   "execution_count": 144,
   "metadata": {},
   "outputs": [],
   "source": [
    "from bs4 import BeautifulSoup\n",
    "sopa=BeautifulSoup(pb.text, \"html5lib\")"
   ]
  },
  {
   "cell_type": "code",
   "execution_count": 145,
   "metadata": {},
   "outputs": [
    {
     "output_type": "execute_result",
     "data": {
      "text/plain": "150"
     },
     "metadata": {},
     "execution_count": 145
    }
   ],
   "source": [
    "links=sopa.find_all(\"a\",attrs={\"class\":\"sc-1r996ns-0 gzrtQD sc-1tbyx6t-1 kXxRxe iklhnl-0 kVizQZ\"})\n",
    "len(links)"
   ]
  },
  {
   "cell_type": "code",
   "execution_count": 146,
   "metadata": {},
   "outputs": [],
   "source": [
    "links_blocks=[link.get(\"href\") for link in links]\n"
   ]
  },
  {
   "cell_type": "code",
   "execution_count": 147,
   "metadata": {},
   "outputs": [
    {
     "output_type": "execute_result",
     "data": {
      "text/plain": "'/btc/block/00000000000000000001b3e7418e87d00dc644ecb2a066974c294b1178067997'"
     },
     "metadata": {},
     "execution_count": 147
    }
   ],
   "source": [
    "links_blocks[3]"
   ]
  },
  {
   "cell_type": "code",
   "execution_count": 148,
   "metadata": {},
   "outputs": [],
   "source": [
    "url_block=\"https://www.blockchain.com\"\n"
   ]
  },
  {
   "cell_type": "code",
   "execution_count": 149,
   "metadata": {},
   "outputs": [
    {
     "output_type": "execute_result",
     "data": {
      "text/plain": "12626.76"
     },
     "metadata": {},
     "execution_count": 149
    }
   ],
   "source": [
    "631338/50"
   ]
  },
  {
   "cell_type": "code",
   "execution_count": 150,
   "metadata": {},
   "outputs": [
    {
     "output_type": "execute_result",
     "data": {
      "text/plain": "150"
     },
     "metadata": {},
     "execution_count": 150
    }
   ],
   "source": [
    "len(links_blocks)\n",
    "\n",
    "\n"
   ]
  },
  {
   "cell_type": "code",
   "execution_count": 151,
   "metadata": {},
   "outputs": [],
   "source": [
    "block_links=[]\n",
    "contador=0\n",
    "c=int(len(links_blocks)/3)\n",
    "for i in range(c):\n",
    "    block_links.append(url_block+links_blocks[contador])\n",
    "    contador+=3\n"
   ]
  },
  {
   "cell_type": "code",
   "execution_count": 152,
   "metadata": {},
   "outputs": [],
   "source": [
    "pagina_url= requests.get(block_links[0])\n",
    "s=BeautifulSoup(pagina_url.text, \"html5lib\")\n",
    "p = s.find(\"div\",attrs={'class':'sc-1s7qjmx-0 iLEnZs'})\n"
   ]
  },
  {
   "cell_type": "code",
   "execution_count": 153,
   "metadata": {},
   "outputs": [],
   "source": [
    "h=p.find_all(\"span\",attrs={'class':'sc-1ryi78w-0 gCzMgE sc-16b9dsl-1 kUAhZx sc-1n72lkw-0 lhmHll'})"
   ]
  },
  {
   "cell_type": "code",
   "execution_count": 154,
   "metadata": {},
   "outputs": [
    {
     "output_type": "execute_result",
     "data": {
      "text/plain": "[<span class=\"sc-1ryi78w-0 gCzMgE sc-16b9dsl-1 kUAhZx u3ufsr-0 fGQJzg\" opacity=\"1\">00000000000000000002801613b128896f307aa9b230ee4ac96757f8ae6ec2a4</span>,\n <span class=\"sc-1ryi78w-0 gCzMgE sc-16b9dsl-1 kUAhZx u3ufsr-0 fGQJzg\" opacity=\"1\">1</span>,\n <span class=\"sc-1ryi78w-0 gCzMgE sc-16b9dsl-1 kUAhZx u3ufsr-0 fGQJzg\" opacity=\"1\">2020-05-23 01:00</span>,\n <span class=\"sc-1ryi78w-0 gCzMgE sc-16b9dsl-1 kUAhZx u3ufsr-0 fGQJzg\" opacity=\"1\">631359</span>,\n <span class=\"sc-1ryi78w-0 gCzMgE sc-16b9dsl-1 kUAhZx u3ufsr-0 fGQJzg\" opacity=\"1\">2,183</span>,\n <span class=\"sc-1ryi78w-0 gCzMgE sc-16b9dsl-1 kUAhZx u3ufsr-0 fGQJzg\" opacity=\"1\">15,138,043,247,082.88</span>,\n <span class=\"sc-1ryi78w-0 gCzMgE sc-16b9dsl-1 kUAhZx u3ufsr-0 fGQJzg\" opacity=\"1\">df75be99a0a24d337b35ddfa1d6054dad3a6ccfd8645d96562b8c0dc572cdd27</span>,\n <span class=\"sc-1ryi78w-0 gCzMgE sc-16b9dsl-1 kUAhZx u3ufsr-0 fGQJzg\" opacity=\"1\">0x20000000</span>,\n <span class=\"sc-1ryi78w-0 gCzMgE sc-16b9dsl-1 kUAhZx u3ufsr-0 fGQJzg\" opacity=\"1\">387,094,518</span>,\n <span class=\"sc-1ryi78w-0 gCzMgE sc-16b9dsl-1 kUAhZx u3ufsr-0 fGQJzg\" opacity=\"1\">3,993,363 WU</span>,\n <span class=\"sc-1ryi78w-0 gCzMgE sc-16b9dsl-1 kUAhZx u3ufsr-0 fGQJzg\" opacity=\"1\"><span class=\"sc-1ryi78w-0 gCzMgE sc-16b9dsl-1 kUAhZx u3ufsr-0 fGQJzg\" opacity=\"1\">1,329,720 bytes</span></span>,\n <span class=\"sc-1ryi78w-0 gCzMgE sc-16b9dsl-1 kUAhZx u3ufsr-0 fGQJzg\" opacity=\"1\">1,329,720 bytes</span>,\n <span class=\"sc-1ryi78w-0 gCzMgE sc-16b9dsl-1 kUAhZx u3ufsr-0 fGQJzg\" opacity=\"1\">4,068,773,362</span>,\n <span class=\"sc-1ryi78w-0 gCzMgE sc-16b9dsl-1 kUAhZx u3ufsr-0 fGQJzg\" opacity=\"1\">10596.59187879 BTC</span>,\n <span class=\"sc-1ryi78w-0 gCzMgE sc-16b9dsl-1 kUAhZx u3ufsr-0 fGQJzg\" opacity=\"1\">6.25000000 BTC</span>,\n <span class=\"sc-1ryi78w-0 gCzMgE sc-16b9dsl-1 kUAhZx u3ufsr-0 fGQJzg\" opacity=\"1\">1.88763987 BTC</span>,\n <span class=\"sc-1ryi78w-0 gCzMgE sc-16b9dsl-1 kUAhZx u3ufsr-0 fGQJzg\" opacity=\"1\">Learn more about</span>]"
     },
     "metadata": {},
     "execution_count": 154
    }
   ],
   "source": [
    "q=p.find_all(\"span\",attrs={'class':'sc-1ryi78w-0 gCzMgE sc-16b9dsl-1 kUAhZx u3ufsr-0 fGQJzg'})\n",
    "q"
   ]
  },
  {
   "cell_type": "code",
   "execution_count": 155,
   "metadata": {},
   "outputs": [
    {
     "output_type": "execute_result",
     "data": {
      "text/plain": "('Hash', '00000000000000000002801613b128896f307aa9b230ee4ac96757f8ae6ec2a4')"
     },
     "metadata": {},
     "execution_count": 155
    }
   ],
   "source": [
    "h[0].get_text(),q[0].get_text()"
   ]
  },
  {
   "cell_type": "code",
   "execution_count": 156,
   "metadata": {},
   "outputs": [
    {
     "output_type": "execute_result",
     "data": {
      "text/plain": "<a class=\"sc-1r996ns-0 gzrtQD sc-1tbyx6t-1 kXxRxe iklhnl-0 kVizQZ\" href=\"/btc/address/3DPNFXGoe8QGiEXEApQ3QtHb8wM15VCQU3\" opacity=\"1\">Unknown</a>"
     },
     "metadata": {},
     "execution_count": 156
    }
   ],
   "source": [
    "miner_wallet_link=p.find(\"a\",attrs={'class':'sc-1r996ns-0 gzrtQD sc-1tbyx6t-1 kXxRxe iklhnl-0 kVizQZ'})\n",
    "miner_wallet_link"
   ]
  },
  {
   "cell_type": "code",
   "execution_count": 157,
   "metadata": {},
   "outputs": [],
   "source": [
    "lista_h=[]\n",
    "lista_q=[]\n",
    "for i in range(len(q)):\n",
    "    lista_q.append(q[i].get_text())"
   ]
  },
  {
   "cell_type": "code",
   "execution_count": 158,
   "metadata": {},
   "outputs": [],
   "source": [
    "for i in range(len(h)):\n",
    "    lista_h.append(h[i].get_text())"
   ]
  },
  {
   "cell_type": "code",
   "execution_count": 159,
   "metadata": {},
   "outputs": [],
   "source": [
    "lista_h.remove('Miner')\n",
    "lista_q.remove('Learn more about')"
   ]
  },
  {
   "cell_type": "code",
   "execution_count": 160,
   "metadata": {},
   "outputs": [
    {
     "output_type": "execute_result",
     "data": {
      "text/plain": "(15, 16)"
     },
     "metadata": {},
     "execution_count": 160
    }
   ],
   "source": [
    "len(lista_h), len(lista_q)"
   ]
  },
  {
   "cell_type": "code",
   "execution_count": 162,
   "metadata": {},
   "outputs": [],
   "source": [
    "lista_q2=set(lista_q)"
   ]
  },
  {
   "cell_type": "code",
   "execution_count": 163,
   "metadata": {},
   "outputs": [
    {
     "output_type": "execute_result",
     "data": {
      "text/plain": "{'00000000000000000002801613b128896f307aa9b230ee4ac96757f8ae6ec2a4',\n '0x20000000',\n '1',\n '1,329,720 bytes',\n '1.88763987 BTC',\n '10596.59187879 BTC',\n '15,138,043,247,082.88',\n '2,183',\n '2020-05-23 01:00',\n '3,993,363 WU',\n '387,094,518',\n '4,068,773,362',\n '6.25000000 BTC',\n '631359',\n 'df75be99a0a24d337b35ddfa1d6054dad3a6ccfd8645d96562b8c0dc572cdd27'}"
     },
     "metadata": {},
     "execution_count": 163
    }
   ],
   "source": [
    "lista_q2"
   ]
  },
  {
   "cell_type": "code",
   "execution_count": 164,
   "metadata": {},
   "outputs": [
    {
     "output_type": "execute_result",
     "data": {
      "text/plain": "['00000000000000000002801613b128896f307aa9b230ee4ac96757f8ae6ec2a4',\n '1',\n '2020-05-23 01:00',\n '631359',\n '2,183',\n '15,138,043,247,082.88',\n 'df75be99a0a24d337b35ddfa1d6054dad3a6ccfd8645d96562b8c0dc572cdd27',\n '0x20000000',\n '387,094,518',\n '3,993,363 WU',\n '1,329,720 bytes',\n '1,329,720 bytes',\n '4,068,773,362',\n '10596.59187879 BTC',\n '6.25000000 BTC',\n '1.88763987 BTC']"
     },
     "metadata": {},
     "execution_count": 164
    }
   ],
   "source": [
    "lista_q"
   ]
  },
  {
   "cell_type": "code",
   "execution_count": 167,
   "metadata": {},
   "outputs": [
    {
     "output_type": "error",
     "ename": "AttributeError",
     "evalue": "type object 'collections.OrderedDict' has no attribute 'fromvalues'",
     "traceback": [
      "\u001b[1;31m---------------------------------------------------------------------------\u001b[0m",
      "\u001b[1;31mAttributeError\u001b[0m                            Traceback (most recent call last)",
      "\u001b[1;32m<ipython-input-167-7301c4199fb8>\u001b[0m in \u001b[0;36m<module>\u001b[1;34m\u001b[0m\n\u001b[0;32m      1\u001b[0m \u001b[1;32mfrom\u001b[0m \u001b[0mcollections\u001b[0m \u001b[1;32mimport\u001b[0m \u001b[0mOrderedDict\u001b[0m\u001b[1;33m\u001b[0m\u001b[1;33m\u001b[0m\u001b[0m\n\u001b[0;32m      2\u001b[0m \u001b[0mOrderedDict\u001b[0m\u001b[1;33m.\u001b[0m\u001b[0mfromkeys\u001b[0m\u001b[1;33m(\u001b[0m\u001b[0mlista_h\u001b[0m\u001b[1;33m)\u001b[0m\u001b[1;33m\u001b[0m\u001b[1;33m\u001b[0m\u001b[0m\n\u001b[1;32m----> 3\u001b[1;33m \u001b[0mOrderedDict\u001b[0m\u001b[1;33m.\u001b[0m\u001b[0mfromvalues\u001b[0m\u001b[1;33m(\u001b[0m\u001b[0mlista_q2\u001b[0m\u001b[1;33m)\u001b[0m\u001b[1;33m\u001b[0m\u001b[1;33m\u001b[0m\u001b[0m\n\u001b[0m",
      "\u001b[1;31mAttributeError\u001b[0m: type object 'collections.OrderedDict' has no attribute 'fromvalues'"
     ]
    }
   ],
   "source": [
    "from collections import OrderedDict\n",
    "OrderedDict.fromkeys(lista_h)\n",
    "OrderedDict.fromvalues(lista_q2)\n"
   ]
  },
  {
   "cell_type": "code",
   "execution_count": null,
   "metadata": {},
   "outputs": [],
   "source": []
  }
 ],
 "metadata": {
  "language_info": {
   "codemirror_mode": {
    "name": "ipython",
    "version": 3
   },
   "file_extension": ".py",
   "mimetype": "text/x-python",
   "name": "python",
   "nbconvert_exporter": "python",
   "pygments_lexer": "ipython3",
   "version": "3.7.3-final"
  },
  "orig_nbformat": 2,
  "kernelspec": {
   "name": "python3",
   "display_name": "Python 3"
  }
 },
 "nbformat": 4,
 "nbformat_minor": 2
}