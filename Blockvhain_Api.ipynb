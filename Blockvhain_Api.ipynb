{
 "cells": [
  {
   "cell_type": "code",
   "execution_count": 1,
   "metadata": {},
   "outputs": [],
   "source": [
    "import urllib, json\n",
    "import requests"
   ]
  },
  {
   "cell_type": "code",
   "execution_count": 2,
   "metadata": {},
   "outputs": [],
   "source": [
    "import pandas as pd"
   ]
  },
  {
   "cell_type": "code",
   "execution_count": 3,
   "metadata": {},
   "outputs": [],
   "source": [
    "# Reparticion de Recompensas por Pool 24 Horas"
   ]
  },
  {
   "cell_type": "code",
   "execution_count": 4,
   "metadata": {},
   "outputs": [
    {
     "output_type": "execute_result",
     "data": {
      "text/plain": "{'F2Pool': 156,\n '1THash&58COIN': 55,\n 'ViaBTC': 49,\n 'BTC.com': 118,\n 'AntPool': 111,\n 'OKExPool': 56,\n 'Unknown': 77,\n 'Huobi.pool': 41,\n 'BTC.TOP': 25,\n 'Poolin': 93,\n 'SlushPool': 34,\n 'NovaBlock': 14,\n 'EMCD.IO': 3,\n 'Bitcoin.com': 2,\n 'KanoPool': 1,\n 'WAYI.CN': 1}"
     },
     "metadata": {},
     "execution_count": 4
    }
   ],
   "source": [
    "url_pool= \"https://api.blockchain.info/pools?timespan=7days\"\n",
    "r = requests.get(url_pool)\n",
    "datos_json=r.json()\n",
    "datos_json\n"
   ]
  },
  {
   "cell_type": "code",
   "execution_count": 5,
   "metadata": {},
   "outputs": [],
   "source": [
    "datos_pool=pd.DataFrame(datos_json.items(), columns=['Pool', 'Block_Founds'])"
   ]
  },
  {
   "cell_type": "code",
   "execution_count": 6,
   "metadata": {},
   "outputs": [
    {
     "output_type": "execute_result",
     "data": {
      "text/plain": "836"
     },
     "metadata": {},
     "execution_count": 6
    }
   ],
   "source": [
    "sum(datos_pool[\"Block_Founds\"])"
   ]
  },
  {
   "cell_type": "code",
   "execution_count": 7,
   "metadata": {},
   "outputs": [],
   "source": [
    "datos_pool[\"BF_Percent\"]=datos_pool[\"Block_Founds\"]/sum(datos_pool[\"Block_Founds\"])"
   ]
  },
  {
   "cell_type": "code",
   "execution_count": 8,
   "metadata": {},
   "outputs": [
    {
     "output_type": "execute_result",
     "data": {
      "text/plain": "             Pool  Block_Founds  BF_Percent\n0          F2Pool           156    0.186603\n1   1THash&58COIN            55    0.065789\n2          ViaBTC            49    0.058612\n3         BTC.com           118    0.141148\n4         AntPool           111    0.132775\n5        OKExPool            56    0.066986\n6         Unknown            77    0.092105\n7      Huobi.pool            41    0.049043\n8         BTC.TOP            25    0.029904\n9          Poolin            93    0.111244\n10      SlushPool            34    0.040670\n11      NovaBlock            14    0.016746\n12        EMCD.IO             3    0.003589\n13    Bitcoin.com             2    0.002392\n14       KanoPool             1    0.001196\n15        WAYI.CN             1    0.001196",
      "text/html": "<div>\n<style scoped>\n    .dataframe tbody tr th:only-of-type {\n        vertical-align: middle;\n    }\n\n    .dataframe tbody tr th {\n        vertical-align: top;\n    }\n\n    .dataframe thead th {\n        text-align: right;\n    }\n</style>\n<table border=\"1\" class=\"dataframe\">\n  <thead>\n    <tr style=\"text-align: right;\">\n      <th></th>\n      <th>Pool</th>\n      <th>Block_Founds</th>\n      <th>BF_Percent</th>\n    </tr>\n  </thead>\n  <tbody>\n    <tr>\n      <th>0</th>\n      <td>F2Pool</td>\n      <td>156</td>\n      <td>0.186603</td>\n    </tr>\n    <tr>\n      <th>1</th>\n      <td>1THash&amp;58COIN</td>\n      <td>55</td>\n      <td>0.065789</td>\n    </tr>\n    <tr>\n      <th>2</th>\n      <td>ViaBTC</td>\n      <td>49</td>\n      <td>0.058612</td>\n    </tr>\n    <tr>\n      <th>3</th>\n      <td>BTC.com</td>\n      <td>118</td>\n      <td>0.141148</td>\n    </tr>\n    <tr>\n      <th>4</th>\n      <td>AntPool</td>\n      <td>111</td>\n      <td>0.132775</td>\n    </tr>\n    <tr>\n      <th>5</th>\n      <td>OKExPool</td>\n      <td>56</td>\n      <td>0.066986</td>\n    </tr>\n    <tr>\n      <th>6</th>\n      <td>Unknown</td>\n      <td>77</td>\n      <td>0.092105</td>\n    </tr>\n    <tr>\n      <th>7</th>\n      <td>Huobi.pool</td>\n      <td>41</td>\n      <td>0.049043</td>\n    </tr>\n    <tr>\n      <th>8</th>\n      <td>BTC.TOP</td>\n      <td>25</td>\n      <td>0.029904</td>\n    </tr>\n    <tr>\n      <th>9</th>\n      <td>Poolin</td>\n      <td>93</td>\n      <td>0.111244</td>\n    </tr>\n    <tr>\n      <th>10</th>\n      <td>SlushPool</td>\n      <td>34</td>\n      <td>0.040670</td>\n    </tr>\n    <tr>\n      <th>11</th>\n      <td>NovaBlock</td>\n      <td>14</td>\n      <td>0.016746</td>\n    </tr>\n    <tr>\n      <th>12</th>\n      <td>EMCD.IO</td>\n      <td>3</td>\n      <td>0.003589</td>\n    </tr>\n    <tr>\n      <th>13</th>\n      <td>Bitcoin.com</td>\n      <td>2</td>\n      <td>0.002392</td>\n    </tr>\n    <tr>\n      <th>14</th>\n      <td>KanoPool</td>\n      <td>1</td>\n      <td>0.001196</td>\n    </tr>\n    <tr>\n      <th>15</th>\n      <td>WAYI.CN</td>\n      <td>1</td>\n      <td>0.001196</td>\n    </tr>\n  </tbody>\n</table>\n</div>"
     },
     "metadata": {},
     "execution_count": 8
    }
   ],
   "source": [
    "datos_pool"
   ]
  },
  {
   "cell_type": "code",
   "execution_count": 11,
   "metadata": {},
   "outputs": [],
   "source": [
    "# **Estadisticas Varios**"
   ]
  },
  {
   "cell_type": "code",
   "execution_count": 12,
   "metadata": {},
   "outputs": [
    {
     "output_type": "execute_result",
     "data": {
      "text/plain": "{'timestamp': 1590101472000.0,\n 'market_price_usd': 9128.58,\n 'hash_rate': 96322075069.11237,\n 'total_fees_btc': 20119086750,\n 'n_btc_mined': 80000000000,\n 'n_tx': 289598,\n 'n_blocks_mined': 128,\n 'minutes_between_blocks': 10.7008,\n 'totalbc': 1838273125000000,\n 'n_blocks_total': 631237,\n 'estimated_transaction_volume_usd': 2227057121.6676164,\n 'blocks_size': 166442407,\n 'miners_revenue_usd': 9139450.92924315,\n 'nextretarget': 633023,\n 'difficulty': 15138043247082,\n 'estimated_btc_sent': 24396533980834,\n 'miners_revenue_btc': 1001,\n 'total_btc_sent': 111826228246799,\n 'trade_volume_btc': 32575.59,\n 'trade_volume_usd': 297368879.3622}"
     },
     "metadata": {},
     "execution_count": 12
    }
   ],
   "source": [
    "url_pool= \" https://api.blockchain.info/stats\"\n",
    "r = requests.get(url_pool)\n",
    "datos_varios=r.json()\n",
    "datos_varios"
   ]
  },
  {
   "cell_type": "code",
   "execution_count": 16,
   "metadata": {},
   "outputs": [],
   "source": [
    "pd.options.display.float_format = '{:,.4f}'.format"
   ]
  },
  {
   "cell_type": "code",
   "execution_count": 17,
   "metadata": {},
   "outputs": [
    {
     "output_type": "execute_result",
     "data": {
      "text/plain": "             Pool  Block_Founds  BF_Percent\n0          F2Pool           156      0.1866\n1   1THash&58COIN            55      0.0658\n2          ViaBTC            49      0.0586\n3         BTC.com           118      0.1411\n4         AntPool           111      0.1328\n5        OKExPool            56      0.0670\n6         Unknown            77      0.0921\n7      Huobi.pool            41      0.0490\n8         BTC.TOP            25      0.0299\n9          Poolin            93      0.1112\n10      SlushPool            34      0.0407\n11      NovaBlock            14      0.0167\n12        EMCD.IO             3      0.0036\n13    Bitcoin.com             2      0.0024\n14       KanoPool             1      0.0012\n15        WAYI.CN             1      0.0012",
      "text/html": "<div>\n<style scoped>\n    .dataframe tbody tr th:only-of-type {\n        vertical-align: middle;\n    }\n\n    .dataframe tbody tr th {\n        vertical-align: top;\n    }\n\n    .dataframe thead th {\n        text-align: right;\n    }\n</style>\n<table border=\"1\" class=\"dataframe\">\n  <thead>\n    <tr style=\"text-align: right;\">\n      <th></th>\n      <th>Pool</th>\n      <th>Block_Founds</th>\n      <th>BF_Percent</th>\n    </tr>\n  </thead>\n  <tbody>\n    <tr>\n      <th>0</th>\n      <td>F2Pool</td>\n      <td>156</td>\n      <td>0.1866</td>\n    </tr>\n    <tr>\n      <th>1</th>\n      <td>1THash&amp;58COIN</td>\n      <td>55</td>\n      <td>0.0658</td>\n    </tr>\n    <tr>\n      <th>2</th>\n      <td>ViaBTC</td>\n      <td>49</td>\n      <td>0.0586</td>\n    </tr>\n    <tr>\n      <th>3</th>\n      <td>BTC.com</td>\n      <td>118</td>\n      <td>0.1411</td>\n    </tr>\n    <tr>\n      <th>4</th>\n      <td>AntPool</td>\n      <td>111</td>\n      <td>0.1328</td>\n    </tr>\n    <tr>\n      <th>5</th>\n      <td>OKExPool</td>\n      <td>56</td>\n      <td>0.0670</td>\n    </tr>\n    <tr>\n      <th>6</th>\n      <td>Unknown</td>\n      <td>77</td>\n      <td>0.0921</td>\n    </tr>\n    <tr>\n      <th>7</th>\n      <td>Huobi.pool</td>\n      <td>41</td>\n      <td>0.0490</td>\n    </tr>\n    <tr>\n      <th>8</th>\n      <td>BTC.TOP</td>\n      <td>25</td>\n      <td>0.0299</td>\n    </tr>\n    <tr>\n      <th>9</th>\n      <td>Poolin</td>\n      <td>93</td>\n      <td>0.1112</td>\n    </tr>\n    <tr>\n      <th>10</th>\n      <td>SlushPool</td>\n      <td>34</td>\n      <td>0.0407</td>\n    </tr>\n    <tr>\n      <th>11</th>\n      <td>NovaBlock</td>\n      <td>14</td>\n      <td>0.0167</td>\n    </tr>\n    <tr>\n      <th>12</th>\n      <td>EMCD.IO</td>\n      <td>3</td>\n      <td>0.0036</td>\n    </tr>\n    <tr>\n      <th>13</th>\n      <td>Bitcoin.com</td>\n      <td>2</td>\n      <td>0.0024</td>\n    </tr>\n    <tr>\n      <th>14</th>\n      <td>KanoPool</td>\n      <td>1</td>\n      <td>0.0012</td>\n    </tr>\n    <tr>\n      <th>15</th>\n      <td>WAYI.CN</td>\n      <td>1</td>\n      <td>0.0012</td>\n    </tr>\n  </tbody>\n</table>\n</div>"
     },
     "metadata": {},
     "execution_count": 17
    }
   ],
   "source": [
    "datos_pool"
   ]
  },
  {
   "cell_type": "code",
   "execution_count": 23,
   "metadata": {},
   "outputs": [
    {
     "output_type": "execute_result",
     "data": {
      "text/plain": "{'timestamp': 1590101472000.0,\n 'market_price_usd': 9128.58,\n 'hash_rate': 96322075069.11237,\n 'total_fees_btc': 20119086750,\n 'n_btc_mined': 80000000000,\n 'n_tx': 289598,\n 'n_blocks_mined': 128,\n 'minutes_between_blocks': 10.7008,\n 'totalbc': 1838273125000000,\n 'n_blocks_total': 631237,\n 'estimated_transaction_volume_usd': 2227057121.6676164,\n 'blocks_size': 166442407,\n 'miners_revenue_usd': 9139450.92924315,\n 'nextretarget': 633023,\n 'difficulty': 15138043247082,\n 'estimated_btc_sent': 24396533980834,\n 'miners_revenue_btc': 1001,\n 'total_btc_sent': 111826228246799,\n 'trade_volume_btc': 32575.59,\n 'trade_volume_usd': 297368879.3622}"
     },
     "metadata": {},
     "execution_count": 23
    }
   ],
   "source": [
    "datos_varios"
   ]
  },
  {
   "cell_type": "code",
   "execution_count": 25,
   "metadata": {},
   "outputs": [
    {
     "output_type": "execute_result",
     "data": {
      "text/plain": "9128.58"
     },
     "metadata": {},
     "execution_count": 25
    }
   ],
   "source": [
    "datos_varios.get(\"market_price_usd\")"
   ]
  },
  {
   "cell_type": "code",
   "execution_count": null,
   "metadata": {},
   "outputs": [],
   "source": []
  }
 ],
 "metadata": {
  "language_info": {
   "codemirror_mode": {
    "name": "ipython",
    "version": 3
   },
   "file_extension": ".py",
   "mimetype": "text/x-python",
   "name": "python",
   "nbconvert_exporter": "python",
   "pygments_lexer": "ipython3",
   "version": "3.7.3-final"
  },
  "orig_nbformat": 2,
  "kernelspec": {
   "name": "python3",
   "display_name": "Python 3"
  }
 },
 "nbformat": 4,
 "nbformat_minor": 2
}