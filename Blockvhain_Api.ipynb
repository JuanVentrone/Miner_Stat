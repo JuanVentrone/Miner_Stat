{
 "cells": [
  {
   "cell_type": "code",
   "execution_count": 1,
   "metadata": {},
   "outputs": [],
   "source": [
    "import urllib, json\n",
    "import requests"
   ]
  },
  {
   "cell_type": "code",
   "execution_count": 2,
   "metadata": {},
   "outputs": [],
   "source": [
    "import pandas as pd"
   ]
  },
  {
   "cell_type": "code",
   "execution_count": 3,
   "metadata": {},
   "outputs": [],
   "source": [
    "# Construyendo el pipe line que es la unificacion de todas las tablas de tados blockchain\n",
    "\n",
    "# Creando el estimado del 1 TH de recompensa basado en 24 horas\n",
    "\n",
    "# vamos a revisar demas apis \n",
    "\n",
    "# COntruccion de rentabilidad basado en electricidad con tablas ya hechas\n",
    "\n",
    "# "
   ]
  },
  {
   "cell_type": "code",
   "execution_count": 10,
   "metadata": {},
   "outputs": [],
   "source": [
    "import Blockchain_Api as ba"
   ]
  },
  {
   "cell_type": "code",
   "execution_count": 13,
   "metadata": {},
   "outputs": [],
   "source": [
    "x,v= ba.pool_pie()"
   ]
  },
  {
   "cell_type": "code",
   "execution_count": 14,
   "metadata": {},
   "outputs": [
    {
     "output_type": "execute_result",
     "data": {
      "text/plain": "             Pool  Block_Founds  BF_Percent\n0       NovaBlock            10      0.0120\n1          ViaBTC            50      0.0599\n2         BTC.com           114      0.1365\n3          F2Pool           157      0.1880\n4        OKExPool            53      0.0635\n5         AntPool           114      0.1365\n6         Unknown            78      0.0934\n7   1THash&58COIN            50      0.0599\n8         BTC.TOP            25      0.0299\n9       SlushPool            37      0.0443\n10     Huobi.pool            36      0.0431\n11         Poolin           104      0.1246\n12        EMCD.IO             3      0.0036\n13    Bitcoin.com             2      0.0024\n14       KanoPool             1      0.0012\n15        WAYI.CN             1      0.0012",
      "text/html": "<div>\n<style scoped>\n    .dataframe tbody tr th:only-of-type {\n        vertical-align: middle;\n    }\n\n    .dataframe tbody tr th {\n        vertical-align: top;\n    }\n\n    .dataframe thead th {\n        text-align: right;\n    }\n</style>\n<table border=\"1\" class=\"dataframe\">\n  <thead>\n    <tr style=\"text-align: right;\">\n      <th></th>\n      <th>Pool</th>\n      <th>Block_Founds</th>\n      <th>BF_Percent</th>\n    </tr>\n  </thead>\n  <tbody>\n    <tr>\n      <th>0</th>\n      <td>NovaBlock</td>\n      <td>10</td>\n      <td>0.0120</td>\n    </tr>\n    <tr>\n      <th>1</th>\n      <td>ViaBTC</td>\n      <td>50</td>\n      <td>0.0599</td>\n    </tr>\n    <tr>\n      <th>2</th>\n      <td>BTC.com</td>\n      <td>114</td>\n      <td>0.1365</td>\n    </tr>\n    <tr>\n      <th>3</th>\n      <td>F2Pool</td>\n      <td>157</td>\n      <td>0.1880</td>\n    </tr>\n    <tr>\n      <th>4</th>\n      <td>OKExPool</td>\n      <td>53</td>\n      <td>0.0635</td>\n    </tr>\n    <tr>\n      <th>5</th>\n      <td>AntPool</td>\n      <td>114</td>\n      <td>0.1365</td>\n    </tr>\n    <tr>\n      <th>6</th>\n      <td>Unknown</td>\n      <td>78</td>\n      <td>0.0934</td>\n    </tr>\n    <tr>\n      <th>7</th>\n      <td>1THash&amp;58COIN</td>\n      <td>50</td>\n      <td>0.0599</td>\n    </tr>\n    <tr>\n      <th>8</th>\n      <td>BTC.TOP</td>\n      <td>25</td>\n      <td>0.0299</td>\n    </tr>\n    <tr>\n      <th>9</th>\n      <td>SlushPool</td>\n      <td>37</td>\n      <td>0.0443</td>\n    </tr>\n    <tr>\n      <th>10</th>\n      <td>Huobi.pool</td>\n      <td>36</td>\n      <td>0.0431</td>\n    </tr>\n    <tr>\n      <th>11</th>\n      <td>Poolin</td>\n      <td>104</td>\n      <td>0.1246</td>\n    </tr>\n    <tr>\n      <th>12</th>\n      <td>EMCD.IO</td>\n      <td>3</td>\n      <td>0.0036</td>\n    </tr>\n    <tr>\n      <th>13</th>\n      <td>Bitcoin.com</td>\n      <td>2</td>\n      <td>0.0024</td>\n    </tr>\n    <tr>\n      <th>14</th>\n      <td>KanoPool</td>\n      <td>1</td>\n      <td>0.0012</td>\n    </tr>\n    <tr>\n      <th>15</th>\n      <td>WAYI.CN</td>\n      <td>1</td>\n      <td>0.0012</td>\n    </tr>\n  </tbody>\n</table>\n</div>"
     },
     "metadata": {},
     "execution_count": 14
    }
   ],
   "source": [
    "x"
   ]
  },
  {
   "cell_type": "code",
   "execution_count": 15,
   "metadata": {},
   "outputs": [
    {
     "output_type": "execute_result",
     "data": {
      "text/plain": "835"
     },
     "metadata": {},
     "execution_count": 15
    }
   ],
   "source": [
    "v"
   ]
  },
  {
   "cell_type": "code",
   "execution_count": null,
   "metadata": {},
   "outputs": [],
   "source": []
  }
 ],
 "metadata": {
  "language_info": {
   "codemirror_mode": {
    "name": "ipython",
    "version": 3
   },
   "file_extension": ".py",
   "mimetype": "text/x-python",
   "name": "python",
   "nbconvert_exporter": "python",
   "pygments_lexer": "ipython3",
   "version": "3.7.3-final"
  },
  "orig_nbformat": 2,
  "kernelspec": {
   "name": "python3",
   "display_name": "Python 3"
  }
 },
 "nbformat": 4,
 "nbformat_minor": 2
}